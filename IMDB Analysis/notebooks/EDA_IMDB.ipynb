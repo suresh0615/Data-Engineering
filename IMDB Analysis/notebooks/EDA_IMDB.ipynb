{
 "cells": [
  {
   "cell_type": "markdown",
   "metadata": {},
   "source": [
    "### 📦 **Libraries Used for EDA _IMDB_ 🎬**  "
   ]
  },
  {
   "cell_type": "code",
   "execution_count": 5,
   "metadata": {},
   "outputs": [
    {
     "data": {
      "text/html": [
       "\n",
       "            <div id=\"PNLndj\"></div>\n",
       "            <script type=\"text/javascript\" data-lets-plot-script=\"library\">\n",
       "                if(!window.letsPlotCallQueue) {\n",
       "                    window.letsPlotCallQueue = [];\n",
       "                }; \n",
       "                window.letsPlotCall = function(f) {\n",
       "                    window.letsPlotCallQueue.push(f);\n",
       "                };\n",
       "                (function() {\n",
       "                    var script = document.createElement(\"script\");\n",
       "                    script.type = \"text/javascript\";\n",
       "                    script.src = \"https://cdn.jsdelivr.net/gh/JetBrains/lets-plot@v4.5.1/js-package/distr/lets-plot.min.js\";\n",
       "                    script.onload = function() {\n",
       "                        window.letsPlotCall = function(f) {f();};\n",
       "                        window.letsPlotCallQueue.forEach(function(f) {f();});\n",
       "                        window.letsPlotCallQueue = [];\n",
       "                        \n",
       "                    };\n",
       "                    script.onerror = function(event) {\n",
       "                        window.letsPlotCall = function(f) {};    // noop\n",
       "                        window.letsPlotCallQueue = [];\n",
       "                        var div = document.createElement(\"div\");\n",
       "                        div.style.color = 'darkred';\n",
       "                        div.textContent = 'Error loading Lets-Plot JS';\n",
       "                        document.getElementById(\"PNLndj\").appendChild(div);\n",
       "                    };\n",
       "                    var e = document.getElementById(\"PNLndj\");\n",
       "                    e.appendChild(script);\n",
       "                })()\n",
       "            </script>\n",
       "            "
      ]
     },
     "metadata": {},
     "output_type": "display_data"
    }
   ],
   "source": [
    "import os\n",
    "import sqlite3\n",
    "import pandas as pd\n",
    "from lets_plot import *\n",
    "LetsPlot.setup_html()\n",
    "import matplotlib.pyplot as plt\n",
    "import seaborn as sns\n",
    "import plotly.express as px\n",
    "import plotly.graph_objects as go"
   ]
  },
  {
   "cell_type": "markdown",
   "metadata": {},
   "source": [
    "### 🗄️ **Creating a Database for Movie Data 🎬** "
   ]
  },
  {
   "cell_type": "code",
   "execution_count": 6,
   "metadata": {},
   "outputs": [],
   "source": [
    "conn = sqlite3.connect(\"../data/clean/IMDB.db\")"
   ]
  },
  {
   "cell_type": "markdown",
   "metadata": {},
   "source": [
    "# 💰 Showing **Profit** Analysis 📊"
   ]
  },
  {
   "cell_type": "code",
   "execution_count": 7,
   "metadata": {},
   "outputs": [
    {
     "data": {
      "text/html": [
       "   <div id=\"9tRJme\"></div>\n",
       "   <script type=\"text/javascript\" data-lets-plot-script=\"plot\">\n",
       "   \n",
       "   (function() {\n",
       "   // ----------\n",
       "   \n",
       "   var containerDiv = document.getElementById(\"9tRJme\");\n",
       "   var observer = new ResizeObserver(function(entries) {\n",
       "       for (let entry of entries) {\n",
       "           var width = containerDiv.clientWidth\n",
       "           if (entry.contentBoxSize && width > 0) {\n",
       "           \n",
       "               // Render plot\n",
       "               if (observer) {\n",
       "                   observer.disconnect();\n",
       "                   observer = null;\n",
       "               }\n",
       "\n",
       "               var plotSpec={\n",
       "\"data\":{\n",
       "\"production_company\":[\"Marvel Studios\",\"Walt Disney Pictures\",\"Paramount Pictures\",\"Universal Pictures\",\"Warner Bros.\",\"Pixar Animation Studios\",\"Lucasfilm\",\"Amblin Entertainment\",\"New Line Cinema\",\"Legendary Entertainment\",\"WingNut Films\",\"Columbia Pictures\",\"Dreamworks Pictures\",\"Bad Robot\",\"Pascal Pictures\"],\n",
       "\"profit_loss\":[16407.21,14108.369999999999,10516.910000000002,10132.02,9704.219999999998,7669.110000000001,6937.380000000001,6644.27,6476.139999999999,5836.590000000001,4967.120000000001,3941.8999999999996,3721.4799999999996,3645.74,3431.4],\n",
       "\"status\":[\"Profit\",\"Profit\",\"Profit\",\"Profit\",\"Profit\",\"Profit\",\"Profit\",\"Profit\",\"Profit\",\"Profit\",\"Profit\",\"Profit\",\"Profit\",\"Profit\",\"Profit\"]\n",
       "},\n",
       "\"mapping\":{\n",
       "\"x\":\"production_company\",\n",
       "\"y\":\"profit_loss\",\n",
       "\"fill\":\"status\"\n",
       "},\n",
       "\"data_meta\":{\n",
       "\"series_annotations\":[{\n",
       "\"type\":\"str\",\n",
       "\"column\":\"production_company\"\n",
       "},{\n",
       "\"type\":\"float\",\n",
       "\"column\":\"total_budget\"\n",
       "},{\n",
       "\"type\":\"float\",\n",
       "\"column\":\"total_gross\"\n",
       "},{\n",
       "\"type\":\"float\",\n",
       "\"column\":\"profit_loss\"\n",
       "},{\n",
       "\"type\":\"str\",\n",
       "\"column\":\"status\"\n",
       "},{\n",
       "\"type\":\"str\",\n",
       "\"column\":\"color\"\n",
       "}]\n",
       "},\n",
       "\"ggtitle\":{\n",
       "\"text\":\"Profit of Top Production Companies\"\n",
       "},\n",
       "\"guides\":{\n",
       "\"y\":{\n",
       "\"title\":\"Profit in Million\"\n",
       "}\n",
       "},\n",
       "\"theme\":{\n",
       "\"name\":\"minimal\",\n",
       "\"axis_text_x\":{\n",
       "\"size\":10.0,\n",
       "\"angle\":45.0,\n",
       "\"blank\":false\n",
       "},\n",
       "\"plot_title\":{\n",
       "\"face\":\"bold\",\n",
       "\"size\":14.0,\n",
       "\"blank\":false\n",
       "}\n",
       "},\n",
       "\"ggsize\":{\n",
       "\"width\":4000.0,\n",
       "\"height\":1500.0\n",
       "},\n",
       "\"kind\":\"plot\",\n",
       "\"scales\":[{\n",
       "\"aesthetic\":\"fill\",\n",
       "\"breaks\":[\"Profit\",\"Loss\"],\n",
       "\"values\":[\"blue\",\"red\"]\n",
       "}],\n",
       "\"layers\":[{\n",
       "\"geom\":\"bar\",\n",
       "\"stat\":\"identity\",\n",
       "\"mapping\":{\n",
       "},\n",
       "\"show_legend\":true,\n",
       "\"data_meta\":{\n",
       "},\n",
       "\"data\":{\n",
       "}\n",
       "},{\n",
       "\"geom\":\"text\",\n",
       "\"mapping\":{\n",
       "\"label\":\"profit_loss\"\n",
       "},\n",
       "\"data_meta\":{\n",
       "},\n",
       "\"size\":8.0,\n",
       "\"vjust\":-0.3,\n",
       "\"color\":\"black\",\n",
       "\"data\":{\n",
       "}\n",
       "}],\n",
       "\"metainfo_list\":[],\n",
       "\"spec_id\":\"1\"\n",
       "};\n",
       "               window.letsPlotCall(function() {\n",
       "       \n",
       "               var toolbar = null;\n",
       "               var plotContainer = containerDiv;               \n",
       "               \n",
       "                   var options = {\n",
       "                       sizing: {\n",
       "                           width_mode: \"min\",\n",
       "                           height_mode: \"scaled\",\n",
       "                           width: width\n",
       "                       }\n",
       "                   };\n",
       "                   var fig = LetsPlot.buildPlotFromProcessedSpecs(plotSpec, -1, -1, plotContainer, options);\n",
       "                   if (toolbar) {\n",
       "                     toolbar.bind(fig);\n",
       "                   }\n",
       "               });\n",
       "               \n",
       "               break;\n",
       "           }\n",
       "       }\n",
       "   });\n",
       "   \n",
       "   observer.observe(containerDiv);\n",
       "   \n",
       "   // ----------\n",
       "   })();\n",
       "   \n",
       "   </script>"
      ],
      "text/plain": [
       "<lets_plot.plot.core.PlotSpec at 0x2b7589d0400>"
      ]
     },
     "execution_count": 7,
     "metadata": {},
     "output_type": "execute_result"
    }
   ],
   "source": [
    "query = \"\"\"\n",
    "SELECT \n",
    "    pc.production_company,\n",
    "    SUM(im.budget) AS total_budget,\n",
    "    SUM(im.gross_in_million) AS total_gross,\n",
    "    SUM(im.gross_in_million) - SUM(im.budget) AS profit_loss\n",
    "FROM imdb_movies im\n",
    "JOIN production_companies pc ON im.movie_id = pc.movie_id\n",
    "WHERE im.gross_in_million > 0\n",
    "GROUP BY pc.production_company\n",
    "ORDER BY profit_loss DESC\n",
    "LIMIT 15;  \n",
    "\"\"\"\n",
    "df5 = pd.read_sql_query(query, conn)\n",
    "\n",
    "df5['status'] = df5['profit_loss'].apply(lambda x: 'Profit' if x > 0 else 'Loss')\n",
    "df5['color'] = df5['status'].map({'Profit': 'blue', 'Loss': 'red'})  \n",
    "\n",
    "p = ggplot(df5, aes(x='production_company', y='profit_loss', fill='status')) + \\\n",
    "    geom_bar(stat='identity', show_legend=True) + \\\n",
    "    geom_text(aes(label='profit_loss'), size=8, vjust=-0.3, color='black') + \\\n",
    "    ggtitle(\"Profit of Top Production Companies\") + \\\n",
    "    ylab(\"Profit in Million\") + \\\n",
    "    scale_fill_manual(values={'Profit': 'blue', 'Loss': 'red'}) + \\\n",
    "    theme_minimal() + \\\n",
    "    theme(\n",
    "        axis_text_x=element_text(size=10, angle=45),  \n",
    "        plot_title=element_text(size=14, face=\"bold\")\n",
    "    ) + \\\n",
    "    ggsize(4000, 1500)\n",
    "p"
   ]
  },
  {
   "cell_type": "code",
   "execution_count": 8,
   "metadata": {},
   "outputs": [],
   "source": [
    "# Best production companies based on total profit\n",
    "# Highest-rated production companies\n",
    "# Biggest spenders on movie production\n",
    "# Top-grossing production companies\n",
    "# International reach of production companies\n",
    "# Revenue trends over time\n",
    "# Genre distribution across production companies\n",
    "# Bubble charts for multiple financial metrics"
   ]
  },
  {
   "cell_type": "markdown",
   "metadata": {},
   "source": [
    "## 🏆 Best **Production Companies** Based on Total **Profit 💰**  "
   ]
  },
  {
   "cell_type": "code",
   "execution_count": 9,
   "metadata": {},
   "outputs": [
    {
     "data": {
      "application/vnd.plotly.v1+json": {
       "config": {
        "plotlyServerURL": "https://plot.ly"
       },
       "data": [
        {
         "hovertemplate": "Production Company=%{y}<br>Total Profit (in Million $)=%{x}<br>size=%{marker.size}<extra></extra>",
         "legendgroup": "Walt Disney Animation Studios",
         "marker": {
          "color": "#636efa",
          "size": [
           8
          ],
          "sizemode": "area",
          "sizeref": 0.02,
          "symbol": "circle"
         },
         "mode": "markers",
         "name": "Walt Disney Animation Studios",
         "orientation": "h",
         "showlegend": true,
         "type": "scatter",
         "x": [
          2419.14
         ],
         "xaxis": "x",
         "y": [
          "Walt Disney Animation Studios"
         ],
         "yaxis": "y"
        },
        {
         "hovertemplate": "Production Company=%{y}<br>Total Profit (in Million $)=%{x}<br>size=%{marker.size}<extra></extra>",
         "legendgroup": "Jerry Bruckheimer Films",
         "marker": {
          "color": "#EF553B",
          "size": [
           8
          ],
          "sizemode": "area",
          "sizeref": 0.02,
          "symbol": "circle"
         },
         "mode": "markers",
         "name": "Jerry Bruckheimer Films",
         "orientation": "h",
         "showlegend": true,
         "type": "scatter",
         "x": [
          2505.0300000000007
         ],
         "xaxis": "x",
         "y": [
          "Jerry Bruckheimer Films"
         ],
         "yaxis": "y"
        },
        {
         "hovertemplate": "Production Company=%{y}<br>Total Profit (in Million $)=%{x}<br>size=%{marker.size}<extra></extra>",
         "legendgroup": "Heyday Films",
         "marker": {
          "color": "#00cc96",
          "size": [
           8
          ],
          "sizemode": "area",
          "sizeref": 0.02,
          "symbol": "circle"
         },
         "mode": "markers",
         "name": "Heyday Films",
         "orientation": "h",
         "showlegend": true,
         "type": "scatter",
         "x": [
          2564.54
         ],
         "xaxis": "x",
         "y": [
          "Heyday Films"
         ],
         "yaxis": "y"
        },
        {
         "hovertemplate": "Production Company=%{y}<br>Total Profit (in Million $)=%{x}<br>size=%{marker.size}<extra></extra>",
         "legendgroup": "Illumination Entertainment",
         "marker": {
          "color": "#ab63fa",
          "size": [
           8
          ],
          "sizemode": "area",
          "sizeref": 0.02,
          "symbol": "circle"
         },
         "mode": "markers",
         "name": "Illumination Entertainment",
         "orientation": "h",
         "showlegend": true,
         "type": "scatter",
         "x": [
          2922.0299999999997
         ],
         "xaxis": "x",
         "y": [
          "Illumination Entertainment"
         ],
         "yaxis": "y"
        },
        {
         "hovertemplate": "Production Company=%{y}<br>Total Profit (in Million $)=%{x}<br>size=%{marker.size}<extra></extra>",
         "legendgroup": "Twentieth Century Fox",
         "marker": {
          "color": "#FFA15A",
          "size": [
           8
          ],
          "sizemode": "area",
          "sizeref": 0.02,
          "symbol": "circle"
         },
         "mode": "markers",
         "name": "Twentieth Century Fox",
         "orientation": "h",
         "showlegend": true,
         "type": "scatter",
         "x": [
          3039.5
         ],
         "xaxis": "x",
         "y": [
          "Twentieth Century Fox"
         ],
         "yaxis": "y"
        },
        {
         "hovertemplate": "Production Company=%{y}<br>Total Profit (in Million $)=%{x}<br>size=%{marker.size}<extra></extra>",
         "legendgroup": "Pascal Pictures",
         "marker": {
          "color": "#19d3f3",
          "size": [
           8
          ],
          "sizemode": "area",
          "sizeref": 0.02,
          "symbol": "circle"
         },
         "mode": "markers",
         "name": "Pascal Pictures",
         "orientation": "h",
         "showlegend": true,
         "type": "scatter",
         "x": [
          3431.4
         ],
         "xaxis": "x",
         "y": [
          "Pascal Pictures"
         ],
         "yaxis": "y"
        },
        {
         "hovertemplate": "Production Company=%{y}<br>Total Profit (in Million $)=%{x}<br>size=%{marker.size}<extra></extra>",
         "legendgroup": "Bad Robot",
         "marker": {
          "color": "#FF6692",
          "size": [
           8
          ],
          "sizemode": "area",
          "sizeref": 0.02,
          "symbol": "circle"
         },
         "mode": "markers",
         "name": "Bad Robot",
         "orientation": "h",
         "showlegend": true,
         "type": "scatter",
         "x": [
          3645.7400000000002
         ],
         "xaxis": "x",
         "y": [
          "Bad Robot"
         ],
         "yaxis": "y"
        },
        {
         "hovertemplate": "Production Company=%{y}<br>Total Profit (in Million $)=%{x}<br>size=%{marker.size}<extra></extra>",
         "legendgroup": "Dreamworks Pictures",
         "marker": {
          "color": "#B6E880",
          "size": [
           8
          ],
          "sizemode": "area",
          "sizeref": 0.02,
          "symbol": "circle"
         },
         "mode": "markers",
         "name": "Dreamworks Pictures",
         "orientation": "h",
         "showlegend": true,
         "type": "scatter",
         "x": [
          3721.48
         ],
         "xaxis": "x",
         "y": [
          "Dreamworks Pictures"
         ],
         "yaxis": "y"
        },
        {
         "hovertemplate": "Production Company=%{y}<br>Total Profit (in Million $)=%{x}<br>size=%{marker.size}<extra></extra>",
         "legendgroup": "Columbia Pictures",
         "marker": {
          "color": "#FF97FF",
          "size": [
           8
          ],
          "sizemode": "area",
          "sizeref": 0.02,
          "symbol": "circle"
         },
         "mode": "markers",
         "name": "Columbia Pictures",
         "orientation": "h",
         "showlegend": true,
         "type": "scatter",
         "x": [
          3941.9
         ],
         "xaxis": "x",
         "y": [
          "Columbia Pictures"
         ],
         "yaxis": "y"
        },
        {
         "hovertemplate": "Production Company=%{y}<br>Total Profit (in Million $)=%{x}<br>size=%{marker.size}<extra></extra>",
         "legendgroup": "WingNut Films",
         "marker": {
          "color": "#FECB52",
          "size": [
           8
          ],
          "sizemode": "area",
          "sizeref": 0.02,
          "symbol": "circle"
         },
         "mode": "markers",
         "name": "WingNut Films",
         "orientation": "h",
         "showlegend": true,
         "type": "scatter",
         "x": [
          4967.12
         ],
         "xaxis": "x",
         "y": [
          "WingNut Films"
         ],
         "yaxis": "y"
        },
        {
         "hovertemplate": "Production Company=%{y}<br>Total Profit (in Million $)=%{x}<br>size=%{marker.size}<extra></extra>",
         "legendgroup": "Legendary Entertainment",
         "marker": {
          "color": "#636efa",
          "size": [
           8
          ],
          "sizemode": "area",
          "sizeref": 0.02,
          "symbol": "circle"
         },
         "mode": "markers",
         "name": "Legendary Entertainment",
         "orientation": "h",
         "showlegend": true,
         "type": "scatter",
         "x": [
          5836.590000000001
         ],
         "xaxis": "x",
         "y": [
          "Legendary Entertainment"
         ],
         "yaxis": "y"
        },
        {
         "hovertemplate": "Production Company=%{y}<br>Total Profit (in Million $)=%{x}<br>size=%{marker.size}<extra></extra>",
         "legendgroup": "New Line Cinema",
         "marker": {
          "color": "#EF553B",
          "size": [
           8
          ],
          "sizemode": "area",
          "sizeref": 0.02,
          "symbol": "circle"
         },
         "mode": "markers",
         "name": "New Line Cinema",
         "orientation": "h",
         "showlegend": true,
         "type": "scatter",
         "x": [
          6476.139999999999
         ],
         "xaxis": "x",
         "y": [
          "New Line Cinema"
         ],
         "yaxis": "y"
        },
        {
         "hovertemplate": "Production Company=%{y}<br>Total Profit (in Million $)=%{x}<br>size=%{marker.size}<extra></extra>",
         "legendgroup": "Amblin Entertainment",
         "marker": {
          "color": "#00cc96",
          "size": [
           8
          ],
          "sizemode": "area",
          "sizeref": 0.02,
          "symbol": "circle"
         },
         "mode": "markers",
         "name": "Amblin Entertainment",
         "orientation": "h",
         "showlegend": true,
         "type": "scatter",
         "x": [
          6644.27
         ],
         "xaxis": "x",
         "y": [
          "Amblin Entertainment"
         ],
         "yaxis": "y"
        },
        {
         "hovertemplate": "Production Company=%{y}<br>Total Profit (in Million $)=%{x}<br>size=%{marker.size}<extra></extra>",
         "legendgroup": "Lucasfilm",
         "marker": {
          "color": "#ab63fa",
          "size": [
           8
          ],
          "sizemode": "area",
          "sizeref": 0.02,
          "symbol": "circle"
         },
         "mode": "markers",
         "name": "Lucasfilm",
         "orientation": "h",
         "showlegend": true,
         "type": "scatter",
         "x": [
          6937.38
         ],
         "xaxis": "x",
         "y": [
          "Lucasfilm"
         ],
         "yaxis": "y"
        },
        {
         "hovertemplate": "Production Company=%{y}<br>Total Profit (in Million $)=%{x}<br>size=%{marker.size}<extra></extra>",
         "legendgroup": "Pixar Animation Studios",
         "marker": {
          "color": "#FFA15A",
          "size": [
           8
          ],
          "sizemode": "area",
          "sizeref": 0.02,
          "symbol": "circle"
         },
         "mode": "markers",
         "name": "Pixar Animation Studios",
         "orientation": "h",
         "showlegend": true,
         "type": "scatter",
         "x": [
          7669.110000000001
         ],
         "xaxis": "x",
         "y": [
          "Pixar Animation Studios"
         ],
         "yaxis": "y"
        },
        {
         "hovertemplate": "Production Company=%{y}<br>Total Profit (in Million $)=%{x}<br>size=%{marker.size}<extra></extra>",
         "legendgroup": "Warner Bros.",
         "marker": {
          "color": "#19d3f3",
          "size": [
           8
          ],
          "sizemode": "area",
          "sizeref": 0.02,
          "symbol": "circle"
         },
         "mode": "markers",
         "name": "Warner Bros.",
         "orientation": "h",
         "showlegend": true,
         "type": "scatter",
         "x": [
          9704.22
         ],
         "xaxis": "x",
         "y": [
          "Warner Bros."
         ],
         "yaxis": "y"
        },
        {
         "hovertemplate": "Production Company=%{y}<br>Total Profit (in Million $)=%{x}<br>size=%{marker.size}<extra></extra>",
         "legendgroup": "Universal Pictures",
         "marker": {
          "color": "#FF6692",
          "size": [
           8
          ],
          "sizemode": "area",
          "sizeref": 0.02,
          "symbol": "circle"
         },
         "mode": "markers",
         "name": "Universal Pictures",
         "orientation": "h",
         "showlegend": true,
         "type": "scatter",
         "x": [
          10132.02
         ],
         "xaxis": "x",
         "y": [
          "Universal Pictures"
         ],
         "yaxis": "y"
        },
        {
         "hovertemplate": "Production Company=%{y}<br>Total Profit (in Million $)=%{x}<br>size=%{marker.size}<extra></extra>",
         "legendgroup": "Paramount Pictures",
         "marker": {
          "color": "#B6E880",
          "size": [
           8
          ],
          "sizemode": "area",
          "sizeref": 0.02,
          "symbol": "circle"
         },
         "mode": "markers",
         "name": "Paramount Pictures",
         "orientation": "h",
         "showlegend": true,
         "type": "scatter",
         "x": [
          10516.910000000002
         ],
         "xaxis": "x",
         "y": [
          "Paramount Pictures"
         ],
         "yaxis": "y"
        },
        {
         "hovertemplate": "Production Company=%{y}<br>Total Profit (in Million $)=%{x}<br>size=%{marker.size}<extra></extra>",
         "legendgroup": "Walt Disney Pictures",
         "marker": {
          "color": "#FF97FF",
          "size": [
           8
          ],
          "sizemode": "area",
          "sizeref": 0.02,
          "symbol": "circle"
         },
         "mode": "markers",
         "name": "Walt Disney Pictures",
         "orientation": "h",
         "showlegend": true,
         "type": "scatter",
         "x": [
          14108.37
         ],
         "xaxis": "x",
         "y": [
          "Walt Disney Pictures"
         ],
         "yaxis": "y"
        },
        {
         "hovertemplate": "Production Company=%{y}<br>Total Profit (in Million $)=%{x}<br>size=%{marker.size}<extra></extra>",
         "legendgroup": "Marvel Studios",
         "marker": {
          "color": "#FECB52",
          "size": [
           8
          ],
          "sizemode": "area",
          "sizeref": 0.02,
          "symbol": "circle"
         },
         "mode": "markers",
         "name": "Marvel Studios",
         "orientation": "h",
         "showlegend": true,
         "type": "scatter",
         "x": [
          16407.21
         ],
         "xaxis": "x",
         "y": [
          "Marvel Studios"
         ],
         "yaxis": "y"
        }
       ],
       "layout": {
        "height": 800,
        "legend": {
         "itemsizing": "constant",
         "title": {
          "text": "Production Company"
         },
         "tracegroupgap": 0
        },
        "shapes": [
         {
          "line": {
           "color": "blue",
           "width": 2
          },
          "type": "line",
          "x0": 0,
          "x1": 2419.14,
          "y0": "Walt Disney Animation Studios",
          "y1": "Walt Disney Animation Studios"
         },
         {
          "line": {
           "color": "blue",
           "width": 2
          },
          "type": "line",
          "x0": 0,
          "x1": 2505.0300000000007,
          "y0": "Jerry Bruckheimer Films",
          "y1": "Jerry Bruckheimer Films"
         },
         {
          "line": {
           "color": "blue",
           "width": 2
          },
          "type": "line",
          "x0": 0,
          "x1": 2564.54,
          "y0": "Heyday Films",
          "y1": "Heyday Films"
         },
         {
          "line": {
           "color": "blue",
           "width": 2
          },
          "type": "line",
          "x0": 0,
          "x1": 2922.0299999999997,
          "y0": "Illumination Entertainment",
          "y1": "Illumination Entertainment"
         },
         {
          "line": {
           "color": "blue",
           "width": 2
          },
          "type": "line",
          "x0": 0,
          "x1": 3039.5,
          "y0": "Twentieth Century Fox",
          "y1": "Twentieth Century Fox"
         },
         {
          "line": {
           "color": "blue",
           "width": 2
          },
          "type": "line",
          "x0": 0,
          "x1": 3431.4,
          "y0": "Pascal Pictures",
          "y1": "Pascal Pictures"
         },
         {
          "line": {
           "color": "blue",
           "width": 2
          },
          "type": "line",
          "x0": 0,
          "x1": 3645.7400000000002,
          "y0": "Bad Robot",
          "y1": "Bad Robot"
         },
         {
          "line": {
           "color": "blue",
           "width": 2
          },
          "type": "line",
          "x0": 0,
          "x1": 3721.48,
          "y0": "Dreamworks Pictures",
          "y1": "Dreamworks Pictures"
         },
         {
          "line": {
           "color": "blue",
           "width": 2
          },
          "type": "line",
          "x0": 0,
          "x1": 3941.9,
          "y0": "Columbia Pictures",
          "y1": "Columbia Pictures"
         },
         {
          "line": {
           "color": "blue",
           "width": 2
          },
          "type": "line",
          "x0": 0,
          "x1": 4967.12,
          "y0": "WingNut Films",
          "y1": "WingNut Films"
         },
         {
          "line": {
           "color": "blue",
           "width": 2
          },
          "type": "line",
          "x0": 0,
          "x1": 5836.590000000001,
          "y0": "Legendary Entertainment",
          "y1": "Legendary Entertainment"
         },
         {
          "line": {
           "color": "blue",
           "width": 2
          },
          "type": "line",
          "x0": 0,
          "x1": 6476.139999999999,
          "y0": "New Line Cinema",
          "y1": "New Line Cinema"
         },
         {
          "line": {
           "color": "blue",
           "width": 2
          },
          "type": "line",
          "x0": 0,
          "x1": 6644.27,
          "y0": "Amblin Entertainment",
          "y1": "Amblin Entertainment"
         },
         {
          "line": {
           "color": "blue",
           "width": 2
          },
          "type": "line",
          "x0": 0,
          "x1": 6937.38,
          "y0": "Lucasfilm",
          "y1": "Lucasfilm"
         },
         {
          "line": {
           "color": "blue",
           "width": 2
          },
          "type": "line",
          "x0": 0,
          "x1": 7669.110000000001,
          "y0": "Pixar Animation Studios",
          "y1": "Pixar Animation Studios"
         },
         {
          "line": {
           "color": "blue",
           "width": 2
          },
          "type": "line",
          "x0": 0,
          "x1": 9704.22,
          "y0": "Warner Bros.",
          "y1": "Warner Bros."
         },
         {
          "line": {
           "color": "blue",
           "width": 2
          },
          "type": "line",
          "x0": 0,
          "x1": 10132.02,
          "y0": "Universal Pictures",
          "y1": "Universal Pictures"
         },
         {
          "line": {
           "color": "blue",
           "width": 2
          },
          "type": "line",
          "x0": 0,
          "x1": 10516.910000000002,
          "y0": "Paramount Pictures",
          "y1": "Paramount Pictures"
         },
         {
          "line": {
           "color": "blue",
           "width": 2
          },
          "type": "line",
          "x0": 0,
          "x1": 14108.37,
          "y0": "Walt Disney Pictures",
          "y1": "Walt Disney Pictures"
         },
         {
          "line": {
           "color": "blue",
           "width": 2
          },
          "type": "line",
          "x0": 0,
          "x1": 16407.21,
          "y0": "Marvel Studios",
          "y1": "Marvel Studios"
         }
        ],
        "showlegend": false,
        "template": {
         "data": {
          "bar": [
           {
            "error_x": {
             "color": "#2a3f5f"
            },
            "error_y": {
             "color": "#2a3f5f"
            },
            "marker": {
             "line": {
              "color": "#E5ECF6",
              "width": 0.5
             },
             "pattern": {
              "fillmode": "overlay",
              "size": 10,
              "solidity": 0.2
             }
            },
            "type": "bar"
           }
          ],
          "barpolar": [
           {
            "marker": {
             "line": {
              "color": "#E5ECF6",
              "width": 0.5
             },
             "pattern": {
              "fillmode": "overlay",
              "size": 10,
              "solidity": 0.2
             }
            },
            "type": "barpolar"
           }
          ],
          "carpet": [
           {
            "aaxis": {
             "endlinecolor": "#2a3f5f",
             "gridcolor": "white",
             "linecolor": "white",
             "minorgridcolor": "white",
             "startlinecolor": "#2a3f5f"
            },
            "baxis": {
             "endlinecolor": "#2a3f5f",
             "gridcolor": "white",
             "linecolor": "white",
             "minorgridcolor": "white",
             "startlinecolor": "#2a3f5f"
            },
            "type": "carpet"
           }
          ],
          "choropleth": [
           {
            "colorbar": {
             "outlinewidth": 0,
             "ticks": ""
            },
            "type": "choropleth"
           }
          ],
          "contour": [
           {
            "colorbar": {
             "outlinewidth": 0,
             "ticks": ""
            },
            "colorscale": [
             [
              0,
              "#0d0887"
             ],
             [
              0.1111111111111111,
              "#46039f"
             ],
             [
              0.2222222222222222,
              "#7201a8"
             ],
             [
              0.3333333333333333,
              "#9c179e"
             ],
             [
              0.4444444444444444,
              "#bd3786"
             ],
             [
              0.5555555555555556,
              "#d8576b"
             ],
             [
              0.6666666666666666,
              "#ed7953"
             ],
             [
              0.7777777777777778,
              "#fb9f3a"
             ],
             [
              0.8888888888888888,
              "#fdca26"
             ],
             [
              1,
              "#f0f921"
             ]
            ],
            "type": "contour"
           }
          ],
          "contourcarpet": [
           {
            "colorbar": {
             "outlinewidth": 0,
             "ticks": ""
            },
            "type": "contourcarpet"
           }
          ],
          "heatmap": [
           {
            "colorbar": {
             "outlinewidth": 0,
             "ticks": ""
            },
            "colorscale": [
             [
              0,
              "#0d0887"
             ],
             [
              0.1111111111111111,
              "#46039f"
             ],
             [
              0.2222222222222222,
              "#7201a8"
             ],
             [
              0.3333333333333333,
              "#9c179e"
             ],
             [
              0.4444444444444444,
              "#bd3786"
             ],
             [
              0.5555555555555556,
              "#d8576b"
             ],
             [
              0.6666666666666666,
              "#ed7953"
             ],
             [
              0.7777777777777778,
              "#fb9f3a"
             ],
             [
              0.8888888888888888,
              "#fdca26"
             ],
             [
              1,
              "#f0f921"
             ]
            ],
            "type": "heatmap"
           }
          ],
          "heatmapgl": [
           {
            "colorbar": {
             "outlinewidth": 0,
             "ticks": ""
            },
            "colorscale": [
             [
              0,
              "#0d0887"
             ],
             [
              0.1111111111111111,
              "#46039f"
             ],
             [
              0.2222222222222222,
              "#7201a8"
             ],
             [
              0.3333333333333333,
              "#9c179e"
             ],
             [
              0.4444444444444444,
              "#bd3786"
             ],
             [
              0.5555555555555556,
              "#d8576b"
             ],
             [
              0.6666666666666666,
              "#ed7953"
             ],
             [
              0.7777777777777778,
              "#fb9f3a"
             ],
             [
              0.8888888888888888,
              "#fdca26"
             ],
             [
              1,
              "#f0f921"
             ]
            ],
            "type": "heatmapgl"
           }
          ],
          "histogram": [
           {
            "marker": {
             "pattern": {
              "fillmode": "overlay",
              "size": 10,
              "solidity": 0.2
             }
            },
            "type": "histogram"
           }
          ],
          "histogram2d": [
           {
            "colorbar": {
             "outlinewidth": 0,
             "ticks": ""
            },
            "colorscale": [
             [
              0,
              "#0d0887"
             ],
             [
              0.1111111111111111,
              "#46039f"
             ],
             [
              0.2222222222222222,
              "#7201a8"
             ],
             [
              0.3333333333333333,
              "#9c179e"
             ],
             [
              0.4444444444444444,
              "#bd3786"
             ],
             [
              0.5555555555555556,
              "#d8576b"
             ],
             [
              0.6666666666666666,
              "#ed7953"
             ],
             [
              0.7777777777777778,
              "#fb9f3a"
             ],
             [
              0.8888888888888888,
              "#fdca26"
             ],
             [
              1,
              "#f0f921"
             ]
            ],
            "type": "histogram2d"
           }
          ],
          "histogram2dcontour": [
           {
            "colorbar": {
             "outlinewidth": 0,
             "ticks": ""
            },
            "colorscale": [
             [
              0,
              "#0d0887"
             ],
             [
              0.1111111111111111,
              "#46039f"
             ],
             [
              0.2222222222222222,
              "#7201a8"
             ],
             [
              0.3333333333333333,
              "#9c179e"
             ],
             [
              0.4444444444444444,
              "#bd3786"
             ],
             [
              0.5555555555555556,
              "#d8576b"
             ],
             [
              0.6666666666666666,
              "#ed7953"
             ],
             [
              0.7777777777777778,
              "#fb9f3a"
             ],
             [
              0.8888888888888888,
              "#fdca26"
             ],
             [
              1,
              "#f0f921"
             ]
            ],
            "type": "histogram2dcontour"
           }
          ],
          "mesh3d": [
           {
            "colorbar": {
             "outlinewidth": 0,
             "ticks": ""
            },
            "type": "mesh3d"
           }
          ],
          "parcoords": [
           {
            "line": {
             "colorbar": {
              "outlinewidth": 0,
              "ticks": ""
             }
            },
            "type": "parcoords"
           }
          ],
          "pie": [
           {
            "automargin": true,
            "type": "pie"
           }
          ],
          "scatter": [
           {
            "fillpattern": {
             "fillmode": "overlay",
             "size": 10,
             "solidity": 0.2
            },
            "type": "scatter"
           }
          ],
          "scatter3d": [
           {
            "line": {
             "colorbar": {
              "outlinewidth": 0,
              "ticks": ""
             }
            },
            "marker": {
             "colorbar": {
              "outlinewidth": 0,
              "ticks": ""
             }
            },
            "type": "scatter3d"
           }
          ],
          "scattercarpet": [
           {
            "marker": {
             "colorbar": {
              "outlinewidth": 0,
              "ticks": ""
             }
            },
            "type": "scattercarpet"
           }
          ],
          "scattergeo": [
           {
            "marker": {
             "colorbar": {
              "outlinewidth": 0,
              "ticks": ""
             }
            },
            "type": "scattergeo"
           }
          ],
          "scattergl": [
           {
            "marker": {
             "colorbar": {
              "outlinewidth": 0,
              "ticks": ""
             }
            },
            "type": "scattergl"
           }
          ],
          "scattermapbox": [
           {
            "marker": {
             "colorbar": {
              "outlinewidth": 0,
              "ticks": ""
             }
            },
            "type": "scattermapbox"
           }
          ],
          "scatterpolar": [
           {
            "marker": {
             "colorbar": {
              "outlinewidth": 0,
              "ticks": ""
             }
            },
            "type": "scatterpolar"
           }
          ],
          "scatterpolargl": [
           {
            "marker": {
             "colorbar": {
              "outlinewidth": 0,
              "ticks": ""
             }
            },
            "type": "scatterpolargl"
           }
          ],
          "scatterternary": [
           {
            "marker": {
             "colorbar": {
              "outlinewidth": 0,
              "ticks": ""
             }
            },
            "type": "scatterternary"
           }
          ],
          "surface": [
           {
            "colorbar": {
             "outlinewidth": 0,
             "ticks": ""
            },
            "colorscale": [
             [
              0,
              "#0d0887"
             ],
             [
              0.1111111111111111,
              "#46039f"
             ],
             [
              0.2222222222222222,
              "#7201a8"
             ],
             [
              0.3333333333333333,
              "#9c179e"
             ],
             [
              0.4444444444444444,
              "#bd3786"
             ],
             [
              0.5555555555555556,
              "#d8576b"
             ],
             [
              0.6666666666666666,
              "#ed7953"
             ],
             [
              0.7777777777777778,
              "#fb9f3a"
             ],
             [
              0.8888888888888888,
              "#fdca26"
             ],
             [
              1,
              "#f0f921"
             ]
            ],
            "type": "surface"
           }
          ],
          "table": [
           {
            "cells": {
             "fill": {
              "color": "#EBF0F8"
             },
             "line": {
              "color": "white"
             }
            },
            "header": {
             "fill": {
              "color": "#C8D4E3"
             },
             "line": {
              "color": "white"
             }
            },
            "type": "table"
           }
          ]
         },
         "layout": {
          "annotationdefaults": {
           "arrowcolor": "#2a3f5f",
           "arrowhead": 0,
           "arrowwidth": 1
          },
          "autotypenumbers": "strict",
          "coloraxis": {
           "colorbar": {
            "outlinewidth": 0,
            "ticks": ""
           }
          },
          "colorscale": {
           "diverging": [
            [
             0,
             "#8e0152"
            ],
            [
             0.1,
             "#c51b7d"
            ],
            [
             0.2,
             "#de77ae"
            ],
            [
             0.3,
             "#f1b6da"
            ],
            [
             0.4,
             "#fde0ef"
            ],
            [
             0.5,
             "#f7f7f7"
            ],
            [
             0.6,
             "#e6f5d0"
            ],
            [
             0.7,
             "#b8e186"
            ],
            [
             0.8,
             "#7fbc41"
            ],
            [
             0.9,
             "#4d9221"
            ],
            [
             1,
             "#276419"
            ]
           ],
           "sequential": [
            [
             0,
             "#0d0887"
            ],
            [
             0.1111111111111111,
             "#46039f"
            ],
            [
             0.2222222222222222,
             "#7201a8"
            ],
            [
             0.3333333333333333,
             "#9c179e"
            ],
            [
             0.4444444444444444,
             "#bd3786"
            ],
            [
             0.5555555555555556,
             "#d8576b"
            ],
            [
             0.6666666666666666,
             "#ed7953"
            ],
            [
             0.7777777777777778,
             "#fb9f3a"
            ],
            [
             0.8888888888888888,
             "#fdca26"
            ],
            [
             1,
             "#f0f921"
            ]
           ],
           "sequentialminus": [
            [
             0,
             "#0d0887"
            ],
            [
             0.1111111111111111,
             "#46039f"
            ],
            [
             0.2222222222222222,
             "#7201a8"
            ],
            [
             0.3333333333333333,
             "#9c179e"
            ],
            [
             0.4444444444444444,
             "#bd3786"
            ],
            [
             0.5555555555555556,
             "#d8576b"
            ],
            [
             0.6666666666666666,
             "#ed7953"
            ],
            [
             0.7777777777777778,
             "#fb9f3a"
            ],
            [
             0.8888888888888888,
             "#fdca26"
            ],
            [
             1,
             "#f0f921"
            ]
           ]
          },
          "colorway": [
           "#636efa",
           "#EF553B",
           "#00cc96",
           "#ab63fa",
           "#FFA15A",
           "#19d3f3",
           "#FF6692",
           "#B6E880",
           "#FF97FF",
           "#FECB52"
          ],
          "font": {
           "color": "#2a3f5f"
          },
          "geo": {
           "bgcolor": "white",
           "lakecolor": "white",
           "landcolor": "#E5ECF6",
           "showlakes": true,
           "showland": true,
           "subunitcolor": "white"
          },
          "hoverlabel": {
           "align": "left"
          },
          "hovermode": "closest",
          "mapbox": {
           "style": "light"
          },
          "paper_bgcolor": "white",
          "plot_bgcolor": "#E5ECF6",
          "polar": {
           "angularaxis": {
            "gridcolor": "white",
            "linecolor": "white",
            "ticks": ""
           },
           "bgcolor": "#E5ECF6",
           "radialaxis": {
            "gridcolor": "white",
            "linecolor": "white",
            "ticks": ""
           }
          },
          "scene": {
           "xaxis": {
            "backgroundcolor": "#E5ECF6",
            "gridcolor": "white",
            "gridwidth": 2,
            "linecolor": "white",
            "showbackground": true,
            "ticks": "",
            "zerolinecolor": "white"
           },
           "yaxis": {
            "backgroundcolor": "#E5ECF6",
            "gridcolor": "white",
            "gridwidth": 2,
            "linecolor": "white",
            "showbackground": true,
            "ticks": "",
            "zerolinecolor": "white"
           },
           "zaxis": {
            "backgroundcolor": "#E5ECF6",
            "gridcolor": "white",
            "gridwidth": 2,
            "linecolor": "white",
            "showbackground": true,
            "ticks": "",
            "zerolinecolor": "white"
           }
          },
          "shapedefaults": {
           "line": {
            "color": "#2a3f5f"
           }
          },
          "ternary": {
           "aaxis": {
            "gridcolor": "white",
            "linecolor": "white",
            "ticks": ""
           },
           "baxis": {
            "gridcolor": "white",
            "linecolor": "white",
            "ticks": ""
           },
           "bgcolor": "#E5ECF6",
           "caxis": {
            "gridcolor": "white",
            "linecolor": "white",
            "ticks": ""
           }
          },
          "title": {
           "x": 0.05
          },
          "xaxis": {
           "automargin": true,
           "gridcolor": "white",
           "linecolor": "white",
           "ticks": "",
           "title": {
            "standoff": 15
           },
           "zerolinecolor": "white",
           "zerolinewidth": 2
          },
          "yaxis": {
           "automargin": true,
           "gridcolor": "white",
           "linecolor": "white",
           "ticks": "",
           "title": {
            "standoff": 15
           },
           "zerolinecolor": "white",
           "zerolinewidth": 2
          }
         }
        },
        "title": {
         "text": "Top Production Companies by Total Profit"
        },
        "width": 1200,
        "xaxis": {
         "anchor": "y",
         "domain": [
          0,
          1
         ],
         "title": {
          "text": "Total Profit (in Million $)"
         }
        },
        "yaxis": {
         "anchor": "x",
         "categoryarray": [
          "Marvel Studios",
          "Walt Disney Pictures",
          "Paramount Pictures",
          "Universal Pictures",
          "Warner Bros.",
          "Pixar Animation Studios",
          "Lucasfilm",
          "Amblin Entertainment",
          "New Line Cinema",
          "Legendary Entertainment",
          "WingNut Films",
          "Columbia Pictures",
          "Dreamworks Pictures",
          "Bad Robot",
          "Pascal Pictures",
          "Twentieth Century Fox",
          "Illumination Entertainment",
          "Heyday Films",
          "Jerry Bruckheimer Films",
          "Walt Disney Animation Studios"
         ],
         "categoryorder": "array",
         "domain": [
          0,
          1
         ],
         "title": {
          "text": "Production Company"
         }
        }
       }
      }
     },
     "metadata": {},
     "output_type": "display_data"
    }
   ],
   "source": [
    "# import plotly.express as px\n",
    "# import pandas as pd\n",
    "\n",
    "query = \"\"\"\n",
    "SELECT pc.production_company, \n",
    "       SUM(im.gross_in_million - im.budget) AS total_profit\n",
    "FROM imdb_movies im\n",
    "JOIN production_companies pc ON im.movie_id = pc.movie_id\n",
    "WHERE im.budget IS NOT NULL AND im.gross_in_million IS NOT NULL\n",
    "GROUP BY pc.production_company\n",
    "ORDER BY total_profit DESC\n",
    "LIMIT 20;\n",
    "\"\"\"\n",
    "\n",
    "df = pd.read_sql_query(query, conn)\n",
    "\n",
    "df = df.sort_values(by=\"total_profit\", ascending=True)\n",
    "\n",
    "fig = px.scatter(df, x=\"total_profit\", y=\"production_company\", \n",
    "                 size=[8]*len(df), color=\"production_company\", \n",
    "                 title=\"Top Production Companies by Total Profit\",\n",
    "                 labels={\"total_profit\": \"Total Profit (in Million $)\", \"production_company\": \"Production Company\"})\n",
    "\n",
    "for i, row in df.iterrows():\n",
    "    fig.add_shape(type=\"line\",\n",
    "                  x0=0, x1=row[\"total_profit\"],\n",
    "                  y0=row[\"production_company\"], y1=row[\"production_company\"],\n",
    "                  line=dict(color=\"blue\", width=2))\n",
    "\n",
    "fig.update_layout(showlegend=False, height=800, width=1200)\n",
    "\n",
    "fig.show()\n"
   ]
  },
  {
   "cell_type": "markdown",
   "metadata": {},
   "source": [
    "# 🔹Production Companies **Loss Data 📉**  "
   ]
  },
  {
   "cell_type": "code",
   "execution_count": 10,
   "metadata": {},
   "outputs": [
    {
     "data": {
      "application/vnd.plotly.v1+json": {
       "config": {
        "plotlyServerURL": "https://plot.ly"
       },
       "data": [
        {
         "customdata": [
          [
           9.042841000000001
          ],
          [
           4.5089999999999995
          ],
          [
           0.009028
          ],
          [
           0.009028
          ]
         ],
         "domain": {
          "x": [
           0,
           1
          ],
          "y": [
           0,
           1
          ]
         },
         "hole": 0.4,
         "hovertemplate": "production_company=%{label}<br>total_loss=%{customdata[0]}<extra></extra>",
         "labels": [
          "Charles Chaplin Productions",
          "Alfred J. Hitchcock Productions",
          "Produzioni Europee Associate (PEA)",
          "Les Productions Artistes Associés"
         ],
         "legendgroup": "",
         "marker": {
          "colors": [
           "rgb(247,252,245)",
           "rgb(229,245,224)",
           "rgb(199,233,192)",
           "rgb(199,233,192)"
          ],
          "line": {
           "color": "black",
           "width": 1
          }
         },
         "name": "",
         "showlegend": true,
         "textfont": {
          "size": 14
         },
         "textinfo": "label+value",
         "type": "pie",
         "values": [
          9.042841000000001,
          4.5089999999999995,
          0.009028,
          0.009028
         ]
        }
       ],
       "layout": {
        "height": 800,
        "legend": {
         "tracegroupgap": 0
        },
        "piecolorway": [
         "rgb(247,252,245)",
         "rgb(229,245,224)",
         "rgb(199,233,192)",
         "rgb(161,217,155)",
         "rgb(116,196,118)",
         "rgb(65,171,93)",
         "rgb(35,139,69)",
         "rgb(0,109,44)",
         "rgb(0,68,27)"
        ],
        "showlegend": true,
        "template": {
         "data": {
          "bar": [
           {
            "error_x": {
             "color": "#2a3f5f"
            },
            "error_y": {
             "color": "#2a3f5f"
            },
            "marker": {
             "line": {
              "color": "#E5ECF6",
              "width": 0.5
             },
             "pattern": {
              "fillmode": "overlay",
              "size": 10,
              "solidity": 0.2
             }
            },
            "type": "bar"
           }
          ],
          "barpolar": [
           {
            "marker": {
             "line": {
              "color": "#E5ECF6",
              "width": 0.5
             },
             "pattern": {
              "fillmode": "overlay",
              "size": 10,
              "solidity": 0.2
             }
            },
            "type": "barpolar"
           }
          ],
          "carpet": [
           {
            "aaxis": {
             "endlinecolor": "#2a3f5f",
             "gridcolor": "white",
             "linecolor": "white",
             "minorgridcolor": "white",
             "startlinecolor": "#2a3f5f"
            },
            "baxis": {
             "endlinecolor": "#2a3f5f",
             "gridcolor": "white",
             "linecolor": "white",
             "minorgridcolor": "white",
             "startlinecolor": "#2a3f5f"
            },
            "type": "carpet"
           }
          ],
          "choropleth": [
           {
            "colorbar": {
             "outlinewidth": 0,
             "ticks": ""
            },
            "type": "choropleth"
           }
          ],
          "contour": [
           {
            "colorbar": {
             "outlinewidth": 0,
             "ticks": ""
            },
            "colorscale": [
             [
              0,
              "#0d0887"
             ],
             [
              0.1111111111111111,
              "#46039f"
             ],
             [
              0.2222222222222222,
              "#7201a8"
             ],
             [
              0.3333333333333333,
              "#9c179e"
             ],
             [
              0.4444444444444444,
              "#bd3786"
             ],
             [
              0.5555555555555556,
              "#d8576b"
             ],
             [
              0.6666666666666666,
              "#ed7953"
             ],
             [
              0.7777777777777778,
              "#fb9f3a"
             ],
             [
              0.8888888888888888,
              "#fdca26"
             ],
             [
              1,
              "#f0f921"
             ]
            ],
            "type": "contour"
           }
          ],
          "contourcarpet": [
           {
            "colorbar": {
             "outlinewidth": 0,
             "ticks": ""
            },
            "type": "contourcarpet"
           }
          ],
          "heatmap": [
           {
            "colorbar": {
             "outlinewidth": 0,
             "ticks": ""
            },
            "colorscale": [
             [
              0,
              "#0d0887"
             ],
             [
              0.1111111111111111,
              "#46039f"
             ],
             [
              0.2222222222222222,
              "#7201a8"
             ],
             [
              0.3333333333333333,
              "#9c179e"
             ],
             [
              0.4444444444444444,
              "#bd3786"
             ],
             [
              0.5555555555555556,
              "#d8576b"
             ],
             [
              0.6666666666666666,
              "#ed7953"
             ],
             [
              0.7777777777777778,
              "#fb9f3a"
             ],
             [
              0.8888888888888888,
              "#fdca26"
             ],
             [
              1,
              "#f0f921"
             ]
            ],
            "type": "heatmap"
           }
          ],
          "heatmapgl": [
           {
            "colorbar": {
             "outlinewidth": 0,
             "ticks": ""
            },
            "colorscale": [
             [
              0,
              "#0d0887"
             ],
             [
              0.1111111111111111,
              "#46039f"
             ],
             [
              0.2222222222222222,
              "#7201a8"
             ],
             [
              0.3333333333333333,
              "#9c179e"
             ],
             [
              0.4444444444444444,
              "#bd3786"
             ],
             [
              0.5555555555555556,
              "#d8576b"
             ],
             [
              0.6666666666666666,
              "#ed7953"
             ],
             [
              0.7777777777777778,
              "#fb9f3a"
             ],
             [
              0.8888888888888888,
              "#fdca26"
             ],
             [
              1,
              "#f0f921"
             ]
            ],
            "type": "heatmapgl"
           }
          ],
          "histogram": [
           {
            "marker": {
             "pattern": {
              "fillmode": "overlay",
              "size": 10,
              "solidity": 0.2
             }
            },
            "type": "histogram"
           }
          ],
          "histogram2d": [
           {
            "colorbar": {
             "outlinewidth": 0,
             "ticks": ""
            },
            "colorscale": [
             [
              0,
              "#0d0887"
             ],
             [
              0.1111111111111111,
              "#46039f"
             ],
             [
              0.2222222222222222,
              "#7201a8"
             ],
             [
              0.3333333333333333,
              "#9c179e"
             ],
             [
              0.4444444444444444,
              "#bd3786"
             ],
             [
              0.5555555555555556,
              "#d8576b"
             ],
             [
              0.6666666666666666,
              "#ed7953"
             ],
             [
              0.7777777777777778,
              "#fb9f3a"
             ],
             [
              0.8888888888888888,
              "#fdca26"
             ],
             [
              1,
              "#f0f921"
             ]
            ],
            "type": "histogram2d"
           }
          ],
          "histogram2dcontour": [
           {
            "colorbar": {
             "outlinewidth": 0,
             "ticks": ""
            },
            "colorscale": [
             [
              0,
              "#0d0887"
             ],
             [
              0.1111111111111111,
              "#46039f"
             ],
             [
              0.2222222222222222,
              "#7201a8"
             ],
             [
              0.3333333333333333,
              "#9c179e"
             ],
             [
              0.4444444444444444,
              "#bd3786"
             ],
             [
              0.5555555555555556,
              "#d8576b"
             ],
             [
              0.6666666666666666,
              "#ed7953"
             ],
             [
              0.7777777777777778,
              "#fb9f3a"
             ],
             [
              0.8888888888888888,
              "#fdca26"
             ],
             [
              1,
              "#f0f921"
             ]
            ],
            "type": "histogram2dcontour"
           }
          ],
          "mesh3d": [
           {
            "colorbar": {
             "outlinewidth": 0,
             "ticks": ""
            },
            "type": "mesh3d"
           }
          ],
          "parcoords": [
           {
            "line": {
             "colorbar": {
              "outlinewidth": 0,
              "ticks": ""
             }
            },
            "type": "parcoords"
           }
          ],
          "pie": [
           {
            "automargin": true,
            "type": "pie"
           }
          ],
          "scatter": [
           {
            "fillpattern": {
             "fillmode": "overlay",
             "size": 10,
             "solidity": 0.2
            },
            "type": "scatter"
           }
          ],
          "scatter3d": [
           {
            "line": {
             "colorbar": {
              "outlinewidth": 0,
              "ticks": ""
             }
            },
            "marker": {
             "colorbar": {
              "outlinewidth": 0,
              "ticks": ""
             }
            },
            "type": "scatter3d"
           }
          ],
          "scattercarpet": [
           {
            "marker": {
             "colorbar": {
              "outlinewidth": 0,
              "ticks": ""
             }
            },
            "type": "scattercarpet"
           }
          ],
          "scattergeo": [
           {
            "marker": {
             "colorbar": {
              "outlinewidth": 0,
              "ticks": ""
             }
            },
            "type": "scattergeo"
           }
          ],
          "scattergl": [
           {
            "marker": {
             "colorbar": {
              "outlinewidth": 0,
              "ticks": ""
             }
            },
            "type": "scattergl"
           }
          ],
          "scattermapbox": [
           {
            "marker": {
             "colorbar": {
              "outlinewidth": 0,
              "ticks": ""
             }
            },
            "type": "scattermapbox"
           }
          ],
          "scatterpolar": [
           {
            "marker": {
             "colorbar": {
              "outlinewidth": 0,
              "ticks": ""
             }
            },
            "type": "scatterpolar"
           }
          ],
          "scatterpolargl": [
           {
            "marker": {
             "colorbar": {
              "outlinewidth": 0,
              "ticks": ""
             }
            },
            "type": "scatterpolargl"
           }
          ],
          "scatterternary": [
           {
            "marker": {
             "colorbar": {
              "outlinewidth": 0,
              "ticks": ""
             }
            },
            "type": "scatterternary"
           }
          ],
          "surface": [
           {
            "colorbar": {
             "outlinewidth": 0,
             "ticks": ""
            },
            "colorscale": [
             [
              0,
              "#0d0887"
             ],
             [
              0.1111111111111111,
              "#46039f"
             ],
             [
              0.2222222222222222,
              "#7201a8"
             ],
             [
              0.3333333333333333,
              "#9c179e"
             ],
             [
              0.4444444444444444,
              "#bd3786"
             ],
             [
              0.5555555555555556,
              "#d8576b"
             ],
             [
              0.6666666666666666,
              "#ed7953"
             ],
             [
              0.7777777777777778,
              "#fb9f3a"
             ],
             [
              0.8888888888888888,
              "#fdca26"
             ],
             [
              1,
              "#f0f921"
             ]
            ],
            "type": "surface"
           }
          ],
          "table": [
           {
            "cells": {
             "fill": {
              "color": "#EBF0F8"
             },
             "line": {
              "color": "white"
             }
            },
            "header": {
             "fill": {
              "color": "#C8D4E3"
             },
             "line": {
              "color": "white"
             }
            },
            "type": "table"
           }
          ]
         },
         "layout": {
          "annotationdefaults": {
           "arrowcolor": "#2a3f5f",
           "arrowhead": 0,
           "arrowwidth": 1
          },
          "autotypenumbers": "strict",
          "coloraxis": {
           "colorbar": {
            "outlinewidth": 0,
            "ticks": ""
           }
          },
          "colorscale": {
           "diverging": [
            [
             0,
             "#8e0152"
            ],
            [
             0.1,
             "#c51b7d"
            ],
            [
             0.2,
             "#de77ae"
            ],
            [
             0.3,
             "#f1b6da"
            ],
            [
             0.4,
             "#fde0ef"
            ],
            [
             0.5,
             "#f7f7f7"
            ],
            [
             0.6,
             "#e6f5d0"
            ],
            [
             0.7,
             "#b8e186"
            ],
            [
             0.8,
             "#7fbc41"
            ],
            [
             0.9,
             "#4d9221"
            ],
            [
             1,
             "#276419"
            ]
           ],
           "sequential": [
            [
             0,
             "#0d0887"
            ],
            [
             0.1111111111111111,
             "#46039f"
            ],
            [
             0.2222222222222222,
             "#7201a8"
            ],
            [
             0.3333333333333333,
             "#9c179e"
            ],
            [
             0.4444444444444444,
             "#bd3786"
            ],
            [
             0.5555555555555556,
             "#d8576b"
            ],
            [
             0.6666666666666666,
             "#ed7953"
            ],
            [
             0.7777777777777778,
             "#fb9f3a"
            ],
            [
             0.8888888888888888,
             "#fdca26"
            ],
            [
             1,
             "#f0f921"
            ]
           ],
           "sequentialminus": [
            [
             0,
             "#0d0887"
            ],
            [
             0.1111111111111111,
             "#46039f"
            ],
            [
             0.2222222222222222,
             "#7201a8"
            ],
            [
             0.3333333333333333,
             "#9c179e"
            ],
            [
             0.4444444444444444,
             "#bd3786"
            ],
            [
             0.5555555555555556,
             "#d8576b"
            ],
            [
             0.6666666666666666,
             "#ed7953"
            ],
            [
             0.7777777777777778,
             "#fb9f3a"
            ],
            [
             0.8888888888888888,
             "#fdca26"
            ],
            [
             1,
             "#f0f921"
            ]
           ]
          },
          "colorway": [
           "#636efa",
           "#EF553B",
           "#00cc96",
           "#ab63fa",
           "#FFA15A",
           "#19d3f3",
           "#FF6692",
           "#B6E880",
           "#FF97FF",
           "#FECB52"
          ],
          "font": {
           "color": "#2a3f5f"
          },
          "geo": {
           "bgcolor": "white",
           "lakecolor": "white",
           "landcolor": "#E5ECF6",
           "showlakes": true,
           "showland": true,
           "subunitcolor": "white"
          },
          "hoverlabel": {
           "align": "left"
          },
          "hovermode": "closest",
          "mapbox": {
           "style": "light"
          },
          "paper_bgcolor": "white",
          "plot_bgcolor": "#E5ECF6",
          "polar": {
           "angularaxis": {
            "gridcolor": "white",
            "linecolor": "white",
            "ticks": ""
           },
           "bgcolor": "#E5ECF6",
           "radialaxis": {
            "gridcolor": "white",
            "linecolor": "white",
            "ticks": ""
           }
          },
          "scene": {
           "xaxis": {
            "backgroundcolor": "#E5ECF6",
            "gridcolor": "white",
            "gridwidth": 2,
            "linecolor": "white",
            "showbackground": true,
            "ticks": "",
            "zerolinecolor": "white"
           },
           "yaxis": {
            "backgroundcolor": "#E5ECF6",
            "gridcolor": "white",
            "gridwidth": 2,
            "linecolor": "white",
            "showbackground": true,
            "ticks": "",
            "zerolinecolor": "white"
           },
           "zaxis": {
            "backgroundcolor": "#E5ECF6",
            "gridcolor": "white",
            "gridwidth": 2,
            "linecolor": "white",
            "showbackground": true,
            "ticks": "",
            "zerolinecolor": "white"
           }
          },
          "shapedefaults": {
           "line": {
            "color": "#2a3f5f"
           }
          },
          "ternary": {
           "aaxis": {
            "gridcolor": "white",
            "linecolor": "white",
            "ticks": ""
           },
           "baxis": {
            "gridcolor": "white",
            "linecolor": "white",
            "ticks": ""
           },
           "bgcolor": "#E5ECF6",
           "caxis": {
            "gridcolor": "white",
            "linecolor": "white",
            "ticks": ""
           }
          },
          "title": {
           "x": 0.05
          },
          "xaxis": {
           "automargin": true,
           "gridcolor": "white",
           "linecolor": "white",
           "ticks": "",
           "title": {
            "standoff": 15
           },
           "zerolinecolor": "white",
           "zerolinewidth": 2
          },
          "yaxis": {
           "automargin": true,
           "gridcolor": "white",
           "linecolor": "white",
           "ticks": "",
           "title": {
            "standoff": 15
           },
           "zerolinecolor": "white",
           "zerolinewidth": 2
          }
         }
        },
        "title": {
         "text": "Losses by Production Company"
        },
        "width": 1200
       }
      }
     },
     "metadata": {},
     "output_type": "display_data"
    }
   ],
   "source": [
    "query = \"\"\"\n",
    "SELECT pc.production_company, \n",
    "       SUM(im.budget) AS total_budget, \n",
    "       SUM(im.gross_in_million) AS total_revenue,\n",
    "       SUM(im.budget) - SUM(im.gross_in_million) AS total_loss\n",
    "FROM imdb_movies im\n",
    "JOIN production_companies pc ON im.movie_id = pc.movie_id\n",
    "WHERE im.budget IS NOT NULL \n",
    "AND im.gross_in_million IS NOT NULL\n",
    "AND pc.production_company IS NOT NULL  \n",
    "AND pc.production_company != ''  \n",
    "AND LOWER(pc.production_company) != 'none'  \n",
    "GROUP BY pc.production_company\n",
    "HAVING total_loss > 0  \n",
    "ORDER BY total_loss DESC  \n",
    "LIMIT 20;  -- Show top 20 production companies with the biggest losses\n",
    "\"\"\"\n",
    "df = pd.read_sql_query(query, conn)\n",
    "\n",
    "fig = px.pie(df, \n",
    "             names=\"production_company\", \n",
    "             values=\"total_loss\", \n",
    "             title=\"Losses by Production Company\",\n",
    "             hole=0.4,  \n",
    "             color=\"total_loss\",  \n",
    "             color_discrete_sequence=px.colors.sequential.Greens)\n",
    "\n",
    "fig.update_traces(textinfo=\"label+value\", \n",
    "                  textfont_size=14, \n",
    "                  marker=dict(line=dict(color=\"black\", width=1)))\n",
    "\n",
    "fig.update_layout(width=1200, \n",
    "                  height=800, \n",
    "                  showlegend=True)\n",
    "\n",
    "fig.show()"
   ]
  },
  {
   "cell_type": "markdown",
   "metadata": {},
   "source": [
    "# ⭐ **Top Highest-Rated Production Companies 🎬**  "
   ]
  },
  {
   "cell_type": "code",
   "execution_count": 11,
   "metadata": {},
   "outputs": [
    {
     "data": {
      "application/vnd.plotly.v1+json": {
       "config": {
        "plotlyServerURL": "https://plot.ly"
       },
       "data": [
        {
         "hoverinfo": "x+y+text",
         "line": {
          "color": "skyblue",
          "width": 2
         },
         "mode": "lines",
         "text": [
          "Average Rating: 9.0",
          "Average Rating: 8.9",
          "Average Rating: 8.9",
          "Average Rating: 8.8",
          "Average Rating: 8.8",
          "Average Rating: 8.6",
          "Average Rating: 8.5",
          "Average Rating: 8.4",
          "Average Rating: 8.4",
          "Average Rating: 8.3",
          "Average Rating: 8.3",
          "Average Rating: 8.3",
          "Average Rating: 8.283333333333333",
          "Average Rating: 8.2",
          "Average Rating: 8.1",
          "Average Rating: 8.1",
          "Average Rating: 8.1",
          "Average Rating: 8.1",
          "Average Rating: 8.1",
          "Average Rating: 7.99"
         ],
         "type": "scatter",
         "x": [
          "Syncopy",
          "The Saul Zaentz Company",
          "Marzano Films",
          "Wendy Finerman Productions",
          "The Steve Tisch Company",
          "Darkwoods Productions",
          "Scott Free Productions",
          "South Pictures",
          "Jason Roberts Productions",
          "Lawrence Bender Productions",
          "Be Gentlemen Limited Partnership",
          "BRON Studios",
          "WingNut Films",
          "Skydance Media",
          "Reliance Film & Entertainment",
          "Malpaso Productions",
          "Lakeshore Entertainment",
          "DreamWorks",
          "DC Entertainment",
          "Charles Chaplin Productions"
         ],
         "y": [
          9,
          8.9,
          8.9,
          8.8,
          8.8,
          8.6,
          8.5,
          8.4,
          8.4,
          8.3,
          8.3,
          8.3,
          8.283333333333333,
          8.2,
          8.1,
          8.1,
          8.1,
          8.1,
          8.1,
          7.99
         ]
        },
        {
         "hoverinfo": "x+y+text",
         "marker": {
          "color": "red",
          "size": 10
         },
         "mode": "markers",
         "text": [
          "Average Rating: 9.0",
          "Average Rating: 8.9",
          "Average Rating: 8.9",
          "Average Rating: 8.8",
          "Average Rating: 8.8",
          "Average Rating: 8.6",
          "Average Rating: 8.5",
          "Average Rating: 8.4",
          "Average Rating: 8.4",
          "Average Rating: 8.3",
          "Average Rating: 8.3",
          "Average Rating: 8.3",
          "Average Rating: 8.283333333333333",
          "Average Rating: 8.2",
          "Average Rating: 8.1",
          "Average Rating: 8.1",
          "Average Rating: 8.1",
          "Average Rating: 8.1",
          "Average Rating: 8.1",
          "Average Rating: 7.99"
         ],
         "type": "scatter",
         "x": [
          "Syncopy",
          "The Saul Zaentz Company",
          "Marzano Films",
          "Wendy Finerman Productions",
          "The Steve Tisch Company",
          "Darkwoods Productions",
          "Scott Free Productions",
          "South Pictures",
          "Jason Roberts Productions",
          "Lawrence Bender Productions",
          "Be Gentlemen Limited Partnership",
          "BRON Studios",
          "WingNut Films",
          "Skydance Media",
          "Reliance Film & Entertainment",
          "Malpaso Productions",
          "Lakeshore Entertainment",
          "DreamWorks",
          "DC Entertainment",
          "Charles Chaplin Productions"
         ],
         "y": [
          9,
          8.9,
          8.9,
          8.8,
          8.8,
          8.6,
          8.5,
          8.4,
          8.4,
          8.3,
          8.3,
          8.3,
          8.283333333333333,
          8.2,
          8.1,
          8.1,
          8.1,
          8.1,
          8.1,
          7.99
         ]
        }
       ],
       "layout": {
        "height": 800,
        "hovermode": "closest",
        "template": {
         "data": {
          "bar": [
           {
            "error_x": {
             "color": "#2a3f5f"
            },
            "error_y": {
             "color": "#2a3f5f"
            },
            "marker": {
             "line": {
              "color": "white",
              "width": 0.5
             },
             "pattern": {
              "fillmode": "overlay",
              "size": 10,
              "solidity": 0.2
             }
            },
            "type": "bar"
           }
          ],
          "barpolar": [
           {
            "marker": {
             "line": {
              "color": "white",
              "width": 0.5
             },
             "pattern": {
              "fillmode": "overlay",
              "size": 10,
              "solidity": 0.2
             }
            },
            "type": "barpolar"
           }
          ],
          "carpet": [
           {
            "aaxis": {
             "endlinecolor": "#2a3f5f",
             "gridcolor": "#C8D4E3",
             "linecolor": "#C8D4E3",
             "minorgridcolor": "#C8D4E3",
             "startlinecolor": "#2a3f5f"
            },
            "baxis": {
             "endlinecolor": "#2a3f5f",
             "gridcolor": "#C8D4E3",
             "linecolor": "#C8D4E3",
             "minorgridcolor": "#C8D4E3",
             "startlinecolor": "#2a3f5f"
            },
            "type": "carpet"
           }
          ],
          "choropleth": [
           {
            "colorbar": {
             "outlinewidth": 0,
             "ticks": ""
            },
            "type": "choropleth"
           }
          ],
          "contour": [
           {
            "colorbar": {
             "outlinewidth": 0,
             "ticks": ""
            },
            "colorscale": [
             [
              0,
              "#0d0887"
             ],
             [
              0.1111111111111111,
              "#46039f"
             ],
             [
              0.2222222222222222,
              "#7201a8"
             ],
             [
              0.3333333333333333,
              "#9c179e"
             ],
             [
              0.4444444444444444,
              "#bd3786"
             ],
             [
              0.5555555555555556,
              "#d8576b"
             ],
             [
              0.6666666666666666,
              "#ed7953"
             ],
             [
              0.7777777777777778,
              "#fb9f3a"
             ],
             [
              0.8888888888888888,
              "#fdca26"
             ],
             [
              1,
              "#f0f921"
             ]
            ],
            "type": "contour"
           }
          ],
          "contourcarpet": [
           {
            "colorbar": {
             "outlinewidth": 0,
             "ticks": ""
            },
            "type": "contourcarpet"
           }
          ],
          "heatmap": [
           {
            "colorbar": {
             "outlinewidth": 0,
             "ticks": ""
            },
            "colorscale": [
             [
              0,
              "#0d0887"
             ],
             [
              0.1111111111111111,
              "#46039f"
             ],
             [
              0.2222222222222222,
              "#7201a8"
             ],
             [
              0.3333333333333333,
              "#9c179e"
             ],
             [
              0.4444444444444444,
              "#bd3786"
             ],
             [
              0.5555555555555556,
              "#d8576b"
             ],
             [
              0.6666666666666666,
              "#ed7953"
             ],
             [
              0.7777777777777778,
              "#fb9f3a"
             ],
             [
              0.8888888888888888,
              "#fdca26"
             ],
             [
              1,
              "#f0f921"
             ]
            ],
            "type": "heatmap"
           }
          ],
          "heatmapgl": [
           {
            "colorbar": {
             "outlinewidth": 0,
             "ticks": ""
            },
            "colorscale": [
             [
              0,
              "#0d0887"
             ],
             [
              0.1111111111111111,
              "#46039f"
             ],
             [
              0.2222222222222222,
              "#7201a8"
             ],
             [
              0.3333333333333333,
              "#9c179e"
             ],
             [
              0.4444444444444444,
              "#bd3786"
             ],
             [
              0.5555555555555556,
              "#d8576b"
             ],
             [
              0.6666666666666666,
              "#ed7953"
             ],
             [
              0.7777777777777778,
              "#fb9f3a"
             ],
             [
              0.8888888888888888,
              "#fdca26"
             ],
             [
              1,
              "#f0f921"
             ]
            ],
            "type": "heatmapgl"
           }
          ],
          "histogram": [
           {
            "marker": {
             "pattern": {
              "fillmode": "overlay",
              "size": 10,
              "solidity": 0.2
             }
            },
            "type": "histogram"
           }
          ],
          "histogram2d": [
           {
            "colorbar": {
             "outlinewidth": 0,
             "ticks": ""
            },
            "colorscale": [
             [
              0,
              "#0d0887"
             ],
             [
              0.1111111111111111,
              "#46039f"
             ],
             [
              0.2222222222222222,
              "#7201a8"
             ],
             [
              0.3333333333333333,
              "#9c179e"
             ],
             [
              0.4444444444444444,
              "#bd3786"
             ],
             [
              0.5555555555555556,
              "#d8576b"
             ],
             [
              0.6666666666666666,
              "#ed7953"
             ],
             [
              0.7777777777777778,
              "#fb9f3a"
             ],
             [
              0.8888888888888888,
              "#fdca26"
             ],
             [
              1,
              "#f0f921"
             ]
            ],
            "type": "histogram2d"
           }
          ],
          "histogram2dcontour": [
           {
            "colorbar": {
             "outlinewidth": 0,
             "ticks": ""
            },
            "colorscale": [
             [
              0,
              "#0d0887"
             ],
             [
              0.1111111111111111,
              "#46039f"
             ],
             [
              0.2222222222222222,
              "#7201a8"
             ],
             [
              0.3333333333333333,
              "#9c179e"
             ],
             [
              0.4444444444444444,
              "#bd3786"
             ],
             [
              0.5555555555555556,
              "#d8576b"
             ],
             [
              0.6666666666666666,
              "#ed7953"
             ],
             [
              0.7777777777777778,
              "#fb9f3a"
             ],
             [
              0.8888888888888888,
              "#fdca26"
             ],
             [
              1,
              "#f0f921"
             ]
            ],
            "type": "histogram2dcontour"
           }
          ],
          "mesh3d": [
           {
            "colorbar": {
             "outlinewidth": 0,
             "ticks": ""
            },
            "type": "mesh3d"
           }
          ],
          "parcoords": [
           {
            "line": {
             "colorbar": {
              "outlinewidth": 0,
              "ticks": ""
             }
            },
            "type": "parcoords"
           }
          ],
          "pie": [
           {
            "automargin": true,
            "type": "pie"
           }
          ],
          "scatter": [
           {
            "fillpattern": {
             "fillmode": "overlay",
             "size": 10,
             "solidity": 0.2
            },
            "type": "scatter"
           }
          ],
          "scatter3d": [
           {
            "line": {
             "colorbar": {
              "outlinewidth": 0,
              "ticks": ""
             }
            },
            "marker": {
             "colorbar": {
              "outlinewidth": 0,
              "ticks": ""
             }
            },
            "type": "scatter3d"
           }
          ],
          "scattercarpet": [
           {
            "marker": {
             "colorbar": {
              "outlinewidth": 0,
              "ticks": ""
             }
            },
            "type": "scattercarpet"
           }
          ],
          "scattergeo": [
           {
            "marker": {
             "colorbar": {
              "outlinewidth": 0,
              "ticks": ""
             }
            },
            "type": "scattergeo"
           }
          ],
          "scattergl": [
           {
            "marker": {
             "colorbar": {
              "outlinewidth": 0,
              "ticks": ""
             }
            },
            "type": "scattergl"
           }
          ],
          "scattermapbox": [
           {
            "marker": {
             "colorbar": {
              "outlinewidth": 0,
              "ticks": ""
             }
            },
            "type": "scattermapbox"
           }
          ],
          "scatterpolar": [
           {
            "marker": {
             "colorbar": {
              "outlinewidth": 0,
              "ticks": ""
             }
            },
            "type": "scatterpolar"
           }
          ],
          "scatterpolargl": [
           {
            "marker": {
             "colorbar": {
              "outlinewidth": 0,
              "ticks": ""
             }
            },
            "type": "scatterpolargl"
           }
          ],
          "scatterternary": [
           {
            "marker": {
             "colorbar": {
              "outlinewidth": 0,
              "ticks": ""
             }
            },
            "type": "scatterternary"
           }
          ],
          "surface": [
           {
            "colorbar": {
             "outlinewidth": 0,
             "ticks": ""
            },
            "colorscale": [
             [
              0,
              "#0d0887"
             ],
             [
              0.1111111111111111,
              "#46039f"
             ],
             [
              0.2222222222222222,
              "#7201a8"
             ],
             [
              0.3333333333333333,
              "#9c179e"
             ],
             [
              0.4444444444444444,
              "#bd3786"
             ],
             [
              0.5555555555555556,
              "#d8576b"
             ],
             [
              0.6666666666666666,
              "#ed7953"
             ],
             [
              0.7777777777777778,
              "#fb9f3a"
             ],
             [
              0.8888888888888888,
              "#fdca26"
             ],
             [
              1,
              "#f0f921"
             ]
            ],
            "type": "surface"
           }
          ],
          "table": [
           {
            "cells": {
             "fill": {
              "color": "#EBF0F8"
             },
             "line": {
              "color": "white"
             }
            },
            "header": {
             "fill": {
              "color": "#C8D4E3"
             },
             "line": {
              "color": "white"
             }
            },
            "type": "table"
           }
          ]
         },
         "layout": {
          "annotationdefaults": {
           "arrowcolor": "#2a3f5f",
           "arrowhead": 0,
           "arrowwidth": 1
          },
          "autotypenumbers": "strict",
          "coloraxis": {
           "colorbar": {
            "outlinewidth": 0,
            "ticks": ""
           }
          },
          "colorscale": {
           "diverging": [
            [
             0,
             "#8e0152"
            ],
            [
             0.1,
             "#c51b7d"
            ],
            [
             0.2,
             "#de77ae"
            ],
            [
             0.3,
             "#f1b6da"
            ],
            [
             0.4,
             "#fde0ef"
            ],
            [
             0.5,
             "#f7f7f7"
            ],
            [
             0.6,
             "#e6f5d0"
            ],
            [
             0.7,
             "#b8e186"
            ],
            [
             0.8,
             "#7fbc41"
            ],
            [
             0.9,
             "#4d9221"
            ],
            [
             1,
             "#276419"
            ]
           ],
           "sequential": [
            [
             0,
             "#0d0887"
            ],
            [
             0.1111111111111111,
             "#46039f"
            ],
            [
             0.2222222222222222,
             "#7201a8"
            ],
            [
             0.3333333333333333,
             "#9c179e"
            ],
            [
             0.4444444444444444,
             "#bd3786"
            ],
            [
             0.5555555555555556,
             "#d8576b"
            ],
            [
             0.6666666666666666,
             "#ed7953"
            ],
            [
             0.7777777777777778,
             "#fb9f3a"
            ],
            [
             0.8888888888888888,
             "#fdca26"
            ],
            [
             1,
             "#f0f921"
            ]
           ],
           "sequentialminus": [
            [
             0,
             "#0d0887"
            ],
            [
             0.1111111111111111,
             "#46039f"
            ],
            [
             0.2222222222222222,
             "#7201a8"
            ],
            [
             0.3333333333333333,
             "#9c179e"
            ],
            [
             0.4444444444444444,
             "#bd3786"
            ],
            [
             0.5555555555555556,
             "#d8576b"
            ],
            [
             0.6666666666666666,
             "#ed7953"
            ],
            [
             0.7777777777777778,
             "#fb9f3a"
            ],
            [
             0.8888888888888888,
             "#fdca26"
            ],
            [
             1,
             "#f0f921"
            ]
           ]
          },
          "colorway": [
           "#636efa",
           "#EF553B",
           "#00cc96",
           "#ab63fa",
           "#FFA15A",
           "#19d3f3",
           "#FF6692",
           "#B6E880",
           "#FF97FF",
           "#FECB52"
          ],
          "font": {
           "color": "#2a3f5f"
          },
          "geo": {
           "bgcolor": "white",
           "lakecolor": "white",
           "landcolor": "white",
           "showlakes": true,
           "showland": true,
           "subunitcolor": "#C8D4E3"
          },
          "hoverlabel": {
           "align": "left"
          },
          "hovermode": "closest",
          "mapbox": {
           "style": "light"
          },
          "paper_bgcolor": "white",
          "plot_bgcolor": "white",
          "polar": {
           "angularaxis": {
            "gridcolor": "#EBF0F8",
            "linecolor": "#EBF0F8",
            "ticks": ""
           },
           "bgcolor": "white",
           "radialaxis": {
            "gridcolor": "#EBF0F8",
            "linecolor": "#EBF0F8",
            "ticks": ""
           }
          },
          "scene": {
           "xaxis": {
            "backgroundcolor": "white",
            "gridcolor": "#DFE8F3",
            "gridwidth": 2,
            "linecolor": "#EBF0F8",
            "showbackground": true,
            "ticks": "",
            "zerolinecolor": "#EBF0F8"
           },
           "yaxis": {
            "backgroundcolor": "white",
            "gridcolor": "#DFE8F3",
            "gridwidth": 2,
            "linecolor": "#EBF0F8",
            "showbackground": true,
            "ticks": "",
            "zerolinecolor": "#EBF0F8"
           },
           "zaxis": {
            "backgroundcolor": "white",
            "gridcolor": "#DFE8F3",
            "gridwidth": 2,
            "linecolor": "#EBF0F8",
            "showbackground": true,
            "ticks": "",
            "zerolinecolor": "#EBF0F8"
           }
          },
          "shapedefaults": {
           "line": {
            "color": "#2a3f5f"
           }
          },
          "ternary": {
           "aaxis": {
            "gridcolor": "#DFE8F3",
            "linecolor": "#A2B1C6",
            "ticks": ""
           },
           "baxis": {
            "gridcolor": "#DFE8F3",
            "linecolor": "#A2B1C6",
            "ticks": ""
           },
           "bgcolor": "white",
           "caxis": {
            "gridcolor": "#DFE8F3",
            "linecolor": "#A2B1C6",
            "ticks": ""
           }
          },
          "title": {
           "x": 0.05
          },
          "xaxis": {
           "automargin": true,
           "gridcolor": "#EBF0F8",
           "linecolor": "#EBF0F8",
           "ticks": "",
           "title": {
            "standoff": 15
           },
           "zerolinecolor": "#EBF0F8",
           "zerolinewidth": 2
          },
          "yaxis": {
           "automargin": true,
           "gridcolor": "#EBF0F8",
           "linecolor": "#EBF0F8",
           "ticks": "",
           "title": {
            "standoff": 15
           },
           "zerolinecolor": "#EBF0F8",
           "zerolinewidth": 2
          }
         }
        },
        "title": {
         "text": "Top Highest-Rated Production Companies"
        },
        "xaxis": {
         "tickangle": 90,
         "title": {
          "text": "Production Company"
         }
        },
        "yaxis": {
         "range": [
          5,
          10
         ],
         "tickvals": [
          5,
          7,
          9,
          10
         ],
         "title": {
          "text": "Average Rating"
         }
        }
       }
      }
     },
     "metadata": {},
     "output_type": "display_data"
    }
   ],
   "source": [
    "query = \"\"\"\n",
    "SELECT pc.production_company, AVG(im.rating) AS avg_rating\n",
    "FROM imdb_movies im\n",
    "JOIN production_companies pc ON im.movie_id = pc.movie_id\n",
    "WHERE im.rating IS NOT NULL\n",
    "GROUP BY pc.production_company\n",
    "ORDER BY avg_rating DESC\n",
    "LIMIT 20;\n",
    "\"\"\"\n",
    "df = pd.read_sql_query(query, conn)\n",
    "\n",
    "df = df.sort_values(by=\"avg_rating\", ascending=False)\n",
    "\n",
    "fig = go.Figure()\n",
    "\n",
    "fig.add_trace(go.Scatter(\n",
    "    x=df[\"production_company\"], \n",
    "    y=df[\"avg_rating\"], \n",
    "    mode=\"lines\", \n",
    "    line=dict(color=\"skyblue\", width=2),\n",
    "    hoverinfo=\"x+y+text\",\n",
    "    text=[\"Average Rating: \" + str(rating) for rating in df[\"avg_rating\"]]\n",
    "))\n",
    "\n",
    "fig.add_trace(go.Scatter(\n",
    "    x=df[\"production_company\"], \n",
    "    y=df[\"avg_rating\"], \n",
    "    mode=\"markers\", \n",
    "    marker=dict(color=\"red\", size=10),\n",
    "    hoverinfo=\"x+y+text\",\n",
    "    text=[\"Average Rating: \" + str(rating) for rating in df[\"avg_rating\"]]\n",
    "))\n",
    "\n",
    "fig.update_layout(\n",
    "    title=\"Top Highest-Rated Production Companies\",\n",
    "    xaxis_title=\"Production Company\",\n",
    "    yaxis_title=\"Average Rating\",\n",
    "    yaxis=dict(range=[5, 10], tickvals=[5, 7, 9, 10]),\n",
    "    xaxis_tickangle=90,\n",
    "    template=\"plotly_white\",\n",
    "    hovermode=\"closest\",\n",
    "    height=800,\n",
    ")\n",
    "\n",
    "fig.show()"
   ]
  },
  {
   "cell_type": "markdown",
   "metadata": {},
   "source": [
    "# 💰 Biggest Spenders on **Movie Production 🎬** "
   ]
  },
  {
   "cell_type": "code",
   "execution_count": 12,
   "metadata": {},
   "outputs": [
    {
     "data": {
      "text/html": [
       "   <div id=\"Zqqmi0\"></div>\n",
       "   <script type=\"text/javascript\" data-lets-plot-script=\"plot\">\n",
       "   \n",
       "   (function() {\n",
       "   // ----------\n",
       "   \n",
       "   var containerDiv = document.getElementById(\"Zqqmi0\");\n",
       "   var observer = new ResizeObserver(function(entries) {\n",
       "       for (let entry of entries) {\n",
       "           var width = containerDiv.clientWidth\n",
       "           if (entry.contentBoxSize && width > 0) {\n",
       "           \n",
       "               // Render plot\n",
       "               if (observer) {\n",
       "                   observer.disconnect();\n",
       "                   observer = null;\n",
       "               }\n",
       "\n",
       "               var plotSpec={\n",
       "\"data\":{\n",
       "\"production_company\":[\"Fairview Entertainment\",\"Castle Rock Entertainment\",\"Pascal Pictures\",\"Hasbro\",\"Jerry Bruckheimer Films\",\"Metro-Goldwyn-Mayer (MGM)\",\"Columbia Pictures\",\"Bad Robot\",\"Dreamworks Pictures\",\"Amblin Entertainment\",\"WingNut Films\",\"New Line Cinema\",\"Universal Pictures\",\"Lucasfilm\",\"Legendary Entertainment\",\"Pixar Animation Studios\",\"Paramount Pictures\",\"Warner Bros.\",\"Walt Disney Pictures\",\"Marvel Studios\"],\n",
       "\"total_budget\":[435.0,446.0,535.0,545.0,595.0,655.0,790.0,837.0,885.0,935.5,936.0,1146.0,1196.5,1276.0,1385.0,1559.0,2087.0,2202.8,2679.0,3446.9]\n",
       "},\n",
       "\"mapping\":{\n",
       "\"x\":\"total_budget\",\n",
       "\"y\":\"production_company\",\n",
       "\"fill\":\"total_budget\"\n",
       "},\n",
       "\"data_meta\":{\n",
       "\"series_annotations\":[{\n",
       "\"type\":\"str\",\n",
       "\"column\":\"production_company\"\n",
       "},{\n",
       "\"type\":\"float\",\n",
       "\"column\":\"total_budget\"\n",
       "}]\n",
       "},\n",
       "\"ggtitle\":{\n",
       "\"text\":\"Biggest Spenders on Movie Production\"\n",
       "},\n",
       "\"guides\":{\n",
       "\"x\":{\n",
       "\"title\":\"Total Budget (in Million $)\"\n",
       "},\n",
       "\"y\":{\n",
       "\"title\":\"Production Company\"\n",
       "}\n",
       "},\n",
       "\"theme\":{\n",
       "\"name\":\"minimal\"\n",
       "},\n",
       "\"ggsize\":{\n",
       "\"width\":1200.0,\n",
       "\"height\":800.0\n",
       "},\n",
       "\"kind\":\"plot\",\n",
       "\"scales\":[{\n",
       "\"aesthetic\":\"fill\",\n",
       "\"low\":\"lightblue\",\n",
       "\"high\":\"darkblue\",\n",
       "\"scale_mapper_kind\":\"color_gradient\"\n",
       "}],\n",
       "\"layers\":[{\n",
       "\"geom\":\"bar\",\n",
       "\"stat\":\"identity\",\n",
       "\"mapping\":{\n",
       "},\n",
       "\"show_legend\":false,\n",
       "\"data_meta\":{\n",
       "},\n",
       "\"orientation\":\"y\",\n",
       "\"data\":{\n",
       "}\n",
       "}],\n",
       "\"metainfo_list\":[],\n",
       "\"spec_id\":\"2\"\n",
       "};\n",
       "               window.letsPlotCall(function() {\n",
       "       \n",
       "               var toolbar = null;\n",
       "               var plotContainer = containerDiv;               \n",
       "               \n",
       "                   var options = {\n",
       "                       sizing: {\n",
       "                           width_mode: \"min\",\n",
       "                           height_mode: \"scaled\",\n",
       "                           width: width\n",
       "                       }\n",
       "                   };\n",
       "                   var fig = LetsPlot.buildPlotFromProcessedSpecs(plotSpec, -1, -1, plotContainer, options);\n",
       "                   if (toolbar) {\n",
       "                     toolbar.bind(fig);\n",
       "                   }\n",
       "               });\n",
       "               \n",
       "               break;\n",
       "           }\n",
       "       }\n",
       "   });\n",
       "   \n",
       "   observer.observe(containerDiv);\n",
       "   \n",
       "   // ----------\n",
       "   })();\n",
       "   \n",
       "   </script>"
      ]
     },
     "metadata": {},
     "output_type": "display_data"
    }
   ],
   "source": [
    "query = \"\"\"\n",
    "SELECT pc.production_company, \n",
    "       SUM(im.budget) AS total_budget\n",
    "FROM imdb_movies im\n",
    "JOIN production_companies pc ON im.movie_id = pc.movie_id\n",
    "WHERE im.budget IS NOT NULL \n",
    "AND pc.production_company IS NOT NULL  \n",
    "AND pc.production_company != ''  \n",
    "AND LOWER(pc.production_company) != 'none'  -- Exclude string \"None\"\n",
    "GROUP BY pc.production_company\n",
    "ORDER BY total_budget DESC\n",
    "LIMIT 20;\n",
    "\"\"\"\n",
    "df = pd.read_sql_query(query, conn)\n",
    "\n",
    "df = df.sort_values(by=\"total_budget\", ascending=True)\n",
    "\n",
    "p = ggplot(df, aes(x=\"total_budget\", y=\"production_company\", fill=\"total_budget\")) + \\\n",
    "    geom_bar(stat=\"identity\", show_legend=False) + \\\n",
    "    labs(title=\"Biggest Spenders on Movie Production\", \n",
    "         x=\"Total Budget (in Million $)\", \n",
    "         y=\"Production Company\") + \\\n",
    "    scale_fill_gradient(low=\"lightblue\", high=\"darkblue\") + \\\n",
    "    theme_minimal() + \\\n",
    "    ggsize(1200, 800)\n",
    "\n",
    "p.show()"
   ]
  },
  {
   "cell_type": "markdown",
   "metadata": {},
   "source": [
    "# 💰 **Top-Grossing Production Companies 🎬**  "
   ]
  },
  {
   "cell_type": "code",
   "execution_count": 13,
   "metadata": {},
   "outputs": [
    {
     "data": {
      "application/vnd.plotly.v1+json": {
       "config": {
        "plotlyServerURL": "https://plot.ly"
       },
       "data": [
        {
         "line": {
          "color": "skyblue",
          "width": 2
         },
         "mode": "lines",
         "showlegend": true,
         "type": "scatter",
         "x": [
          2789.54,
          2938.44,
          3100.0300000000007,
          3177.0299999999997,
          3315.5,
          3966.4,
          4482.74,
          4606.48,
          4731.9,
          5903.120000000001,
          7221.590000000001,
          7579.77,
          7622.139999999999,
          8213.380000000001,
          9228.11,
          11328.52,
          11907.019999999999,
          12603.910000000002,
          16787.37,
          19854.11
         ],
         "y": [
          "Heyday Films",
          "Metro-Goldwyn-Mayer (MGM)",
          "Jerry Bruckheimer Films",
          "Illumination Entertainment",
          "Twentieth Century Fox",
          "Pascal Pictures",
          "Bad Robot",
          "Dreamworks Pictures",
          "Columbia Pictures",
          "WingNut Films",
          "Legendary Entertainment",
          "Amblin Entertainment",
          "New Line Cinema",
          "Lucasfilm",
          "Pixar Animation Studios",
          "Universal Pictures",
          "Warner Bros.",
          "Paramount Pictures",
          "Walt Disney Pictures",
          "Marvel Studios"
         ]
        },
        {
         "marker": {
          "color": "red",
          "size": 10
         },
         "mode": "markers",
         "name": "Total Gross",
         "type": "scatter",
         "x": [
          2789.54,
          2938.44,
          3100.0300000000007,
          3177.0299999999997,
          3315.5,
          3966.4,
          4482.74,
          4606.48,
          4731.9,
          5903.120000000001,
          7221.590000000001,
          7579.77,
          7622.139999999999,
          8213.380000000001,
          9228.11,
          11328.52,
          11907.019999999999,
          12603.910000000002,
          16787.37,
          19854.11
         ],
         "y": [
          "Heyday Films",
          "Metro-Goldwyn-Mayer (MGM)",
          "Jerry Bruckheimer Films",
          "Illumination Entertainment",
          "Twentieth Century Fox",
          "Pascal Pictures",
          "Bad Robot",
          "Dreamworks Pictures",
          "Columbia Pictures",
          "WingNut Films",
          "Legendary Entertainment",
          "Amblin Entertainment",
          "New Line Cinema",
          "Lucasfilm",
          "Pixar Animation Studios",
          "Universal Pictures",
          "Warner Bros.",
          "Paramount Pictures",
          "Walt Disney Pictures",
          "Marvel Studios"
         ]
        }
       ],
       "layout": {
        "height": 800,
        "template": {
         "data": {
          "bar": [
           {
            "error_x": {
             "color": "#2a3f5f"
            },
            "error_y": {
             "color": "#2a3f5f"
            },
            "marker": {
             "line": {
              "color": "white",
              "width": 0.5
             },
             "pattern": {
              "fillmode": "overlay",
              "size": 10,
              "solidity": 0.2
             }
            },
            "type": "bar"
           }
          ],
          "barpolar": [
           {
            "marker": {
             "line": {
              "color": "white",
              "width": 0.5
             },
             "pattern": {
              "fillmode": "overlay",
              "size": 10,
              "solidity": 0.2
             }
            },
            "type": "barpolar"
           }
          ],
          "carpet": [
           {
            "aaxis": {
             "endlinecolor": "#2a3f5f",
             "gridcolor": "#C8D4E3",
             "linecolor": "#C8D4E3",
             "minorgridcolor": "#C8D4E3",
             "startlinecolor": "#2a3f5f"
            },
            "baxis": {
             "endlinecolor": "#2a3f5f",
             "gridcolor": "#C8D4E3",
             "linecolor": "#C8D4E3",
             "minorgridcolor": "#C8D4E3",
             "startlinecolor": "#2a3f5f"
            },
            "type": "carpet"
           }
          ],
          "choropleth": [
           {
            "colorbar": {
             "outlinewidth": 0,
             "ticks": ""
            },
            "type": "choropleth"
           }
          ],
          "contour": [
           {
            "colorbar": {
             "outlinewidth": 0,
             "ticks": ""
            },
            "colorscale": [
             [
              0,
              "#0d0887"
             ],
             [
              0.1111111111111111,
              "#46039f"
             ],
             [
              0.2222222222222222,
              "#7201a8"
             ],
             [
              0.3333333333333333,
              "#9c179e"
             ],
             [
              0.4444444444444444,
              "#bd3786"
             ],
             [
              0.5555555555555556,
              "#d8576b"
             ],
             [
              0.6666666666666666,
              "#ed7953"
             ],
             [
              0.7777777777777778,
              "#fb9f3a"
             ],
             [
              0.8888888888888888,
              "#fdca26"
             ],
             [
              1,
              "#f0f921"
             ]
            ],
            "type": "contour"
           }
          ],
          "contourcarpet": [
           {
            "colorbar": {
             "outlinewidth": 0,
             "ticks": ""
            },
            "type": "contourcarpet"
           }
          ],
          "heatmap": [
           {
            "colorbar": {
             "outlinewidth": 0,
             "ticks": ""
            },
            "colorscale": [
             [
              0,
              "#0d0887"
             ],
             [
              0.1111111111111111,
              "#46039f"
             ],
             [
              0.2222222222222222,
              "#7201a8"
             ],
             [
              0.3333333333333333,
              "#9c179e"
             ],
             [
              0.4444444444444444,
              "#bd3786"
             ],
             [
              0.5555555555555556,
              "#d8576b"
             ],
             [
              0.6666666666666666,
              "#ed7953"
             ],
             [
              0.7777777777777778,
              "#fb9f3a"
             ],
             [
              0.8888888888888888,
              "#fdca26"
             ],
             [
              1,
              "#f0f921"
             ]
            ],
            "type": "heatmap"
           }
          ],
          "heatmapgl": [
           {
            "colorbar": {
             "outlinewidth": 0,
             "ticks": ""
            },
            "colorscale": [
             [
              0,
              "#0d0887"
             ],
             [
              0.1111111111111111,
              "#46039f"
             ],
             [
              0.2222222222222222,
              "#7201a8"
             ],
             [
              0.3333333333333333,
              "#9c179e"
             ],
             [
              0.4444444444444444,
              "#bd3786"
             ],
             [
              0.5555555555555556,
              "#d8576b"
             ],
             [
              0.6666666666666666,
              "#ed7953"
             ],
             [
              0.7777777777777778,
              "#fb9f3a"
             ],
             [
              0.8888888888888888,
              "#fdca26"
             ],
             [
              1,
              "#f0f921"
             ]
            ],
            "type": "heatmapgl"
           }
          ],
          "histogram": [
           {
            "marker": {
             "pattern": {
              "fillmode": "overlay",
              "size": 10,
              "solidity": 0.2
             }
            },
            "type": "histogram"
           }
          ],
          "histogram2d": [
           {
            "colorbar": {
             "outlinewidth": 0,
             "ticks": ""
            },
            "colorscale": [
             [
              0,
              "#0d0887"
             ],
             [
              0.1111111111111111,
              "#46039f"
             ],
             [
              0.2222222222222222,
              "#7201a8"
             ],
             [
              0.3333333333333333,
              "#9c179e"
             ],
             [
              0.4444444444444444,
              "#bd3786"
             ],
             [
              0.5555555555555556,
              "#d8576b"
             ],
             [
              0.6666666666666666,
              "#ed7953"
             ],
             [
              0.7777777777777778,
              "#fb9f3a"
             ],
             [
              0.8888888888888888,
              "#fdca26"
             ],
             [
              1,
              "#f0f921"
             ]
            ],
            "type": "histogram2d"
           }
          ],
          "histogram2dcontour": [
           {
            "colorbar": {
             "outlinewidth": 0,
             "ticks": ""
            },
            "colorscale": [
             [
              0,
              "#0d0887"
             ],
             [
              0.1111111111111111,
              "#46039f"
             ],
             [
              0.2222222222222222,
              "#7201a8"
             ],
             [
              0.3333333333333333,
              "#9c179e"
             ],
             [
              0.4444444444444444,
              "#bd3786"
             ],
             [
              0.5555555555555556,
              "#d8576b"
             ],
             [
              0.6666666666666666,
              "#ed7953"
             ],
             [
              0.7777777777777778,
              "#fb9f3a"
             ],
             [
              0.8888888888888888,
              "#fdca26"
             ],
             [
              1,
              "#f0f921"
             ]
            ],
            "type": "histogram2dcontour"
           }
          ],
          "mesh3d": [
           {
            "colorbar": {
             "outlinewidth": 0,
             "ticks": ""
            },
            "type": "mesh3d"
           }
          ],
          "parcoords": [
           {
            "line": {
             "colorbar": {
              "outlinewidth": 0,
              "ticks": ""
             }
            },
            "type": "parcoords"
           }
          ],
          "pie": [
           {
            "automargin": true,
            "type": "pie"
           }
          ],
          "scatter": [
           {
            "fillpattern": {
             "fillmode": "overlay",
             "size": 10,
             "solidity": 0.2
            },
            "type": "scatter"
           }
          ],
          "scatter3d": [
           {
            "line": {
             "colorbar": {
              "outlinewidth": 0,
              "ticks": ""
             }
            },
            "marker": {
             "colorbar": {
              "outlinewidth": 0,
              "ticks": ""
             }
            },
            "type": "scatter3d"
           }
          ],
          "scattercarpet": [
           {
            "marker": {
             "colorbar": {
              "outlinewidth": 0,
              "ticks": ""
             }
            },
            "type": "scattercarpet"
           }
          ],
          "scattergeo": [
           {
            "marker": {
             "colorbar": {
              "outlinewidth": 0,
              "ticks": ""
             }
            },
            "type": "scattergeo"
           }
          ],
          "scattergl": [
           {
            "marker": {
             "colorbar": {
              "outlinewidth": 0,
              "ticks": ""
             }
            },
            "type": "scattergl"
           }
          ],
          "scattermapbox": [
           {
            "marker": {
             "colorbar": {
              "outlinewidth": 0,
              "ticks": ""
             }
            },
            "type": "scattermapbox"
           }
          ],
          "scatterpolar": [
           {
            "marker": {
             "colorbar": {
              "outlinewidth": 0,
              "ticks": ""
             }
            },
            "type": "scatterpolar"
           }
          ],
          "scatterpolargl": [
           {
            "marker": {
             "colorbar": {
              "outlinewidth": 0,
              "ticks": ""
             }
            },
            "type": "scatterpolargl"
           }
          ],
          "scatterternary": [
           {
            "marker": {
             "colorbar": {
              "outlinewidth": 0,
              "ticks": ""
             }
            },
            "type": "scatterternary"
           }
          ],
          "surface": [
           {
            "colorbar": {
             "outlinewidth": 0,
             "ticks": ""
            },
            "colorscale": [
             [
              0,
              "#0d0887"
             ],
             [
              0.1111111111111111,
              "#46039f"
             ],
             [
              0.2222222222222222,
              "#7201a8"
             ],
             [
              0.3333333333333333,
              "#9c179e"
             ],
             [
              0.4444444444444444,
              "#bd3786"
             ],
             [
              0.5555555555555556,
              "#d8576b"
             ],
             [
              0.6666666666666666,
              "#ed7953"
             ],
             [
              0.7777777777777778,
              "#fb9f3a"
             ],
             [
              0.8888888888888888,
              "#fdca26"
             ],
             [
              1,
              "#f0f921"
             ]
            ],
            "type": "surface"
           }
          ],
          "table": [
           {
            "cells": {
             "fill": {
              "color": "#EBF0F8"
             },
             "line": {
              "color": "white"
             }
            },
            "header": {
             "fill": {
              "color": "#C8D4E3"
             },
             "line": {
              "color": "white"
             }
            },
            "type": "table"
           }
          ]
         },
         "layout": {
          "annotationdefaults": {
           "arrowcolor": "#2a3f5f",
           "arrowhead": 0,
           "arrowwidth": 1
          },
          "autotypenumbers": "strict",
          "coloraxis": {
           "colorbar": {
            "outlinewidth": 0,
            "ticks": ""
           }
          },
          "colorscale": {
           "diverging": [
            [
             0,
             "#8e0152"
            ],
            [
             0.1,
             "#c51b7d"
            ],
            [
             0.2,
             "#de77ae"
            ],
            [
             0.3,
             "#f1b6da"
            ],
            [
             0.4,
             "#fde0ef"
            ],
            [
             0.5,
             "#f7f7f7"
            ],
            [
             0.6,
             "#e6f5d0"
            ],
            [
             0.7,
             "#b8e186"
            ],
            [
             0.8,
             "#7fbc41"
            ],
            [
             0.9,
             "#4d9221"
            ],
            [
             1,
             "#276419"
            ]
           ],
           "sequential": [
            [
             0,
             "#0d0887"
            ],
            [
             0.1111111111111111,
             "#46039f"
            ],
            [
             0.2222222222222222,
             "#7201a8"
            ],
            [
             0.3333333333333333,
             "#9c179e"
            ],
            [
             0.4444444444444444,
             "#bd3786"
            ],
            [
             0.5555555555555556,
             "#d8576b"
            ],
            [
             0.6666666666666666,
             "#ed7953"
            ],
            [
             0.7777777777777778,
             "#fb9f3a"
            ],
            [
             0.8888888888888888,
             "#fdca26"
            ],
            [
             1,
             "#f0f921"
            ]
           ],
           "sequentialminus": [
            [
             0,
             "#0d0887"
            ],
            [
             0.1111111111111111,
             "#46039f"
            ],
            [
             0.2222222222222222,
             "#7201a8"
            ],
            [
             0.3333333333333333,
             "#9c179e"
            ],
            [
             0.4444444444444444,
             "#bd3786"
            ],
            [
             0.5555555555555556,
             "#d8576b"
            ],
            [
             0.6666666666666666,
             "#ed7953"
            ],
            [
             0.7777777777777778,
             "#fb9f3a"
            ],
            [
             0.8888888888888888,
             "#fdca26"
            ],
            [
             1,
             "#f0f921"
            ]
           ]
          },
          "colorway": [
           "#636efa",
           "#EF553B",
           "#00cc96",
           "#ab63fa",
           "#FFA15A",
           "#19d3f3",
           "#FF6692",
           "#B6E880",
           "#FF97FF",
           "#FECB52"
          ],
          "font": {
           "color": "#2a3f5f"
          },
          "geo": {
           "bgcolor": "white",
           "lakecolor": "white",
           "landcolor": "white",
           "showlakes": true,
           "showland": true,
           "subunitcolor": "#C8D4E3"
          },
          "hoverlabel": {
           "align": "left"
          },
          "hovermode": "closest",
          "mapbox": {
           "style": "light"
          },
          "paper_bgcolor": "white",
          "plot_bgcolor": "white",
          "polar": {
           "angularaxis": {
            "gridcolor": "#EBF0F8",
            "linecolor": "#EBF0F8",
            "ticks": ""
           },
           "bgcolor": "white",
           "radialaxis": {
            "gridcolor": "#EBF0F8",
            "linecolor": "#EBF0F8",
            "ticks": ""
           }
          },
          "scene": {
           "xaxis": {
            "backgroundcolor": "white",
            "gridcolor": "#DFE8F3",
            "gridwidth": 2,
            "linecolor": "#EBF0F8",
            "showbackground": true,
            "ticks": "",
            "zerolinecolor": "#EBF0F8"
           },
           "yaxis": {
            "backgroundcolor": "white",
            "gridcolor": "#DFE8F3",
            "gridwidth": 2,
            "linecolor": "#EBF0F8",
            "showbackground": true,
            "ticks": "",
            "zerolinecolor": "#EBF0F8"
           },
           "zaxis": {
            "backgroundcolor": "white",
            "gridcolor": "#DFE8F3",
            "gridwidth": 2,
            "linecolor": "#EBF0F8",
            "showbackground": true,
            "ticks": "",
            "zerolinecolor": "#EBF0F8"
           }
          },
          "shapedefaults": {
           "line": {
            "color": "#2a3f5f"
           }
          },
          "ternary": {
           "aaxis": {
            "gridcolor": "#DFE8F3",
            "linecolor": "#A2B1C6",
            "ticks": ""
           },
           "baxis": {
            "gridcolor": "#DFE8F3",
            "linecolor": "#A2B1C6",
            "ticks": ""
           },
           "bgcolor": "white",
           "caxis": {
            "gridcolor": "#DFE8F3",
            "linecolor": "#A2B1C6",
            "ticks": ""
           }
          },
          "title": {
           "x": 0.05
          },
          "xaxis": {
           "automargin": true,
           "gridcolor": "#EBF0F8",
           "linecolor": "#EBF0F8",
           "ticks": "",
           "title": {
            "standoff": 15
           },
           "zerolinecolor": "#EBF0F8",
           "zerolinewidth": 2
          },
          "yaxis": {
           "automargin": true,
           "gridcolor": "#EBF0F8",
           "linecolor": "#EBF0F8",
           "ticks": "",
           "title": {
            "standoff": 15
           },
           "zerolinecolor": "#EBF0F8",
           "zerolinewidth": 2
          }
         }
        },
        "title": {
         "text": "Top-Grossing Production Companies (Lollipop Chart)"
        },
        "width": 1200,
        "xaxis": {
         "title": {
          "text": "Total Gross Revenue (in Million $)"
         }
        },
        "yaxis": {
         "title": {
          "text": "Production Company"
         }
        }
       }
      }
     },
     "metadata": {},
     "output_type": "display_data"
    }
   ],
   "source": [
    "query = \"\"\"\n",
    "SELECT pc.production_company, \n",
    "       SUM(im.gross_in_million) AS total_gross\n",
    "FROM imdb_movies im\n",
    "JOIN production_companies pc ON im.movie_id = pc.movie_id\n",
    "WHERE im.gross_in_million IS NOT NULL  \n",
    "AND pc.production_company IS NOT NULL  \n",
    "AND pc.production_company != ''  \n",
    "AND LOWER(pc.production_company) != 'none'  -- Exclude string \"None\"\n",
    "GROUP BY pc.production_company\n",
    "ORDER BY total_gross DESC\n",
    "LIMIT 20;\n",
    "\"\"\"\n",
    "df = pd.read_sql_query(query, conn)\n",
    "\n",
    "df = df.sort_values(by=\"total_gross\", ascending=True)\n",
    "\n",
    "fig = go.Figure()\n",
    "\n",
    "fig.add_trace(go.Scatter(\n",
    "    x=df[\"total_gross\"],\n",
    "    y=df[\"production_company\"],\n",
    "    mode='lines',\n",
    "    line=dict(color='skyblue', width=2),\n",
    "    showlegend=True\n",
    "))\n",
    "\n",
    "fig.add_trace(go.Scatter(\n",
    "    x=df[\"total_gross\"],\n",
    "    y=df[\"production_company\"],\n",
    "    mode='markers',\n",
    "    marker=dict(color='red', size=10),\n",
    "    name='Total Gross'\n",
    "))\n",
    "\n",
    "fig.update_layout(\n",
    "    title=\"Top-Grossing Production Companies (Lollipop Chart)\",\n",
    "    xaxis_title=\"Total Gross Revenue (in Million $)\",\n",
    "    yaxis_title=\"Production Company\",\n",
    "    template=\"plotly_white\",\n",
    "    width=1200,\n",
    "    height=800\n",
    ")\n",
    "fig.show()"
   ]
  },
  {
   "cell_type": "markdown",
   "metadata": {},
   "source": [
    "# 📈 **Revenue Trends Over Time 💰**  \n"
   ]
  },
  {
   "cell_type": "code",
   "execution_count": 14,
   "metadata": {},
   "outputs": [
    {
     "data": {
      "application/vnd.plotly.v1+json": {
       "config": {
        "plotlyServerURL": "https://plot.ly"
       },
       "data": [
        {
         "hovertemplate": "<b>%{hovertext}</b><br><br>production_company=Castle Rock Entertainment<br>Year=%{x}<br>Total Revenue (Million $)=%{y}<br>movie_count=%{marker.size}<extra></extra>",
         "hovertext": [
          "Castle Rock Entertainment"
         ],
         "legendgroup": "Castle Rock Entertainment",
         "marker": {
          "color": "#636efa",
          "size": [
           1
          ],
          "sizemode": "area",
          "sizeref": 0.0003,
          "symbol": "circle"
         },
         "mode": "markers",
         "name": "Castle Rock Entertainment",
         "orientation": "v",
         "showlegend": true,
         "type": "scatter",
         "x": [
          2000
         ],
         "xaxis": "x",
         "y": [
          212.74
         ],
         "yaxis": "y"
        },
        {
         "hovertemplate": "<b>%{hovertext}</b><br><br>production_company=Dimension Films<br>Year=%{x}<br>Total Revenue (Million $)=%{y}<br>movie_count=%{marker.size}<extra></extra>",
         "hovertext": [
          "Dimension Films"
         ],
         "legendgroup": "Dimension Films",
         "marker": {
          "color": "#EF553B",
          "size": [
           1
          ],
          "sizemode": "area",
          "sizeref": 0.0003,
          "symbol": "circle"
         },
         "mode": "markers",
         "name": "Dimension Films",
         "orientation": "v",
         "showlegend": true,
         "type": "scatter",
         "x": [
          2000
         ],
         "xaxis": "x",
         "y": [
          278.02
         ],
         "yaxis": "y"
        },
        {
         "hovertemplate": "<b>%{hovertext}</b><br><br>production_company=Dreamworks Pictures<br>Year=%{x}<br>Total Revenue (Million $)=%{y}<br>movie_count=%{marker.size}<extra></extra>",
         "hovertext": [
          "Dreamworks Pictures"
         ],
         "legendgroup": "Dreamworks Pictures",
         "marker": {
          "color": "#00cc96",
          "size": [
           1
          ],
          "sizemode": "area",
          "sizeref": 0.0003,
          "symbol": "circle"
         },
         "mode": "markers",
         "name": "Dreamworks Pictures",
         "orientation": "v",
         "showlegend": true,
         "type": "scatter",
         "x": [
          2000
         ],
         "xaxis": "x",
         "y": [
          465.52
         ],
         "yaxis": "y"
        },
        {
         "hovertemplate": "<b>%{hovertext}</b><br><br>production_company=Gold/Miller Productions<br>Year=%{x}<br>Total Revenue (Million $)=%{y}<br>movie_count=%{marker.size}<extra></extra>",
         "hovertext": [
          "Gold/Miller Productions"
         ],
         "legendgroup": "Gold/Miller Productions",
         "marker": {
          "color": "#ab63fa",
          "size": [
           1
          ],
          "sizemode": "area",
          "sizeref": 0.0003,
          "symbol": "circle"
         },
         "mode": "markers",
         "name": "Gold/Miller Productions",
         "orientation": "v",
         "showlegend": true,
         "type": "scatter",
         "x": [
          2000
         ],
         "xaxis": "x",
         "y": [
          278.02
         ],
         "yaxis": "y"
        },
        {
         "hovertemplate": "<b>%{hovertext}</b><br><br>production_company=NPV Entertainment<br>Year=%{x}<br>Total Revenue (Million $)=%{y}<br>movie_count=%{marker.size}<extra></extra>",
         "hovertext": [
          "NPV Entertainment"
         ],
         "legendgroup": "NPV Entertainment",
         "marker": {
          "color": "#FFA15A",
          "size": [
           1
          ],
          "sizemode": "area",
          "sizeref": 0.0003,
          "symbol": "circle"
         },
         "mode": "markers",
         "name": "NPV Entertainment",
         "orientation": "v",
         "showlegend": true,
         "type": "scatter",
         "x": [
          2000
         ],
         "xaxis": "x",
         "y": [
          212.74
         ],
         "yaxis": "y"
        },
        {
         "hovertemplate": "<b>%{hovertext}</b><br><br>production_company=Scott Free Productions<br>Year=%{x}<br>Total Revenue (Million $)=%{y}<br>movie_count=%{marker.size}<extra></extra>",
         "hovertext": [
          "Scott Free Productions"
         ],
         "legendgroup": "Scott Free Productions",
         "marker": {
          "color": "#19d3f3",
          "size": [
           1
          ],
          "sizemode": "area",
          "sizeref": 0.0003,
          "symbol": "circle"
         },
         "mode": "markers",
         "name": "Scott Free Productions",
         "orientation": "v",
         "showlegend": true,
         "type": "scatter",
         "x": [
          2000
         ],
         "xaxis": "x",
         "y": [
          465.52
         ],
         "yaxis": "y"
        },
        {
         "hovertemplate": "<b>%{hovertext}</b><br><br>production_company=Universal Pictures<br>Year=%{x}<br>Total Revenue (Million $)=%{y}<br>movie_count=%{marker.size}<extra></extra>",
         "hovertext": [
          "Universal Pictures"
         ],
         "legendgroup": "Universal Pictures",
         "marker": {
          "color": "#FF6692",
          "size": [
           1
          ],
          "sizemode": "area",
          "sizeref": 0.0003,
          "symbol": "circle"
         },
         "mode": "markers",
         "name": "Universal Pictures",
         "orientation": "v",
         "showlegend": true,
         "type": "scatter",
         "x": [
          2000
         ],
         "xaxis": "x",
         "y": [
          465.52
         ],
         "yaxis": "y"
        },
        {
         "hovertemplate": "<b>%{hovertext}</b><br><br>production_company=Village Roadshow Pictures<br>Year=%{x}<br>Total Revenue (Million $)=%{y}<br>movie_count=%{marker.size}<extra></extra>",
         "hovertext": [
          "Village Roadshow Pictures"
         ],
         "legendgroup": "Village Roadshow Pictures",
         "marker": {
          "color": "#B6E880",
          "size": [
           1
          ],
          "sizemode": "area",
          "sizeref": 0.0003,
          "symbol": "circle"
         },
         "mode": "markers",
         "name": "Village Roadshow Pictures",
         "orientation": "v",
         "showlegend": true,
         "type": "scatter",
         "x": [
          2000
         ],
         "xaxis": "x",
         "y": [
          212.74
         ],
         "yaxis": "y"
        },
        {
         "hovertemplate": "<b>%{hovertext}</b><br><br>production_company=Wayans Bros. Entertainment<br>Year=%{x}<br>Total Revenue (Million $)=%{y}<br>movie_count=%{marker.size}<extra></extra>",
         "hovertext": [
          "Wayans Bros. Entertainment"
         ],
         "legendgroup": "Wayans Bros. Entertainment",
         "marker": {
          "color": "#FF97FF",
          "size": [
           1
          ],
          "sizemode": "area",
          "sizeref": 0.0003,
          "symbol": "circle"
         },
         "mode": "markers",
         "name": "Wayans Bros. Entertainment",
         "orientation": "v",
         "showlegend": true,
         "type": "scatter",
         "x": [
          2000
         ],
         "xaxis": "x",
         "y": [
          278.02
         ],
         "yaxis": "y"
        }
       ],
       "frames": [
        {
         "data": [
          {
           "hovertemplate": "<b>%{hovertext}</b><br><br>production_company=Castle Rock Entertainment<br>Year=%{x}<br>Total Revenue (Million $)=%{y}<br>movie_count=%{marker.size}<extra></extra>",
           "hovertext": [
            "Castle Rock Entertainment"
           ],
           "legendgroup": "Castle Rock Entertainment",
           "marker": {
            "color": "#636efa",
            "size": [
             1
            ],
            "sizemode": "area",
            "sizeref": 0.0003,
            "symbol": "circle"
           },
           "mode": "markers",
           "name": "Castle Rock Entertainment",
           "orientation": "v",
           "showlegend": true,
           "type": "scatter",
           "x": [
            2000
           ],
           "xaxis": "x",
           "y": [
            212.74
           ],
           "yaxis": "y"
          },
          {
           "hovertemplate": "<b>%{hovertext}</b><br><br>production_company=Dimension Films<br>Year=%{x}<br>Total Revenue (Million $)=%{y}<br>movie_count=%{marker.size}<extra></extra>",
           "hovertext": [
            "Dimension Films"
           ],
           "legendgroup": "Dimension Films",
           "marker": {
            "color": "#EF553B",
            "size": [
             1
            ],
            "sizemode": "area",
            "sizeref": 0.0003,
            "symbol": "circle"
           },
           "mode": "markers",
           "name": "Dimension Films",
           "orientation": "v",
           "showlegend": true,
           "type": "scatter",
           "x": [
            2000
           ],
           "xaxis": "x",
           "y": [
            278.02
           ],
           "yaxis": "y"
          },
          {
           "hovertemplate": "<b>%{hovertext}</b><br><br>production_company=Dreamworks Pictures<br>Year=%{x}<br>Total Revenue (Million $)=%{y}<br>movie_count=%{marker.size}<extra></extra>",
           "hovertext": [
            "Dreamworks Pictures"
           ],
           "legendgroup": "Dreamworks Pictures",
           "marker": {
            "color": "#00cc96",
            "size": [
             1
            ],
            "sizemode": "area",
            "sizeref": 0.0003,
            "symbol": "circle"
           },
           "mode": "markers",
           "name": "Dreamworks Pictures",
           "orientation": "v",
           "showlegend": true,
           "type": "scatter",
           "x": [
            2000
           ],
           "xaxis": "x",
           "y": [
            465.52
           ],
           "yaxis": "y"
          },
          {
           "hovertemplate": "<b>%{hovertext}</b><br><br>production_company=Gold/Miller Productions<br>Year=%{x}<br>Total Revenue (Million $)=%{y}<br>movie_count=%{marker.size}<extra></extra>",
           "hovertext": [
            "Gold/Miller Productions"
           ],
           "legendgroup": "Gold/Miller Productions",
           "marker": {
            "color": "#ab63fa",
            "size": [
             1
            ],
            "sizemode": "area",
            "sizeref": 0.0003,
            "symbol": "circle"
           },
           "mode": "markers",
           "name": "Gold/Miller Productions",
           "orientation": "v",
           "showlegend": true,
           "type": "scatter",
           "x": [
            2000
           ],
           "xaxis": "x",
           "y": [
            278.02
           ],
           "yaxis": "y"
          },
          {
           "hovertemplate": "<b>%{hovertext}</b><br><br>production_company=NPV Entertainment<br>Year=%{x}<br>Total Revenue (Million $)=%{y}<br>movie_count=%{marker.size}<extra></extra>",
           "hovertext": [
            "NPV Entertainment"
           ],
           "legendgroup": "NPV Entertainment",
           "marker": {
            "color": "#FFA15A",
            "size": [
             1
            ],
            "sizemode": "area",
            "sizeref": 0.0003,
            "symbol": "circle"
           },
           "mode": "markers",
           "name": "NPV Entertainment",
           "orientation": "v",
           "showlegend": true,
           "type": "scatter",
           "x": [
            2000
           ],
           "xaxis": "x",
           "y": [
            212.74
           ],
           "yaxis": "y"
          },
          {
           "hovertemplate": "<b>%{hovertext}</b><br><br>production_company=Scott Free Productions<br>Year=%{x}<br>Total Revenue (Million $)=%{y}<br>movie_count=%{marker.size}<extra></extra>",
           "hovertext": [
            "Scott Free Productions"
           ],
           "legendgroup": "Scott Free Productions",
           "marker": {
            "color": "#19d3f3",
            "size": [
             1
            ],
            "sizemode": "area",
            "sizeref": 0.0003,
            "symbol": "circle"
           },
           "mode": "markers",
           "name": "Scott Free Productions",
           "orientation": "v",
           "showlegend": true,
           "type": "scatter",
           "x": [
            2000
           ],
           "xaxis": "x",
           "y": [
            465.52
           ],
           "yaxis": "y"
          },
          {
           "hovertemplate": "<b>%{hovertext}</b><br><br>production_company=Universal Pictures<br>Year=%{x}<br>Total Revenue (Million $)=%{y}<br>movie_count=%{marker.size}<extra></extra>",
           "hovertext": [
            "Universal Pictures"
           ],
           "legendgroup": "Universal Pictures",
           "marker": {
            "color": "#FF6692",
            "size": [
             1
            ],
            "sizemode": "area",
            "sizeref": 0.0003,
            "symbol": "circle"
           },
           "mode": "markers",
           "name": "Universal Pictures",
           "orientation": "v",
           "showlegend": true,
           "type": "scatter",
           "x": [
            2000
           ],
           "xaxis": "x",
           "y": [
            465.52
           ],
           "yaxis": "y"
          },
          {
           "hovertemplate": "<b>%{hovertext}</b><br><br>production_company=Village Roadshow Pictures<br>Year=%{x}<br>Total Revenue (Million $)=%{y}<br>movie_count=%{marker.size}<extra></extra>",
           "hovertext": [
            "Village Roadshow Pictures"
           ],
           "legendgroup": "Village Roadshow Pictures",
           "marker": {
            "color": "#B6E880",
            "size": [
             1
            ],
            "sizemode": "area",
            "sizeref": 0.0003,
            "symbol": "circle"
           },
           "mode": "markers",
           "name": "Village Roadshow Pictures",
           "orientation": "v",
           "showlegend": true,
           "type": "scatter",
           "x": [
            2000
           ],
           "xaxis": "x",
           "y": [
            212.74
           ],
           "yaxis": "y"
          },
          {
           "hovertemplate": "<b>%{hovertext}</b><br><br>production_company=Wayans Bros. Entertainment<br>Year=%{x}<br>Total Revenue (Million $)=%{y}<br>movie_count=%{marker.size}<extra></extra>",
           "hovertext": [
            "Wayans Bros. Entertainment"
           ],
           "legendgroup": "Wayans Bros. Entertainment",
           "marker": {
            "color": "#FF97FF",
            "size": [
             1
            ],
            "sizemode": "area",
            "sizeref": 0.0003,
            "symbol": "circle"
           },
           "mode": "markers",
           "name": "Wayans Bros. Entertainment",
           "orientation": "v",
           "showlegend": true,
           "type": "scatter",
           "x": [
            2000
           ],
           "xaxis": "x",
           "y": [
            278.02
           ],
           "yaxis": "y"
          }
         ],
         "name": "2000"
        },
        {
         "data": [
          {
           "hovertemplate": "<b>%{hovertext}</b><br><br>production_company=Dreamworks Pictures<br>Year=%{x}<br>Total Revenue (Million $)=%{y}<br>movie_count=%{marker.size}<extra></extra>",
           "hovertext": [
            "Dreamworks Pictures"
           ],
           "legendgroup": "Dreamworks Pictures",
           "marker": {
            "color": "#00cc96",
            "size": [
             1
            ],
            "sizemode": "area",
            "sizeref": 0.0003,
            "symbol": "circle"
           },
           "mode": "markers",
           "name": "Dreamworks Pictures",
           "orientation": "v",
           "showlegend": true,
           "type": "scatter",
           "x": [
            2001
           ],
           "xaxis": "x",
           "y": [
            488.98
           ],
           "yaxis": "y"
          },
          {
           "hovertemplate": "<b>%{hovertext}</b><br><br>production_company=BBC Film<br>Year=%{x}<br>Total Revenue (Million $)=%{y}<br>movie_count=%{marker.size}<extra></extra>",
           "hovertext": [
            "BBC Film"
           ],
           "legendgroup": "BBC Film",
           "marker": {
            "color": "#FECB52",
            "size": [
             1
            ],
            "sizemode": "area",
            "sizeref": 0.0003,
            "symbol": "circle"
           },
           "mode": "markers",
           "name": "BBC Film",
           "orientation": "v",
           "showlegend": true,
           "type": "scatter",
           "x": [
            2001
           ],
           "xaxis": "x",
           "y": [
            274.7
           ],
           "yaxis": "y"
          },
          {
           "hovertemplate": "<b>%{hovertext}</b><br><br>production_company=DreamWorks Animation<br>Year=%{x}<br>Total Revenue (Million $)=%{y}<br>movie_count=%{marker.size}<extra></extra>",
           "hovertext": [
            "DreamWorks Animation"
           ],
           "legendgroup": "DreamWorks Animation",
           "marker": {
            "color": "#636efa",
            "size": [
             1
            ],
            "sizemode": "area",
            "sizeref": 0.0003,
            "symbol": "circle"
           },
           "mode": "markers",
           "name": "DreamWorks Animation",
           "orientation": "v",
           "showlegend": true,
           "type": "scatter",
           "x": [
            2001
           ],
           "xaxis": "x",
           "y": [
            488.98
           ],
           "yaxis": "y"
          },
          {
           "hovertemplate": "<b>%{hovertext}</b><br><br>production_company=Jerry Bruckheimer Films<br>Year=%{x}<br>Total Revenue (Million $)=%{y}<br>movie_count=%{marker.size}<extra></extra>",
           "hovertext": [
            "Jerry Bruckheimer Films"
           ],
           "legendgroup": "Jerry Bruckheimer Films",
           "marker": {
            "color": "#EF553B",
            "size": [
             1
            ],
            "sizemode": "area",
            "sizeref": 0.0003,
            "symbol": "circle"
           },
           "mode": "markers",
           "name": "Jerry Bruckheimer Films",
           "orientation": "v",
           "showlegend": true,
           "type": "scatter",
           "x": [
            2001
           ],
           "xaxis": "x",
           "y": [
            449.22
           ],
           "yaxis": "y"
          },
          {
           "hovertemplate": "<b>%{hovertext}</b><br><br>production_company=Marzano Films<br>Year=%{x}<br>Total Revenue (Million $)=%{y}<br>movie_count=%{marker.size}<extra></extra>",
           "hovertext": [
            "Marzano Films"
           ],
           "legendgroup": "Marzano Films",
           "marker": {
            "color": "#00cc96",
            "size": [
             1
            ],
            "sizemode": "area",
            "sizeref": 0.0003,
            "symbol": "circle"
           },
           "mode": "markers",
           "name": "Marzano Films",
           "orientation": "v",
           "showlegend": true,
           "type": "scatter",
           "x": [
            2001
           ],
           "xaxis": "x",
           "y": [
            888.17
           ],
           "yaxis": "y"
          },
          {
           "hovertemplate": "<b>%{hovertext}</b><br><br>production_company=Mutual Film Company<br>Year=%{x}<br>Total Revenue (Million $)=%{y}<br>movie_count=%{marker.size}<extra></extra>",
           "hovertext": [
            "Mutual Film Company"
           ],
           "legendgroup": "Mutual Film Company",
           "marker": {
            "color": "#ab63fa",
            "size": [
             1
            ],
            "sizemode": "area",
            "sizeref": 0.0003,
            "symbol": "circle"
           },
           "mode": "markers",
           "name": "Mutual Film Company",
           "orientation": "v",
           "showlegend": true,
           "type": "scatter",
           "x": [
            2001
           ],
           "xaxis": "x",
           "y": [
            274.7
           ],
           "yaxis": "y"
          },
          {
           "hovertemplate": "<b>%{hovertext}</b><br><br>production_company=New Line Cinema<br>Year=%{x}<br>Total Revenue (Million $)=%{y}<br>movie_count=%{marker.size}<extra></extra>",
           "hovertext": [
            "New Line Cinema"
           ],
           "legendgroup": "New Line Cinema",
           "marker": {
            "color": "#FFA15A",
            "size": [
             1
            ],
            "sizemode": "area",
            "sizeref": 0.0003,
            "symbol": "circle"
           },
           "mode": "markers",
           "name": "New Line Cinema",
           "orientation": "v",
           "showlegend": true,
           "type": "scatter",
           "x": [
            2001
           ],
           "xaxis": "x",
           "y": [
            888.17
           ],
           "yaxis": "y"
          },
          {
           "hovertemplate": "<b>%{hovertext}</b><br><br>production_company=Pacific Data Images (PDI)<br>Year=%{x}<br>Total Revenue (Million $)=%{y}<br>movie_count=%{marker.size}<extra></extra>",
           "hovertext": [
            "Pacific Data Images (PDI)"
           ],
           "legendgroup": "Pacific Data Images (PDI)",
           "marker": {
            "color": "#19d3f3",
            "size": [
             1
            ],
            "sizemode": "area",
            "sizeref": 0.0003,
            "symbol": "circle"
           },
           "mode": "markers",
           "name": "Pacific Data Images (PDI)",
           "orientation": "v",
           "showlegend": true,
           "type": "scatter",
           "x": [
            2001
           ],
           "xaxis": "x",
           "y": [
            488.98
           ],
           "yaxis": "y"
          },
          {
           "hovertemplate": "<b>%{hovertext}</b><br><br>production_company=Paramount Pictures<br>Year=%{x}<br>Total Revenue (Million $)=%{y}<br>movie_count=%{marker.size}<extra></extra>",
           "hovertext": [
            "Paramount Pictures"
           ],
           "legendgroup": "Paramount Pictures",
           "marker": {
            "color": "#FF6692",
            "size": [
             1
            ],
            "sizemode": "area",
            "sizeref": 0.0003,
            "symbol": "circle"
           },
           "mode": "markers",
           "name": "Paramount Pictures",
           "orientation": "v",
           "showlegend": true,
           "type": "scatter",
           "x": [
            2001
           ],
           "xaxis": "x",
           "y": [
            274.7
           ],
           "yaxis": "y"
          },
          {
           "hovertemplate": "<b>%{hovertext}</b><br><br>production_company=Pixar Animation Studios<br>Year=%{x}<br>Total Revenue (Million $)=%{y}<br>movie_count=%{marker.size}<extra></extra>",
           "hovertext": [
            "Pixar Animation Studios"
           ],
           "legendgroup": "Pixar Animation Studios",
           "marker": {
            "color": "#B6E880",
            "size": [
             1
            ],
            "sizemode": "area",
            "sizeref": 0.0003,
            "symbol": "circle"
           },
           "mode": "markers",
           "name": "Pixar Animation Studios",
           "orientation": "v",
           "showlegend": true,
           "type": "scatter",
           "x": [
            2001
           ],
           "xaxis": "x",
           "y": [
            579.77
           ],
           "yaxis": "y"
          },
          {
           "hovertemplate": "<b>%{hovertext}</b><br><br>production_company=Touchstone Pictures<br>Year=%{x}<br>Total Revenue (Million $)=%{y}<br>movie_count=%{marker.size}<extra></extra>",
           "hovertext": [
            "Touchstone Pictures"
           ],
           "legendgroup": "Touchstone Pictures",
           "marker": {
            "color": "#FF97FF",
            "size": [
             1
            ],
            "sizemode": "area",
            "sizeref": 0.0003,
            "symbol": "circle"
           },
           "mode": "markers",
           "name": "Touchstone Pictures",
           "orientation": "v",
           "showlegend": true,
           "type": "scatter",
           "x": [
            2001
           ],
           "xaxis": "x",
           "y": [
            449.22
           ],
           "yaxis": "y"
          },
          {
           "hovertemplate": "<b>%{hovertext}</b><br><br>production_company=Walt Disney Pictures<br>Year=%{x}<br>Total Revenue (Million $)=%{y}<br>movie_count=%{marker.size}<extra></extra>",
           "hovertext": [
            "Walt Disney Pictures"
           ],
           "legendgroup": "Walt Disney Pictures",
           "marker": {
            "color": "#FECB52",
            "size": [
             1
            ],
            "sizemode": "area",
            "sizeref": 0.0003,
            "symbol": "circle"
           },
           "mode": "markers",
           "name": "Walt Disney Pictures",
           "orientation": "v",
           "showlegend": true,
           "type": "scatter",
           "x": [
            2001
           ],
           "xaxis": "x",
           "y": [
            579.77
           ],
           "yaxis": "y"
          },
          {
           "hovertemplate": "<b>%{hovertext}</b><br><br>production_company=WingNut Films<br>Year=%{x}<br>Total Revenue (Million $)=%{y}<br>movie_count=%{marker.size}<extra></extra>",
           "hovertext": [
            "WingNut Films"
           ],
           "legendgroup": "WingNut Films",
           "marker": {
            "color": "#636efa",
            "size": [
             1
            ],
            "sizemode": "area",
            "sizeref": 0.0003,
            "symbol": "circle"
           },
           "mode": "markers",
           "name": "WingNut Films",
           "orientation": "v",
           "showlegend": true,
           "type": "scatter",
           "x": [
            2001
           ],
           "xaxis": "x",
           "y": [
            888.17
           ],
           "yaxis": "y"
          }
         ],
         "name": "2001"
        },
        {
         "data": [
          {
           "hovertemplate": "<b>%{hovertext}</b><br><br>production_company=Castle Rock Entertainment<br>Year=%{x}<br>Total Revenue (Million $)=%{y}<br>movie_count=%{marker.size}<extra></extra>",
           "hovertext": [
            "Castle Rock Entertainment"
           ],
           "legendgroup": "Castle Rock Entertainment",
           "marker": {
            "color": "#636efa",
            "size": [
             1
            ],
            "sizemode": "area",
            "sizeref": 0.0003,
            "symbol": "circle"
           },
           "mode": "markers",
           "name": "Castle Rock Entertainment",
           "orientation": "v",
           "showlegend": true,
           "type": "scatter",
           "x": [
            2002
           ],
           "xaxis": "x",
           "y": [
            199.04
           ],
           "yaxis": "y"
          },
          {
           "hovertemplate": "<b>%{hovertext}</b><br><br>production_company=NPV Entertainment<br>Year=%{x}<br>Total Revenue (Million $)=%{y}<br>movie_count=%{marker.size}<extra></extra>",
           "hovertext": [
            "NPV Entertainment"
           ],
           "legendgroup": "NPV Entertainment",
           "marker": {
            "color": "#FFA15A",
            "size": [
             1
            ],
            "sizemode": "area",
            "sizeref": 0.0003,
            "symbol": "circle"
           },
           "mode": "markers",
           "name": "NPV Entertainment",
           "orientation": "v",
           "showlegend": true,
           "type": "scatter",
           "x": [
            2002
           ],
           "xaxis": "x",
           "y": [
            199.04
           ],
           "yaxis": "y"
          },
          {
           "hovertemplate": "<b>%{hovertext}</b><br><br>production_company=Village Roadshow Pictures<br>Year=%{x}<br>Total Revenue (Million $)=%{y}<br>movie_count=%{marker.size}<extra></extra>",
           "hovertext": [
            "Village Roadshow Pictures"
           ],
           "legendgroup": "Village Roadshow Pictures",
           "marker": {
            "color": "#B6E880",
            "size": [
             1
            ],
            "sizemode": "area",
            "sizeref": 0.0003,
            "symbol": "circle"
           },
           "mode": "markers",
           "name": "Village Roadshow Pictures",
           "orientation": "v",
           "showlegend": true,
           "type": "scatter",
           "x": [
            2002
           ],
           "xaxis": "x",
           "y": [
            199.04
           ],
           "yaxis": "y"
          },
          {
           "hovertemplate": "<b>%{hovertext}</b><br><br>production_company=New Line Cinema<br>Year=%{x}<br>Total Revenue (Million $)=%{y}<br>movie_count=%{marker.size}<extra></extra>",
           "hovertext": [
            "New Line Cinema"
           ],
           "legendgroup": "New Line Cinema",
           "marker": {
            "color": "#FFA15A",
            "size": [
             2
            ],
            "sizemode": "area",
            "sizeref": 0.0003,
            "symbol": "circle"
           },
           "mode": "markers",
           "name": "New Line Cinema",
           "orientation": "v",
           "showlegend": true,
           "type": "scatter",
           "x": [
            2002
           ],
           "xaxis": "x",
           "y": [
            1235.18
           ],
           "yaxis": "y"
          },
          {
           "hovertemplate": "<b>%{hovertext}</b><br><br>production_company=Touchstone Pictures<br>Year=%{x}<br>Total Revenue (Million $)=%{y}<br>movie_count=%{marker.size}<extra></extra>",
           "hovertext": [
            "Touchstone Pictures"
           ],
           "legendgroup": "Touchstone Pictures",
           "marker": {
            "color": "#FF97FF",
            "size": [
             1
            ],
            "sizemode": "area",
            "sizeref": 0.0003,
            "symbol": "circle"
           },
           "mode": "markers",
           "name": "Touchstone Pictures",
           "orientation": "v",
           "showlegend": true,
           "type": "scatter",
           "x": [
            2002
           ],
           "xaxis": "x",
           "y": [
            408.25
           ],
           "yaxis": "y"
          },
          {
           "hovertemplate": "<b>%{hovertext}</b><br><br>production_company=WingNut Films<br>Year=%{x}<br>Total Revenue (Million $)=%{y}<br>movie_count=%{marker.size}<extra></extra>",
           "hovertext": [
            "WingNut Films"
           ],
           "legendgroup": "WingNut Films",
           "marker": {
            "color": "#636efa",
            "size": [
             1
            ],
            "sizemode": "area",
            "sizeref": 0.0003,
            "symbol": "circle"
           },
           "mode": "markers",
           "name": "WingNut Films",
           "orientation": "v",
           "showlegend": true,
           "type": "scatter",
           "x": [
            2002
           ],
           "xaxis": "x",
           "y": [
            938.24
           ],
           "yaxis": "y"
          },
          {
           "hovertemplate": "<b>%{hovertext}</b><br><br>production_company=Blinding Edge Pictures<br>Year=%{x}<br>Total Revenue (Million $)=%{y}<br>movie_count=%{marker.size}<extra></extra>",
           "hovertext": [
            "Blinding Edge Pictures"
           ],
           "legendgroup": "Blinding Edge Pictures",
           "marker": {
            "color": "#EF553B",
            "size": [
             1
            ],
            "sizemode": "area",
            "sizeref": 0.0003,
            "symbol": "circle"
           },
           "mode": "markers",
           "name": "Blinding Edge Pictures",
           "orientation": "v",
           "showlegend": true,
           "type": "scatter",
           "x": [
            2002
           ],
           "xaxis": "x",
           "y": [
            408.25
           ],
           "yaxis": "y"
          },
          {
           "hovertemplate": "<b>%{hovertext}</b><br><br>production_company=Gratitude International<br>Year=%{x}<br>Total Revenue (Million $)=%{y}<br>movie_count=%{marker.size}<extra></extra>",
           "hovertext": [
            "Gratitude International"
           ],
           "legendgroup": "Gratitude International",
           "marker": {
            "color": "#00cc96",
            "size": [
             1
            ],
            "sizemode": "area",
            "sizeref": 0.0003,
            "symbol": "circle"
           },
           "mode": "markers",
           "name": "Gratitude International",
           "orientation": "v",
           "showlegend": true,
           "type": "scatter",
           "x": [
            2002
           ],
           "xaxis": "x",
           "y": [
            296.94
           ],
           "yaxis": "y"
          },
          {
           "hovertemplate": "<b>%{hovertext}</b><br><br>production_company=Miramax<br>Year=%{x}<br>Total Revenue (Million $)=%{y}<br>movie_count=%{marker.size}<extra></extra>",
           "hovertext": [
            "Miramax"
           ],
           "legendgroup": "Miramax",
           "marker": {
            "color": "#ab63fa",
            "size": [
             1
            ],
            "sizemode": "area",
            "sizeref": 0.0003,
            "symbol": "circle"
           },
           "mode": "markers",
           "name": "Miramax",
           "orientation": "v",
           "showlegend": true,
           "type": "scatter",
           "x": [
            2002
           ],
           "xaxis": "x",
           "y": [
            306.78
           ],
           "yaxis": "y"
          },
          {
           "hovertemplate": "<b>%{hovertext}</b><br><br>production_company=Producers Circle<br>Year=%{x}<br>Total Revenue (Million $)=%{y}<br>movie_count=%{marker.size}<extra></extra>",
           "hovertext": [
            "Producers Circle"
           ],
           "legendgroup": "Producers Circle",
           "marker": {
            "color": "#FFA15A",
            "size": [
             1
            ],
            "sizemode": "area",
            "sizeref": 0.0003,
            "symbol": "circle"
           },
           "mode": "markers",
           "name": "Producers Circle",
           "orientation": "v",
           "showlegend": true,
           "type": "scatter",
           "x": [
            2002
           ],
           "xaxis": "x",
           "y": [
            306.78
           ],
           "yaxis": "y"
          },
          {
           "hovertemplate": "<b>%{hovertext}</b><br><br>production_company=Storyline Entertainment<br>Year=%{x}<br>Total Revenue (Million $)=%{y}<br>movie_count=%{marker.size}<extra></extra>",
           "hovertext": [
            "Storyline Entertainment"
           ],
           "legendgroup": "Storyline Entertainment",
           "marker": {
            "color": "#19d3f3",
            "size": [
             1
            ],
            "sizemode": "area",
            "sizeref": 0.0003,
            "symbol": "circle"
           },
           "mode": "markers",
           "name": "Storyline Entertainment",
           "orientation": "v",
           "showlegend": true,
           "type": "scatter",
           "x": [
            2002
           ],
           "xaxis": "x",
           "y": [
            306.78
           ],
           "yaxis": "y"
          },
          {
           "hovertemplate": "<b>%{hovertext}</b><br><br>production_company=Team Todd<br>Year=%{x}<br>Total Revenue (Million $)=%{y}<br>movie_count=%{marker.size}<extra></extra>",
           "hovertext": [
            "Team Todd"
           ],
           "legendgroup": "Team Todd",
           "marker": {
            "color": "#FF6692",
            "size": [
             1
            ],
            "sizemode": "area",
            "sizeref": 0.0003,
            "symbol": "circle"
           },
           "mode": "markers",
           "name": "Team Todd",
           "orientation": "v",
           "showlegend": true,
           "type": "scatter",
           "x": [
            2002
           ],
           "xaxis": "x",
           "y": [
            296.94
           ],
           "yaxis": "y"
          },
          {
           "hovertemplate": "<b>%{hovertext}</b><br><br>production_company=The Kennedy/Marshall Company<br>Year=%{x}<br>Total Revenue (Million $)=%{y}<br>movie_count=%{marker.size}<extra></extra>",
           "hovertext": [
            "The Kennedy/Marshall Company"
           ],
           "legendgroup": "The Kennedy/Marshall Company",
           "marker": {
            "color": "#B6E880",
            "size": [
             1
            ],
            "sizemode": "area",
            "sizeref": 0.0003,
            "symbol": "circle"
           },
           "mode": "markers",
           "name": "The Kennedy/Marshall Company",
           "orientation": "v",
           "showlegend": true,
           "type": "scatter",
           "x": [
            2002
           ],
           "xaxis": "x",
           "y": [
            408.25
           ],
           "yaxis": "y"
          },
          {
           "hovertemplate": "<b>%{hovertext}</b><br><br>production_company=The Saul Zaentz Company<br>Year=%{x}<br>Total Revenue (Million $)=%{y}<br>movie_count=%{marker.size}<extra></extra>",
           "hovertext": [
            "The Saul Zaentz Company"
           ],
           "legendgroup": "The Saul Zaentz Company",
           "marker": {
            "color": "#FF97FF",
            "size": [
             1
            ],
            "sizemode": "area",
            "sizeref": 0.0003,
            "symbol": "circle"
           },
           "mode": "markers",
           "name": "The Saul Zaentz Company",
           "orientation": "v",
           "showlegend": true,
           "type": "scatter",
           "x": [
            2002
           ],
           "xaxis": "x",
           "y": [
            938.24
           ],
           "yaxis": "y"
          }
         ],
         "name": "2002"
        },
        {
         "data": [
          {
           "hovertemplate": "<b>%{hovertext}</b><br><br>production_company=Castle Rock Entertainment<br>Year=%{x}<br>Total Revenue (Million $)=%{y}<br>movie_count=%{marker.size}<extra></extra>",
           "hovertext": [
            "Castle Rock Entertainment"
           ],
           "legendgroup": "Castle Rock Entertainment",
           "marker": {
            "color": "#636efa",
            "size": [
             1
            ],
            "sizemode": "area",
            "sizeref": 0.0003,
            "symbol": "circle"
           },
           "mode": "markers",
           "name": "Castle Rock Entertainment",
           "orientation": "v",
           "showlegend": true,
           "type": "scatter",
           "x": [
            2003
           ],
           "xaxis": "x",
           "y": [
            88.93
           ],
           "yaxis": "y"
          },
          {
           "hovertemplate": "<b>%{hovertext}</b><br><br>production_company=Jerry Bruckheimer Films<br>Year=%{x}<br>Total Revenue (Million $)=%{y}<br>movie_count=%{marker.size}<extra></extra>",
           "hovertext": [
            "Jerry Bruckheimer Films"
           ],
           "legendgroup": "Jerry Bruckheimer Films",
           "marker": {
            "color": "#EF553B",
            "size": [
             1
            ],
            "sizemode": "area",
            "sizeref": 0.0003,
            "symbol": "circle"
           },
           "mode": "markers",
           "name": "Jerry Bruckheimer Films",
           "orientation": "v",
           "showlegend": true,
           "type": "scatter",
           "x": [
            2003
           ],
           "xaxis": "x",
           "y": [
            88.93
           ],
           "yaxis": "y"
          },
          {
           "hovertemplate": "<b>%{hovertext}</b><br><br>production_company=New Line Cinema<br>Year=%{x}<br>Total Revenue (Million $)=%{y}<br>movie_count=%{marker.size}<extra></extra>",
           "hovertext": [
            "New Line Cinema"
           ],
           "legendgroup": "New Line Cinema",
           "marker": {
            "color": "#FFA15A",
            "size": [
             1
            ],
            "sizemode": "area",
            "sizeref": 0.0003,
            "symbol": "circle"
           },
           "mode": "markers",
           "name": "New Line Cinema",
           "orientation": "v",
           "showlegend": true,
           "type": "scatter",
           "x": [
            2003
           ],
           "xaxis": "x",
           "y": [
            1138.27
           ],
           "yaxis": "y"
          },
          {
           "hovertemplate": "<b>%{hovertext}</b><br><br>production_company=Pixar Animation Studios<br>Year=%{x}<br>Total Revenue (Million $)=%{y}<br>movie_count=%{marker.size}<extra></extra>",
           "hovertext": [
            "Pixar Animation Studios"
           ],
           "legendgroup": "Pixar Animation Studios",
           "marker": {
            "color": "#B6E880",
            "size": [
             1
            ],
            "sizemode": "area",
            "sizeref": 0.0003,
            "symbol": "circle"
           },
           "mode": "markers",
           "name": "Pixar Animation Studios",
           "orientation": "v",
           "showlegend": true,
           "type": "scatter",
           "x": [
            2003
           ],
           "xaxis": "x",
           "y": [
            941.64
           ],
           "yaxis": "y"
          },
          {
           "hovertemplate": "<b>%{hovertext}</b><br><br>production_company=Walt Disney Pictures<br>Year=%{x}<br>Total Revenue (Million $)=%{y}<br>movie_count=%{marker.size}<extra></extra>",
           "hovertext": [
            "Walt Disney Pictures"
           ],
           "legendgroup": "Walt Disney Pictures",
           "marker": {
            "color": "#FECB52",
            "size": [
             1
            ],
            "sizemode": "area",
            "sizeref": 0.0003,
            "symbol": "circle"
           },
           "mode": "markers",
           "name": "Walt Disney Pictures",
           "orientation": "v",
           "showlegend": true,
           "type": "scatter",
           "x": [
            2003
           ],
           "xaxis": "x",
           "y": [
            941.64
           ],
           "yaxis": "y"
          },
          {
           "hovertemplate": "<b>%{hovertext}</b><br><br>production_company=WingNut Films<br>Year=%{x}<br>Total Revenue (Million $)=%{y}<br>movie_count=%{marker.size}<extra></extra>",
           "hovertext": [
            "WingNut Films"
           ],
           "legendgroup": "WingNut Films",
           "marker": {
            "color": "#636efa",
            "size": [
             1
            ],
            "sizemode": "area",
            "sizeref": 0.0003,
            "symbol": "circle"
           },
           "mode": "markers",
           "name": "WingNut Films",
           "orientation": "v",
           "showlegend": true,
           "type": "scatter",
           "x": [
            2003
           ],
           "xaxis": "x",
           "y": [
            1138.27
           ],
           "yaxis": "y"
          },
          {
           "hovertemplate": "<b>%{hovertext}</b><br><br>production_company=The Saul Zaentz Company<br>Year=%{x}<br>Total Revenue (Million $)=%{y}<br>movie_count=%{marker.size}<extra></extra>",
           "hovertext": [
            "The Saul Zaentz Company"
           ],
           "legendgroup": "The Saul Zaentz Company",
           "marker": {
            "color": "#FF97FF",
            "size": [
             1
            ],
            "sizemode": "area",
            "sizeref": 0.0003,
            "symbol": "circle"
           },
           "mode": "markers",
           "name": "The Saul Zaentz Company",
           "orientation": "v",
           "showlegend": true,
           "type": "scatter",
           "x": [
            2003
           ],
           "xaxis": "x",
           "y": [
            1138.27
           ],
           "yaxis": "y"
          },
          {
           "hovertemplate": "<b>%{hovertext}</b><br><br>production_company=Columbia Pictures<br>Year=%{x}<br>Total Revenue (Million $)=%{y}<br>movie_count=%{marker.size}<extra></extra>",
           "hovertext": [
            "Columbia Pictures"
           ],
           "legendgroup": "Columbia Pictures",
           "marker": {
            "color": "#FECB52",
            "size": [
             1
            ],
            "sizemode": "area",
            "sizeref": 0.0003,
            "symbol": "circle"
           },
           "mode": "markers",
           "name": "Columbia Pictures",
           "orientation": "v",
           "showlegend": true,
           "type": "scatter",
           "x": [
            2003
           ],
           "xaxis": "x",
           "y": [
            273.34
           ],
           "yaxis": "y"
          },
          {
           "hovertemplate": "<b>%{hovertext}</b><br><br>production_company=Cruise/Wagner Productions<br>Year=%{x}<br>Total Revenue (Million $)=%{y}<br>movie_count=%{marker.size}<extra></extra>",
           "hovertext": [
            "Cruise/Wagner Productions"
           ],
           "legendgroup": "Cruise/Wagner Productions",
           "marker": {
            "color": "#636efa",
            "size": [
             1
            ],
            "sizemode": "area",
            "sizeref": 0.0003,
            "symbol": "circle"
           },
           "mode": "markers",
           "name": "Cruise/Wagner Productions",
           "orientation": "v",
           "showlegend": true,
           "type": "scatter",
           "x": [
            2003
           ],
           "xaxis": "x",
           "y": [
            454.63
           ],
           "yaxis": "y"
          },
          {
           "hovertemplate": "<b>%{hovertext}</b><br><br>production_company=Don Simpson/Jerry Bruckheimer Films<br>Year=%{x}<br>Total Revenue (Million $)=%{y}<br>movie_count=%{marker.size}<extra></extra>",
           "hovertext": [
            "Don Simpson/Jerry Bruckheimer Films"
           ],
           "legendgroup": "Don Simpson/Jerry Bruckheimer Films",
           "marker": {
            "color": "#EF553B",
            "size": [
             1
            ],
            "sizemode": "area",
            "sizeref": 0.0003,
            "symbol": "circle"
           },
           "mode": "markers",
           "name": "Don Simpson/Jerry Bruckheimer Films",
           "orientation": "v",
           "showlegend": true,
           "type": "scatter",
           "x": [
            2003
           ],
           "xaxis": "x",
           "y": [
            273.34
           ],
           "yaxis": "y"
          },
          {
           "hovertemplate": "<b>%{hovertext}</b><br><br>production_company=The Bedford Falls Company<br>Year=%{x}<br>Total Revenue (Million $)=%{y}<br>movie_count=%{marker.size}<extra></extra>",
           "hovertext": [
            "The Bedford Falls Company"
           ],
           "legendgroup": "The Bedford Falls Company",
           "marker": {
            "color": "#00cc96",
            "size": [
             1
            ],
            "sizemode": "area",
            "sizeref": 0.0003,
            "symbol": "circle"
           },
           "mode": "markers",
           "name": "The Bedford Falls Company",
           "orientation": "v",
           "showlegend": true,
           "type": "scatter",
           "x": [
            2003
           ],
           "xaxis": "x",
           "y": [
            454.63
           ],
           "yaxis": "y"
          },
          {
           "hovertemplate": "<b>%{hovertext}</b><br><br>production_company=Warner Bros.<br>Year=%{x}<br>Total Revenue (Million $)=%{y}<br>movie_count=%{marker.size}<extra></extra>",
           "hovertext": [
            "Warner Bros."
           ],
           "legendgroup": "Warner Bros.",
           "marker": {
            "color": "#ab63fa",
            "size": [
             2
            ],
            "sizemode": "area",
            "sizeref": 0.0003,
            "symbol": "circle"
           },
           "mode": "markers",
           "name": "Warner Bros.",
           "orientation": "v",
           "showlegend": true,
           "type": "scatter",
           "x": [
            2003
           ],
           "xaxis": "x",
           "y": [
            543.56
           ],
           "yaxis": "y"
          }
         ],
         "name": "2003"
        },
        {
         "data": [
          {
           "hovertemplate": "<b>%{hovertext}</b><br><br>production_company=Castle Rock Entertainment<br>Year=%{x}<br>Total Revenue (Million $)=%{y}<br>movie_count=%{marker.size}<extra></extra>",
           "hovertext": [
            "Castle Rock Entertainment"
           ],
           "legendgroup": "Castle Rock Entertainment",
           "marker": {
            "color": "#636efa",
            "size": [
             1
            ],
            "sizemode": "area",
            "sizeref": 0.0003,
            "symbol": "circle"
           },
           "mode": "markers",
           "name": "Castle Rock Entertainment",
           "orientation": "v",
           "showlegend": true,
           "type": "scatter",
           "x": [
            2004
           ],
           "xaxis": "x",
           "y": [
            318.91
           ],
           "yaxis": "y"
          },
          {
           "hovertemplate": "<b>%{hovertext}</b><br><br>production_company=Dreamworks Pictures<br>Year=%{x}<br>Total Revenue (Million $)=%{y}<br>movie_count=%{marker.size}<extra></extra>",
           "hovertext": [
            "Dreamworks Pictures"
           ],
           "legendgroup": "Dreamworks Pictures",
           "marker": {
            "color": "#00cc96",
            "size": [
             1
            ],
            "sizemode": "area",
            "sizeref": 0.0003,
            "symbol": "circle"
           },
           "mode": "markers",
           "name": "Dreamworks Pictures",
           "orientation": "v",
           "showlegend": true,
           "type": "scatter",
           "x": [
            2004
           ],
           "xaxis": "x",
           "y": [
            522.66
           ],
           "yaxis": "y"
          },
          {
           "hovertemplate": "<b>%{hovertext}</b><br><br>production_company=Universal Pictures<br>Year=%{x}<br>Total Revenue (Million $)=%{y}<br>movie_count=%{marker.size}<extra></extra>",
           "hovertext": [
            "Universal Pictures"
           ],
           "legendgroup": "Universal Pictures",
           "marker": {
            "color": "#FF6692",
            "size": [
             1
            ],
            "sizemode": "area",
            "sizeref": 0.0003,
            "symbol": "circle"
           },
           "mode": "markers",
           "name": "Universal Pictures",
           "orientation": "v",
           "showlegend": true,
           "type": "scatter",
           "x": [
            2004
           ],
           "xaxis": "x",
           "y": [
            522.66
           ],
           "yaxis": "y"
          },
          {
           "hovertemplate": "<b>%{hovertext}</b><br><br>production_company=Warner Bros.<br>Year=%{x}<br>Total Revenue (Million $)=%{y}<br>movie_count=%{marker.size}<extra></extra>",
           "hovertext": [
            "Warner Bros."
           ],
           "legendgroup": "Warner Bros.",
           "marker": {
            "color": "#ab63fa",
            "size": [
             1
            ],
            "sizemode": "area",
            "sizeref": 0.0003,
            "symbol": "circle"
           },
           "mode": "markers",
           "name": "Warner Bros.",
           "orientation": "v",
           "showlegend": true,
           "type": "scatter",
           "x": [
            2004
           ],
           "xaxis": "x",
           "y": [
            216.76
           ],
           "yaxis": "y"
          },
          {
           "hovertemplate": "<b>%{hovertext}</b><br><br>production_company=Appian Way<br>Year=%{x}<br>Total Revenue (Million $)=%{y}<br>movie_count=%{marker.size}<extra></extra>",
           "hovertext": [
            "Appian Way"
           ],
           "legendgroup": "Appian Way",
           "marker": {
            "color": "#FFA15A",
            "size": [
             1
            ],
            "sizemode": "area",
            "sizeref": 0.0003,
            "symbol": "circle"
           },
           "mode": "markers",
           "name": "Appian Way",
           "orientation": "v",
           "showlegend": true,
           "type": "scatter",
           "x": [
            2004
           ],
           "xaxis": "x",
           "y": [
            213.72
           ],
           "yaxis": "y"
          },
          {
           "hovertemplate": "<b>%{hovertext}</b><br><br>production_company=Forward Pass<br>Year=%{x}<br>Total Revenue (Million $)=%{y}<br>movie_count=%{marker.size}<extra></extra>",
           "hovertext": [
            "Forward Pass"
           ],
           "legendgroup": "Forward Pass",
           "marker": {
            "color": "#19d3f3",
            "size": [
             1
            ],
            "sizemode": "area",
            "sizeref": 0.0003,
            "symbol": "circle"
           },
           "mode": "markers",
           "name": "Forward Pass",
           "orientation": "v",
           "showlegend": true,
           "type": "scatter",
           "x": [
            2004
           ],
           "xaxis": "x",
           "y": [
            213.72
           ],
           "yaxis": "y"
          },
          {
           "hovertemplate": "<b>%{hovertext}</b><br><br>production_company=Fox 2000 Pictures<br>Year=%{x}<br>Total Revenue (Million $)=%{y}<br>movie_count=%{marker.size}<extra></extra>",
           "hovertext": [
            "Fox 2000 Pictures"
           ],
           "legendgroup": "Fox 2000 Pictures",
           "marker": {
            "color": "#FF6692",
            "size": [
             1
            ],
            "sizemode": "area",
            "sizeref": 0.0003,
            "symbol": "circle"
           },
           "mode": "markers",
           "name": "Fox 2000 Pictures",
           "orientation": "v",
           "showlegend": true,
           "type": "scatter",
           "x": [
            2004
           ],
           "xaxis": "x",
           "y": [
            130.83
           ],
           "yaxis": "y"
          },
          {
           "hovertemplate": "<b>%{hovertext}</b><br><br>production_company=IMF Internationale Medien und Film GmbH & Co. 3. Produktions KG<br>Year=%{x}<br>Total Revenue (Million $)=%{y}<br>movie_count=%{marker.size}<extra></extra>",
           "hovertext": [
            "IMF Internationale Medien und Film GmbH & Co. 3. Produktions KG"
           ],
           "legendgroup": "IMF Internationale Medien und Film GmbH & Co. 3. Produktions KG",
           "marker": {
            "color": "#B6E880",
            "size": [
             1
            ],
            "sizemode": "area",
            "sizeref": 0.0003,
            "symbol": "circle"
           },
           "mode": "markers",
           "name": "IMF Internationale Medien und Film GmbH & Co. 3. Produktions KG",
           "orientation": "v",
           "showlegend": true,
           "type": "scatter",
           "x": [
            2004
           ],
           "xaxis": "x",
           "y": [
            213.72
           ],
           "yaxis": "y"
          },
          {
           "hovertemplate": "<b>%{hovertext}</b><br><br>production_company=Lakeshore Entertainment<br>Year=%{x}<br>Total Revenue (Million $)=%{y}<br>movie_count=%{marker.size}<extra></extra>",
           "hovertext": [
            "Lakeshore Entertainment"
           ],
           "legendgroup": "Lakeshore Entertainment",
           "marker": {
            "color": "#FF97FF",
            "size": [
             1
            ],
            "sizemode": "area",
            "sizeref": 0.0003,
            "symbol": "circle"
           },
           "mode": "markers",
           "name": "Lakeshore Entertainment",
           "orientation": "v",
           "showlegend": true,
           "type": "scatter",
           "x": [
            2004
           ],
           "xaxis": "x",
           "y": [
            216.76
           ],
           "yaxis": "y"
          },
          {
           "hovertemplate": "<b>%{hovertext}</b><br><br>production_company=Malpaso Productions<br>Year=%{x}<br>Total Revenue (Million $)=%{y}<br>movie_count=%{marker.size}<extra></extra>",
           "hovertext": [
            "Malpaso Productions"
           ],
           "legendgroup": "Malpaso Productions",
           "marker": {
            "color": "#FECB52",
            "size": [
             1
            ],
            "sizemode": "area",
            "sizeref": 0.0003,
            "symbol": "circle"
           },
           "mode": "markers",
           "name": "Malpaso Productions",
           "orientation": "v",
           "showlegend": true,
           "type": "scatter",
           "x": [
            2004
           ],
           "xaxis": "x",
           "y": [
            216.76
           ],
           "yaxis": "y"
          },
          {
           "hovertemplate": "<b>%{hovertext}</b><br><br>production_company=New Regency Productions<br>Year=%{x}<br>Total Revenue (Million $)=%{y}<br>movie_count=%{marker.size}<extra></extra>",
           "hovertext": [
            "New Regency Productions"
           ],
           "legendgroup": "New Regency Productions",
           "marker": {
            "color": "#636efa",
            "size": [
             1
            ],
            "sizemode": "area",
            "sizeref": 0.0003,
            "symbol": "circle"
           },
           "mode": "markers",
           "name": "New Regency Productions",
           "orientation": "v",
           "showlegend": true,
           "type": "scatter",
           "x": [
            2004
           ],
           "xaxis": "x",
           "y": [
            130.83
           ],
           "yaxis": "y"
          },
          {
           "hovertemplate": "<b>%{hovertext}</b><br><br>production_company=Playtone<br>Year=%{x}<br>Total Revenue (Million $)=%{y}<br>movie_count=%{marker.size}<extra></extra>",
           "hovertext": [
            "Playtone"
           ],
           "legendgroup": "Playtone",
           "marker": {
            "color": "#EF553B",
            "size": [
             1
            ],
            "sizemode": "area",
            "sizeref": 0.0003,
            "symbol": "circle"
           },
           "mode": "markers",
           "name": "Playtone",
           "orientation": "v",
           "showlegend": true,
           "type": "scatter",
           "x": [
            2004
           ],
           "xaxis": "x",
           "y": [
            318.91
           ],
           "yaxis": "y"
          },
          {
           "hovertemplate": "<b>%{hovertext}</b><br><br>production_company=Regency Enterprises<br>Year=%{x}<br>Total Revenue (Million $)=%{y}<br>movie_count=%{marker.size}<extra></extra>",
           "hovertext": [
            "Regency Enterprises"
           ],
           "legendgroup": "Regency Enterprises",
           "marker": {
            "color": "#00cc96",
            "size": [
             1
            ],
            "sizemode": "area",
            "sizeref": 0.0003,
            "symbol": "circle"
           },
           "mode": "markers",
           "name": "Regency Enterprises",
           "orientation": "v",
           "showlegend": true,
           "type": "scatter",
           "x": [
            2004
           ],
           "xaxis": "x",
           "y": [
            130.83
           ],
           "yaxis": "y"
          },
          {
           "hovertemplate": "<b>%{hovertext}</b><br><br>production_company=Shangri-La Entertainment<br>Year=%{x}<br>Total Revenue (Million $)=%{y}<br>movie_count=%{marker.size}<extra></extra>",
           "hovertext": [
            "Shangri-La Entertainment"
           ],
           "legendgroup": "Shangri-La Entertainment",
           "marker": {
            "color": "#ab63fa",
            "size": [
             1
            ],
            "sizemode": "area",
            "sizeref": 0.0003,
            "symbol": "circle"
           },
           "mode": "markers",
           "name": "Shangri-La Entertainment",
           "orientation": "v",
           "showlegend": true,
           "type": "scatter",
           "x": [
            2004
           ],
           "xaxis": "x",
           "y": [
            318.91
           ],
           "yaxis": "y"
          },
          {
           "hovertemplate": "<b>%{hovertext}</b><br><br>production_company=Tribeca Productions<br>Year=%{x}<br>Total Revenue (Million $)=%{y}<br>movie_count=%{marker.size}<extra></extra>",
           "hovertext": [
            "Tribeca Productions"
           ],
           "legendgroup": "Tribeca Productions",
           "marker": {
            "color": "#FFA15A",
            "size": [
             1
            ],
            "sizemode": "area",
            "sizeref": 0.0003,
            "symbol": "circle"
           },
           "mode": "markers",
           "name": "Tribeca Productions",
           "orientation": "v",
           "showlegend": true,
           "type": "scatter",
           "x": [
            2004
           ],
           "xaxis": "x",
           "y": [
            522.66
           ],
           "yaxis": "y"
          }
         ],
         "name": "2004"
        },
        {
         "data": [
          {
           "hovertemplate": "<b>%{hovertext}</b><br><br>production_company=Dreamworks Pictures<br>Year=%{x}<br>Total Revenue (Million $)=%{y}<br>movie_count=%{marker.size}<extra></extra>",
           "hovertext": [
            "Dreamworks Pictures"
           ],
           "legendgroup": "Dreamworks Pictures",
           "marker": {
            "color": "#00cc96",
            "size": [
             1
            ],
            "sizemode": "area",
            "sizeref": 0.0003,
            "symbol": "circle"
           },
           "mode": "markers",
           "name": "Dreamworks Pictures",
           "orientation": "v",
           "showlegend": true,
           "type": "scatter",
           "x": [
            2005
           ],
           "xaxis": "x",
           "y": [
            603.87
           ],
           "yaxis": "y"
          },
          {
           "hovertemplate": "<b>%{hovertext}</b><br><br>production_company=Paramount Pictures<br>Year=%{x}<br>Total Revenue (Million $)=%{y}<br>movie_count=%{marker.size}<extra></extra>",
           "hovertext": [
            "Paramount Pictures"
           ],
           "legendgroup": "Paramount Pictures",
           "marker": {
            "color": "#FF6692",
            "size": [
             1
            ],
            "sizemode": "area",
            "sizeref": 0.0003,
            "symbol": "circle"
           },
           "mode": "markers",
           "name": "Paramount Pictures",
           "orientation": "v",
           "showlegend": true,
           "type": "scatter",
           "x": [
            2005
           ],
           "xaxis": "x",
           "y": [
            603.87
           ],
           "yaxis": "y"
          },
          {
           "hovertemplate": "<b>%{hovertext}</b><br><br>production_company=Amblin Entertainment<br>Year=%{x}<br>Total Revenue (Million $)=%{y}<br>movie_count=%{marker.size}<extra></extra>",
           "hovertext": [
            "Amblin Entertainment"
           ],
           "legendgroup": "Amblin Entertainment",
           "marker": {
            "color": "#19d3f3",
            "size": [
             1
            ],
            "sizemode": "area",
            "sizeref": 0.0003,
            "symbol": "circle"
           },
           "mode": "markers",
           "name": "Amblin Entertainment",
           "orientation": "v",
           "showlegend": true,
           "type": "scatter",
           "x": [
            2005
           ],
           "xaxis": "x",
           "y": [
            603.87
           ],
           "yaxis": "y"
          },
          {
           "hovertemplate": "<b>%{hovertext}</b><br><br>production_company=Lucasfilm<br>Year=%{x}<br>Total Revenue (Million $)=%{y}<br>movie_count=%{marker.size}<extra></extra>",
           "hovertext": [
            "Lucasfilm"
           ],
           "legendgroup": "Lucasfilm",
           "marker": {
            "color": "#FF6692",
            "size": [
             1
            ],
            "sizemode": "area",
            "sizeref": 0.0003,
            "symbol": "circle"
           },
           "mode": "markers",
           "name": "Lucasfilm",
           "orientation": "v",
           "showlegend": true,
           "type": "scatter",
           "x": [
            2005
           ],
           "xaxis": "x",
           "y": [
            850.04
           ],
           "yaxis": "y"
          },
          {
           "hovertemplate": "<b>%{hovertext}</b><br><br>production_company=Mestiere Cinema<br>Year=%{x}<br>Total Revenue (Million $)=%{y}<br>movie_count=%{marker.size}<extra></extra>",
           "hovertext": [
            "Mestiere Cinema"
           ],
           "legendgroup": "Mestiere Cinema",
           "marker": {
            "color": "#B6E880",
            "size": [
             1
            ],
            "sizemode": "area",
            "sizeref": 0.0003,
            "symbol": "circle"
           },
           "mode": "markers",
           "name": "Mestiere Cinema",
           "orientation": "v",
           "showlegend": true,
           "type": "scatter",
           "x": [
            2005
           ],
           "xaxis": "x",
           "y": [
            850.04
           ],
           "yaxis": "y"
          },
          {
           "hovertemplate": "<b>%{hovertext}</b><br><br>production_company=Pandora Films<br>Year=%{x}<br>Total Revenue (Million $)=%{y}<br>movie_count=%{marker.size}<extra></extra>",
           "hovertext": [
            "Pandora Films"
           ],
           "legendgroup": "Pandora Films",
           "marker": {
            "color": "#FF97FF",
            "size": [
             1
            ],
            "sizemode": "area",
            "sizeref": 0.0003,
            "symbol": "circle"
           },
           "mode": "markers",
           "name": "Pandora Films",
           "orientation": "v",
           "showlegend": true,
           "type": "scatter",
           "x": [
            2005
           ],
           "xaxis": "x",
           "y": [
            850.04
           ],
           "yaxis": "y"
          }
         ],
         "name": "2005"
        },
        {
         "data": [
          {
           "hovertemplate": "<b>%{hovertext}</b><br><br>production_company=Jerry Bruckheimer Films<br>Year=%{x}<br>Total Revenue (Million $)=%{y}<br>movie_count=%{marker.size}<extra></extra>",
           "hovertext": [
            "Jerry Bruckheimer Films"
           ],
           "legendgroup": "Jerry Bruckheimer Films",
           "marker": {
            "color": "#EF553B",
            "size": [
             1
            ],
            "sizemode": "area",
            "sizeref": 0.0003,
            "symbol": "circle"
           },
           "mode": "markers",
           "name": "Jerry Bruckheimer Films",
           "orientation": "v",
           "showlegend": true,
           "type": "scatter",
           "x": [
            2006
           ],
           "xaxis": "x",
           "y": [
            1066.18
           ],
           "yaxis": "y"
          },
          {
           "hovertemplate": "<b>%{hovertext}</b><br><br>production_company=Walt Disney Pictures<br>Year=%{x}<br>Total Revenue (Million $)=%{y}<br>movie_count=%{marker.size}<extra></extra>",
           "hovertext": [
            "Walt Disney Pictures"
           ],
           "legendgroup": "Walt Disney Pictures",
           "marker": {
            "color": "#FECB52",
            "size": [
             1
            ],
            "sizemode": "area",
            "sizeref": 0.0003,
            "symbol": "circle"
           },
           "mode": "markers",
           "name": "Walt Disney Pictures",
           "orientation": "v",
           "showlegend": true,
           "type": "scatter",
           "x": [
            2006
           ],
           "xaxis": "x",
           "y": [
            1066.18
           ],
           "yaxis": "y"
          },
          {
           "hovertemplate": "<b>%{hovertext}</b><br><br>production_company=Second Mate Productions<br>Year=%{x}<br>Total Revenue (Million $)=%{y}<br>movie_count=%{marker.size}<extra></extra>",
           "hovertext": [
            "Second Mate Productions"
           ],
           "legendgroup": "Second Mate Productions",
           "marker": {
            "color": "#FECB52",
            "size": [
             1
            ],
            "sizemode": "area",
            "sizeref": 0.0003,
            "symbol": "circle"
           },
           "mode": "markers",
           "name": "Second Mate Productions",
           "orientation": "v",
           "showlegend": true,
           "type": "scatter",
           "x": [
            2006
           ],
           "xaxis": "x",
           "y": [
            1066.18
           ],
           "yaxis": "y"
          }
         ],
         "name": "2006"
        },
        {
         "data": [
          {
           "hovertemplate": "<b>%{hovertext}</b><br><br>production_company=Dreamworks Pictures<br>Year=%{x}<br>Total Revenue (Million $)=%{y}<br>movie_count=%{marker.size}<extra></extra>",
           "hovertext": [
            "Dreamworks Pictures"
           ],
           "legendgroup": "Dreamworks Pictures",
           "marker": {
            "color": "#00cc96",
            "size": [
             1
            ],
            "sizemode": "area",
            "sizeref": 0.0003,
            "symbol": "circle"
           },
           "mode": "markers",
           "name": "Dreamworks Pictures",
           "orientation": "v",
           "showlegend": true,
           "type": "scatter",
           "x": [
            2007
           ],
           "xaxis": "x",
           "y": [
            709.71
           ],
           "yaxis": "y"
          },
          {
           "hovertemplate": "<b>%{hovertext}</b><br><br>production_company=Paramount Pictures<br>Year=%{x}<br>Total Revenue (Million $)=%{y}<br>movie_count=%{marker.size}<extra></extra>",
           "hovertext": [
            "Paramount Pictures"
           ],
           "legendgroup": "Paramount Pictures",
           "marker": {
            "color": "#FF6692",
            "size": [
             1
            ],
            "sizemode": "area",
            "sizeref": 0.0003,
            "symbol": "circle"
           },
           "mode": "markers",
           "name": "Paramount Pictures",
           "orientation": "v",
           "showlegend": true,
           "type": "scatter",
           "x": [
            2007
           ],
           "xaxis": "x",
           "y": [
            709.71
           ],
           "yaxis": "y"
          },
          {
           "hovertemplate": "<b>%{hovertext}</b><br><br>production_company=Hasbro<br>Year=%{x}<br>Total Revenue (Million $)=%{y}<br>movie_count=%{marker.size}<extra></extra>",
           "hovertext": [
            "Hasbro"
           ],
           "legendgroup": "Hasbro",
           "marker": {
            "color": "#636efa",
            "size": [
             1
            ],
            "sizemode": "area",
            "sizeref": 0.0003,
            "symbol": "circle"
           },
           "mode": "markers",
           "name": "Hasbro",
           "orientation": "v",
           "showlegend": true,
           "type": "scatter",
           "x": [
            2007
           ],
           "xaxis": "x",
           "y": [
            709.71
           ],
           "yaxis": "y"
          }
         ],
         "name": "2007"
        },
        {
         "data": [
          {
           "hovertemplate": "<b>%{hovertext}</b><br><br>production_company=Paramount Pictures<br>Year=%{x}<br>Total Revenue (Million $)=%{y}<br>movie_count=%{marker.size}<extra></extra>",
           "hovertext": [
            "Paramount Pictures"
           ],
           "legendgroup": "Paramount Pictures",
           "marker": {
            "color": "#FF6692",
            "size": [
             1
            ],
            "sizemode": "area",
            "sizeref": 0.0003,
            "symbol": "circle"
           },
           "mode": "markers",
           "name": "Paramount Pictures",
           "orientation": "v",
           "showlegend": true,
           "type": "scatter",
           "x": [
            2008
           ],
           "xaxis": "x",
           "y": [
            585.8
           ],
           "yaxis": "y"
          },
          {
           "hovertemplate": "<b>%{hovertext}</b><br><br>production_company=Warner Bros.<br>Year=%{x}<br>Total Revenue (Million $)=%{y}<br>movie_count=%{marker.size}<extra></extra>",
           "hovertext": [
            "Warner Bros."
           ],
           "legendgroup": "Warner Bros.",
           "marker": {
            "color": "#ab63fa",
            "size": [
             1
            ],
            "sizemode": "area",
            "sizeref": 0.0003,
            "symbol": "circle"
           },
           "mode": "markers",
           "name": "Warner Bros.",
           "orientation": "v",
           "showlegend": true,
           "type": "scatter",
           "x": [
            2008
           ],
           "xaxis": "x",
           "y": [
            1009.06
           ],
           "yaxis": "y"
          },
          {
           "hovertemplate": "<b>%{hovertext}</b><br><br>production_company=Legendary Entertainment<br>Year=%{x}<br>Total Revenue (Million $)=%{y}<br>movie_count=%{marker.size}<extra></extra>",
           "hovertext": [
            "Legendary Entertainment"
           ],
           "legendgroup": "Legendary Entertainment",
           "marker": {
            "color": "#EF553B",
            "size": [
             1
            ],
            "sizemode": "area",
            "sizeref": 0.0003,
            "symbol": "circle"
           },
           "mode": "markers",
           "name": "Legendary Entertainment",
           "orientation": "v",
           "showlegend": true,
           "type": "scatter",
           "x": [
            2008
           ],
           "xaxis": "x",
           "y": [
            1009.06
           ],
           "yaxis": "y"
          },
          {
           "hovertemplate": "<b>%{hovertext}</b><br><br>production_company=Marvel Entertainment<br>Year=%{x}<br>Total Revenue (Million $)=%{y}<br>movie_count=%{marker.size}<extra></extra>",
           "hovertext": [
            "Marvel Entertainment"
           ],
           "legendgroup": "Marvel Entertainment",
           "marker": {
            "color": "#00cc96",
            "size": [
             1
            ],
            "sizemode": "area",
            "sizeref": 0.0003,
            "symbol": "circle"
           },
           "mode": "markers",
           "name": "Marvel Entertainment",
           "orientation": "v",
           "showlegend": true,
           "type": "scatter",
           "x": [
            2008
           ],
           "xaxis": "x",
           "y": [
            585.8
           ],
           "yaxis": "y"
          },
          {
           "hovertemplate": "<b>%{hovertext}</b><br><br>production_company=Marvel Studios<br>Year=%{x}<br>Total Revenue (Million $)=%{y}<br>movie_count=%{marker.size}<extra></extra>",
           "hovertext": [
            "Marvel Studios"
           ],
           "legendgroup": "Marvel Studios",
           "marker": {
            "color": "#ab63fa",
            "size": [
             1
            ],
            "sizemode": "area",
            "sizeref": 0.0003,
            "symbol": "circle"
           },
           "mode": "markers",
           "name": "Marvel Studios",
           "orientation": "v",
           "showlegend": true,
           "type": "scatter",
           "x": [
            2008
           ],
           "xaxis": "x",
           "y": [
            585.8
           ],
           "yaxis": "y"
          },
          {
           "hovertemplate": "<b>%{hovertext}</b><br><br>production_company=Syncopy<br>Year=%{x}<br>Total Revenue (Million $)=%{y}<br>movie_count=%{marker.size}<extra></extra>",
           "hovertext": [
            "Syncopy"
           ],
           "legendgroup": "Syncopy",
           "marker": {
            "color": "#FFA15A",
            "size": [
             1
            ],
            "sizemode": "area",
            "sizeref": 0.0003,
            "symbol": "circle"
           },
           "mode": "markers",
           "name": "Syncopy",
           "orientation": "v",
           "showlegend": true,
           "type": "scatter",
           "x": [
            2008
           ],
           "xaxis": "x",
           "y": [
            1009.06
           ],
           "yaxis": "y"
          }
         ],
         "name": "2008"
        },
        {
         "data": [
          {
           "hovertemplate": "<b>%{hovertext}</b><br><br>production_company=Dreamworks Pictures<br>Year=%{x}<br>Total Revenue (Million $)=%{y}<br>movie_count=%{marker.size}<extra></extra>",
           "hovertext": [
            "Dreamworks Pictures"
           ],
           "legendgroup": "Dreamworks Pictures",
           "marker": {
            "color": "#00cc96",
            "size": [
             1
            ],
            "sizemode": "area",
            "sizeref": 0.0003,
            "symbol": "circle"
           },
           "mode": "markers",
           "name": "Dreamworks Pictures",
           "orientation": "v",
           "showlegend": true,
           "type": "scatter",
           "x": [
            2009
           ],
           "xaxis": "x",
           "y": [
            836.3
           ],
           "yaxis": "y"
          },
          {
           "hovertemplate": "<b>%{hovertext}</b><br><br>production_company=Paramount Pictures<br>Year=%{x}<br>Total Revenue (Million $)=%{y}<br>movie_count=%{marker.size}<extra></extra>",
           "hovertext": [
            "Paramount Pictures"
           ],
           "legendgroup": "Paramount Pictures",
           "marker": {
            "color": "#FF6692",
            "size": [
             1
            ],
            "sizemode": "area",
            "sizeref": 0.0003,
            "symbol": "circle"
           },
           "mode": "markers",
           "name": "Paramount Pictures",
           "orientation": "v",
           "showlegend": true,
           "type": "scatter",
           "x": [
            2009
           ],
           "xaxis": "x",
           "y": [
            836.3
           ],
           "yaxis": "y"
          },
          {
           "hovertemplate": "<b>%{hovertext}</b><br><br>production_company=Pixar Animation Studios<br>Year=%{x}<br>Total Revenue (Million $)=%{y}<br>movie_count=%{marker.size}<extra></extra>",
           "hovertext": [
            "Pixar Animation Studios"
           ],
           "legendgroup": "Pixar Animation Studios",
           "marker": {
            "color": "#B6E880",
            "size": [
             1
            ],
            "sizemode": "area",
            "sizeref": 0.0003,
            "symbol": "circle"
           },
           "mode": "markers",
           "name": "Pixar Animation Studios",
           "orientation": "v",
           "showlegend": true,
           "type": "scatter",
           "x": [
            2009
           ],
           "xaxis": "x",
           "y": [
            735.1
           ],
           "yaxis": "y"
          },
          {
           "hovertemplate": "<b>%{hovertext}</b><br><br>production_company=Walt Disney Pictures<br>Year=%{x}<br>Total Revenue (Million $)=%{y}<br>movie_count=%{marker.size}<extra></extra>",
           "hovertext": [
            "Walt Disney Pictures"
           ],
           "legendgroup": "Walt Disney Pictures",
           "marker": {
            "color": "#FECB52",
            "size": [
             1
            ],
            "sizemode": "area",
            "sizeref": 0.0003,
            "symbol": "circle"
           },
           "mode": "markers",
           "name": "Walt Disney Pictures",
           "orientation": "v",
           "showlegend": true,
           "type": "scatter",
           "x": [
            2009
           ],
           "xaxis": "x",
           "y": [
            735.1
           ],
           "yaxis": "y"
          },
          {
           "hovertemplate": "<b>%{hovertext}</b><br><br>production_company=Hasbro<br>Year=%{x}<br>Total Revenue (Million $)=%{y}<br>movie_count=%{marker.size}<extra></extra>",
           "hovertext": [
            "Hasbro"
           ],
           "legendgroup": "Hasbro",
           "marker": {
            "color": "#636efa",
            "size": [
             1
            ],
            "sizemode": "area",
            "sizeref": 0.0003,
            "symbol": "circle"
           },
           "mode": "markers",
           "name": "Hasbro",
           "orientation": "v",
           "showlegend": true,
           "type": "scatter",
           "x": [
            2009
           ],
           "xaxis": "x",
           "y": [
            836.3
           ],
           "yaxis": "y"
          }
         ],
         "name": "2009"
        },
        {
         "data": [
          {
           "hovertemplate": "<b>%{hovertext}</b><br><br>production_company=Paramount Pictures<br>Year=%{x}<br>Total Revenue (Million $)=%{y}<br>movie_count=%{marker.size}<extra></extra>",
           "hovertext": [
            "Paramount Pictures"
           ],
           "legendgroup": "Paramount Pictures",
           "marker": {
            "color": "#FF6692",
            "size": [
             1
            ],
            "sizemode": "area",
            "sizeref": 0.0003,
            "symbol": "circle"
           },
           "mode": "markers",
           "name": "Paramount Pictures",
           "orientation": "v",
           "showlegend": true,
           "type": "scatter",
           "x": [
            2010
           ],
           "xaxis": "x",
           "y": [
            623.93
           ],
           "yaxis": "y"
          },
          {
           "hovertemplate": "<b>%{hovertext}</b><br><br>production_company=Pixar Animation Studios<br>Year=%{x}<br>Total Revenue (Million $)=%{y}<br>movie_count=%{marker.size}<extra></extra>",
           "hovertext": [
            "Pixar Animation Studios"
           ],
           "legendgroup": "Pixar Animation Studios",
           "marker": {
            "color": "#B6E880",
            "size": [
             1
            ],
            "sizemode": "area",
            "sizeref": 0.0003,
            "symbol": "circle"
           },
           "mode": "markers",
           "name": "Pixar Animation Studios",
           "orientation": "v",
           "showlegend": true,
           "type": "scatter",
           "x": [
            2010
           ],
           "xaxis": "x",
           "y": [
            1067.32
           ],
           "yaxis": "y"
          },
          {
           "hovertemplate": "<b>%{hovertext}</b><br><br>production_company=Walt Disney Pictures<br>Year=%{x}<br>Total Revenue (Million $)=%{y}<br>movie_count=%{marker.size}<extra></extra>",
           "hovertext": [
            "Walt Disney Pictures"
           ],
           "legendgroup": "Walt Disney Pictures",
           "marker": {
            "color": "#FECB52",
            "size": [
             1
            ],
            "sizemode": "area",
            "sizeref": 0.0003,
            "symbol": "circle"
           },
           "mode": "markers",
           "name": "Walt Disney Pictures",
           "orientation": "v",
           "showlegend": true,
           "type": "scatter",
           "x": [
            2010
           ],
           "xaxis": "x",
           "y": [
            1067.32
           ],
           "yaxis": "y"
          },
          {
           "hovertemplate": "<b>%{hovertext}</b><br><br>production_company=Marvel Entertainment<br>Year=%{x}<br>Total Revenue (Million $)=%{y}<br>movie_count=%{marker.size}<extra></extra>",
           "hovertext": [
            "Marvel Entertainment"
           ],
           "legendgroup": "Marvel Entertainment",
           "marker": {
            "color": "#00cc96",
            "size": [
             1
            ],
            "sizemode": "area",
            "sizeref": 0.0003,
            "symbol": "circle"
           },
           "mode": "markers",
           "name": "Marvel Entertainment",
           "orientation": "v",
           "showlegend": true,
           "type": "scatter",
           "x": [
            2010
           ],
           "xaxis": "x",
           "y": [
            623.93
           ],
           "yaxis": "y"
          },
          {
           "hovertemplate": "<b>%{hovertext}</b><br><br>production_company=Marvel Studios<br>Year=%{x}<br>Total Revenue (Million $)=%{y}<br>movie_count=%{marker.size}<extra></extra>",
           "hovertext": [
            "Marvel Studios"
           ],
           "legendgroup": "Marvel Studios",
           "marker": {
            "color": "#ab63fa",
            "size": [
             1
            ],
            "sizemode": "area",
            "sizeref": 0.0003,
            "symbol": "circle"
           },
           "mode": "markers",
           "name": "Marvel Studios",
           "orientation": "v",
           "showlegend": true,
           "type": "scatter",
           "x": [
            2010
           ],
           "xaxis": "x",
           "y": [
            623.93
           ],
           "yaxis": "y"
          },
          {
           "hovertemplate": "<b>%{hovertext}</b><br><br>production_company=Alcon Entertainment<br>Year=%{x}<br>Total Revenue (Million $)=%{y}<br>movie_count=%{marker.size}<extra></extra>",
           "hovertext": [
            "Alcon Entertainment"
           ],
           "legendgroup": "Alcon Entertainment",
           "marker": {
            "color": "#19d3f3",
            "size": [
             1
            ],
            "sizemode": "area",
            "sizeref": 0.0003,
            "symbol": "circle"
           },
           "mode": "markers",
           "name": "Alcon Entertainment",
           "orientation": "v",
           "showlegend": true,
           "type": "scatter",
           "x": [
            2010
           ],
           "xaxis": "x",
           "y": [
            157.11
           ],
           "yaxis": "y"
          },
          {
           "hovertemplate": "<b>%{hovertext}</b><br><br>production_company=Lionsgate<br>Year=%{x}<br>Total Revenue (Million $)=%{y}<br>movie_count=%{marker.size}<extra></extra>",
           "hovertext": [
            "Lionsgate"
           ],
           "legendgroup": "Lionsgate",
           "marker": {
            "color": "#FF6692",
            "size": [
             1
            ],
            "sizemode": "area",
            "sizeref": 0.0003,
            "symbol": "circle"
           },
           "mode": "markers",
           "name": "Lionsgate",
           "orientation": "v",
           "showlegend": true,
           "type": "scatter",
           "x": [
            2010
           ],
           "xaxis": "x",
           "y": [
            274.47
           ],
           "yaxis": "y"
          },
          {
           "hovertemplate": "<b>%{hovertext}</b><br><br>production_company=Millennium Films<br>Year=%{x}<br>Total Revenue (Million $)=%{y}<br>movie_count=%{marker.size}<extra></extra>",
           "hovertext": [
            "Millennium Films"
           ],
           "legendgroup": "Millennium Films",
           "marker": {
            "color": "#B6E880",
            "size": [
             1
            ],
            "sizemode": "area",
            "sizeref": 0.0003,
            "symbol": "circle"
           },
           "mode": "markers",
           "name": "Millennium Films",
           "orientation": "v",
           "showlegend": true,
           "type": "scatter",
           "x": [
            2010
           ],
           "xaxis": "x",
           "y": [
            274.47
           ],
           "yaxis": "y"
          },
          {
           "hovertemplate": "<b>%{hovertext}</b><br><br>production_company=Nu Image Entertainment GmbH<br>Year=%{x}<br>Total Revenue (Million $)=%{y}<br>movie_count=%{marker.size}<extra></extra>",
           "hovertext": [
            "Nu Image Entertainment GmbH"
           ],
           "legendgroup": "Nu Image Entertainment GmbH",
           "marker": {
            "color": "#FF97FF",
            "size": [
             1
            ],
            "sizemode": "area",
            "sizeref": 0.0003,
            "symbol": "circle"
           },
           "mode": "markers",
           "name": "Nu Image Entertainment GmbH",
           "orientation": "v",
           "showlegend": true,
           "type": "scatter",
           "x": [
            2010
           ],
           "xaxis": "x",
           "y": [
            274.47
           ],
           "yaxis": "y"
          },
          {
           "hovertemplate": "<b>%{hovertext}</b><br><br>production_company=Silver Pictures<br>Year=%{x}<br>Total Revenue (Million $)=%{y}<br>movie_count=%{marker.size}<extra></extra>",
           "hovertext": [
            "Silver Pictures"
           ],
           "legendgroup": "Silver Pictures",
           "marker": {
            "color": "#FECB52",
            "size": [
             1
            ],
            "sizemode": "area",
            "sizeref": 0.0003,
            "symbol": "circle"
           },
           "mode": "markers",
           "name": "Silver Pictures",
           "orientation": "v",
           "showlegend": true,
           "type": "scatter",
           "x": [
            2010
           ],
           "xaxis": "x",
           "y": [
            157.11
           ],
           "yaxis": "y"
          }
         ],
         "name": "2010"
        },
        {
         "data": [
          {
           "hovertemplate": "<b>%{hovertext}</b><br><br>production_company=Dreamworks Pictures<br>Year=%{x}<br>Total Revenue (Million $)=%{y}<br>movie_count=%{marker.size}<extra></extra>",
           "hovertext": [
            "Dreamworks Pictures"
           ],
           "legendgroup": "Dreamworks Pictures",
           "marker": {
            "color": "#00cc96",
            "size": [
             1
            ],
            "sizemode": "area",
            "sizeref": 0.0003,
            "symbol": "circle"
           },
           "mode": "markers",
           "name": "Dreamworks Pictures",
           "orientation": "v",
           "showlegend": true,
           "type": "scatter",
           "x": [
            2011
           ],
           "xaxis": "x",
           "y": [
            221.8
           ],
           "yaxis": "y"
          },
          {
           "hovertemplate": "<b>%{hovertext}</b><br><br>production_company=Paramount Pictures<br>Year=%{x}<br>Total Revenue (Million $)=%{y}<br>movie_count=%{marker.size}<extra></extra>",
           "hovertext": [
            "Paramount Pictures"
           ],
           "legendgroup": "Paramount Pictures",
           "marker": {
            "color": "#FF6692",
            "size": [
             1
            ],
            "sizemode": "area",
            "sizeref": 0.0003,
            "symbol": "circle"
           },
           "mode": "markers",
           "name": "Paramount Pictures",
           "orientation": "v",
           "showlegend": true,
           "type": "scatter",
           "x": [
            2011
           ],
           "xaxis": "x",
           "y": [
            1123.79
           ],
           "yaxis": "y"
          },
          {
           "hovertemplate": "<b>%{hovertext}</b><br><br>production_company=Warner Bros.<br>Year=%{x}<br>Total Revenue (Million $)=%{y}<br>movie_count=%{marker.size}<extra></extra>",
           "hovertext": [
            "Warner Bros."
           ],
           "legendgroup": "Warner Bros.",
           "marker": {
            "color": "#ab63fa",
            "size": [
             1
            ],
            "sizemode": "area",
            "sizeref": 0.0003,
            "symbol": "circle"
           },
           "mode": "markers",
           "name": "Warner Bros.",
           "orientation": "v",
           "showlegend": true,
           "type": "scatter",
           "x": [
            2011
           ],
           "xaxis": "x",
           "y": [
            1342.5
           ],
           "yaxis": "y"
          },
          {
           "hovertemplate": "<b>%{hovertext}</b><br><br>production_company=Hasbro<br>Year=%{x}<br>Total Revenue (Million $)=%{y}<br>movie_count=%{marker.size}<extra></extra>",
           "hovertext": [
            "Hasbro"
           ],
           "legendgroup": "Hasbro",
           "marker": {
            "color": "#636efa",
            "size": [
             1
            ],
            "sizemode": "area",
            "sizeref": 0.0003,
            "symbol": "circle"
           },
           "mode": "markers",
           "name": "Hasbro",
           "orientation": "v",
           "showlegend": true,
           "type": "scatter",
           "x": [
            2011
           ],
           "xaxis": "x",
           "y": [
            1123.79
           ],
           "yaxis": "y"
          },
          {
           "hovertemplate": "<b>%{hovertext}</b><br><br>production_company=Di Bonaventura Pictures<br>Year=%{x}<br>Total Revenue (Million $)=%{y}<br>movie_count=%{marker.size}<extra></extra>",
           "hovertext": [
            "Di Bonaventura Pictures"
           ],
           "legendgroup": "Di Bonaventura Pictures",
           "marker": {
            "color": "#636efa",
            "size": [
             1
            ],
            "sizemode": "area",
            "sizeref": 0.0003,
            "symbol": "circle"
           },
           "mode": "markers",
           "name": "Di Bonaventura Pictures",
           "orientation": "v",
           "showlegend": true,
           "type": "scatter",
           "x": [
            2011
           ],
           "xaxis": "x",
           "y": [
            1123.79
           ],
           "yaxis": "y"
          },
          {
           "hovertemplate": "<b>%{hovertext}</b><br><br>production_company=DreamWorks<br>Year=%{x}<br>Total Revenue (Million $)=%{y}<br>movie_count=%{marker.size}<extra></extra>",
           "hovertext": [
            "DreamWorks"
           ],
           "legendgroup": "DreamWorks",
           "marker": {
            "color": "#EF553B",
            "size": [
             1
            ],
            "sizemode": "area",
            "sizeref": 0.0003,
            "symbol": "circle"
           },
           "mode": "markers",
           "name": "DreamWorks",
           "orientation": "v",
           "showlegend": true,
           "type": "scatter",
           "x": [
            2011
           ],
           "xaxis": "x",
           "y": [
            221.8
           ],
           "yaxis": "y"
          },
          {
           "hovertemplate": "<b>%{hovertext}</b><br><br>production_company=Heyday Films<br>Year=%{x}<br>Total Revenue (Million $)=%{y}<br>movie_count=%{marker.size}<extra></extra>",
           "hovertext": [
            "Heyday Films"
           ],
           "legendgroup": "Heyday Films",
           "marker": {
            "color": "#00cc96",
            "size": [
             1
            ],
            "sizemode": "area",
            "sizeref": 0.0003,
            "symbol": "circle"
           },
           "mode": "markers",
           "name": "Heyday Films",
           "orientation": "v",
           "showlegend": true,
           "type": "scatter",
           "x": [
            2011
           ],
           "xaxis": "x",
           "y": [
            1342.5
           ],
           "yaxis": "y"
          },
          {
           "hovertemplate": "<b>%{hovertext}</b><br><br>production_company=Reliance Film & Entertainment<br>Year=%{x}<br>Total Revenue (Million $)=%{y}<br>movie_count=%{marker.size}<extra></extra>",
           "hovertext": [
            "Reliance Film & Entertainment"
           ],
           "legendgroup": "Reliance Film & Entertainment",
           "marker": {
            "color": "#ab63fa",
            "size": [
             1
            ],
            "sizemode": "area",
            "sizeref": 0.0003,
            "symbol": "circle"
           },
           "mode": "markers",
           "name": "Reliance Film & Entertainment",
           "orientation": "v",
           "showlegend": true,
           "type": "scatter",
           "x": [
            2011
           ],
           "xaxis": "x",
           "y": [
            221.8
           ],
           "yaxis": "y"
          }
         ],
         "name": "2011"
        },
        {
         "data": [
          {
           "hovertemplate": "<b>%{hovertext}</b><br><br>production_company=Dreamworks Pictures<br>Year=%{x}<br>Total Revenue (Million $)=%{y}<br>movie_count=%{marker.size}<extra></extra>",
           "hovertext": [
            "Dreamworks Pictures"
           ],
           "legendgroup": "Dreamworks Pictures",
           "marker": {
            "color": "#00cc96",
            "size": [
             1
            ],
            "sizemode": "area",
            "sizeref": 0.0003,
            "symbol": "circle"
           },
           "mode": "markers",
           "name": "Dreamworks Pictures",
           "orientation": "v",
           "showlegend": true,
           "type": "scatter",
           "x": [
            2012
           ],
           "xaxis": "x",
           "y": [
            275.29
           ],
           "yaxis": "y"
          },
          {
           "hovertemplate": "<b>%{hovertext}</b><br><br>production_company=Universal Pictures<br>Year=%{x}<br>Total Revenue (Million $)=%{y}<br>movie_count=%{marker.size}<extra></extra>",
           "hovertext": [
            "Universal Pictures"
           ],
           "legendgroup": "Universal Pictures",
           "marker": {
            "color": "#FF6692",
            "size": [
             1
            ],
            "sizemode": "area",
            "sizeref": 0.0003,
            "symbol": "circle"
           },
           "mode": "markers",
           "name": "Universal Pictures",
           "orientation": "v",
           "showlegend": true,
           "type": "scatter",
           "x": [
            2012
           ],
           "xaxis": "x",
           "y": [
            549.37
           ],
           "yaxis": "y"
          },
          {
           "hovertemplate": "<b>%{hovertext}</b><br><br>production_company=DreamWorks Animation<br>Year=%{x}<br>Total Revenue (Million $)=%{y}<br>movie_count=%{marker.size}<extra></extra>",
           "hovertext": [
            "DreamWorks Animation"
           ],
           "legendgroup": "DreamWorks Animation",
           "marker": {
            "color": "#636efa",
            "size": [
             1
            ],
            "sizemode": "area",
            "sizeref": 0.0003,
            "symbol": "circle"
           },
           "mode": "markers",
           "name": "DreamWorks Animation",
           "orientation": "v",
           "showlegend": true,
           "type": "scatter",
           "x": [
            2012
           ],
           "xaxis": "x",
           "y": [
            746.92
           ],
           "yaxis": "y"
          },
          {
           "hovertemplate": "<b>%{hovertext}</b><br><br>production_company=New Line Cinema<br>Year=%{x}<br>Total Revenue (Million $)=%{y}<br>movie_count=%{marker.size}<extra></extra>",
           "hovertext": [
            "New Line Cinema"
           ],
           "legendgroup": "New Line Cinema",
           "marker": {
            "color": "#FFA15A",
            "size": [
             1
            ],
            "sizemode": "area",
            "sizeref": 0.0003,
            "symbol": "circle"
           },
           "mode": "markers",
           "name": "New Line Cinema",
           "orientation": "v",
           "showlegend": true,
           "type": "scatter",
           "x": [
            2012
           ],
           "xaxis": "x",
           "y": [
            1017.11
           ],
           "yaxis": "y"
          },
          {
           "hovertemplate": "<b>%{hovertext}</b><br><br>production_company=Pacific Data Images (PDI)<br>Year=%{x}<br>Total Revenue (Million $)=%{y}<br>movie_count=%{marker.size}<extra></extra>",
           "hovertext": [
            "Pacific Data Images (PDI)"
           ],
           "legendgroup": "Pacific Data Images (PDI)",
           "marker": {
            "color": "#19d3f3",
            "size": [
             1
            ],
            "sizemode": "area",
            "sizeref": 0.0003,
            "symbol": "circle"
           },
           "mode": "markers",
           "name": "Pacific Data Images (PDI)",
           "orientation": "v",
           "showlegend": true,
           "type": "scatter",
           "x": [
            2012
           ],
           "xaxis": "x",
           "y": [
            746.92
           ],
           "yaxis": "y"
          },
          {
           "hovertemplate": "<b>%{hovertext}</b><br><br>production_company=Paramount Pictures<br>Year=%{x}<br>Total Revenue (Million $)=%{y}<br>movie_count=%{marker.size}<extra></extra>",
           "hovertext": [
            "Paramount Pictures"
           ],
           "legendgroup": "Paramount Pictures",
           "marker": {
            "color": "#FF6692",
            "size": [
             1
            ],
            "sizemode": "area",
            "sizeref": 0.0003,
            "symbol": "circle"
           },
           "mode": "markers",
           "name": "Paramount Pictures",
           "orientation": "v",
           "showlegend": true,
           "type": "scatter",
           "x": [
            2012
           ],
           "xaxis": "x",
           "y": [
            1520.54
           ],
           "yaxis": "y"
          },
          {
           "hovertemplate": "<b>%{hovertext}</b><br><br>production_company=WingNut Films<br>Year=%{x}<br>Total Revenue (Million $)=%{y}<br>movie_count=%{marker.size}<extra></extra>",
           "hovertext": [
            "WingNut Films"
           ],
           "legendgroup": "WingNut Films",
           "marker": {
            "color": "#636efa",
            "size": [
             1
            ],
            "sizemode": "area",
            "sizeref": 0.0003,
            "symbol": "circle"
           },
           "mode": "markers",
           "name": "WingNut Films",
           "orientation": "v",
           "showlegend": true,
           "type": "scatter",
           "x": [
            2012
           ],
           "xaxis": "x",
           "y": [
            1017.11
           ],
           "yaxis": "y"
          },
          {
           "hovertemplate": "<b>%{hovertext}</b><br><br>production_company=Warner Bros.<br>Year=%{x}<br>Total Revenue (Million $)=%{y}<br>movie_count=%{marker.size}<extra></extra>",
           "hovertext": [
            "Warner Bros."
           ],
           "legendgroup": "Warner Bros.",
           "marker": {
            "color": "#ab63fa",
            "size": [
             1
            ],
            "sizemode": "area",
            "sizeref": 0.0003,
            "symbol": "circle"
           },
           "mode": "markers",
           "name": "Warner Bros.",
           "orientation": "v",
           "showlegend": true,
           "type": "scatter",
           "x": [
            2012
           ],
           "xaxis": "x",
           "y": [
            1114.98
           ],
           "yaxis": "y"
          },
          {
           "hovertemplate": "<b>%{hovertext}</b><br><br>production_company=Legendary Entertainment<br>Year=%{x}<br>Total Revenue (Million $)=%{y}<br>movie_count=%{marker.size}<extra></extra>",
           "hovertext": [
            "Legendary Entertainment"
           ],
           "legendgroup": "Legendary Entertainment",
           "marker": {
            "color": "#EF553B",
            "size": [
             1
            ],
            "sizemode": "area",
            "sizeref": 0.0003,
            "symbol": "circle"
           },
           "mode": "markers",
           "name": "Legendary Entertainment",
           "orientation": "v",
           "showlegend": true,
           "type": "scatter",
           "x": [
            2012
           ],
           "xaxis": "x",
           "y": [
            1114.98
           ],
           "yaxis": "y"
          },
          {
           "hovertemplate": "<b>%{hovertext}</b><br><br>production_company=Marvel Studios<br>Year=%{x}<br>Total Revenue (Million $)=%{y}<br>movie_count=%{marker.size}<extra></extra>",
           "hovertext": [
            "Marvel Studios"
           ],
           "legendgroup": "Marvel Studios",
           "marker": {
            "color": "#ab63fa",
            "size": [
             1
            ],
            "sizemode": "area",
            "sizeref": 0.0003,
            "symbol": "circle"
           },
           "mode": "markers",
           "name": "Marvel Studios",
           "orientation": "v",
           "showlegend": true,
           "type": "scatter",
           "x": [
            2012
           ],
           "xaxis": "x",
           "y": [
            1520.54
           ],
           "yaxis": "y"
          },
          {
           "hovertemplate": "<b>%{hovertext}</b><br><br>production_company=Lionsgate<br>Year=%{x}<br>Total Revenue (Million $)=%{y}<br>movie_count=%{marker.size}<extra></extra>",
           "hovertext": [
            "Lionsgate"
           ],
           "legendgroup": "Lionsgate",
           "marker": {
            "color": "#FF6692",
            "size": [
             1
            ],
            "sizemode": "area",
            "sizeref": 0.0003,
            "symbol": "circle"
           },
           "mode": "markers",
           "name": "Lionsgate",
           "orientation": "v",
           "showlegend": true,
           "type": "scatter",
           "x": [
            2012
           ],
           "xaxis": "x",
           "y": [
            314.98
           ],
           "yaxis": "y"
          },
          {
           "hovertemplate": "<b>%{hovertext}</b><br><br>production_company=Millennium Films<br>Year=%{x}<br>Total Revenue (Million $)=%{y}<br>movie_count=%{marker.size}<extra></extra>",
           "hovertext": [
            "Millennium Films"
           ],
           "legendgroup": "Millennium Films",
           "marker": {
            "color": "#B6E880",
            "size": [
             1
            ],
            "sizemode": "area",
            "sizeref": 0.0003,
            "symbol": "circle"
           },
           "mode": "markers",
           "name": "Millennium Films",
           "orientation": "v",
           "showlegend": true,
           "type": "scatter",
           "x": [
            2012
           ],
           "xaxis": "x",
           "y": [
            314.98
           ],
           "yaxis": "y"
          },
          {
           "hovertemplate": "<b>%{hovertext}</b><br><br>production_company=Nu Image Entertainment GmbH<br>Year=%{x}<br>Total Revenue (Million $)=%{y}<br>movie_count=%{marker.size}<extra></extra>",
           "hovertext": [
            "Nu Image Entertainment GmbH"
           ],
           "legendgroup": "Nu Image Entertainment GmbH",
           "marker": {
            "color": "#FF97FF",
            "size": [
             1
            ],
            "sizemode": "area",
            "sizeref": 0.0003,
            "symbol": "circle"
           },
           "mode": "markers",
           "name": "Nu Image Entertainment GmbH",
           "orientation": "v",
           "showlegend": true,
           "type": "scatter",
           "x": [
            2012
           ],
           "xaxis": "x",
           "y": [
            314.98
           ],
           "yaxis": "y"
          },
          {
           "hovertemplate": "<b>%{hovertext}</b><br><br>production_company=DC Entertainment<br>Year=%{x}<br>Total Revenue (Million $)=%{y}<br>movie_count=%{marker.size}<extra></extra>",
           "hovertext": [
            "DC Entertainment"
           ],
           "legendgroup": "DC Entertainment",
           "marker": {
            "color": "#FFA15A",
            "size": [
             1
            ],
            "sizemode": "area",
            "sizeref": 0.0003,
            "symbol": "circle"
           },
           "mode": "markers",
           "name": "DC Entertainment",
           "orientation": "v",
           "showlegend": true,
           "type": "scatter",
           "x": [
            2012
           ],
           "xaxis": "x",
           "y": [
            1114.98
           ],
           "yaxis": "y"
          },
          {
           "hovertemplate": "<b>%{hovertext}</b><br><br>production_company=Fuzzy Door Productions<br>Year=%{x}<br>Total Revenue (Million $)=%{y}<br>movie_count=%{marker.size}<extra></extra>",
           "hovertext": [
            "Fuzzy Door Productions"
           ],
           "legendgroup": "Fuzzy Door Productions",
           "marker": {
            "color": "#19d3f3",
            "size": [
             1
            ],
            "sizemode": "area",
            "sizeref": 0.0003,
            "symbol": "circle"
           },
           "mode": "markers",
           "name": "Fuzzy Door Productions",
           "orientation": "v",
           "showlegend": true,
           "type": "scatter",
           "x": [
            2012
           ],
           "xaxis": "x",
           "y": [
            549.37
           ],
           "yaxis": "y"
          },
          {
           "hovertemplate": "<b>%{hovertext}</b><br><br>production_company=Media Rights Capital (MRC)<br>Year=%{x}<br>Total Revenue (Million $)=%{y}<br>movie_count=%{marker.size}<extra></extra>",
           "hovertext": [
            "Media Rights Capital (MRC)"
           ],
           "legendgroup": "Media Rights Capital (MRC)",
           "marker": {
            "color": "#FF6692",
            "size": [
             1
            ],
            "sizemode": "area",
            "sizeref": 0.0003,
            "symbol": "circle"
           },
           "mode": "markers",
           "name": "Media Rights Capital (MRC)",
           "orientation": "v",
           "showlegend": true,
           "type": "scatter",
           "x": [
            2012
           ],
           "xaxis": "x",
           "y": [
            549.37
           ],
           "yaxis": "y"
          },
          {
           "hovertemplate": "<b>%{hovertext}</b><br><br>production_company=Metro-Goldwyn-Mayer (MGM)<br>Year=%{x}<br>Total Revenue (Million $)=%{y}<br>movie_count=%{marker.size}<extra></extra>",
           "hovertext": [
            "Metro-Goldwyn-Mayer (MGM)"
           ],
           "legendgroup": "Metro-Goldwyn-Mayer (MGM)",
           "marker": {
            "color": "#B6E880",
            "size": [
             1
            ],
            "sizemode": "area",
            "sizeref": 0.0003,
            "symbol": "circle"
           },
           "mode": "markers",
           "name": "Metro-Goldwyn-Mayer (MGM)",
           "orientation": "v",
           "showlegend": true,
           "type": "scatter",
           "x": [
            2012
           ],
           "xaxis": "x",
           "y": [
            1017.11
           ],
           "yaxis": "y"
          },
          {
           "hovertemplate": "<b>%{hovertext}</b><br><br>production_company=Reliance Entertainment<br>Year=%{x}<br>Total Revenue (Million $)=%{y}<br>movie_count=%{marker.size}<extra></extra>",
           "hovertext": [
            "Reliance Entertainment"
           ],
           "legendgroup": "Reliance Entertainment",
           "marker": {
            "color": "#FF97FF",
            "size": [
             1
            ],
            "sizemode": "area",
            "sizeref": 0.0003,
            "symbol": "circle"
           },
           "mode": "markers",
           "name": "Reliance Entertainment",
           "orientation": "v",
           "showlegend": true,
           "type": "scatter",
           "x": [
            2012
           ],
           "xaxis": "x",
           "y": [
            275.29
           ],
           "yaxis": "y"
          },
          {
           "hovertemplate": "<b>%{hovertext}</b><br><br>production_company=Twentieth Century Fox<br>Year=%{x}<br>Total Revenue (Million $)=%{y}<br>movie_count=%{marker.size}<extra></extra>",
           "hovertext": [
            "Twentieth Century Fox"
           ],
           "legendgroup": "Twentieth Century Fox",
           "marker": {
            "color": "#FECB52",
            "size": [
             1
            ],
            "sizemode": "area",
            "sizeref": 0.0003,
            "symbol": "circle"
           },
           "mode": "markers",
           "name": "Twentieth Century Fox",
           "orientation": "v",
           "showlegend": true,
           "type": "scatter",
           "x": [
            2012
           ],
           "xaxis": "x",
           "y": [
            275.29
           ],
           "yaxis": "y"
          }
         ],
         "name": "2012"
        },
        {
         "data": [
          {
           "hovertemplate": "<b>%{hovertext}</b><br><br>production_company=New Line Cinema<br>Year=%{x}<br>Total Revenue (Million $)=%{y}<br>movie_count=%{marker.size}<extra></extra>",
           "hovertext": [
            "New Line Cinema"
           ],
           "legendgroup": "New Line Cinema",
           "marker": {
            "color": "#FFA15A",
            "size": [
             1
            ],
            "sizemode": "area",
            "sizeref": 0.0003,
            "symbol": "circle"
           },
           "mode": "markers",
           "name": "New Line Cinema",
           "orientation": "v",
           "showlegend": true,
           "type": "scatter",
           "x": [
            2013
           ],
           "xaxis": "x",
           "y": [
            959.08
           ],
           "yaxis": "y"
          },
          {
           "hovertemplate": "<b>%{hovertext}</b><br><br>production_company=Paramount Pictures<br>Year=%{x}<br>Total Revenue (Million $)=%{y}<br>movie_count=%{marker.size}<extra></extra>",
           "hovertext": [
            "Paramount Pictures"
           ],
           "legendgroup": "Paramount Pictures",
           "marker": {
            "color": "#FF6692",
            "size": [
             1
            ],
            "sizemode": "area",
            "sizeref": 0.0003,
            "symbol": "circle"
           },
           "mode": "markers",
           "name": "Paramount Pictures",
           "orientation": "v",
           "showlegend": true,
           "type": "scatter",
           "x": [
            2013
           ],
           "xaxis": "x",
           "y": [
            1266.15
           ],
           "yaxis": "y"
          },
          {
           "hovertemplate": "<b>%{hovertext}</b><br><br>production_company=WingNut Films<br>Year=%{x}<br>Total Revenue (Million $)=%{y}<br>movie_count=%{marker.size}<extra></extra>",
           "hovertext": [
            "WingNut Films"
           ],
           "legendgroup": "WingNut Films",
           "marker": {
            "color": "#636efa",
            "size": [
             1
            ],
            "sizemode": "area",
            "sizeref": 0.0003,
            "symbol": "circle"
           },
           "mode": "markers",
           "name": "WingNut Films",
           "orientation": "v",
           "showlegend": true,
           "type": "scatter",
           "x": [
            2013
           ],
           "xaxis": "x",
           "y": [
            959.08
           ],
           "yaxis": "y"
          },
          {
           "hovertemplate": "<b>%{hovertext}</b><br><br>production_company=Marvel Studios<br>Year=%{x}<br>Total Revenue (Million $)=%{y}<br>movie_count=%{marker.size}<extra></extra>",
           "hovertext": [
            "Marvel Studios"
           ],
           "legendgroup": "Marvel Studios",
           "marker": {
            "color": "#ab63fa",
            "size": [
             1
            ],
            "sizemode": "area",
            "sizeref": 0.0003,
            "symbol": "circle"
           },
           "mode": "markers",
           "name": "Marvel Studios",
           "orientation": "v",
           "showlegend": true,
           "type": "scatter",
           "x": [
            2013
           ],
           "xaxis": "x",
           "y": [
            1266.15
           ],
           "yaxis": "y"
          },
          {
           "hovertemplate": "<b>%{hovertext}</b><br><br>production_company=Metro-Goldwyn-Mayer (MGM)<br>Year=%{x}<br>Total Revenue (Million $)=%{y}<br>movie_count=%{marker.size}<extra></extra>",
           "hovertext": [
            "Metro-Goldwyn-Mayer (MGM)"
           ],
           "legendgroup": "Metro-Goldwyn-Mayer (MGM)",
           "marker": {
            "color": "#B6E880",
            "size": [
             1
            ],
            "sizemode": "area",
            "sizeref": 0.0003,
            "symbol": "circle"
           },
           "mode": "markers",
           "name": "Metro-Goldwyn-Mayer (MGM)",
           "orientation": "v",
           "showlegend": true,
           "type": "scatter",
           "x": [
            2013
           ],
           "xaxis": "x",
           "y": [
            959.08
           ],
           "yaxis": "y"
          },
          {
           "hovertemplate": "<b>%{hovertext}</b><br><br>production_company=DMG Entertainment<br>Year=%{x}<br>Total Revenue (Million $)=%{y}<br>movie_count=%{marker.size}<extra></extra>",
           "hovertext": [
            "DMG Entertainment"
           ],
           "legendgroup": "DMG Entertainment",
           "marker": {
            "color": "#636efa",
            "size": [
             1
            ],
            "sizemode": "area",
            "sizeref": 0.0003,
            "symbol": "circle"
           },
           "mode": "markers",
           "name": "DMG Entertainment",
           "orientation": "v",
           "showlegend": true,
           "type": "scatter",
           "x": [
            2013
           ],
           "xaxis": "x",
           "y": [
            1266.15
           ],
           "yaxis": "y"
          }
         ],
         "name": "2013"
        },
        {
         "data": [
          {
           "hovertemplate": "<b>%{hovertext}</b><br><br>production_company=Village Roadshow Pictures<br>Year=%{x}<br>Total Revenue (Million $)=%{y}<br>movie_count=%{marker.size}<extra></extra>",
           "hovertext": [
            "Village Roadshow Pictures"
           ],
           "legendgroup": "Village Roadshow Pictures",
           "marker": {
            "color": "#B6E880",
            "size": [
             1
            ],
            "sizemode": "area",
            "sizeref": 0.0003,
            "symbol": "circle"
           },
           "mode": "markers",
           "name": "Village Roadshow Pictures",
           "orientation": "v",
           "showlegend": true,
           "type": "scatter",
           "x": [
            2014
           ],
           "xaxis": "x",
           "y": [
            547.66
           ],
           "yaxis": "y"
          },
          {
           "hovertemplate": "<b>%{hovertext}</b><br><br>production_company=New Line Cinema<br>Year=%{x}<br>Total Revenue (Million $)=%{y}<br>movie_count=%{marker.size}<extra></extra>",
           "hovertext": [
            "New Line Cinema"
           ],
           "legendgroup": "New Line Cinema",
           "marker": {
            "color": "#FFA15A",
            "size": [
             1
            ],
            "sizemode": "area",
            "sizeref": 0.0003,
            "symbol": "circle"
           },
           "mode": "markers",
           "name": "New Line Cinema",
           "orientation": "v",
           "showlegend": true,
           "type": "scatter",
           "x": [
            2014
           ],
           "xaxis": "x",
           "y": [
            962.25
           ],
           "yaxis": "y"
          },
          {
           "hovertemplate": "<b>%{hovertext}</b><br><br>production_company=WingNut Films<br>Year=%{x}<br>Total Revenue (Million $)=%{y}<br>movie_count=%{marker.size}<extra></extra>",
           "hovertext": [
            "WingNut Films"
           ],
           "legendgroup": "WingNut Films",
           "marker": {
            "color": "#636efa",
            "size": [
             1
            ],
            "sizemode": "area",
            "sizeref": 0.0003,
            "symbol": "circle"
           },
           "mode": "markers",
           "name": "WingNut Films",
           "orientation": "v",
           "showlegend": true,
           "type": "scatter",
           "x": [
            2014
           ],
           "xaxis": "x",
           "y": [
            962.25
           ],
           "yaxis": "y"
          },
          {
           "hovertemplate": "<b>%{hovertext}</b><br><br>production_company=Warner Bros.<br>Year=%{x}<br>Total Revenue (Million $)=%{y}<br>movie_count=%{marker.size}<extra></extra>",
           "hovertext": [
            "Warner Bros."
           ],
           "legendgroup": "Warner Bros.",
           "marker": {
            "color": "#ab63fa",
            "size": [
             2
            ],
            "sizemode": "area",
            "sizeref": 0.0003,
            "symbol": "circle"
           },
           "mode": "markers",
           "name": "Warner Bros.",
           "orientation": "v",
           "showlegend": true,
           "type": "scatter",
           "x": [
            2014
           ],
           "xaxis": "x",
           "y": [
            1072.6399999999999
           ],
           "yaxis": "y"
          },
          {
           "hovertemplate": "<b>%{hovertext}</b><br><br>production_company=Legendary Entertainment<br>Year=%{x}<br>Total Revenue (Million $)=%{y}<br>movie_count=%{marker.size}<extra></extra>",
           "hovertext": [
            "Legendary Entertainment"
           ],
           "legendgroup": "Legendary Entertainment",
           "marker": {
            "color": "#EF553B",
            "size": [
             1
            ],
            "sizemode": "area",
            "sizeref": 0.0003,
            "symbol": "circle"
           },
           "mode": "markers",
           "name": "Legendary Entertainment",
           "orientation": "v",
           "showlegend": true,
           "type": "scatter",
           "x": [
            2014
           ],
           "xaxis": "x",
           "y": [
            524.98
           ],
           "yaxis": "y"
          },
          {
           "hovertemplate": "<b>%{hovertext}</b><br><br>production_company=Metro-Goldwyn-Mayer (MGM)<br>Year=%{x}<br>Total Revenue (Million $)=%{y}<br>movie_count=%{marker.size}<extra></extra>",
           "hovertext": [
            "Metro-Goldwyn-Mayer (MGM)"
           ],
           "legendgroup": "Metro-Goldwyn-Mayer (MGM)",
           "marker": {
            "color": "#B6E880",
            "size": [
             1
            ],
            "sizemode": "area",
            "sizeref": 0.0003,
            "symbol": "circle"
           },
           "mode": "markers",
           "name": "Metro-Goldwyn-Mayer (MGM)",
           "orientation": "v",
           "showlegend": true,
           "type": "scatter",
           "x": [
            2014
           ],
           "xaxis": "x",
           "y": [
            962.25
           ],
           "yaxis": "y"
          },
          {
           "hovertemplate": "<b>%{hovertext}</b><br><br>production_company=Disruption Entertainment<br>Year=%{x}<br>Total Revenue (Million $)=%{y}<br>movie_count=%{marker.size}<extra></extra>",
           "hovertext": [
            "Disruption Entertainment"
           ],
           "legendgroup": "Disruption Entertainment",
           "marker": {
            "color": "#EF553B",
            "size": [
             1
            ],
            "sizemode": "area",
            "sizeref": 0.0003,
            "symbol": "circle"
           },
           "mode": "markers",
           "name": "Disruption Entertainment",
           "orientation": "v",
           "showlegend": true,
           "type": "scatter",
           "x": [
            2014
           ],
           "xaxis": "x",
           "y": [
            524.98
           ],
           "yaxis": "y"
          },
          {
           "hovertemplate": "<b>%{hovertext}</b><br><br>production_company=RatPac-Dune Entertainment<br>Year=%{x}<br>Total Revenue (Million $)=%{y}<br>movie_count=%{marker.size}<extra></extra>",
           "hovertext": [
            "RatPac-Dune Entertainment"
           ],
           "legendgroup": "RatPac-Dune Entertainment",
           "marker": {
            "color": "#00cc96",
            "size": [
             1
            ],
            "sizemode": "area",
            "sizeref": 0.0003,
            "symbol": "circle"
           },
           "mode": "markers",
           "name": "RatPac-Dune Entertainment",
           "orientation": "v",
           "showlegend": true,
           "type": "scatter",
           "x": [
            2014
           ],
           "xaxis": "x",
           "y": [
            547.66
           ],
           "yaxis": "y"
          }
         ],
         "name": "2014"
        },
        {
         "data": [
          {
           "hovertemplate": "<b>%{hovertext}</b><br><br>production_company=Universal Pictures<br>Year=%{x}<br>Total Revenue (Million $)=%{y}<br>movie_count=%{marker.size}<extra></extra>",
           "hovertext": [
            "Universal Pictures"
           ],
           "legendgroup": "Universal Pictures",
           "marker": {
            "color": "#FF6692",
            "size": [
             1
            ],
            "sizemode": "area",
            "sizeref": 0.0003,
            "symbol": "circle"
           },
           "mode": "markers",
           "name": "Universal Pictures",
           "orientation": "v",
           "showlegend": true,
           "type": "scatter",
           "x": [
            2015
           ],
           "xaxis": "x",
           "y": [
            1671.54
           ],
           "yaxis": "y"
          },
          {
           "hovertemplate": "<b>%{hovertext}</b><br><br>production_company=Pixar Animation Studios<br>Year=%{x}<br>Total Revenue (Million $)=%{y}<br>movie_count=%{marker.size}<extra></extra>",
           "hovertext": [
            "Pixar Animation Studios"
           ],
           "legendgroup": "Pixar Animation Studios",
           "marker": {
            "color": "#B6E880",
            "size": [
             1
            ],
            "sizemode": "area",
            "sizeref": 0.0003,
            "symbol": "circle"
           },
           "mode": "markers",
           "name": "Pixar Animation Studios",
           "orientation": "v",
           "showlegend": true,
           "type": "scatter",
           "x": [
            2015
           ],
           "xaxis": "x",
           "y": [
            859.08
           ],
           "yaxis": "y"
          },
          {
           "hovertemplate": "<b>%{hovertext}</b><br><br>production_company=Walt Disney Pictures<br>Year=%{x}<br>Total Revenue (Million $)=%{y}<br>movie_count=%{marker.size}<extra></extra>",
           "hovertext": [
            "Walt Disney Pictures"
           ],
           "legendgroup": "Walt Disney Pictures",
           "marker": {
            "color": "#FECB52",
            "size": [
             1
            ],
            "sizemode": "area",
            "sizeref": 0.0003,
            "symbol": "circle"
           },
           "mode": "markers",
           "name": "Walt Disney Pictures",
           "orientation": "v",
           "showlegend": true,
           "type": "scatter",
           "x": [
            2015
           ],
           "xaxis": "x",
           "y": [
            859.08
           ],
           "yaxis": "y"
          },
          {
           "hovertemplate": "<b>%{hovertext}</b><br><br>production_company=Amblin Entertainment<br>Year=%{x}<br>Total Revenue (Million $)=%{y}<br>movie_count=%{marker.size}<extra></extra>",
           "hovertext": [
            "Amblin Entertainment"
           ],
           "legendgroup": "Amblin Entertainment",
           "marker": {
            "color": "#19d3f3",
            "size": [
             1
            ],
            "sizemode": "area",
            "sizeref": 0.0003,
            "symbol": "circle"
           },
           "mode": "markers",
           "name": "Amblin Entertainment",
           "orientation": "v",
           "showlegend": true,
           "type": "scatter",
           "x": [
            2015
           ],
           "xaxis": "x",
           "y": [
            1671.54
           ],
           "yaxis": "y"
          },
          {
           "hovertemplate": "<b>%{hovertext}</b><br><br>production_company=Lucasfilm<br>Year=%{x}<br>Total Revenue (Million $)=%{y}<br>movie_count=%{marker.size}<extra></extra>",
           "hovertext": [
            "Lucasfilm"
           ],
           "legendgroup": "Lucasfilm",
           "marker": {
            "color": "#FF6692",
            "size": [
             1
            ],
            "sizemode": "area",
            "sizeref": 0.0003,
            "symbol": "circle"
           },
           "mode": "markers",
           "name": "Lucasfilm",
           "orientation": "v",
           "showlegend": true,
           "type": "scatter",
           "x": [
            2015
           ],
           "xaxis": "x",
           "y": [
            2071.31
           ],
           "yaxis": "y"
          },
          {
           "hovertemplate": "<b>%{hovertext}</b><br><br>production_company=Legendary Entertainment<br>Year=%{x}<br>Total Revenue (Million $)=%{y}<br>movie_count=%{marker.size}<extra></extra>",
           "hovertext": [
            "Legendary Entertainment"
           ],
           "legendgroup": "Legendary Entertainment",
           "marker": {
            "color": "#EF553B",
            "size": [
             1
            ],
            "sizemode": "area",
            "sizeref": 0.0003,
            "symbol": "circle"
           },
           "mode": "markers",
           "name": "Legendary Entertainment",
           "orientation": "v",
           "showlegend": true,
           "type": "scatter",
           "x": [
            2015
           ],
           "xaxis": "x",
           "y": [
            1671.54
           ],
           "yaxis": "y"
          },
          {
           "hovertemplate": "<b>%{hovertext}</b><br><br>production_company=Marvel Studios<br>Year=%{x}<br>Total Revenue (Million $)=%{y}<br>movie_count=%{marker.size}<extra></extra>",
           "hovertext": [
            "Marvel Studios"
           ],
           "legendgroup": "Marvel Studios",
           "marker": {
            "color": "#ab63fa",
            "size": [
             1
            ],
            "sizemode": "area",
            "sizeref": 0.0003,
            "symbol": "circle"
           },
           "mode": "markers",
           "name": "Marvel Studios",
           "orientation": "v",
           "showlegend": true,
           "type": "scatter",
           "x": [
            2015
           ],
           "xaxis": "x",
           "y": [
            1405.02
           ],
           "yaxis": "y"
          },
          {
           "hovertemplate": "<b>%{hovertext}</b><br><br>production_company=Bad Robot<br>Year=%{x}<br>Total Revenue (Million $)=%{y}<br>movie_count=%{marker.size}<extra></extra>",
           "hovertext": [
            "Bad Robot"
           ],
           "legendgroup": "Bad Robot",
           "marker": {
            "color": "#ab63fa",
            "size": [
             1
            ],
            "sizemode": "area",
            "sizeref": 0.0003,
            "symbol": "circle"
           },
           "mode": "markers",
           "name": "Bad Robot",
           "orientation": "v",
           "showlegend": true,
           "type": "scatter",
           "x": [
            2015
           ],
           "xaxis": "x",
           "y": [
            2071.31
           ],
           "yaxis": "y"
          }
         ],
         "name": "2015"
        },
        {
         "data": [
          {
           "hovertemplate": "<b>%{hovertext}</b><br><br>production_company=Universal Pictures<br>Year=%{x}<br>Total Revenue (Million $)=%{y}<br>movie_count=%{marker.size}<extra></extra>",
           "hovertext": [
            "Universal Pictures"
           ],
           "legendgroup": "Universal Pictures",
           "marker": {
            "color": "#FF6692",
            "size": [
             1
            ],
            "sizemode": "area",
            "sizeref": 0.0003,
            "symbol": "circle"
           },
           "mode": "markers",
           "name": "Universal Pictures",
           "orientation": "v",
           "showlegend": true,
           "type": "scatter",
           "x": [
            2016
           ],
           "xaxis": "x",
           "y": [
            875.7
           ],
           "yaxis": "y"
          },
          {
           "hovertemplate": "<b>%{hovertext}</b><br><br>production_company=Pixar Animation Studios<br>Year=%{x}<br>Total Revenue (Million $)=%{y}<br>movie_count=%{marker.size}<extra></extra>",
           "hovertext": [
            "Pixar Animation Studios"
           ],
           "legendgroup": "Pixar Animation Studios",
           "marker": {
            "color": "#B6E880",
            "size": [
             1
            ],
            "sizemode": "area",
            "sizeref": 0.0003,
            "symbol": "circle"
           },
           "mode": "markers",
           "name": "Pixar Animation Studios",
           "orientation": "v",
           "showlegend": true,
           "type": "scatter",
           "x": [
            2016
           ],
           "xaxis": "x",
           "y": [
            1029.27
           ],
           "yaxis": "y"
          },
          {
           "hovertemplate": "<b>%{hovertext}</b><br><br>production_company=Walt Disney Pictures<br>Year=%{x}<br>Total Revenue (Million $)=%{y}<br>movie_count=%{marker.size}<extra></extra>",
           "hovertext": [
            "Walt Disney Pictures"
           ],
           "legendgroup": "Walt Disney Pictures",
           "marker": {
            "color": "#FECB52",
            "size": [
             2
            ],
            "sizemode": "area",
            "sizeref": 0.0003,
            "symbol": "circle"
           },
           "mode": "markers",
           "name": "Walt Disney Pictures",
           "orientation": "v",
           "showlegend": true,
           "type": "scatter",
           "x": [
            2016
           ],
           "xaxis": "x",
           "y": [
            1996.99
           ],
           "yaxis": "y"
          },
          {
           "hovertemplate": "<b>%{hovertext}</b><br><br>production_company=Lucasfilm<br>Year=%{x}<br>Total Revenue (Million $)=%{y}<br>movie_count=%{marker.size}<extra></extra>",
           "hovertext": [
            "Lucasfilm"
           ],
           "legendgroup": "Lucasfilm",
           "marker": {
            "color": "#FF6692",
            "size": [
             1
            ],
            "sizemode": "area",
            "sizeref": 0.0003,
            "symbol": "circle"
           },
           "mode": "markers",
           "name": "Lucasfilm",
           "orientation": "v",
           "showlegend": true,
           "type": "scatter",
           "x": [
            2016
           ],
           "xaxis": "x",
           "y": [
            1058.68
           ],
           "yaxis": "y"
          },
          {
           "hovertemplate": "<b>%{hovertext}</b><br><br>production_company=Allison Shearmur Productions<br>Year=%{x}<br>Total Revenue (Million $)=%{y}<br>movie_count=%{marker.size}<extra></extra>",
           "hovertext": [
            "Allison Shearmur Productions"
           ],
           "legendgroup": "Allison Shearmur Productions",
           "marker": {
            "color": "#FFA15A",
            "size": [
             1
            ],
            "sizemode": "area",
            "sizeref": 0.0003,
            "symbol": "circle"
           },
           "mode": "markers",
           "name": "Allison Shearmur Productions",
           "orientation": "v",
           "showlegend": true,
           "type": "scatter",
           "x": [
            2016
           ],
           "xaxis": "x",
           "y": [
            1058.68
           ],
           "yaxis": "y"
          },
          {
           "hovertemplate": "<b>%{hovertext}</b><br><br>production_company=Dentsu<br>Year=%{x}<br>Total Revenue (Million $)=%{y}<br>movie_count=%{marker.size}<extra></extra>",
           "hovertext": [
            "Dentsu"
           ],
           "legendgroup": "Dentsu",
           "marker": {
            "color": "#19d3f3",
            "size": [
             1
            ],
            "sizemode": "area",
            "sizeref": 0.0003,
            "symbol": "circle"
           },
           "mode": "markers",
           "name": "Dentsu",
           "orientation": "v",
           "showlegend": true,
           "type": "scatter",
           "x": [
            2016
           ],
           "xaxis": "x",
           "y": [
            875.7
           ],
           "yaxis": "y"
          },
          {
           "hovertemplate": "<b>%{hovertext}</b><br><br>production_company=Fairview Entertainment<br>Year=%{x}<br>Total Revenue (Million $)=%{y}<br>movie_count=%{marker.size}<extra></extra>",
           "hovertext": [
            "Fairview Entertainment"
           ],
           "legendgroup": "Fairview Entertainment",
           "marker": {
            "color": "#FF6692",
            "size": [
             1
            ],
            "sizemode": "area",
            "sizeref": 0.0003,
            "symbol": "circle"
           },
           "mode": "markers",
           "name": "Fairview Entertainment",
           "orientation": "v",
           "showlegend": true,
           "type": "scatter",
           "x": [
            2016
           ],
           "xaxis": "x",
           "y": [
            967.72
           ],
           "yaxis": "y"
          },
          {
           "hovertemplate": "<b>%{hovertext}</b><br><br>production_company=Illumination Entertainment<br>Year=%{x}<br>Total Revenue (Million $)=%{y}<br>movie_count=%{marker.size}<extra></extra>",
           "hovertext": [
            "Illumination Entertainment"
           ],
           "legendgroup": "Illumination Entertainment",
           "marker": {
            "color": "#B6E880",
            "size": [
             1
            ],
            "sizemode": "area",
            "sizeref": 0.0003,
            "symbol": "circle"
           },
           "mode": "markers",
           "name": "Illumination Entertainment",
           "orientation": "v",
           "showlegend": true,
           "type": "scatter",
           "x": [
            2016
           ],
           "xaxis": "x",
           "y": [
            875.7
           ],
           "yaxis": "y"
          },
          {
           "hovertemplate": "<b>%{hovertext}</b><br><br>production_company=Moving Picture Company (MPC)<br>Year=%{x}<br>Total Revenue (Million $)=%{y}<br>movie_count=%{marker.size}<extra></extra>",
           "hovertext": [
            "Moving Picture Company (MPC)"
           ],
           "legendgroup": "Moving Picture Company (MPC)",
           "marker": {
            "color": "#FF97FF",
            "size": [
             1
            ],
            "sizemode": "area",
            "sizeref": 0.0003,
            "symbol": "circle"
           },
           "mode": "markers",
           "name": "Moving Picture Company (MPC)",
           "orientation": "v",
           "showlegend": true,
           "type": "scatter",
           "x": [
            2016
           ],
           "xaxis": "x",
           "y": [
            967.72
           ],
           "yaxis": "y"
          }
         ],
         "name": "2016"
        },
        {
         "data": [
          {
           "hovertemplate": "<b>%{hovertext}</b><br><br>production_company=New Line Cinema<br>Year=%{x}<br>Total Revenue (Million $)=%{y}<br>movie_count=%{marker.size}<extra></extra>",
           "hovertext": [
            "New Line Cinema"
           ],
           "legendgroup": "New Line Cinema",
           "marker": {
            "color": "#FFA15A",
            "size": [
             1
            ],
            "sizemode": "area",
            "sizeref": 0.0003,
            "symbol": "circle"
           },
           "mode": "markers",
           "name": "New Line Cinema",
           "orientation": "v",
           "showlegend": true,
           "type": "scatter",
           "x": [
            2017
           ],
           "xaxis": "x",
           "y": [
            704.24
           ],
           "yaxis": "y"
          },
          {
           "hovertemplate": "<b>%{hovertext}</b><br><br>production_company=Walt Disney Pictures<br>Year=%{x}<br>Total Revenue (Million $)=%{y}<br>movie_count=%{marker.size}<extra></extra>",
           "hovertext": [
            "Walt Disney Pictures"
           ],
           "legendgroup": "Walt Disney Pictures",
           "marker": {
            "color": "#FECB52",
            "size": [
             1
            ],
            "sizemode": "area",
            "sizeref": 0.0003,
            "symbol": "circle"
           },
           "mode": "markers",
           "name": "Walt Disney Pictures",
           "orientation": "v",
           "showlegend": true,
           "type": "scatter",
           "x": [
            2017
           ],
           "xaxis": "x",
           "y": [
            1356.08
           ],
           "yaxis": "y"
          },
          {
           "hovertemplate": "<b>%{hovertext}</b><br><br>production_company=Columbia Pictures<br>Year=%{x}<br>Total Revenue (Million $)=%{y}<br>movie_count=%{marker.size}<extra></extra>",
           "hovertext": [
            "Columbia Pictures"
           ],
           "legendgroup": "Columbia Pictures",
           "marker": {
            "color": "#FECB52",
            "size": [
             1
            ],
            "sizemode": "area",
            "sizeref": 0.0003,
            "symbol": "circle"
           },
           "mode": "markers",
           "name": "Columbia Pictures",
           "orientation": "v",
           "showlegend": true,
           "type": "scatter",
           "x": [
            2017
           ],
           "xaxis": "x",
           "y": [
            880.96
           ],
           "yaxis": "y"
          },
          {
           "hovertemplate": "<b>%{hovertext}</b><br><br>production_company=Warner Bros.<br>Year=%{x}<br>Total Revenue (Million $)=%{y}<br>movie_count=%{marker.size}<extra></extra>",
           "hovertext": [
            "Warner Bros."
           ],
           "legendgroup": "Warner Bros.",
           "marker": {
            "color": "#ab63fa",
            "size": [
             2
            ],
            "sizemode": "area",
            "sizeref": 0.0003,
            "symbol": "circle"
           },
           "mode": "markers",
           "name": "Warner Bros.",
           "orientation": "v",
           "showlegend": true,
           "type": "scatter",
           "x": [
            2017
           ],
           "xaxis": "x",
           "y": [
            1392.62
           ],
           "yaxis": "y"
          },
          {
           "hovertemplate": "<b>%{hovertext}</b><br><br>production_company=Lucasfilm<br>Year=%{x}<br>Total Revenue (Million $)=%{y}<br>movie_count=%{marker.size}<extra></extra>",
           "hovertext": [
            "Lucasfilm"
           ],
           "legendgroup": "Lucasfilm",
           "marker": {
            "color": "#FF6692",
            "size": [
             1
            ],
            "sizemode": "area",
            "sizeref": 0.0003,
            "symbol": "circle"
           },
           "mode": "markers",
           "name": "Lucasfilm",
           "orientation": "v",
           "showlegend": true,
           "type": "scatter",
           "x": [
            2017
           ],
           "xaxis": "x",
           "y": [
            1334.41
           ],
           "yaxis": "y"
          },
          {
           "hovertemplate": "<b>%{hovertext}</b><br><br>production_company=Legendary Entertainment<br>Year=%{x}<br>Total Revenue (Million $)=%{y}<br>movie_count=%{marker.size}<extra></extra>",
           "hovertext": [
            "Legendary Entertainment"
           ],
           "legendgroup": "Legendary Entertainment",
           "marker": {
            "color": "#EF553B",
            "size": [
             1
            ],
            "sizemode": "area",
            "sizeref": 0.0003,
            "symbol": "circle"
           },
           "mode": "markers",
           "name": "Legendary Entertainment",
           "orientation": "v",
           "showlegend": true,
           "type": "scatter",
           "x": [
            2017
           ],
           "xaxis": "x",
           "y": [
            568.65
           ],
           "yaxis": "y"
          },
          {
           "hovertemplate": "<b>%{hovertext}</b><br><br>production_company=Marvel Studios<br>Year=%{x}<br>Total Revenue (Million $)=%{y}<br>movie_count=%{marker.size}<extra></extra>",
           "hovertext": [
            "Marvel Studios"
           ],
           "legendgroup": "Marvel Studios",
           "marker": {
            "color": "#ab63fa",
            "size": [
             1
            ],
            "sizemode": "area",
            "sizeref": 0.0003,
            "symbol": "circle"
           },
           "mode": "markers",
           "name": "Marvel Studios",
           "orientation": "v",
           "showlegend": true,
           "type": "scatter",
           "x": [
            2017
           ],
           "xaxis": "x",
           "y": [
            880.96
           ],
           "yaxis": "y"
          },
          {
           "hovertemplate": "<b>%{hovertext}</b><br><br>production_company=RatPac-Dune Entertainment<br>Year=%{x}<br>Total Revenue (Million $)=%{y}<br>movie_count=%{marker.size}<extra></extra>",
           "hovertext": [
            "RatPac-Dune Entertainment"
           ],
           "legendgroup": "RatPac-Dune Entertainment",
           "marker": {
            "color": "#00cc96",
            "size": [
             1
            ],
            "sizemode": "area",
            "sizeref": 0.0003,
            "symbol": "circle"
           },
           "mode": "markers",
           "name": "RatPac-Dune Entertainment",
           "orientation": "v",
           "showlegend": true,
           "type": "scatter",
           "x": [
            2017
           ],
           "xaxis": "x",
           "y": [
            704.24
           ],
           "yaxis": "y"
          },
          {
           "hovertemplate": "<b>%{hovertext}</b><br><br>production_company=Bad Robot<br>Year=%{x}<br>Total Revenue (Million $)=%{y}<br>movie_count=%{marker.size}<extra></extra>",
           "hovertext": [
            "Bad Robot"
           ],
           "legendgroup": "Bad Robot",
           "marker": {
            "color": "#ab63fa",
            "size": [
             1
            ],
            "sizemode": "area",
            "sizeref": 0.0003,
            "symbol": "circle"
           },
           "mode": "markers",
           "name": "Bad Robot",
           "orientation": "v",
           "showlegend": true,
           "type": "scatter",
           "x": [
            2017
           ],
           "xaxis": "x",
           "y": [
            1334.41
           ],
           "yaxis": "y"
          },
          {
           "hovertemplate": "<b>%{hovertext}</b><br><br>production_company=Atlas Entertainment<br>Year=%{x}<br>Total Revenue (Million $)=%{y}<br>movie_count=%{marker.size}<extra></extra>",
           "hovertext": [
            "Atlas Entertainment"
           ],
           "legendgroup": "Atlas Entertainment",
           "marker": {
            "color": "#FECB52",
            "size": [
             1
            ],
            "sizemode": "area",
            "sizeref": 0.0003,
            "symbol": "circle"
           },
           "mode": "markers",
           "name": "Atlas Entertainment",
           "orientation": "v",
           "showlegend": true,
           "type": "scatter",
           "x": [
            2017
           ],
           "xaxis": "x",
           "y": [
            823.97
           ],
           "yaxis": "y"
          },
          {
           "hovertemplate": "<b>%{hovertext}</b><br><br>production_company=Cruel & Unusual Films<br>Year=%{x}<br>Total Revenue (Million $)=%{y}<br>movie_count=%{marker.size}<extra></extra>",
           "hovertext": [
            "Cruel & Unusual Films"
           ],
           "legendgroup": "Cruel & Unusual Films",
           "marker": {
            "color": "#636efa",
            "size": [
             1
            ],
            "sizemode": "area",
            "sizeref": 0.0003,
            "symbol": "circle"
           },
           "mode": "markers",
           "name": "Cruel & Unusual Films",
           "orientation": "v",
           "showlegend": true,
           "type": "scatter",
           "x": [
            2017
           ],
           "xaxis": "x",
           "y": [
            823.97
           ],
           "yaxis": "y"
          },
          {
           "hovertemplate": "<b>%{hovertext}</b><br><br>production_company=Mandeville Films<br>Year=%{x}<br>Total Revenue (Million $)=%{y}<br>movie_count=%{marker.size}<extra></extra>",
           "hovertext": [
            "Mandeville Films"
           ],
           "legendgroup": "Mandeville Films",
           "marker": {
            "color": "#EF553B",
            "size": [
             1
            ],
            "sizemode": "area",
            "sizeref": 0.0003,
            "symbol": "circle"
           },
           "mode": "markers",
           "name": "Mandeville Films",
           "orientation": "v",
           "showlegend": true,
           "type": "scatter",
           "x": [
            2017
           ],
           "xaxis": "x",
           "y": [
            1356.08
           ],
           "yaxis": "y"
          },
          {
           "hovertemplate": "<b>%{hovertext}</b><br><br>production_company=Pascal Pictures<br>Year=%{x}<br>Total Revenue (Million $)=%{y}<br>movie_count=%{marker.size}<extra></extra>",
           "hovertext": [
            "Pascal Pictures"
           ],
           "legendgroup": "Pascal Pictures",
           "marker": {
            "color": "#00cc96",
            "size": [
             1
            ],
            "sizemode": "area",
            "sizeref": 0.0003,
            "symbol": "circle"
           },
           "mode": "markers",
           "name": "Pascal Pictures",
           "orientation": "v",
           "showlegend": true,
           "type": "scatter",
           "x": [
            2017
           ],
           "xaxis": "x",
           "y": [
            880.96
           ],
           "yaxis": "y"
          },
          {
           "hovertemplate": "<b>%{hovertext}</b><br><br>production_company=Ram Bergman Productions<br>Year=%{x}<br>Total Revenue (Million $)=%{y}<br>movie_count=%{marker.size}<extra></extra>",
           "hovertext": [
            "Ram Bergman Productions"
           ],
           "legendgroup": "Ram Bergman Productions",
           "marker": {
            "color": "#ab63fa",
            "size": [
             1
            ],
            "sizemode": "area",
            "sizeref": 0.0003,
            "symbol": "circle"
           },
           "mode": "markers",
           "name": "Ram Bergman Productions",
           "orientation": "v",
           "showlegend": true,
           "type": "scatter",
           "x": [
            2017
           ],
           "xaxis": "x",
           "y": [
            1334.41
           ],
           "yaxis": "y"
          },
          {
           "hovertemplate": "<b>%{hovertext}</b><br><br>production_company=Tencent Pictures<br>Year=%{x}<br>Total Revenue (Million $)=%{y}<br>movie_count=%{marker.size}<extra></extra>",
           "hovertext": [
            "Tencent Pictures"
           ],
           "legendgroup": "Tencent Pictures",
           "marker": {
            "color": "#FFA15A",
            "size": [
             1
            ],
            "sizemode": "area",
            "sizeref": 0.0003,
            "symbol": "circle"
           },
           "mode": "markers",
           "name": "Tencent Pictures",
           "orientation": "v",
           "showlegend": true,
           "type": "scatter",
           "x": [
            2017
           ],
           "xaxis": "x",
           "y": [
            568.65
           ],
           "yaxis": "y"
          },
          {
           "hovertemplate": "<b>%{hovertext}</b><br><br>production_company=Vertigo Entertainment<br>Year=%{x}<br>Total Revenue (Million $)=%{y}<br>movie_count=%{marker.size}<extra></extra>",
           "hovertext": [
            "Vertigo Entertainment"
           ],
           "legendgroup": "Vertigo Entertainment",
           "marker": {
            "color": "#19d3f3",
            "size": [
             1
            ],
            "sizemode": "area",
            "sizeref": 0.0003,
            "symbol": "circle"
           },
           "mode": "markers",
           "name": "Vertigo Entertainment",
           "orientation": "v",
           "showlegend": true,
           "type": "scatter",
           "x": [
            2017
           ],
           "xaxis": "x",
           "y": [
            704.24
           ],
           "yaxis": "y"
          }
         ],
         "name": "2017"
        },
        {
         "data": [
          {
           "hovertemplate": "<b>%{hovertext}</b><br><br>production_company=Universal Pictures<br>Year=%{x}<br>Total Revenue (Million $)=%{y}<br>movie_count=%{marker.size}<extra></extra>",
           "hovertext": [
            "Universal Pictures"
           ],
           "legendgroup": "Universal Pictures",
           "marker": {
            "color": "#FF6692",
            "size": [
             1
            ],
            "sizemode": "area",
            "sizeref": 0.0003,
            "symbol": "circle"
           },
           "mode": "markers",
           "name": "Universal Pictures",
           "orientation": "v",
           "showlegend": true,
           "type": "scatter",
           "x": [
            2018
           ],
           "xaxis": "x",
           "y": [
            1310.47
           ],
           "yaxis": "y"
          },
          {
           "hovertemplate": "<b>%{hovertext}</b><br><br>production_company=Village Roadshow Pictures<br>Year=%{x}<br>Total Revenue (Million $)=%{y}<br>movie_count=%{marker.size}<extra></extra>",
           "hovertext": [
            "Village Roadshow Pictures"
           ],
           "legendgroup": "Village Roadshow Pictures",
           "marker": {
            "color": "#B6E880",
            "size": [
             1
            ],
            "sizemode": "area",
            "sizeref": 0.0003,
            "symbol": "circle"
           },
           "mode": "markers",
           "name": "Village Roadshow Pictures",
           "orientation": "v",
           "showlegend": true,
           "type": "scatter",
           "x": [
            2018
           ],
           "xaxis": "x",
           "y": [
            607.87
           ],
           "yaxis": "y"
          },
          {
           "hovertemplate": "<b>%{hovertext}</b><br><br>production_company=Pixar Animation Studios<br>Year=%{x}<br>Total Revenue (Million $)=%{y}<br>movie_count=%{marker.size}<extra></extra>",
           "hovertext": [
            "Pixar Animation Studios"
           ],
           "legendgroup": "Pixar Animation Studios",
           "marker": {
            "color": "#B6E880",
            "size": [
             1
            ],
            "sizemode": "area",
            "sizeref": 0.0003,
            "symbol": "circle"
           },
           "mode": "markers",
           "name": "Pixar Animation Studios",
           "orientation": "v",
           "showlegend": true,
           "type": "scatter",
           "x": [
            2018
           ],
           "xaxis": "x",
           "y": [
            1243.23
           ],
           "yaxis": "y"
          },
          {
           "hovertemplate": "<b>%{hovertext}</b><br><br>production_company=Walt Disney Pictures<br>Year=%{x}<br>Total Revenue (Million $)=%{y}<br>movie_count=%{marker.size}<extra></extra>",
           "hovertext": [
            "Walt Disney Pictures"
           ],
           "legendgroup": "Walt Disney Pictures",
           "marker": {
            "color": "#FECB52",
            "size": [
             1
            ],
            "sizemode": "area",
            "sizeref": 0.0003,
            "symbol": "circle"
           },
           "mode": "markers",
           "name": "Walt Disney Pictures",
           "orientation": "v",
           "showlegend": true,
           "type": "scatter",
           "x": [
            2018
           ],
           "xaxis": "x",
           "y": [
            1243.23
           ],
           "yaxis": "y"
          },
          {
           "hovertemplate": "<b>%{hovertext}</b><br><br>production_company=Miramax<br>Year=%{x}<br>Total Revenue (Million $)=%{y}<br>movie_count=%{marker.size}<extra></extra>",
           "hovertext": [
            "Miramax"
           ],
           "legendgroup": "Miramax",
           "marker": {
            "color": "#ab63fa",
            "size": [
             1
            ],
            "sizemode": "area",
            "sizeref": 0.0003,
            "symbol": "circle"
           },
           "mode": "markers",
           "name": "Miramax",
           "orientation": "v",
           "showlegend": true,
           "type": "scatter",
           "x": [
            2018
           ],
           "xaxis": "x",
           "y": [
            259.94
           ],
           "yaxis": "y"
          },
          {
           "hovertemplate": "<b>%{hovertext}</b><br><br>production_company=Warner Bros.<br>Year=%{x}<br>Total Revenue (Million $)=%{y}<br>movie_count=%{marker.size}<extra></extra>",
           "hovertext": [
            "Warner Bros."
           ],
           "legendgroup": "Warner Bros.",
           "marker": {
            "color": "#ab63fa",
            "size": [
             1
            ],
            "sizemode": "area",
            "sizeref": 0.0003,
            "symbol": "circle"
           },
           "mode": "markers",
           "name": "Warner Bros.",
           "orientation": "v",
           "showlegend": true,
           "type": "scatter",
           "x": [
            2018
           ],
           "xaxis": "x",
           "y": [
            607.87
           ],
           "yaxis": "y"
          },
          {
           "hovertemplate": "<b>%{hovertext}</b><br><br>production_company=Amblin Entertainment<br>Year=%{x}<br>Total Revenue (Million $)=%{y}<br>movie_count=%{marker.size}<extra></extra>",
           "hovertext": [
            "Amblin Entertainment"
           ],
           "legendgroup": "Amblin Entertainment",
           "marker": {
            "color": "#19d3f3",
            "size": [
             2
            ],
            "sizemode": "area",
            "sizeref": 0.0003,
            "symbol": "circle"
           },
           "mode": "markers",
           "name": "Amblin Entertainment",
           "orientation": "v",
           "showlegend": true,
           "type": "scatter",
           "x": [
            2018
           ],
           "xaxis": "x",
           "y": [
            1918.3400000000001
           ],
           "yaxis": "y"
          },
          {
           "hovertemplate": "<b>%{hovertext}</b><br><br>production_company=Legendary Entertainment<br>Year=%{x}<br>Total Revenue (Million $)=%{y}<br>movie_count=%{marker.size}<extra></extra>",
           "hovertext": [
            "Legendary Entertainment"
           ],
           "legendgroup": "Legendary Entertainment",
           "marker": {
            "color": "#EF553B",
            "size": [
             1
            ],
            "sizemode": "area",
            "sizeref": 0.0003,
            "symbol": "circle"
           },
           "mode": "markers",
           "name": "Legendary Entertainment",
           "orientation": "v",
           "showlegend": true,
           "type": "scatter",
           "x": [
            2018
           ],
           "xaxis": "x",
           "y": [
            1310.47
           ],
           "yaxis": "y"
          },
          {
           "hovertemplate": "<b>%{hovertext}</b><br><br>production_company=Marvel Studios<br>Year=%{x}<br>Total Revenue (Million $)=%{y}<br>movie_count=%{marker.size}<extra></extra>",
           "hovertext": [
            "Marvel Studios"
           ],
           "legendgroup": "Marvel Studios",
           "marker": {
            "color": "#ab63fa",
            "size": [
             2
            ],
            "sizemode": "area",
            "sizeref": 0.0003,
            "symbol": "circle"
           },
           "mode": "markers",
           "name": "Marvel Studios",
           "orientation": "v",
           "showlegend": true,
           "type": "scatter",
           "x": [
            2018
           ],
           "xaxis": "x",
           "y": [
            3402.3500000000004
           ],
           "yaxis": "y"
          },
          {
           "hovertemplate": "<b>%{hovertext}</b><br><br>production_company=Blumhouse Productions<br>Year=%{x}<br>Total Revenue (Million $)=%{y}<br>movie_count=%{marker.size}<extra></extra>",
           "hovertext": [
            "Blumhouse Productions"
           ],
           "legendgroup": "Blumhouse Productions",
           "marker": {
            "color": "#FF6692",
            "size": [
             1
            ],
            "sizemode": "area",
            "sizeref": 0.0003,
            "symbol": "circle"
           },
           "mode": "markers",
           "name": "Blumhouse Productions",
           "orientation": "v",
           "showlegend": true,
           "type": "scatter",
           "x": [
            2018
           ],
           "xaxis": "x",
           "y": [
            259.94
           ],
           "yaxis": "y"
          },
          {
           "hovertemplate": "<b>%{hovertext}</b><br><br>production_company=Jason Roberts Productions<br>Year=%{x}<br>Total Revenue (Million $)=%{y}<br>movie_count=%{marker.size}<extra></extra>",
           "hovertext": [
            "Jason Roberts Productions"
           ],
           "legendgroup": "Jason Roberts Productions",
           "marker": {
            "color": "#B6E880",
            "size": [
             1
            ],
            "sizemode": "area",
            "sizeref": 0.0003,
            "symbol": "circle"
           },
           "mode": "markers",
           "name": "Jason Roberts Productions",
           "orientation": "v",
           "showlegend": true,
           "type": "scatter",
           "x": [
            2018
           ],
           "xaxis": "x",
           "y": [
            2052.42
           ],
           "yaxis": "y"
          },
          {
           "hovertemplate": "<b>%{hovertext}</b><br><br>production_company=Night Blade Holdings<br>Year=%{x}<br>Total Revenue (Million $)=%{y}<br>movie_count=%{marker.size}<extra></extra>",
           "hovertext": [
            "Night Blade Holdings"
           ],
           "legendgroup": "Night Blade Holdings",
           "marker": {
            "color": "#FF97FF",
            "size": [
             1
            ],
            "sizemode": "area",
            "sizeref": 0.0003,
            "symbol": "circle"
           },
           "mode": "markers",
           "name": "Night Blade Holdings",
           "orientation": "v",
           "showlegend": true,
           "type": "scatter",
           "x": [
            2018
           ],
           "xaxis": "x",
           "y": [
            259.94
           ],
           "yaxis": "y"
          },
          {
           "hovertemplate": "<b>%{hovertext}</b><br><br>production_company=South Pictures<br>Year=%{x}<br>Total Revenue (Million $)=%{y}<br>movie_count=%{marker.size}<extra></extra>",
           "hovertext": [
            "South Pictures"
           ],
           "legendgroup": "South Pictures",
           "marker": {
            "color": "#FECB52",
            "size": [
             1
            ],
            "sizemode": "area",
            "sizeref": 0.0003,
            "symbol": "circle"
           },
           "mode": "markers",
           "name": "South Pictures",
           "orientation": "v",
           "showlegend": true,
           "type": "scatter",
           "x": [
            2018
           ],
           "xaxis": "x",
           "y": [
            2052.42
           ],
           "yaxis": "y"
          }
         ],
         "name": "2018"
        },
        {
         "data": [
          {
           "hovertemplate": "<b>%{hovertext}</b><br><br>production_company=Village Roadshow Pictures<br>Year=%{x}<br>Total Revenue (Million $)=%{y}<br>movie_count=%{marker.size}<extra></extra>",
           "hovertext": [
            "Village Roadshow Pictures"
           ],
           "legendgroup": "Village Roadshow Pictures",
           "marker": {
            "color": "#B6E880",
            "size": [
             1
            ],
            "sizemode": "area",
            "sizeref": 0.0003,
            "symbol": "circle"
           },
           "mode": "markers",
           "name": "Village Roadshow Pictures",
           "orientation": "v",
           "showlegend": true,
           "type": "scatter",
           "x": [
            2019
           ],
           "xaxis": "x",
           "y": [
            1078.96
           ],
           "yaxis": "y"
          },
          {
           "hovertemplate": "<b>%{hovertext}</b><br><br>production_company=New Line Cinema<br>Year=%{x}<br>Total Revenue (Million $)=%{y}<br>movie_count=%{marker.size}<extra></extra>",
           "hovertext": [
            "New Line Cinema"
           ],
           "legendgroup": "New Line Cinema",
           "marker": {
            "color": "#FFA15A",
            "size": [
             1
            ],
            "sizemode": "area",
            "sizeref": 0.0003,
            "symbol": "circle"
           },
           "mode": "markers",
           "name": "New Line Cinema",
           "orientation": "v",
           "showlegend": true,
           "type": "scatter",
           "x": [
            2019
           ],
           "xaxis": "x",
           "y": [
            473.12
           ],
           "yaxis": "y"
          },
          {
           "hovertemplate": "<b>%{hovertext}</b><br><br>production_company=Pixar Animation Studios<br>Year=%{x}<br>Total Revenue (Million $)=%{y}<br>movie_count=%{marker.size}<extra></extra>",
           "hovertext": [
            "Pixar Animation Studios"
           ],
           "legendgroup": "Pixar Animation Studios",
           "marker": {
            "color": "#B6E880",
            "size": [
             1
            ],
            "sizemode": "area",
            "sizeref": 0.0003,
            "symbol": "circle"
           },
           "mode": "markers",
           "name": "Pixar Animation Studios",
           "orientation": "v",
           "showlegend": true,
           "type": "scatter",
           "x": [
            2019
           ],
           "xaxis": "x",
           "y": [
            1073.84
           ],
           "yaxis": "y"
          },
          {
           "hovertemplate": "<b>%{hovertext}</b><br><br>production_company=Walt Disney Pictures<br>Year=%{x}<br>Total Revenue (Million $)=%{y}<br>movie_count=%{marker.size}<extra></extra>",
           "hovertext": [
            "Walt Disney Pictures"
           ],
           "legendgroup": "Walt Disney Pictures",
           "marker": {
            "color": "#FECB52",
            "size": [
             3
            ],
            "sizemode": "area",
            "sizeref": 0.0003,
            "symbol": "circle"
           },
           "mode": "markers",
           "name": "Walt Disney Pictures",
           "orientation": "v",
           "showlegend": true,
           "type": "scatter",
           "x": [
            2019
           ],
           "xaxis": "x",
           "y": [
            4189.54
           ],
           "yaxis": "y"
          },
          {
           "hovertemplate": "<b>%{hovertext}</b><br><br>production_company=Columbia Pictures<br>Year=%{x}<br>Total Revenue (Million $)=%{y}<br>movie_count=%{marker.size}<extra></extra>",
           "hovertext": [
            "Columbia Pictures"
           ],
           "legendgroup": "Columbia Pictures",
           "marker": {
            "color": "#FECB52",
            "size": [
             1
            ],
            "sizemode": "area",
            "sizeref": 0.0003,
            "symbol": "circle"
           },
           "mode": "markers",
           "name": "Columbia Pictures",
           "orientation": "v",
           "showlegend": true,
           "type": "scatter",
           "x": [
            2019
           ],
           "xaxis": "x",
           "y": [
            1132.71
           ],
           "yaxis": "y"
          },
          {
           "hovertemplate": "<b>%{hovertext}</b><br><br>production_company=Warner Bros.<br>Year=%{x}<br>Total Revenue (Million $)=%{y}<br>movie_count=%{marker.size}<extra></extra>",
           "hovertext": [
            "Warner Bros."
           ],
           "legendgroup": "Warner Bros.",
           "marker": {
            "color": "#ab63fa",
            "size": [
             2
            ],
            "sizemode": "area",
            "sizeref": 0.0003,
            "symbol": "circle"
           },
           "mode": "markers",
           "name": "Warner Bros.",
           "orientation": "v",
           "showlegend": true,
           "type": "scatter",
           "x": [
            2019
           ],
           "xaxis": "x",
           "y": [
            1529.02
           ],
           "yaxis": "y"
          },
          {
           "hovertemplate": "<b>%{hovertext}</b><br><br>production_company=Lucasfilm<br>Year=%{x}<br>Total Revenue (Million $)=%{y}<br>movie_count=%{marker.size}<extra></extra>",
           "hovertext": [
            "Lucasfilm"
           ],
           "legendgroup": "Lucasfilm",
           "marker": {
            "color": "#FF6692",
            "size": [
             1
            ],
            "sizemode": "area",
            "sizeref": 0.0003,
            "symbol": "circle"
           },
           "mode": "markers",
           "name": "Lucasfilm",
           "orientation": "v",
           "showlegend": true,
           "type": "scatter",
           "x": [
            2019
           ],
           "xaxis": "x",
           "y": [
            1077.02
           ],
           "yaxis": "y"
          },
          {
           "hovertemplate": "<b>%{hovertext}</b><br><br>production_company=Legendary Entertainment<br>Year=%{x}<br>Total Revenue (Million $)=%{y}<br>movie_count=%{marker.size}<extra></extra>",
           "hovertext": [
            "Legendary Entertainment"
           ],
           "legendgroup": "Legendary Entertainment",
           "marker": {
            "color": "#EF553B",
            "size": [
             1
            ],
            "sizemode": "area",
            "sizeref": 0.0003,
            "symbol": "circle"
           },
           "mode": "markers",
           "name": "Legendary Entertainment",
           "orientation": "v",
           "showlegend": true,
           "type": "scatter",
           "x": [
            2019
           ],
           "xaxis": "x",
           "y": [
            450.06
           ],
           "yaxis": "y"
          },
          {
           "hovertemplate": "<b>%{hovertext}</b><br><br>production_company=Marvel Studios<br>Year=%{x}<br>Total Revenue (Million $)=%{y}<br>movie_count=%{marker.size}<extra></extra>",
           "hovertext": [
            "Marvel Studios"
           ],
           "legendgroup": "Marvel Studios",
           "marker": {
            "color": "#ab63fa",
            "size": [
             3
            ],
            "sizemode": "area",
            "sizeref": 0.0003,
            "symbol": "circle"
           },
           "mode": "markers",
           "name": "Marvel Studios",
           "orientation": "v",
           "showlegend": true,
           "type": "scatter",
           "x": [
            2019
           ],
           "xaxis": "x",
           "y": [
            5063.57
           ],
           "yaxis": "y"
          },
          {
           "hovertemplate": "<b>%{hovertext}</b><br><br>production_company=Bad Robot<br>Year=%{x}<br>Total Revenue (Million $)=%{y}<br>movie_count=%{marker.size}<extra></extra>",
           "hovertext": [
            "Bad Robot"
           ],
           "legendgroup": "Bad Robot",
           "marker": {
            "color": "#ab63fa",
            "size": [
             1
            ],
            "sizemode": "area",
            "sizeref": 0.0003,
            "symbol": "circle"
           },
           "mode": "markers",
           "name": "Bad Robot",
           "orientation": "v",
           "showlegend": true,
           "type": "scatter",
           "x": [
            2019
           ],
           "xaxis": "x",
           "y": [
            1077.02
           ],
           "yaxis": "y"
          },
          {
           "hovertemplate": "<b>%{hovertext}</b><br><br>production_company=Fairview Entertainment<br>Year=%{x}<br>Total Revenue (Million $)=%{y}<br>movie_count=%{marker.size}<extra></extra>",
           "hovertext": [
            "Fairview Entertainment"
           ],
           "legendgroup": "Fairview Entertainment",
           "marker": {
            "color": "#FF6692",
            "size": [
             1
            ],
            "sizemode": "area",
            "sizeref": 0.0003,
            "symbol": "circle"
           },
           "mode": "markers",
           "name": "Fairview Entertainment",
           "orientation": "v",
           "showlegend": true,
           "type": "scatter",
           "x": [
            2019
           ],
           "xaxis": "x",
           "y": [
            1662.02
           ],
           "yaxis": "y"
          },
          {
           "hovertemplate": "<b>%{hovertext}</b><br><br>production_company=Pascal Pictures<br>Year=%{x}<br>Total Revenue (Million $)=%{y}<br>movie_count=%{marker.size}<extra></extra>",
           "hovertext": [
            "Pascal Pictures"
           ],
           "legendgroup": "Pascal Pictures",
           "marker": {
            "color": "#00cc96",
            "size": [
             1
            ],
            "sizemode": "area",
            "sizeref": 0.0003,
            "symbol": "circle"
           },
           "mode": "markers",
           "name": "Pascal Pictures",
           "orientation": "v",
           "showlegend": true,
           "type": "scatter",
           "x": [
            2019
           ],
           "xaxis": "x",
           "y": [
            1132.71
           ],
           "yaxis": "y"
          },
          {
           "hovertemplate": "<b>%{hovertext}</b><br><br>production_company=Vertigo Entertainment<br>Year=%{x}<br>Total Revenue (Million $)=%{y}<br>movie_count=%{marker.size}<extra></extra>",
           "hovertext": [
            "Vertigo Entertainment"
           ],
           "legendgroup": "Vertigo Entertainment",
           "marker": {
            "color": "#19d3f3",
            "size": [
             1
            ],
            "sizemode": "area",
            "sizeref": 0.0003,
            "symbol": "circle"
           },
           "mode": "markers",
           "name": "Vertigo Entertainment",
           "orientation": "v",
           "showlegend": true,
           "type": "scatter",
           "x": [
            2019
           ],
           "xaxis": "x",
           "y": [
            473.12
           ],
           "yaxis": "y"
          },
          {
           "hovertemplate": "<b>%{hovertext}</b><br><br>production_company=Animal Logic<br>Year=%{x}<br>Total Revenue (Million $)=%{y}<br>movie_count=%{marker.size}<extra></extra>",
           "hovertext": [
            "Animal Logic"
           ],
           "legendgroup": "Animal Logic",
           "marker": {
            "color": "#636efa",
            "size": [
             1
            ],
            "sizemode": "area",
            "sizeref": 0.0003,
            "symbol": "circle"
           },
           "mode": "markers",
           "name": "Animal Logic",
           "orientation": "v",
           "showlegend": true,
           "type": "scatter",
           "x": [
            2019
           ],
           "xaxis": "x",
           "y": [
            1131.42
           ],
           "yaxis": "y"
          },
          {
           "hovertemplate": "<b>%{hovertext}</b><br><br>production_company=BRON Studios<br>Year=%{x}<br>Total Revenue (Million $)=%{y}<br>movie_count=%{marker.size}<extra></extra>",
           "hovertext": [
            "BRON Studios"
           ],
           "legendgroup": "BRON Studios",
           "marker": {
            "color": "#EF553B",
            "size": [
             1
            ],
            "sizemode": "area",
            "sizeref": 0.0003,
            "symbol": "circle"
           },
           "mode": "markers",
           "name": "BRON Studios",
           "orientation": "v",
           "showlegend": true,
           "type": "scatter",
           "x": [
            2019
           ],
           "xaxis": "x",
           "y": [
            1078.96
           ],
           "yaxis": "y"
          },
          {
           "hovertemplate": "<b>%{hovertext}</b><br><br>production_company=British Film Commission<br>Year=%{x}<br>Total Revenue (Million $)=%{y}<br>movie_count=%{marker.size}<extra></extra>",
           "hovertext": [
            "British Film Commission"
           ],
           "legendgroup": "British Film Commission",
           "marker": {
            "color": "#00cc96",
            "size": [
             1
            ],
            "sizemode": "area",
            "sizeref": 0.0003,
            "symbol": "circle"
           },
           "mode": "markers",
           "name": "British Film Commission",
           "orientation": "v",
           "showlegend": true,
           "type": "scatter",
           "x": [
            2019
           ],
           "xaxis": "x",
           "y": [
            1077.02
           ],
           "yaxis": "y"
          },
          {
           "hovertemplate": "<b>%{hovertext}</b><br><br>production_company=Double Dream<br>Year=%{x}<br>Total Revenue (Million $)=%{y}<br>movie_count=%{marker.size}<extra></extra>",
           "hovertext": [
            "Double Dream"
           ],
           "legendgroup": "Double Dream",
           "marker": {
            "color": "#ab63fa",
            "size": [
             1
            ],
            "sizemode": "area",
            "sizeref": 0.0003,
            "symbol": "circle"
           },
           "mode": "markers",
           "name": "Double Dream",
           "orientation": "v",
           "showlegend": true,
           "type": "scatter",
           "x": [
            2019
           ],
           "xaxis": "x",
           "y": [
            473.12
           ],
           "yaxis": "y"
          },
          {
           "hovertemplate": "<b>%{hovertext}</b><br><br>production_company=The Pokemon Company<br>Year=%{x}<br>Total Revenue (Million $)=%{y}<br>movie_count=%{marker.size}<extra></extra>",
           "hovertext": [
            "The Pokemon Company"
           ],
           "legendgroup": "The Pokemon Company",
           "marker": {
            "color": "#FFA15A",
            "size": [
             1
            ],
            "sizemode": "area",
            "sizeref": 0.0003,
            "symbol": "circle"
           },
           "mode": "markers",
           "name": "The Pokemon Company",
           "orientation": "v",
           "showlegend": true,
           "type": "scatter",
           "x": [
            2019
           ],
           "xaxis": "x",
           "y": [
            450.06
           ],
           "yaxis": "y"
          },
          {
           "hovertemplate": "<b>%{hovertext}</b><br><br>production_company=Walt Disney Animation Studios<br>Year=%{x}<br>Total Revenue (Million $)=%{y}<br>movie_count=%{marker.size}<extra></extra>",
           "hovertext": [
            "Walt Disney Animation Studios"
           ],
           "legendgroup": "Walt Disney Animation Studios",
           "marker": {
            "color": "#19d3f3",
            "size": [
             1
            ],
            "sizemode": "area",
            "sizeref": 0.0003,
            "symbol": "circle"
           },
           "mode": "markers",
           "name": "Walt Disney Animation Studios",
           "orientation": "v",
           "showlegend": true,
           "type": "scatter",
           "x": [
            2019
           ],
           "xaxis": "x",
           "y": [
            1453.68
           ],
           "yaxis": "y"
          },
          {
           "hovertemplate": "<b>%{hovertext}</b><br><br>production_company=Walt Disney Studios<br>Year=%{x}<br>Total Revenue (Million $)=%{y}<br>movie_count=%{marker.size}<extra></extra>",
           "hovertext": [
            "Walt Disney Studios"
           ],
           "legendgroup": "Walt Disney Studios",
           "marker": {
            "color": "#FF6692",
            "size": [
             1
            ],
            "sizemode": "area",
            "sizeref": 0.0003,
            "symbol": "circle"
           },
           "mode": "markers",
           "name": "Walt Disney Studios",
           "orientation": "v",
           "showlegend": true,
           "type": "scatter",
           "x": [
            2019
           ],
           "xaxis": "x",
           "y": [
            1662.02
           ],
           "yaxis": "y"
          }
         ],
         "name": "2019"
        },
        {
         "data": [
          {
           "hovertemplate": "<b>%{hovertext}</b><br><br>production_company=Columbia Pictures<br>Year=%{x}<br>Total Revenue (Million $)=%{y}<br>movie_count=%{marker.size}<extra></extra>",
           "hovertext": [
            "Columbia Pictures"
           ],
           "legendgroup": "Columbia Pictures",
           "marker": {
            "color": "#FECB52",
            "size": [
             1
            ],
            "sizemode": "area",
            "sizeref": 0.0003,
            "symbol": "circle"
           },
           "mode": "markers",
           "name": "Columbia Pictures",
           "orientation": "v",
           "showlegend": true,
           "type": "scatter",
           "x": [
            2021
           ],
           "xaxis": "x",
           "y": [
            1952.73
           ],
           "yaxis": "y"
          },
          {
           "hovertemplate": "<b>%{hovertext}</b><br><br>production_company=Marvel Studios<br>Year=%{x}<br>Total Revenue (Million $)=%{y}<br>movie_count=%{marker.size}<extra></extra>",
           "hovertext": [
            "Marvel Studios"
           ],
           "legendgroup": "Marvel Studios",
           "marker": {
            "color": "#ab63fa",
            "size": [
             1
            ],
            "sizemode": "area",
            "sizeref": 0.0003,
            "symbol": "circle"
           },
           "mode": "markers",
           "name": "Marvel Studios",
           "orientation": "v",
           "showlegend": true,
           "type": "scatter",
           "x": [
            2021
           ],
           "xaxis": "x",
           "y": [
            1952.73
           ],
           "yaxis": "y"
          },
          {
           "hovertemplate": "<b>%{hovertext}</b><br><br>production_company=Pascal Pictures<br>Year=%{x}<br>Total Revenue (Million $)=%{y}<br>movie_count=%{marker.size}<extra></extra>",
           "hovertext": [
            "Pascal Pictures"
           ],
           "legendgroup": "Pascal Pictures",
           "marker": {
            "color": "#00cc96",
            "size": [
             1
            ],
            "sizemode": "area",
            "sizeref": 0.0003,
            "symbol": "circle"
           },
           "mode": "markers",
           "name": "Pascal Pictures",
           "orientation": "v",
           "showlegend": true,
           "type": "scatter",
           "x": [
            2021
           ],
           "xaxis": "x",
           "y": [
            1952.73
           ],
           "yaxis": "y"
          }
         ],
         "name": "2021"
        },
        {
         "data": [
          {
           "hovertemplate": "<b>%{hovertext}</b><br><br>production_company=Universal Pictures<br>Year=%{x}<br>Total Revenue (Million $)=%{y}<br>movie_count=%{marker.size}<extra></extra>",
           "hovertext": [
            "Universal Pictures"
           ],
           "legendgroup": "Universal Pictures",
           "marker": {
            "color": "#FF6692",
            "size": [
             2
            ],
            "sizemode": "area",
            "sizeref": 0.0003,
            "symbol": "circle"
           },
           "mode": "markers",
           "name": "Universal Pictures",
           "orientation": "v",
           "showlegend": true,
           "type": "scatter",
           "x": [
            2022
           ],
           "xaxis": "x",
           "y": [
            1942.46
           ],
           "yaxis": "y"
          },
          {
           "hovertemplate": "<b>%{hovertext}</b><br><br>production_company=Jerry Bruckheimer Films<br>Year=%{x}<br>Total Revenue (Million $)=%{y}<br>movie_count=%{marker.size}<extra></extra>",
           "hovertext": [
            "Jerry Bruckheimer Films"
           ],
           "legendgroup": "Jerry Bruckheimer Films",
           "marker": {
            "color": "#EF553B",
            "size": [
             1
            ],
            "sizemode": "area",
            "sizeref": 0.0003,
            "symbol": "circle"
           },
           "mode": "markers",
           "name": "Jerry Bruckheimer Films",
           "orientation": "v",
           "showlegend": true,
           "type": "scatter",
           "x": [
            2022
           ],
           "xaxis": "x",
           "y": [
            1495.7
           ],
           "yaxis": "y"
          },
          {
           "hovertemplate": "<b>%{hovertext}</b><br><br>production_company=Paramount Pictures<br>Year=%{x}<br>Total Revenue (Million $)=%{y}<br>movie_count=%{marker.size}<extra></extra>",
           "hovertext": [
            "Paramount Pictures"
           ],
           "legendgroup": "Paramount Pictures",
           "marker": {
            "color": "#FF6692",
            "size": [
             1
            ],
            "sizemode": "area",
            "sizeref": 0.0003,
            "symbol": "circle"
           },
           "mode": "markers",
           "name": "Paramount Pictures",
           "orientation": "v",
           "showlegend": true,
           "type": "scatter",
           "x": [
            2022
           ],
           "xaxis": "x",
           "y": [
            1495.7
           ],
           "yaxis": "y"
          },
          {
           "hovertemplate": "<b>%{hovertext}</b><br><br>production_company=Warner Bros.<br>Year=%{x}<br>Total Revenue (Million $)=%{y}<br>movie_count=%{marker.size}<extra></extra>",
           "hovertext": [
            "Warner Bros."
           ],
           "legendgroup": "Warner Bros.",
           "marker": {
            "color": "#ab63fa",
            "size": [
             1
            ],
            "sizemode": "area",
            "sizeref": 0.0003,
            "symbol": "circle"
           },
           "mode": "markers",
           "name": "Warner Bros.",
           "orientation": "v",
           "showlegend": true,
           "type": "scatter",
           "x": [
            2022
           ],
           "xaxis": "x",
           "y": [
            772.32
           ],
           "yaxis": "y"
          },
          {
           "hovertemplate": "<b>%{hovertext}</b><br><br>production_company=Amblin Entertainment<br>Year=%{x}<br>Total Revenue (Million $)=%{y}<br>movie_count=%{marker.size}<extra></extra>",
           "hovertext": [
            "Amblin Entertainment"
           ],
           "legendgroup": "Amblin Entertainment",
           "marker": {
            "color": "#19d3f3",
            "size": [
             1
            ],
            "sizemode": "area",
            "sizeref": 0.0003,
            "symbol": "circle"
           },
           "mode": "markers",
           "name": "Amblin Entertainment",
           "orientation": "v",
           "showlegend": true,
           "type": "scatter",
           "x": [
            2022
           ],
           "xaxis": "x",
           "y": [
            1001.98
           ],
           "yaxis": "y"
          },
          {
           "hovertemplate": "<b>%{hovertext}</b><br><br>production_company=Marvel Studios<br>Year=%{x}<br>Total Revenue (Million $)=%{y}<br>movie_count=%{marker.size}<extra></extra>",
           "hovertext": [
            "Marvel Studios"
           ],
           "legendgroup": "Marvel Studios",
           "marker": {
            "color": "#ab63fa",
            "size": [
             2
            ],
            "sizemode": "area",
            "sizeref": 0.0003,
            "symbol": "circle"
           },
           "mode": "markers",
           "name": "Marvel Studios",
           "orientation": "v",
           "showlegend": true,
           "type": "scatter",
           "x": [
            2022
           ],
           "xaxis": "x",
           "y": [
            1814.99
           ],
           "yaxis": "y"
          },
          {
           "hovertemplate": "<b>%{hovertext}</b><br><br>production_company=DC Entertainment<br>Year=%{x}<br>Total Revenue (Million $)=%{y}<br>movie_count=%{marker.size}<extra></extra>",
           "hovertext": [
            "DC Entertainment"
           ],
           "legendgroup": "DC Entertainment",
           "marker": {
            "color": "#FFA15A",
            "size": [
             1
            ],
            "sizemode": "area",
            "sizeref": 0.0003,
            "symbol": "circle"
           },
           "mode": "markers",
           "name": "DC Entertainment",
           "orientation": "v",
           "showlegend": true,
           "type": "scatter",
           "x": [
            2022
           ],
           "xaxis": "x",
           "y": [
            772.32
           ],
           "yaxis": "y"
          },
          {
           "hovertemplate": "<b>%{hovertext}</b><br><br>production_company=Illumination Entertainment<br>Year=%{x}<br>Total Revenue (Million $)=%{y}<br>movie_count=%{marker.size}<extra></extra>",
           "hovertext": [
            "Illumination Entertainment"
           ],
           "legendgroup": "Illumination Entertainment",
           "marker": {
            "color": "#B6E880",
            "size": [
             1
            ],
            "sizemode": "area",
            "sizeref": 0.0003,
            "symbol": "circle"
           },
           "mode": "markers",
           "name": "Illumination Entertainment",
           "orientation": "v",
           "showlegend": true,
           "type": "scatter",
           "x": [
            2022
           ],
           "xaxis": "x",
           "y": [
            940.48
           ],
           "yaxis": "y"
          },
          {
           "hovertemplate": "<b>%{hovertext}</b><br><br>production_company=6th & Idaho Productions<br>Year=%{x}<br>Total Revenue (Million $)=%{y}<br>movie_count=%{marker.size}<extra></extra>",
           "hovertext": [
            "6th & Idaho Productions"
           ],
           "legendgroup": "6th & Idaho Productions",
           "marker": {
            "color": "#B6E880",
            "size": [
             1
            ],
            "sizemode": "area",
            "sizeref": 0.0003,
            "symbol": "circle"
           },
           "mode": "markers",
           "name": "6th & Idaho Productions",
           "orientation": "v",
           "showlegend": true,
           "type": "scatter",
           "x": [
            2022
           ],
           "xaxis": "x",
           "y": [
            772.32
           ],
           "yaxis": "y"
          },
          {
           "hovertemplate": "<b>%{hovertext}</b><br><br>production_company=Perfect World Pictures<br>Year=%{x}<br>Total Revenue (Million $)=%{y}<br>movie_count=%{marker.size}<extra></extra>",
           "hovertext": [
            "Perfect World Pictures"
           ],
           "legendgroup": "Perfect World Pictures",
           "marker": {
            "color": "#FF97FF",
            "size": [
             1
            ],
            "sizemode": "area",
            "sizeref": 0.0003,
            "symbol": "circle"
           },
           "mode": "markers",
           "name": "Perfect World Pictures",
           "orientation": "v",
           "showlegend": true,
           "type": "scatter",
           "x": [
            2022
           ],
           "xaxis": "x",
           "y": [
            1001.98
           ],
           "yaxis": "y"
          },
          {
           "hovertemplate": "<b>%{hovertext}</b><br><br>production_company=Skydance Media<br>Year=%{x}<br>Total Revenue (Million $)=%{y}<br>movie_count=%{marker.size}<extra></extra>",
           "hovertext": [
            "Skydance Media"
           ],
           "legendgroup": "Skydance Media",
           "marker": {
            "color": "#FECB52",
            "size": [
             1
            ],
            "sizemode": "area",
            "sizeref": 0.0003,
            "symbol": "circle"
           },
           "mode": "markers",
           "name": "Skydance Media",
           "orientation": "v",
           "showlegend": true,
           "type": "scatter",
           "x": [
            2022
           ],
           "xaxis": "x",
           "y": [
            1495.7
           ],
           "yaxis": "y"
          }
         ],
         "name": "2022"
        },
        {
         "data": [
          {
           "hovertemplate": "<b>%{hovertext}</b><br><br>production_company=Universal Pictures<br>Year=%{x}<br>Total Revenue (Million $)=%{y}<br>movie_count=%{marker.size}<extra></extra>",
           "hovertext": [
            "Universal Pictures"
           ],
           "legendgroup": "Universal Pictures",
           "marker": {
            "color": "#FF6692",
            "size": [
             1
            ],
            "sizemode": "area",
            "sizeref": 0.0003,
            "symbol": "circle"
           },
           "mode": "markers",
           "name": "Universal Pictures",
           "orientation": "v",
           "showlegend": true,
           "type": "scatter",
           "x": [
            2023
           ],
           "xaxis": "x",
           "y": [
            1360.85
           ],
           "yaxis": "y"
          },
          {
           "hovertemplate": "<b>%{hovertext}</b><br><br>production_company=Warner Bros.<br>Year=%{x}<br>Total Revenue (Million $)=%{y}<br>movie_count=%{marker.size}<extra></extra>",
           "hovertext": [
            "Warner Bros."
           ],
           "legendgroup": "Warner Bros.",
           "marker": {
            "color": "#ab63fa",
            "size": [
             1
            ],
            "sizemode": "area",
            "sizeref": 0.0003,
            "symbol": "circle"
           },
           "mode": "markers",
           "name": "Warner Bros.",
           "orientation": "v",
           "showlegend": true,
           "type": "scatter",
           "x": [
            2023
           ],
           "xaxis": "x",
           "y": [
            1447.04
           ],
           "yaxis": "y"
          },
          {
           "hovertemplate": "<b>%{hovertext}</b><br><br>production_company=Heyday Films<br>Year=%{x}<br>Total Revenue (Million $)=%{y}<br>movie_count=%{marker.size}<extra></extra>",
           "hovertext": [
            "Heyday Films"
           ],
           "legendgroup": "Heyday Films",
           "marker": {
            "color": "#00cc96",
            "size": [
             1
            ],
            "sizemode": "area",
            "sizeref": 0.0003,
            "symbol": "circle"
           },
           "mode": "markers",
           "name": "Heyday Films",
           "orientation": "v",
           "showlegend": true,
           "type": "scatter",
           "x": [
            2023
           ],
           "xaxis": "x",
           "y": [
            1447.04
           ],
           "yaxis": "y"
          },
          {
           "hovertemplate": "<b>%{hovertext}</b><br><br>production_company=Illumination Entertainment<br>Year=%{x}<br>Total Revenue (Million $)=%{y}<br>movie_count=%{marker.size}<extra></extra>",
           "hovertext": [
            "Illumination Entertainment"
           ],
           "legendgroup": "Illumination Entertainment",
           "marker": {
            "color": "#B6E880",
            "size": [
             1
            ],
            "sizemode": "area",
            "sizeref": 0.0003,
            "symbol": "circle"
           },
           "mode": "markers",
           "name": "Illumination Entertainment",
           "orientation": "v",
           "showlegend": true,
           "type": "scatter",
           "x": [
            2023
           ],
           "xaxis": "x",
           "y": [
            1360.85
           ],
           "yaxis": "y"
          },
          {
           "hovertemplate": "<b>%{hovertext}</b><br><br>production_company=LuckyChap<br>Year=%{x}<br>Total Revenue (Million $)=%{y}<br>movie_count=%{marker.size}<extra></extra>",
           "hovertext": [
            "LuckyChap"
           ],
           "legendgroup": "LuckyChap",
           "marker": {
            "color": "#636efa",
            "size": [
             1
            ],
            "sizemode": "area",
            "sizeref": 0.0003,
            "symbol": "circle"
           },
           "mode": "markers",
           "name": "LuckyChap",
           "orientation": "v",
           "showlegend": true,
           "type": "scatter",
           "x": [
            2023
           ],
           "xaxis": "x",
           "y": [
            1447.04
           ],
           "yaxis": "y"
          },
          {
           "hovertemplate": "<b>%{hovertext}</b><br><br>production_company=Nintendo<br>Year=%{x}<br>Total Revenue (Million $)=%{y}<br>movie_count=%{marker.size}<extra></extra>",
           "hovertext": [
            "Nintendo"
           ],
           "legendgroup": "Nintendo",
           "marker": {
            "color": "#EF553B",
            "size": [
             1
            ],
            "sizemode": "area",
            "sizeref": 0.0003,
            "symbol": "circle"
           },
           "mode": "markers",
           "name": "Nintendo",
           "orientation": "v",
           "showlegend": true,
           "type": "scatter",
           "x": [
            2023
           ],
           "xaxis": "x",
           "y": [
            1360.85
           ],
           "yaxis": "y"
          }
         ],
         "name": "2023"
        },
        {
         "data": [
          {
           "hovertemplate": "<b>%{hovertext}</b><br><br>production_company=Universal Pictures<br>Year=%{x}<br>Total Revenue (Million $)=%{y}<br>movie_count=%{marker.size}<extra></extra>",
           "hovertext": [
            "Universal Pictures"
           ],
           "legendgroup": "Universal Pictures",
           "marker": {
            "color": "#FF6692",
            "size": [
             1
            ],
            "sizemode": "area",
            "sizeref": 0.0003,
            "symbol": "circle"
           },
           "mode": "markers",
           "name": "Universal Pictures",
           "orientation": "v",
           "showlegend": true,
           "type": "scatter",
           "x": [
            2024
           ],
           "xaxis": "x",
           "y": [
            728.26
           ],
           "yaxis": "y"
          },
          {
           "hovertemplate": "<b>%{hovertext}</b><br><br>production_company=Pixar Animation Studios<br>Year=%{x}<br>Total Revenue (Million $)=%{y}<br>movie_count=%{marker.size}<extra></extra>",
           "hovertext": [
            "Pixar Animation Studios"
           ],
           "legendgroup": "Pixar Animation Studios",
           "marker": {
            "color": "#B6E880",
            "size": [
             1
            ],
            "sizemode": "area",
            "sizeref": 0.0003,
            "symbol": "circle"
           },
           "mode": "markers",
           "name": "Pixar Animation Studios",
           "orientation": "v",
           "showlegend": true,
           "type": "scatter",
           "x": [
            2024
           ],
           "xaxis": "x",
           "y": [
            1698.86
           ],
           "yaxis": "y"
          },
          {
           "hovertemplate": "<b>%{hovertext}</b><br><br>production_company=Walt Disney Pictures<br>Year=%{x}<br>Total Revenue (Million $)=%{y}<br>movie_count=%{marker.size}<extra></extra>",
           "hovertext": [
            "Walt Disney Pictures"
           ],
           "legendgroup": "Walt Disney Pictures",
           "marker": {
            "color": "#FECB52",
            "size": [
             2
            ],
            "sizemode": "area",
            "sizeref": 0.0003,
            "symbol": "circle"
           },
           "mode": "markers",
           "name": "Walt Disney Pictures",
           "orientation": "v",
           "showlegend": true,
           "type": "scatter",
           "x": [
            2024
           ],
           "xaxis": "x",
           "y": [
            2752.4399999999996
           ],
           "yaxis": "y"
          },
          {
           "hovertemplate": "<b>%{hovertext}</b><br><br>production_company=Warner Bros.<br>Year=%{x}<br>Total Revenue (Million $)=%{y}<br>movie_count=%{marker.size}<extra></extra>",
           "hovertext": [
            "Warner Bros."
           ],
           "legendgroup": "Warner Bros.",
           "marker": {
            "color": "#ab63fa",
            "size": [
             1
            ],
            "sizemode": "area",
            "sizeref": 0.0003,
            "symbol": "circle"
           },
           "mode": "markers",
           "name": "Warner Bros.",
           "orientation": "v",
           "showlegend": true,
           "type": "scatter",
           "x": [
            2024
           ],
           "xaxis": "x",
           "y": [
            571.85
           ],
           "yaxis": "y"
          },
          {
           "hovertemplate": "<b>%{hovertext}</b><br><br>production_company=Legendary Entertainment<br>Year=%{x}<br>Total Revenue (Million $)=%{y}<br>movie_count=%{marker.size}<extra></extra>",
           "hovertext": [
            "Legendary Entertainment"
           ],
           "legendgroup": "Legendary Entertainment",
           "marker": {
            "color": "#EF553B",
            "size": [
             1
            ],
            "sizemode": "area",
            "sizeref": 0.0003,
            "symbol": "circle"
           },
           "mode": "markers",
           "name": "Legendary Entertainment",
           "orientation": "v",
           "showlegend": true,
           "type": "scatter",
           "x": [
            2024
           ],
           "xaxis": "x",
           "y": [
            571.85
           ],
           "yaxis": "y"
          },
          {
           "hovertemplate": "<b>%{hovertext}</b><br><br>production_company=Marvel Studios<br>Year=%{x}<br>Total Revenue (Million $)=%{y}<br>movie_count=%{marker.size}<extra></extra>",
           "hovertext": [
            "Marvel Studios"
           ],
           "legendgroup": "Marvel Studios",
           "marker": {
            "color": "#ab63fa",
            "size": [
             1
            ],
            "sizemode": "area",
            "sizeref": 0.0003,
            "symbol": "circle"
           },
           "mode": "markers",
           "name": "Marvel Studios",
           "orientation": "v",
           "showlegend": true,
           "type": "scatter",
           "x": [
            2024
           ],
           "xaxis": "x",
           "y": [
            1338.07
           ],
           "yaxis": "y"
          },
          {
           "hovertemplate": "<b>%{hovertext}</b><br><br>production_company=Walt Disney Animation Studios<br>Year=%{x}<br>Total Revenue (Million $)=%{y}<br>movie_count=%{marker.size}<extra></extra>",
           "hovertext": [
            "Walt Disney Animation Studios"
           ],
           "legendgroup": "Walt Disney Animation Studios",
           "marker": {
            "color": "#19d3f3",
            "size": [
             1
            ],
            "sizemode": "area",
            "sizeref": 0.0003,
            "symbol": "circle"
           },
           "mode": "markers",
           "name": "Walt Disney Animation Studios",
           "orientation": "v",
           "showlegend": true,
           "type": "scatter",
           "x": [
            2024
           ],
           "xaxis": "x",
           "y": [
            1053.58
           ],
           "yaxis": "y"
          },
          {
           "hovertemplate": "<b>%{hovertext}</b><br><br>production_company=20th Century Studios<br>Year=%{x}<br>Total Revenue (Million $)=%{y}<br>movie_count=%{marker.size}<extra></extra>",
           "hovertext": [
            "20th Century Studios"
           ],
           "legendgroup": "20th Century Studios",
           "marker": {
            "color": "#00cc96",
            "size": [
             1
            ],
            "sizemode": "area",
            "sizeref": 0.0003,
            "symbol": "circle"
           },
           "mode": "markers",
           "name": "20th Century Studios",
           "orientation": "v",
           "showlegend": true,
           "type": "scatter",
           "x": [
            2024
           ],
           "xaxis": "x",
           "y": [
            1338.07
           ],
           "yaxis": "y"
          },
          {
           "hovertemplate": "<b>%{hovertext}</b><br><br>production_company=Hurwitz Creative<br>Year=%{x}<br>Total Revenue (Million $)=%{y}<br>movie_count=%{marker.size}<extra></extra>",
           "hovertext": [
            "Hurwitz Creative"
           ],
           "legendgroup": "Hurwitz Creative",
           "marker": {
            "color": "#ab63fa",
            "size": [
             1
            ],
            "sizemode": "area",
            "sizeref": 0.0003,
            "symbol": "circle"
           },
           "mode": "markers",
           "name": "Hurwitz Creative",
           "orientation": "v",
           "showlegend": true,
           "type": "scatter",
           "x": [
            2024
           ],
           "xaxis": "x",
           "y": [
            1698.86
           ],
           "yaxis": "y"
          },
          {
           "hovertemplate": "<b>%{hovertext}</b><br><br>production_company=Marc Platt Productions<br>Year=%{x}<br>Total Revenue (Million $)=%{y}<br>movie_count=%{marker.size}<extra></extra>",
           "hovertext": [
            "Marc Platt Productions"
           ],
           "legendgroup": "Marc Platt Productions",
           "marker": {
            "color": "#FFA15A",
            "size": [
             1
            ],
            "sizemode": "area",
            "sizeref": 0.0003,
            "symbol": "circle"
           },
           "mode": "markers",
           "name": "Marc Platt Productions",
           "orientation": "v",
           "showlegend": true,
           "type": "scatter",
           "x": [
            2024
           ],
           "xaxis": "x",
           "y": [
            728.26
           ],
           "yaxis": "y"
          },
          {
           "hovertemplate": "<b>%{hovertext}</b><br><br>production_company=Maximum Effort<br>Year=%{x}<br>Total Revenue (Million $)=%{y}<br>movie_count=%{marker.size}<extra></extra>",
           "hovertext": [
            "Maximum Effort"
           ],
           "legendgroup": "Maximum Effort",
           "marker": {
            "color": "#19d3f3",
            "size": [
             1
            ],
            "sizemode": "area",
            "sizeref": 0.0003,
            "symbol": "circle"
           },
           "mode": "markers",
           "name": "Maximum Effort",
           "orientation": "v",
           "showlegend": true,
           "type": "scatter",
           "x": [
            2024
           ],
           "xaxis": "x",
           "y": [
            1338.07
           ],
           "yaxis": "y"
          },
          {
           "hovertemplate": "<b>%{hovertext}</b><br><br>production_company=Moving Pictures (I)<br>Year=%{x}<br>Total Revenue (Million $)=%{y}<br>movie_count=%{marker.size}<extra></extra>",
           "hovertext": [
            "Moving Pictures (I)"
           ],
           "legendgroup": "Moving Pictures (I)",
           "marker": {
            "color": "#FF6692",
            "size": [
             1
            ],
            "sizemode": "area",
            "sizeref": 0.0003,
            "symbol": "circle"
           },
           "mode": "markers",
           "name": "Moving Pictures (I)",
           "orientation": "v",
           "showlegend": true,
           "type": "scatter",
           "x": [
            2024
           ],
           "xaxis": "x",
           "y": [
            728.26
           ],
           "yaxis": "y"
          },
          {
           "hovertemplate": "<b>%{hovertext}</b><br><br>production_company=Screen Queensland<br>Year=%{x}<br>Total Revenue (Million $)=%{y}<br>movie_count=%{marker.size}<extra></extra>",
           "hovertext": [
            "Screen Queensland"
           ],
           "legendgroup": "Screen Queensland",
           "marker": {
            "color": "#B6E880",
            "size": [
             1
            ],
            "sizemode": "area",
            "sizeref": 0.0003,
            "symbol": "circle"
           },
           "mode": "markers",
           "name": "Screen Queensland",
           "orientation": "v",
           "showlegend": true,
           "type": "scatter",
           "x": [
            2024
           ],
           "xaxis": "x",
           "y": [
            571.85
           ],
           "yaxis": "y"
          },
          {
           "hovertemplate": "<b>%{hovertext}</b><br><br>production_company=Walt Disney Animation Canada<br>Year=%{x}<br>Total Revenue (Million $)=%{y}<br>movie_count=%{marker.size}<extra></extra>",
           "hovertext": [
            "Walt Disney Animation Canada"
           ],
           "legendgroup": "Walt Disney Animation Canada",
           "marker": {
            "color": "#FF97FF",
            "size": [
             1
            ],
            "sizemode": "area",
            "sizeref": 0.0003,
            "symbol": "circle"
           },
           "mode": "markers",
           "name": "Walt Disney Animation Canada",
           "orientation": "v",
           "showlegend": true,
           "type": "scatter",
           "x": [
            2024
           ],
           "xaxis": "x",
           "y": [
            1053.58
           ],
           "yaxis": "y"
          }
         ],
         "name": "2024"
        }
       ],
       "layout": {
        "height": 600,
        "legend": {
         "itemsizing": "constant",
         "title": {
          "text": "production_company"
         },
         "tracegroupgap": 0
        },
        "sliders": [
         {
          "active": 0,
          "currentvalue": {
           "prefix": "Year: "
          },
          "len": 0.9,
          "pad": {
           "b": 10,
           "t": 60
          },
          "steps": [
           {
            "args": [
             [
              "2000"
             ],
             {
              "frame": {
               "duration": 0,
               "redraw": false
              },
              "fromcurrent": true,
              "mode": "immediate",
              "transition": {
               "duration": 0,
               "easing": "linear"
              }
             }
            ],
            "label": "2000",
            "method": "animate"
           },
           {
            "args": [
             [
              "2001"
             ],
             {
              "frame": {
               "duration": 0,
               "redraw": false
              },
              "fromcurrent": true,
              "mode": "immediate",
              "transition": {
               "duration": 0,
               "easing": "linear"
              }
             }
            ],
            "label": "2001",
            "method": "animate"
           },
           {
            "args": [
             [
              "2002"
             ],
             {
              "frame": {
               "duration": 0,
               "redraw": false
              },
              "fromcurrent": true,
              "mode": "immediate",
              "transition": {
               "duration": 0,
               "easing": "linear"
              }
             }
            ],
            "label": "2002",
            "method": "animate"
           },
           {
            "args": [
             [
              "2003"
             ],
             {
              "frame": {
               "duration": 0,
               "redraw": false
              },
              "fromcurrent": true,
              "mode": "immediate",
              "transition": {
               "duration": 0,
               "easing": "linear"
              }
             }
            ],
            "label": "2003",
            "method": "animate"
           },
           {
            "args": [
             [
              "2004"
             ],
             {
              "frame": {
               "duration": 0,
               "redraw": false
              },
              "fromcurrent": true,
              "mode": "immediate",
              "transition": {
               "duration": 0,
               "easing": "linear"
              }
             }
            ],
            "label": "2004",
            "method": "animate"
           },
           {
            "args": [
             [
              "2005"
             ],
             {
              "frame": {
               "duration": 0,
               "redraw": false
              },
              "fromcurrent": true,
              "mode": "immediate",
              "transition": {
               "duration": 0,
               "easing": "linear"
              }
             }
            ],
            "label": "2005",
            "method": "animate"
           },
           {
            "args": [
             [
              "2006"
             ],
             {
              "frame": {
               "duration": 0,
               "redraw": false
              },
              "fromcurrent": true,
              "mode": "immediate",
              "transition": {
               "duration": 0,
               "easing": "linear"
              }
             }
            ],
            "label": "2006",
            "method": "animate"
           },
           {
            "args": [
             [
              "2007"
             ],
             {
              "frame": {
               "duration": 0,
               "redraw": false
              },
              "fromcurrent": true,
              "mode": "immediate",
              "transition": {
               "duration": 0,
               "easing": "linear"
              }
             }
            ],
            "label": "2007",
            "method": "animate"
           },
           {
            "args": [
             [
              "2008"
             ],
             {
              "frame": {
               "duration": 0,
               "redraw": false
              },
              "fromcurrent": true,
              "mode": "immediate",
              "transition": {
               "duration": 0,
               "easing": "linear"
              }
             }
            ],
            "label": "2008",
            "method": "animate"
           },
           {
            "args": [
             [
              "2009"
             ],
             {
              "frame": {
               "duration": 0,
               "redraw": false
              },
              "fromcurrent": true,
              "mode": "immediate",
              "transition": {
               "duration": 0,
               "easing": "linear"
              }
             }
            ],
            "label": "2009",
            "method": "animate"
           },
           {
            "args": [
             [
              "2010"
             ],
             {
              "frame": {
               "duration": 0,
               "redraw": false
              },
              "fromcurrent": true,
              "mode": "immediate",
              "transition": {
               "duration": 0,
               "easing": "linear"
              }
             }
            ],
            "label": "2010",
            "method": "animate"
           },
           {
            "args": [
             [
              "2011"
             ],
             {
              "frame": {
               "duration": 0,
               "redraw": false
              },
              "fromcurrent": true,
              "mode": "immediate",
              "transition": {
               "duration": 0,
               "easing": "linear"
              }
             }
            ],
            "label": "2011",
            "method": "animate"
           },
           {
            "args": [
             [
              "2012"
             ],
             {
              "frame": {
               "duration": 0,
               "redraw": false
              },
              "fromcurrent": true,
              "mode": "immediate",
              "transition": {
               "duration": 0,
               "easing": "linear"
              }
             }
            ],
            "label": "2012",
            "method": "animate"
           },
           {
            "args": [
             [
              "2013"
             ],
             {
              "frame": {
               "duration": 0,
               "redraw": false
              },
              "fromcurrent": true,
              "mode": "immediate",
              "transition": {
               "duration": 0,
               "easing": "linear"
              }
             }
            ],
            "label": "2013",
            "method": "animate"
           },
           {
            "args": [
             [
              "2014"
             ],
             {
              "frame": {
               "duration": 0,
               "redraw": false
              },
              "fromcurrent": true,
              "mode": "immediate",
              "transition": {
               "duration": 0,
               "easing": "linear"
              }
             }
            ],
            "label": "2014",
            "method": "animate"
           },
           {
            "args": [
             [
              "2015"
             ],
             {
              "frame": {
               "duration": 0,
               "redraw": false
              },
              "fromcurrent": true,
              "mode": "immediate",
              "transition": {
               "duration": 0,
               "easing": "linear"
              }
             }
            ],
            "label": "2015",
            "method": "animate"
           },
           {
            "args": [
             [
              "2016"
             ],
             {
              "frame": {
               "duration": 0,
               "redraw": false
              },
              "fromcurrent": true,
              "mode": "immediate",
              "transition": {
               "duration": 0,
               "easing": "linear"
              }
             }
            ],
            "label": "2016",
            "method": "animate"
           },
           {
            "args": [
             [
              "2017"
             ],
             {
              "frame": {
               "duration": 0,
               "redraw": false
              },
              "fromcurrent": true,
              "mode": "immediate",
              "transition": {
               "duration": 0,
               "easing": "linear"
              }
             }
            ],
            "label": "2017",
            "method": "animate"
           },
           {
            "args": [
             [
              "2018"
             ],
             {
              "frame": {
               "duration": 0,
               "redraw": false
              },
              "fromcurrent": true,
              "mode": "immediate",
              "transition": {
               "duration": 0,
               "easing": "linear"
              }
             }
            ],
            "label": "2018",
            "method": "animate"
           },
           {
            "args": [
             [
              "2019"
             ],
             {
              "frame": {
               "duration": 0,
               "redraw": false
              },
              "fromcurrent": true,
              "mode": "immediate",
              "transition": {
               "duration": 0,
               "easing": "linear"
              }
             }
            ],
            "label": "2019",
            "method": "animate"
           },
           {
            "args": [
             [
              "2021"
             ],
             {
              "frame": {
               "duration": 0,
               "redraw": false
              },
              "fromcurrent": true,
              "mode": "immediate",
              "transition": {
               "duration": 0,
               "easing": "linear"
              }
             }
            ],
            "label": "2021",
            "method": "animate"
           },
           {
            "args": [
             [
              "2022"
             ],
             {
              "frame": {
               "duration": 0,
               "redraw": false
              },
              "fromcurrent": true,
              "mode": "immediate",
              "transition": {
               "duration": 0,
               "easing": "linear"
              }
             }
            ],
            "label": "2022",
            "method": "animate"
           },
           {
            "args": [
             [
              "2023"
             ],
             {
              "frame": {
               "duration": 0,
               "redraw": false
              },
              "fromcurrent": true,
              "mode": "immediate",
              "transition": {
               "duration": 0,
               "easing": "linear"
              }
             }
            ],
            "label": "2023",
            "method": "animate"
           },
           {
            "args": [
             [
              "2024"
             ],
             {
              "frame": {
               "duration": 0,
               "redraw": false
              },
              "fromcurrent": true,
              "mode": "immediate",
              "transition": {
               "duration": 0,
               "easing": "linear"
              }
             }
            ],
            "label": "2024",
            "method": "animate"
           }
          ],
          "transition": {
           "duration": 500
          },
          "x": 0.1,
          "xanchor": "left",
          "y": 0,
          "yanchor": "top"
         }
        ],
        "template": {
         "data": {
          "bar": [
           {
            "error_x": {
             "color": "#2a3f5f"
            },
            "error_y": {
             "color": "#2a3f5f"
            },
            "marker": {
             "line": {
              "color": "white",
              "width": 0.5
             },
             "pattern": {
              "fillmode": "overlay",
              "size": 10,
              "solidity": 0.2
             }
            },
            "type": "bar"
           }
          ],
          "barpolar": [
           {
            "marker": {
             "line": {
              "color": "white",
              "width": 0.5
             },
             "pattern": {
              "fillmode": "overlay",
              "size": 10,
              "solidity": 0.2
             }
            },
            "type": "barpolar"
           }
          ],
          "carpet": [
           {
            "aaxis": {
             "endlinecolor": "#2a3f5f",
             "gridcolor": "#C8D4E3",
             "linecolor": "#C8D4E3",
             "minorgridcolor": "#C8D4E3",
             "startlinecolor": "#2a3f5f"
            },
            "baxis": {
             "endlinecolor": "#2a3f5f",
             "gridcolor": "#C8D4E3",
             "linecolor": "#C8D4E3",
             "minorgridcolor": "#C8D4E3",
             "startlinecolor": "#2a3f5f"
            },
            "type": "carpet"
           }
          ],
          "choropleth": [
           {
            "colorbar": {
             "outlinewidth": 0,
             "ticks": ""
            },
            "type": "choropleth"
           }
          ],
          "contour": [
           {
            "colorbar": {
             "outlinewidth": 0,
             "ticks": ""
            },
            "colorscale": [
             [
              0,
              "#0d0887"
             ],
             [
              0.1111111111111111,
              "#46039f"
             ],
             [
              0.2222222222222222,
              "#7201a8"
             ],
             [
              0.3333333333333333,
              "#9c179e"
             ],
             [
              0.4444444444444444,
              "#bd3786"
             ],
             [
              0.5555555555555556,
              "#d8576b"
             ],
             [
              0.6666666666666666,
              "#ed7953"
             ],
             [
              0.7777777777777778,
              "#fb9f3a"
             ],
             [
              0.8888888888888888,
              "#fdca26"
             ],
             [
              1,
              "#f0f921"
             ]
            ],
            "type": "contour"
           }
          ],
          "contourcarpet": [
           {
            "colorbar": {
             "outlinewidth": 0,
             "ticks": ""
            },
            "type": "contourcarpet"
           }
          ],
          "heatmap": [
           {
            "colorbar": {
             "outlinewidth": 0,
             "ticks": ""
            },
            "colorscale": [
             [
              0,
              "#0d0887"
             ],
             [
              0.1111111111111111,
              "#46039f"
             ],
             [
              0.2222222222222222,
              "#7201a8"
             ],
             [
              0.3333333333333333,
              "#9c179e"
             ],
             [
              0.4444444444444444,
              "#bd3786"
             ],
             [
              0.5555555555555556,
              "#d8576b"
             ],
             [
              0.6666666666666666,
              "#ed7953"
             ],
             [
              0.7777777777777778,
              "#fb9f3a"
             ],
             [
              0.8888888888888888,
              "#fdca26"
             ],
             [
              1,
              "#f0f921"
             ]
            ],
            "type": "heatmap"
           }
          ],
          "heatmapgl": [
           {
            "colorbar": {
             "outlinewidth": 0,
             "ticks": ""
            },
            "colorscale": [
             [
              0,
              "#0d0887"
             ],
             [
              0.1111111111111111,
              "#46039f"
             ],
             [
              0.2222222222222222,
              "#7201a8"
             ],
             [
              0.3333333333333333,
              "#9c179e"
             ],
             [
              0.4444444444444444,
              "#bd3786"
             ],
             [
              0.5555555555555556,
              "#d8576b"
             ],
             [
              0.6666666666666666,
              "#ed7953"
             ],
             [
              0.7777777777777778,
              "#fb9f3a"
             ],
             [
              0.8888888888888888,
              "#fdca26"
             ],
             [
              1,
              "#f0f921"
             ]
            ],
            "type": "heatmapgl"
           }
          ],
          "histogram": [
           {
            "marker": {
             "pattern": {
              "fillmode": "overlay",
              "size": 10,
              "solidity": 0.2
             }
            },
            "type": "histogram"
           }
          ],
          "histogram2d": [
           {
            "colorbar": {
             "outlinewidth": 0,
             "ticks": ""
            },
            "colorscale": [
             [
              0,
              "#0d0887"
             ],
             [
              0.1111111111111111,
              "#46039f"
             ],
             [
              0.2222222222222222,
              "#7201a8"
             ],
             [
              0.3333333333333333,
              "#9c179e"
             ],
             [
              0.4444444444444444,
              "#bd3786"
             ],
             [
              0.5555555555555556,
              "#d8576b"
             ],
             [
              0.6666666666666666,
              "#ed7953"
             ],
             [
              0.7777777777777778,
              "#fb9f3a"
             ],
             [
              0.8888888888888888,
              "#fdca26"
             ],
             [
              1,
              "#f0f921"
             ]
            ],
            "type": "histogram2d"
           }
          ],
          "histogram2dcontour": [
           {
            "colorbar": {
             "outlinewidth": 0,
             "ticks": ""
            },
            "colorscale": [
             [
              0,
              "#0d0887"
             ],
             [
              0.1111111111111111,
              "#46039f"
             ],
             [
              0.2222222222222222,
              "#7201a8"
             ],
             [
              0.3333333333333333,
              "#9c179e"
             ],
             [
              0.4444444444444444,
              "#bd3786"
             ],
             [
              0.5555555555555556,
              "#d8576b"
             ],
             [
              0.6666666666666666,
              "#ed7953"
             ],
             [
              0.7777777777777778,
              "#fb9f3a"
             ],
             [
              0.8888888888888888,
              "#fdca26"
             ],
             [
              1,
              "#f0f921"
             ]
            ],
            "type": "histogram2dcontour"
           }
          ],
          "mesh3d": [
           {
            "colorbar": {
             "outlinewidth": 0,
             "ticks": ""
            },
            "type": "mesh3d"
           }
          ],
          "parcoords": [
           {
            "line": {
             "colorbar": {
              "outlinewidth": 0,
              "ticks": ""
             }
            },
            "type": "parcoords"
           }
          ],
          "pie": [
           {
            "automargin": true,
            "type": "pie"
           }
          ],
          "scatter": [
           {
            "fillpattern": {
             "fillmode": "overlay",
             "size": 10,
             "solidity": 0.2
            },
            "type": "scatter"
           }
          ],
          "scatter3d": [
           {
            "line": {
             "colorbar": {
              "outlinewidth": 0,
              "ticks": ""
             }
            },
            "marker": {
             "colorbar": {
              "outlinewidth": 0,
              "ticks": ""
             }
            },
            "type": "scatter3d"
           }
          ],
          "scattercarpet": [
           {
            "marker": {
             "colorbar": {
              "outlinewidth": 0,
              "ticks": ""
             }
            },
            "type": "scattercarpet"
           }
          ],
          "scattergeo": [
           {
            "marker": {
             "colorbar": {
              "outlinewidth": 0,
              "ticks": ""
             }
            },
            "type": "scattergeo"
           }
          ],
          "scattergl": [
           {
            "marker": {
             "colorbar": {
              "outlinewidth": 0,
              "ticks": ""
             }
            },
            "type": "scattergl"
           }
          ],
          "scattermapbox": [
           {
            "marker": {
             "colorbar": {
              "outlinewidth": 0,
              "ticks": ""
             }
            },
            "type": "scattermapbox"
           }
          ],
          "scatterpolar": [
           {
            "marker": {
             "colorbar": {
              "outlinewidth": 0,
              "ticks": ""
             }
            },
            "type": "scatterpolar"
           }
          ],
          "scatterpolargl": [
           {
            "marker": {
             "colorbar": {
              "outlinewidth": 0,
              "ticks": ""
             }
            },
            "type": "scatterpolargl"
           }
          ],
          "scatterternary": [
           {
            "marker": {
             "colorbar": {
              "outlinewidth": 0,
              "ticks": ""
             }
            },
            "type": "scatterternary"
           }
          ],
          "surface": [
           {
            "colorbar": {
             "outlinewidth": 0,
             "ticks": ""
            },
            "colorscale": [
             [
              0,
              "#0d0887"
             ],
             [
              0.1111111111111111,
              "#46039f"
             ],
             [
              0.2222222222222222,
              "#7201a8"
             ],
             [
              0.3333333333333333,
              "#9c179e"
             ],
             [
              0.4444444444444444,
              "#bd3786"
             ],
             [
              0.5555555555555556,
              "#d8576b"
             ],
             [
              0.6666666666666666,
              "#ed7953"
             ],
             [
              0.7777777777777778,
              "#fb9f3a"
             ],
             [
              0.8888888888888888,
              "#fdca26"
             ],
             [
              1,
              "#f0f921"
             ]
            ],
            "type": "surface"
           }
          ],
          "table": [
           {
            "cells": {
             "fill": {
              "color": "#EBF0F8"
             },
             "line": {
              "color": "white"
             }
            },
            "header": {
             "fill": {
              "color": "#C8D4E3"
             },
             "line": {
              "color": "white"
             }
            },
            "type": "table"
           }
          ]
         },
         "layout": {
          "annotationdefaults": {
           "arrowcolor": "#2a3f5f",
           "arrowhead": 0,
           "arrowwidth": 1
          },
          "autotypenumbers": "strict",
          "coloraxis": {
           "colorbar": {
            "outlinewidth": 0,
            "ticks": ""
           }
          },
          "colorscale": {
           "diverging": [
            [
             0,
             "#8e0152"
            ],
            [
             0.1,
             "#c51b7d"
            ],
            [
             0.2,
             "#de77ae"
            ],
            [
             0.3,
             "#f1b6da"
            ],
            [
             0.4,
             "#fde0ef"
            ],
            [
             0.5,
             "#f7f7f7"
            ],
            [
             0.6,
             "#e6f5d0"
            ],
            [
             0.7,
             "#b8e186"
            ],
            [
             0.8,
             "#7fbc41"
            ],
            [
             0.9,
             "#4d9221"
            ],
            [
             1,
             "#276419"
            ]
           ],
           "sequential": [
            [
             0,
             "#0d0887"
            ],
            [
             0.1111111111111111,
             "#46039f"
            ],
            [
             0.2222222222222222,
             "#7201a8"
            ],
            [
             0.3333333333333333,
             "#9c179e"
            ],
            [
             0.4444444444444444,
             "#bd3786"
            ],
            [
             0.5555555555555556,
             "#d8576b"
            ],
            [
             0.6666666666666666,
             "#ed7953"
            ],
            [
             0.7777777777777778,
             "#fb9f3a"
            ],
            [
             0.8888888888888888,
             "#fdca26"
            ],
            [
             1,
             "#f0f921"
            ]
           ],
           "sequentialminus": [
            [
             0,
             "#0d0887"
            ],
            [
             0.1111111111111111,
             "#46039f"
            ],
            [
             0.2222222222222222,
             "#7201a8"
            ],
            [
             0.3333333333333333,
             "#9c179e"
            ],
            [
             0.4444444444444444,
             "#bd3786"
            ],
            [
             0.5555555555555556,
             "#d8576b"
            ],
            [
             0.6666666666666666,
             "#ed7953"
            ],
            [
             0.7777777777777778,
             "#fb9f3a"
            ],
            [
             0.8888888888888888,
             "#fdca26"
            ],
            [
             1,
             "#f0f921"
            ]
           ]
          },
          "colorway": [
           "#636efa",
           "#EF553B",
           "#00cc96",
           "#ab63fa",
           "#FFA15A",
           "#19d3f3",
           "#FF6692",
           "#B6E880",
           "#FF97FF",
           "#FECB52"
          ],
          "font": {
           "color": "#2a3f5f"
          },
          "geo": {
           "bgcolor": "white",
           "lakecolor": "white",
           "landcolor": "white",
           "showlakes": true,
           "showland": true,
           "subunitcolor": "#C8D4E3"
          },
          "hoverlabel": {
           "align": "left"
          },
          "hovermode": "closest",
          "mapbox": {
           "style": "light"
          },
          "paper_bgcolor": "white",
          "plot_bgcolor": "white",
          "polar": {
           "angularaxis": {
            "gridcolor": "#EBF0F8",
            "linecolor": "#EBF0F8",
            "ticks": ""
           },
           "bgcolor": "white",
           "radialaxis": {
            "gridcolor": "#EBF0F8",
            "linecolor": "#EBF0F8",
            "ticks": ""
           }
          },
          "scene": {
           "xaxis": {
            "backgroundcolor": "white",
            "gridcolor": "#DFE8F3",
            "gridwidth": 2,
            "linecolor": "#EBF0F8",
            "showbackground": true,
            "ticks": "",
            "zerolinecolor": "#EBF0F8"
           },
           "yaxis": {
            "backgroundcolor": "white",
            "gridcolor": "#DFE8F3",
            "gridwidth": 2,
            "linecolor": "#EBF0F8",
            "showbackground": true,
            "ticks": "",
            "zerolinecolor": "#EBF0F8"
           },
           "zaxis": {
            "backgroundcolor": "white",
            "gridcolor": "#DFE8F3",
            "gridwidth": 2,
            "linecolor": "#EBF0F8",
            "showbackground": true,
            "ticks": "",
            "zerolinecolor": "#EBF0F8"
           }
          },
          "shapedefaults": {
           "line": {
            "color": "#2a3f5f"
           }
          },
          "ternary": {
           "aaxis": {
            "gridcolor": "#DFE8F3",
            "linecolor": "#A2B1C6",
            "ticks": ""
           },
           "baxis": {
            "gridcolor": "#DFE8F3",
            "linecolor": "#A2B1C6",
            "ticks": ""
           },
           "bgcolor": "white",
           "caxis": {
            "gridcolor": "#DFE8F3",
            "linecolor": "#A2B1C6",
            "ticks": ""
           }
          },
          "title": {
           "x": 0.05
          },
          "xaxis": {
           "automargin": true,
           "gridcolor": "#EBF0F8",
           "linecolor": "#EBF0F8",
           "ticks": "",
           "title": {
            "standoff": 15
           },
           "zerolinecolor": "#EBF0F8",
           "zerolinewidth": 2
          },
          "yaxis": {
           "automargin": true,
           "gridcolor": "#EBF0F8",
           "linecolor": "#EBF0F8",
           "ticks": "",
           "title": {
            "standoff": 15
           },
           "zerolinecolor": "#EBF0F8",
           "zerolinewidth": 2
          }
         }
        },
        "title": {
         "text": "Revenue Trends by Production Company "
        },
        "updatemenus": [
         {
          "buttons": [
           {
            "args": [
             null,
             {
              "frame": {
               "duration": 500,
               "redraw": false
              },
              "fromcurrent": true,
              "mode": "immediate",
              "transition": {
               "duration": 500,
               "easing": "linear"
              }
             }
            ],
            "label": "&#9654;",
            "method": "animate"
           },
           {
            "args": [
             [
              null
             ],
             {
              "frame": {
               "duration": 0,
               "redraw": false
              },
              "fromcurrent": true,
              "mode": "immediate",
              "transition": {
               "duration": 0,
               "easing": "linear"
              }
             }
            ],
            "label": "&#9724;",
            "method": "animate"
           }
          ],
          "direction": "left",
          "pad": {
           "r": 10,
           "t": 70
          },
          "showactive": false,
          "type": "buttons",
          "x": 0.1,
          "xanchor": "right",
          "y": 0,
          "yanchor": "top"
         }
        ],
        "width": 1100,
        "xaxis": {
         "anchor": "y",
         "categoryarray": [
          2000,
          2001,
          2002,
          2003,
          2004,
          2005,
          2006,
          2007,
          2008,
          2009,
          2010,
          2011,
          2012,
          2013,
          2014,
          2015,
          2016,
          2017,
          2018,
          2019,
          2021,
          2022,
          2023,
          2024
         ],
         "categoryorder": "array",
         "domain": [
          0,
          1
         ],
         "tickangle": 45,
         "tickmode": "linear",
         "title": {
          "text": "Release Year"
         }
        },
        "yaxis": {
         "anchor": "x",
         "domain": [
          0,
          1
         ],
         "title": {
          "text": "Total Revenue (in Million $)"
         }
        }
       }
      }
     },
     "metadata": {},
     "output_type": "display_data"
    }
   ],
   "source": [
    "query = \"\"\"\n",
    "SELECT im.release_year, \n",
    "       pc.production_company, \n",
    "       SUM(im.gross_in_million) AS total_revenue,\n",
    "       COUNT(im.movie_id) AS movie_count  -- Count movies per production company\n",
    "FROM imdb_movies im\n",
    "JOIN production_companies pc ON im.movie_id = pc.movie_id\n",
    "WHERE im.gross_in_million IS NOT NULL  \n",
    "AND im.release_year BETWEEN 2000 AND 2026  -- Year range\n",
    "AND pc.production_company IS NOT NULL  \n",
    "AND pc.production_company != ''  \n",
    "AND LOWER(pc.production_company) != 'none'  -- Exclude \"None\" as a string\n",
    "GROUP BY im.release_year, pc.production_company\n",
    "ORDER BY im.release_year;\n",
    "\"\"\"\n",
    "df = pd.read_sql_query(query, conn)\n",
    "\n",
    "fig = px.scatter(df, \n",
    "                 x=\"release_year\", \n",
    "                 y=\"total_revenue\", \n",
    "                 size=\"movie_count\",  \n",
    "                 color=\"production_company\",  \n",
    "                 animation_frame=\"release_year\",  \n",
    "                 hover_name=\"production_company\",  \n",
    "                 title=\"Revenue Trends by Production Company \",\n",
    "                 labels={\"total_revenue\": \"Total Revenue (Million $)\", \"release_year\": \"Year\"},\n",
    "                 size_max=100,  \n",
    "                 template=\"plotly_white\")\n",
    "\n",
    "fig.update_layout(\n",
    "    xaxis_title=\"Release Year\",\n",
    "    yaxis_title=\"Total Revenue (in Million $)\",\n",
    "    width=1100,\n",
    "    height=600,\n",
    "    xaxis=dict(tickmode=\"linear\", tickangle=45),\n",
    "        sliders=[dict(\n",
    "        transition={\"duration\": 500},\n",
    "        currentvalue={\"prefix\": \"Year: \"}\n",
    "    )]\n",
    ")\n",
    "\n",
    "fig.show()\n"
   ]
  },
  {
   "cell_type": "markdown",
   "metadata": {},
   "source": [
    "# 📈**Revenue Trends of Production Companies(Financial Data) 💰**  "
   ]
  },
  {
   "cell_type": "code",
   "execution_count": 15,
   "metadata": {},
   "outputs": [
    {
     "data": {
      "application/vnd.plotly.v1+json": {
       "config": {
        "plotlyServerURL": "https://plot.ly"
       },
       "data": [
        {
         "hovertemplate": "production_company=Amblin Entertainment<br>Year=%{x}<br>Total Revenue (Million $)=%{y}<br>movie_count=%{marker.size}<extra></extra>",
         "legendgroup": "Amblin Entertainment",
         "marker": {
          "color": "#636efa",
          "size": [
           1,
           1,
           2,
           1
          ],
          "sizemode": "area",
          "sizeref": 0.0075,
          "symbol": "circle"
         },
         "mode": "markers",
         "name": "Amblin Entertainment",
         "orientation": "v",
         "showlegend": true,
         "type": "scatter",
         "x": [
          2005,
          2015,
          2018,
          2022
         ],
         "xaxis": "x",
         "y": [
          603.87,
          1671.54,
          1918.3400000000001,
          1001.98
         ],
         "yaxis": "y"
        },
        {
         "hovertemplate": "production_company=Dreamworks Pictures<br>Year=%{x}<br>Total Revenue (Million $)=%{y}<br>movie_count=%{marker.size}<extra></extra>",
         "legendgroup": "Dreamworks Pictures",
         "marker": {
          "color": "#EF553B",
          "size": [
           1,
           1,
           1,
           1,
           1
          ],
          "sizemode": "area",
          "sizeref": 0.0075,
          "symbol": "circle"
         },
         "mode": "markers",
         "name": "Dreamworks Pictures",
         "orientation": "v",
         "showlegend": true,
         "type": "scatter",
         "x": [
          2005,
          2007,
          2009,
          2011,
          2012
         ],
         "xaxis": "x",
         "y": [
          603.87,
          709.71,
          836.3,
          221.8,
          275.29
         ],
         "yaxis": "y"
        },
        {
         "hovertemplate": "production_company=Lucasfilm<br>Year=%{x}<br>Total Revenue (Million $)=%{y}<br>movie_count=%{marker.size}<extra></extra>",
         "legendgroup": "Lucasfilm",
         "marker": {
          "color": "#00cc96",
          "size": [
           1,
           1,
           1,
           1,
           1
          ],
          "sizemode": "area",
          "sizeref": 0.0075,
          "symbol": "circle"
         },
         "mode": "markers",
         "name": "Lucasfilm",
         "orientation": "v",
         "showlegend": true,
         "type": "scatter",
         "x": [
          2005,
          2015,
          2016,
          2017,
          2019
         ],
         "xaxis": "x",
         "y": [
          850.04,
          2071.31,
          1058.68,
          1334.41,
          1077.02
         ],
         "yaxis": "y"
        },
        {
         "hovertemplate": "production_company=Mestiere Cinema<br>Year=%{x}<br>Total Revenue (Million $)=%{y}<br>movie_count=%{marker.size}<extra></extra>",
         "legendgroup": "Mestiere Cinema",
         "marker": {
          "color": "#ab63fa",
          "size": [
           1
          ],
          "sizemode": "area",
          "sizeref": 0.0075,
          "symbol": "circle"
         },
         "mode": "markers",
         "name": "Mestiere Cinema",
         "orientation": "v",
         "showlegend": true,
         "type": "scatter",
         "x": [
          2005
         ],
         "xaxis": "x",
         "y": [
          850.04
         ],
         "yaxis": "y"
        },
        {
         "hovertemplate": "production_company=Pandora Films<br>Year=%{x}<br>Total Revenue (Million $)=%{y}<br>movie_count=%{marker.size}<extra></extra>",
         "legendgroup": "Pandora Films",
         "marker": {
          "color": "#FFA15A",
          "size": [
           1
          ],
          "sizemode": "area",
          "sizeref": 0.0075,
          "symbol": "circle"
         },
         "mode": "markers",
         "name": "Pandora Films",
         "orientation": "v",
         "showlegend": true,
         "type": "scatter",
         "x": [
          2005
         ],
         "xaxis": "x",
         "y": [
          850.04
         ],
         "yaxis": "y"
        },
        {
         "hovertemplate": "production_company=Paramount Pictures<br>Year=%{x}<br>Total Revenue (Million $)=%{y}<br>movie_count=%{marker.size}<extra></extra>",
         "legendgroup": "Paramount Pictures",
         "marker": {
          "color": "#19d3f3",
          "size": [
           1,
           1,
           1,
           1,
           1,
           1,
           1,
           1,
           1
          ],
          "sizemode": "area",
          "sizeref": 0.0075,
          "symbol": "circle"
         },
         "mode": "markers",
         "name": "Paramount Pictures",
         "orientation": "v",
         "showlegend": true,
         "type": "scatter",
         "x": [
          2005,
          2007,
          2008,
          2009,
          2010,
          2011,
          2012,
          2013,
          2022
         ],
         "xaxis": "x",
         "y": [
          603.87,
          709.71,
          585.8,
          836.3,
          623.93,
          1123.79,
          1520.54,
          1266.15,
          1495.7
         ],
         "yaxis": "y"
        },
        {
         "hovertemplate": "production_company=Jerry Bruckheimer Films<br>Year=%{x}<br>Total Revenue (Million $)=%{y}<br>movie_count=%{marker.size}<extra></extra>",
         "legendgroup": "Jerry Bruckheimer Films",
         "marker": {
          "color": "#FF6692",
          "size": [
           1,
           1
          ],
          "sizemode": "area",
          "sizeref": 0.0075,
          "symbol": "circle"
         },
         "mode": "markers",
         "name": "Jerry Bruckheimer Films",
         "orientation": "v",
         "showlegend": true,
         "type": "scatter",
         "x": [
          2006,
          2022
         ],
         "xaxis": "x",
         "y": [
          1066.18,
          1495.7
         ],
         "yaxis": "y"
        },
        {
         "hovertemplate": "production_company=Second Mate Productions<br>Year=%{x}<br>Total Revenue (Million $)=%{y}<br>movie_count=%{marker.size}<extra></extra>",
         "legendgroup": "Second Mate Productions",
         "marker": {
          "color": "#B6E880",
          "size": [
           1
          ],
          "sizemode": "area",
          "sizeref": 0.0075,
          "symbol": "circle"
         },
         "mode": "markers",
         "name": "Second Mate Productions",
         "orientation": "v",
         "showlegend": true,
         "type": "scatter",
         "x": [
          2006
         ],
         "xaxis": "x",
         "y": [
          1066.18
         ],
         "yaxis": "y"
        },
        {
         "hovertemplate": "production_company=Walt Disney Pictures<br>Year=%{x}<br>Total Revenue (Million $)=%{y}<br>movie_count=%{marker.size}<extra></extra>",
         "legendgroup": "Walt Disney Pictures",
         "marker": {
          "color": "#FF97FF",
          "size": [
           1,
           1,
           1,
           1,
           2,
           1,
           1,
           3,
           2
          ],
          "sizemode": "area",
          "sizeref": 0.0075,
          "symbol": "circle"
         },
         "mode": "markers",
         "name": "Walt Disney Pictures",
         "orientation": "v",
         "showlegend": true,
         "type": "scatter",
         "x": [
          2006,
          2009,
          2010,
          2015,
          2016,
          2017,
          2018,
          2019,
          2024
         ],
         "xaxis": "x",
         "y": [
          1066.18,
          735.1,
          1067.32,
          859.08,
          1996.99,
          1356.08,
          1243.23,
          4189.54,
          2752.4399999999996
         ],
         "yaxis": "y"
        },
        {
         "hovertemplate": "production_company=Hasbro<br>Year=%{x}<br>Total Revenue (Million $)=%{y}<br>movie_count=%{marker.size}<extra></extra>",
         "legendgroup": "Hasbro",
         "marker": {
          "color": "#FECB52",
          "size": [
           1,
           1,
           1
          ],
          "sizemode": "area",
          "sizeref": 0.0075,
          "symbol": "circle"
         },
         "mode": "markers",
         "name": "Hasbro",
         "orientation": "v",
         "showlegend": true,
         "type": "scatter",
         "x": [
          2007,
          2009,
          2011
         ],
         "xaxis": "x",
         "y": [
          709.71,
          836.3,
          1123.79
         ],
         "yaxis": "y"
        },
        {
         "hovertemplate": "production_company=Legendary Entertainment<br>Year=%{x}<br>Total Revenue (Million $)=%{y}<br>movie_count=%{marker.size}<extra></extra>",
         "legendgroup": "Legendary Entertainment",
         "marker": {
          "color": "#636efa",
          "size": [
           1,
           1,
           1,
           1,
           1,
           1,
           1,
           1
          ],
          "sizemode": "area",
          "sizeref": 0.0075,
          "symbol": "circle"
         },
         "mode": "markers",
         "name": "Legendary Entertainment",
         "orientation": "v",
         "showlegend": true,
         "type": "scatter",
         "x": [
          2008,
          2012,
          2014,
          2015,
          2017,
          2018,
          2019,
          2024
         ],
         "xaxis": "x",
         "y": [
          1009.06,
          1114.98,
          524.98,
          1671.54,
          568.65,
          1310.47,
          450.06,
          571.85
         ],
         "yaxis": "y"
        },
        {
         "hovertemplate": "production_company=Marvel Entertainment<br>Year=%{x}<br>Total Revenue (Million $)=%{y}<br>movie_count=%{marker.size}<extra></extra>",
         "legendgroup": "Marvel Entertainment",
         "marker": {
          "color": "#EF553B",
          "size": [
           1,
           1
          ],
          "sizemode": "area",
          "sizeref": 0.0075,
          "symbol": "circle"
         },
         "mode": "markers",
         "name": "Marvel Entertainment",
         "orientation": "v",
         "showlegend": true,
         "type": "scatter",
         "x": [
          2008,
          2010
         ],
         "xaxis": "x",
         "y": [
          585.8,
          623.93
         ],
         "yaxis": "y"
        },
        {
         "hovertemplate": "production_company=Marvel Studios<br>Year=%{x}<br>Total Revenue (Million $)=%{y}<br>movie_count=%{marker.size}<extra></extra>",
         "legendgroup": "Marvel Studios",
         "marker": {
          "color": "#00cc96",
          "size": [
           1,
           1,
           1,
           1,
           1,
           1,
           2,
           3,
           1,
           2,
           1
          ],
          "sizemode": "area",
          "sizeref": 0.0075,
          "symbol": "circle"
         },
         "mode": "markers",
         "name": "Marvel Studios",
         "orientation": "v",
         "showlegend": true,
         "type": "scatter",
         "x": [
          2008,
          2010,
          2012,
          2013,
          2015,
          2017,
          2018,
          2019,
          2021,
          2022,
          2024
         ],
         "xaxis": "x",
         "y": [
          585.8,
          623.93,
          1520.54,
          1266.15,
          1405.02,
          880.96,
          3402.3500000000004,
          5063.57,
          1952.73,
          1814.99,
          1338.07
         ],
         "yaxis": "y"
        },
        {
         "hovertemplate": "production_company=Syncopy<br>Year=%{x}<br>Total Revenue (Million $)=%{y}<br>movie_count=%{marker.size}<extra></extra>",
         "legendgroup": "Syncopy",
         "marker": {
          "color": "#ab63fa",
          "size": [
           1
          ],
          "sizemode": "area",
          "sizeref": 0.0075,
          "symbol": "circle"
         },
         "mode": "markers",
         "name": "Syncopy",
         "orientation": "v",
         "showlegend": true,
         "type": "scatter",
         "x": [
          2008
         ],
         "xaxis": "x",
         "y": [
          1009.06
         ],
         "yaxis": "y"
        },
        {
         "hovertemplate": "production_company=Warner Bros.<br>Year=%{x}<br>Total Revenue (Million $)=%{y}<br>movie_count=%{marker.size}<extra></extra>",
         "legendgroup": "Warner Bros.",
         "marker": {
          "color": "#FFA15A",
          "size": [
           1,
           1,
           1,
           2,
           2,
           1,
           2,
           1,
           1,
           1
          ],
          "sizemode": "area",
          "sizeref": 0.0075,
          "symbol": "circle"
         },
         "mode": "markers",
         "name": "Warner Bros.",
         "orientation": "v",
         "showlegend": true,
         "type": "scatter",
         "x": [
          2008,
          2011,
          2012,
          2014,
          2017,
          2018,
          2019,
          2022,
          2023,
          2024
         ],
         "xaxis": "x",
         "y": [
          1009.06,
          1342.5,
          1114.98,
          1072.6399999999999,
          1392.62,
          607.87,
          1529.02,
          772.32,
          1447.04,
          571.85
         ],
         "yaxis": "y"
        },
        {
         "hovertemplate": "production_company=Pixar Animation Studios<br>Year=%{x}<br>Total Revenue (Million $)=%{y}<br>movie_count=%{marker.size}<extra></extra>",
         "legendgroup": "Pixar Animation Studios",
         "marker": {
          "color": "#19d3f3",
          "size": [
           1,
           1,
           1,
           1,
           1,
           1,
           1
          ],
          "sizemode": "area",
          "sizeref": 0.0075,
          "symbol": "circle"
         },
         "mode": "markers",
         "name": "Pixar Animation Studios",
         "orientation": "v",
         "showlegend": true,
         "type": "scatter",
         "x": [
          2009,
          2010,
          2015,
          2016,
          2018,
          2019,
          2024
         ],
         "xaxis": "x",
         "y": [
          735.1,
          1067.32,
          859.08,
          1029.27,
          1243.23,
          1073.84,
          1698.86
         ],
         "yaxis": "y"
        },
        {
         "hovertemplate": "production_company=Alcon Entertainment<br>Year=%{x}<br>Total Revenue (Million $)=%{y}<br>movie_count=%{marker.size}<extra></extra>",
         "legendgroup": "Alcon Entertainment",
         "marker": {
          "color": "#FF6692",
          "size": [
           1
          ],
          "sizemode": "area",
          "sizeref": 0.0075,
          "symbol": "circle"
         },
         "mode": "markers",
         "name": "Alcon Entertainment",
         "orientation": "v",
         "showlegend": true,
         "type": "scatter",
         "x": [
          2010
         ],
         "xaxis": "x",
         "y": [
          157.11
         ],
         "yaxis": "y"
        },
        {
         "hovertemplate": "production_company=Lionsgate<br>Year=%{x}<br>Total Revenue (Million $)=%{y}<br>movie_count=%{marker.size}<extra></extra>",
         "legendgroup": "Lionsgate",
         "marker": {
          "color": "#B6E880",
          "size": [
           1,
           1
          ],
          "sizemode": "area",
          "sizeref": 0.0075,
          "symbol": "circle"
         },
         "mode": "markers",
         "name": "Lionsgate",
         "orientation": "v",
         "showlegend": true,
         "type": "scatter",
         "x": [
          2010,
          2012
         ],
         "xaxis": "x",
         "y": [
          274.47,
          314.98
         ],
         "yaxis": "y"
        },
        {
         "hovertemplate": "production_company=Millennium Films<br>Year=%{x}<br>Total Revenue (Million $)=%{y}<br>movie_count=%{marker.size}<extra></extra>",
         "legendgroup": "Millennium Films",
         "marker": {
          "color": "#FF97FF",
          "size": [
           1,
           1
          ],
          "sizemode": "area",
          "sizeref": 0.0075,
          "symbol": "circle"
         },
         "mode": "markers",
         "name": "Millennium Films",
         "orientation": "v",
         "showlegend": true,
         "type": "scatter",
         "x": [
          2010,
          2012
         ],
         "xaxis": "x",
         "y": [
          274.47,
          314.98
         ],
         "yaxis": "y"
        },
        {
         "hovertemplate": "production_company=Nu Image Entertainment GmbH<br>Year=%{x}<br>Total Revenue (Million $)=%{y}<br>movie_count=%{marker.size}<extra></extra>",
         "legendgroup": "Nu Image Entertainment GmbH",
         "marker": {
          "color": "#FECB52",
          "size": [
           1,
           1
          ],
          "sizemode": "area",
          "sizeref": 0.0075,
          "symbol": "circle"
         },
         "mode": "markers",
         "name": "Nu Image Entertainment GmbH",
         "orientation": "v",
         "showlegend": true,
         "type": "scatter",
         "x": [
          2010,
          2012
         ],
         "xaxis": "x",
         "y": [
          274.47,
          314.98
         ],
         "yaxis": "y"
        },
        {
         "hovertemplate": "production_company=Silver Pictures<br>Year=%{x}<br>Total Revenue (Million $)=%{y}<br>movie_count=%{marker.size}<extra></extra>",
         "legendgroup": "Silver Pictures",
         "marker": {
          "color": "#636efa",
          "size": [
           1
          ],
          "sizemode": "area",
          "sizeref": 0.0075,
          "symbol": "circle"
         },
         "mode": "markers",
         "name": "Silver Pictures",
         "orientation": "v",
         "showlegend": true,
         "type": "scatter",
         "x": [
          2010
         ],
         "xaxis": "x",
         "y": [
          157.11
         ],
         "yaxis": "y"
        },
        {
         "hovertemplate": "production_company=Di Bonaventura Pictures<br>Year=%{x}<br>Total Revenue (Million $)=%{y}<br>movie_count=%{marker.size}<extra></extra>",
         "legendgroup": "Di Bonaventura Pictures",
         "marker": {
          "color": "#EF553B",
          "size": [
           1
          ],
          "sizemode": "area",
          "sizeref": 0.0075,
          "symbol": "circle"
         },
         "mode": "markers",
         "name": "Di Bonaventura Pictures",
         "orientation": "v",
         "showlegend": true,
         "type": "scatter",
         "x": [
          2011
         ],
         "xaxis": "x",
         "y": [
          1123.79
         ],
         "yaxis": "y"
        },
        {
         "hovertemplate": "production_company=DreamWorks<br>Year=%{x}<br>Total Revenue (Million $)=%{y}<br>movie_count=%{marker.size}<extra></extra>",
         "legendgroup": "DreamWorks",
         "marker": {
          "color": "#00cc96",
          "size": [
           1
          ],
          "sizemode": "area",
          "sizeref": 0.0075,
          "symbol": "circle"
         },
         "mode": "markers",
         "name": "DreamWorks",
         "orientation": "v",
         "showlegend": true,
         "type": "scatter",
         "x": [
          2011
         ],
         "xaxis": "x",
         "y": [
          221.8
         ],
         "yaxis": "y"
        },
        {
         "hovertemplate": "production_company=Heyday Films<br>Year=%{x}<br>Total Revenue (Million $)=%{y}<br>movie_count=%{marker.size}<extra></extra>",
         "legendgroup": "Heyday Films",
         "marker": {
          "color": "#ab63fa",
          "size": [
           1,
           1
          ],
          "sizemode": "area",
          "sizeref": 0.0075,
          "symbol": "circle"
         },
         "mode": "markers",
         "name": "Heyday Films",
         "orientation": "v",
         "showlegend": true,
         "type": "scatter",
         "x": [
          2011,
          2023
         ],
         "xaxis": "x",
         "y": [
          1342.5,
          1447.04
         ],
         "yaxis": "y"
        },
        {
         "hovertemplate": "production_company=Reliance Film & Entertainment<br>Year=%{x}<br>Total Revenue (Million $)=%{y}<br>movie_count=%{marker.size}<extra></extra>",
         "legendgroup": "Reliance Film & Entertainment",
         "marker": {
          "color": "#FFA15A",
          "size": [
           1
          ],
          "sizemode": "area",
          "sizeref": 0.0075,
          "symbol": "circle"
         },
         "mode": "markers",
         "name": "Reliance Film & Entertainment",
         "orientation": "v",
         "showlegend": true,
         "type": "scatter",
         "x": [
          2011
         ],
         "xaxis": "x",
         "y": [
          221.8
         ],
         "yaxis": "y"
        },
        {
         "hovertemplate": "production_company=DC Entertainment<br>Year=%{x}<br>Total Revenue (Million $)=%{y}<br>movie_count=%{marker.size}<extra></extra>",
         "legendgroup": "DC Entertainment",
         "marker": {
          "color": "#19d3f3",
          "size": [
           1,
           1
          ],
          "sizemode": "area",
          "sizeref": 0.0075,
          "symbol": "circle"
         },
         "mode": "markers",
         "name": "DC Entertainment",
         "orientation": "v",
         "showlegend": true,
         "type": "scatter",
         "x": [
          2012,
          2022
         ],
         "xaxis": "x",
         "y": [
          1114.98,
          772.32
         ],
         "yaxis": "y"
        },
        {
         "hovertemplate": "production_company=DreamWorks Animation<br>Year=%{x}<br>Total Revenue (Million $)=%{y}<br>movie_count=%{marker.size}<extra></extra>",
         "legendgroup": "DreamWorks Animation",
         "marker": {
          "color": "#FF6692",
          "size": [
           1
          ],
          "sizemode": "area",
          "sizeref": 0.0075,
          "symbol": "circle"
         },
         "mode": "markers",
         "name": "DreamWorks Animation",
         "orientation": "v",
         "showlegend": true,
         "type": "scatter",
         "x": [
          2012
         ],
         "xaxis": "x",
         "y": [
          746.92
         ],
         "yaxis": "y"
        },
        {
         "hovertemplate": "production_company=Fuzzy Door Productions<br>Year=%{x}<br>Total Revenue (Million $)=%{y}<br>movie_count=%{marker.size}<extra></extra>",
         "legendgroup": "Fuzzy Door Productions",
         "marker": {
          "color": "#B6E880",
          "size": [
           1
          ],
          "sizemode": "area",
          "sizeref": 0.0075,
          "symbol": "circle"
         },
         "mode": "markers",
         "name": "Fuzzy Door Productions",
         "orientation": "v",
         "showlegend": true,
         "type": "scatter",
         "x": [
          2012
         ],
         "xaxis": "x",
         "y": [
          549.37
         ],
         "yaxis": "y"
        },
        {
         "hovertemplate": "production_company=Media Rights Capital (MRC)<br>Year=%{x}<br>Total Revenue (Million $)=%{y}<br>movie_count=%{marker.size}<extra></extra>",
         "legendgroup": "Media Rights Capital (MRC)",
         "marker": {
          "color": "#FF97FF",
          "size": [
           1
          ],
          "sizemode": "area",
          "sizeref": 0.0075,
          "symbol": "circle"
         },
         "mode": "markers",
         "name": "Media Rights Capital (MRC)",
         "orientation": "v",
         "showlegend": true,
         "type": "scatter",
         "x": [
          2012
         ],
         "xaxis": "x",
         "y": [
          549.37
         ],
         "yaxis": "y"
        },
        {
         "hovertemplate": "production_company=Metro-Goldwyn-Mayer (MGM)<br>Year=%{x}<br>Total Revenue (Million $)=%{y}<br>movie_count=%{marker.size}<extra></extra>",
         "legendgroup": "Metro-Goldwyn-Mayer (MGM)",
         "marker": {
          "color": "#FECB52",
          "size": [
           1,
           1,
           1
          ],
          "sizemode": "area",
          "sizeref": 0.0075,
          "symbol": "circle"
         },
         "mode": "markers",
         "name": "Metro-Goldwyn-Mayer (MGM)",
         "orientation": "v",
         "showlegend": true,
         "type": "scatter",
         "x": [
          2012,
          2013,
          2014
         ],
         "xaxis": "x",
         "y": [
          1017.11,
          959.08,
          962.25
         ],
         "yaxis": "y"
        },
        {
         "hovertemplate": "production_company=New Line Cinema<br>Year=%{x}<br>Total Revenue (Million $)=%{y}<br>movie_count=%{marker.size}<extra></extra>",
         "legendgroup": "New Line Cinema",
         "marker": {
          "color": "#636efa",
          "size": [
           1,
           1,
           1,
           1,
           1
          ],
          "sizemode": "area",
          "sizeref": 0.0075,
          "symbol": "circle"
         },
         "mode": "markers",
         "name": "New Line Cinema",
         "orientation": "v",
         "showlegend": true,
         "type": "scatter",
         "x": [
          2012,
          2013,
          2014,
          2017,
          2019
         ],
         "xaxis": "x",
         "y": [
          1017.11,
          959.08,
          962.25,
          704.24,
          473.12
         ],
         "yaxis": "y"
        },
        {
         "hovertemplate": "production_company=Pacific Data Images (PDI)<br>Year=%{x}<br>Total Revenue (Million $)=%{y}<br>movie_count=%{marker.size}<extra></extra>",
         "legendgroup": "Pacific Data Images (PDI)",
         "marker": {
          "color": "#EF553B",
          "size": [
           1
          ],
          "sizemode": "area",
          "sizeref": 0.0075,
          "symbol": "circle"
         },
         "mode": "markers",
         "name": "Pacific Data Images (PDI)",
         "orientation": "v",
         "showlegend": true,
         "type": "scatter",
         "x": [
          2012
         ],
         "xaxis": "x",
         "y": [
          746.92
         ],
         "yaxis": "y"
        },
        {
         "hovertemplate": "production_company=Reliance Entertainment<br>Year=%{x}<br>Total Revenue (Million $)=%{y}<br>movie_count=%{marker.size}<extra></extra>",
         "legendgroup": "Reliance Entertainment",
         "marker": {
          "color": "#00cc96",
          "size": [
           1
          ],
          "sizemode": "area",
          "sizeref": 0.0075,
          "symbol": "circle"
         },
         "mode": "markers",
         "name": "Reliance Entertainment",
         "orientation": "v",
         "showlegend": true,
         "type": "scatter",
         "x": [
          2012
         ],
         "xaxis": "x",
         "y": [
          275.29
         ],
         "yaxis": "y"
        },
        {
         "hovertemplate": "production_company=Twentieth Century Fox<br>Year=%{x}<br>Total Revenue (Million $)=%{y}<br>movie_count=%{marker.size}<extra></extra>",
         "legendgroup": "Twentieth Century Fox",
         "marker": {
          "color": "#ab63fa",
          "size": [
           1
          ],
          "sizemode": "area",
          "sizeref": 0.0075,
          "symbol": "circle"
         },
         "mode": "markers",
         "name": "Twentieth Century Fox",
         "orientation": "v",
         "showlegend": true,
         "type": "scatter",
         "x": [
          2012
         ],
         "xaxis": "x",
         "y": [
          275.29
         ],
         "yaxis": "y"
        },
        {
         "hovertemplate": "production_company=Universal Pictures<br>Year=%{x}<br>Total Revenue (Million $)=%{y}<br>movie_count=%{marker.size}<extra></extra>",
         "legendgroup": "Universal Pictures",
         "marker": {
          "color": "#FFA15A",
          "size": [
           1,
           1,
           1,
           1,
           2,
           1,
           1
          ],
          "sizemode": "area",
          "sizeref": 0.0075,
          "symbol": "circle"
         },
         "mode": "markers",
         "name": "Universal Pictures",
         "orientation": "v",
         "showlegend": true,
         "type": "scatter",
         "x": [
          2012,
          2015,
          2016,
          2018,
          2022,
          2023,
          2024
         ],
         "xaxis": "x",
         "y": [
          549.37,
          1671.54,
          875.7,
          1310.47,
          1942.46,
          1360.85,
          728.26
         ],
         "yaxis": "y"
        },
        {
         "hovertemplate": "production_company=WingNut Films<br>Year=%{x}<br>Total Revenue (Million $)=%{y}<br>movie_count=%{marker.size}<extra></extra>",
         "legendgroup": "WingNut Films",
         "marker": {
          "color": "#19d3f3",
          "size": [
           1,
           1,
           1
          ],
          "sizemode": "area",
          "sizeref": 0.0075,
          "symbol": "circle"
         },
         "mode": "markers",
         "name": "WingNut Films",
         "orientation": "v",
         "showlegend": true,
         "type": "scatter",
         "x": [
          2012,
          2013,
          2014
         ],
         "xaxis": "x",
         "y": [
          1017.11,
          959.08,
          962.25
         ],
         "yaxis": "y"
        },
        {
         "hovertemplate": "production_company=DMG Entertainment<br>Year=%{x}<br>Total Revenue (Million $)=%{y}<br>movie_count=%{marker.size}<extra></extra>",
         "legendgroup": "DMG Entertainment",
         "marker": {
          "color": "#FF6692",
          "size": [
           1
          ],
          "sizemode": "area",
          "sizeref": 0.0075,
          "symbol": "circle"
         },
         "mode": "markers",
         "name": "DMG Entertainment",
         "orientation": "v",
         "showlegend": true,
         "type": "scatter",
         "x": [
          2013
         ],
         "xaxis": "x",
         "y": [
          1266.15
         ],
         "yaxis": "y"
        },
        {
         "hovertemplate": "production_company=Disruption Entertainment<br>Year=%{x}<br>Total Revenue (Million $)=%{y}<br>movie_count=%{marker.size}<extra></extra>",
         "legendgroup": "Disruption Entertainment",
         "marker": {
          "color": "#B6E880",
          "size": [
           1
          ],
          "sizemode": "area",
          "sizeref": 0.0075,
          "symbol": "circle"
         },
         "mode": "markers",
         "name": "Disruption Entertainment",
         "orientation": "v",
         "showlegend": true,
         "type": "scatter",
         "x": [
          2014
         ],
         "xaxis": "x",
         "y": [
          524.98
         ],
         "yaxis": "y"
        },
        {
         "hovertemplate": "production_company=RatPac-Dune Entertainment<br>Year=%{x}<br>Total Revenue (Million $)=%{y}<br>movie_count=%{marker.size}<extra></extra>",
         "legendgroup": "RatPac-Dune Entertainment",
         "marker": {
          "color": "#FF97FF",
          "size": [
           1,
           1
          ],
          "sizemode": "area",
          "sizeref": 0.0075,
          "symbol": "circle"
         },
         "mode": "markers",
         "name": "RatPac-Dune Entertainment",
         "orientation": "v",
         "showlegend": true,
         "type": "scatter",
         "x": [
          2014,
          2017
         ],
         "xaxis": "x",
         "y": [
          547.66,
          704.24
         ],
         "yaxis": "y"
        },
        {
         "hovertemplate": "production_company=Village Roadshow Pictures<br>Year=%{x}<br>Total Revenue (Million $)=%{y}<br>movie_count=%{marker.size}<extra></extra>",
         "legendgroup": "Village Roadshow Pictures",
         "marker": {
          "color": "#FECB52",
          "size": [
           1,
           1,
           1
          ],
          "sizemode": "area",
          "sizeref": 0.0075,
          "symbol": "circle"
         },
         "mode": "markers",
         "name": "Village Roadshow Pictures",
         "orientation": "v",
         "showlegend": true,
         "type": "scatter",
         "x": [
          2014,
          2018,
          2019
         ],
         "xaxis": "x",
         "y": [
          547.66,
          607.87,
          1078.96
         ],
         "yaxis": "y"
        },
        {
         "hovertemplate": "production_company=Bad Robot<br>Year=%{x}<br>Total Revenue (Million $)=%{y}<br>movie_count=%{marker.size}<extra></extra>",
         "legendgroup": "Bad Robot",
         "marker": {
          "color": "#636efa",
          "size": [
           1,
           1,
           1
          ],
          "sizemode": "area",
          "sizeref": 0.0075,
          "symbol": "circle"
         },
         "mode": "markers",
         "name": "Bad Robot",
         "orientation": "v",
         "showlegend": true,
         "type": "scatter",
         "x": [
          2015,
          2017,
          2019
         ],
         "xaxis": "x",
         "y": [
          2071.31,
          1334.41,
          1077.02
         ],
         "yaxis": "y"
        },
        {
         "hovertemplate": "production_company=Allison Shearmur Productions<br>Year=%{x}<br>Total Revenue (Million $)=%{y}<br>movie_count=%{marker.size}<extra></extra>",
         "legendgroup": "Allison Shearmur Productions",
         "marker": {
          "color": "#EF553B",
          "size": [
           1
          ],
          "sizemode": "area",
          "sizeref": 0.0075,
          "symbol": "circle"
         },
         "mode": "markers",
         "name": "Allison Shearmur Productions",
         "orientation": "v",
         "showlegend": true,
         "type": "scatter",
         "x": [
          2016
         ],
         "xaxis": "x",
         "y": [
          1058.68
         ],
         "yaxis": "y"
        },
        {
         "hovertemplate": "production_company=Dentsu<br>Year=%{x}<br>Total Revenue (Million $)=%{y}<br>movie_count=%{marker.size}<extra></extra>",
         "legendgroup": "Dentsu",
         "marker": {
          "color": "#00cc96",
          "size": [
           1
          ],
          "sizemode": "area",
          "sizeref": 0.0075,
          "symbol": "circle"
         },
         "mode": "markers",
         "name": "Dentsu",
         "orientation": "v",
         "showlegend": true,
         "type": "scatter",
         "x": [
          2016
         ],
         "xaxis": "x",
         "y": [
          875.7
         ],
         "yaxis": "y"
        },
        {
         "hovertemplate": "production_company=Fairview Entertainment<br>Year=%{x}<br>Total Revenue (Million $)=%{y}<br>movie_count=%{marker.size}<extra></extra>",
         "legendgroup": "Fairview Entertainment",
         "marker": {
          "color": "#ab63fa",
          "size": [
           1,
           1
          ],
          "sizemode": "area",
          "sizeref": 0.0075,
          "symbol": "circle"
         },
         "mode": "markers",
         "name": "Fairview Entertainment",
         "orientation": "v",
         "showlegend": true,
         "type": "scatter",
         "x": [
          2016,
          2019
         ],
         "xaxis": "x",
         "y": [
          967.72,
          1662.02
         ],
         "yaxis": "y"
        },
        {
         "hovertemplate": "production_company=Illumination Entertainment<br>Year=%{x}<br>Total Revenue (Million $)=%{y}<br>movie_count=%{marker.size}<extra></extra>",
         "legendgroup": "Illumination Entertainment",
         "marker": {
          "color": "#FFA15A",
          "size": [
           1,
           1,
           1
          ],
          "sizemode": "area",
          "sizeref": 0.0075,
          "symbol": "circle"
         },
         "mode": "markers",
         "name": "Illumination Entertainment",
         "orientation": "v",
         "showlegend": true,
         "type": "scatter",
         "x": [
          2016,
          2022,
          2023
         ],
         "xaxis": "x",
         "y": [
          875.7,
          940.48,
          1360.85
         ],
         "yaxis": "y"
        },
        {
         "hovertemplate": "production_company=Moving Picture Company (MPC)<br>Year=%{x}<br>Total Revenue (Million $)=%{y}<br>movie_count=%{marker.size}<extra></extra>",
         "legendgroup": "Moving Picture Company (MPC)",
         "marker": {
          "color": "#19d3f3",
          "size": [
           1
          ],
          "sizemode": "area",
          "sizeref": 0.0075,
          "symbol": "circle"
         },
         "mode": "markers",
         "name": "Moving Picture Company (MPC)",
         "orientation": "v",
         "showlegend": true,
         "type": "scatter",
         "x": [
          2016
         ],
         "xaxis": "x",
         "y": [
          967.72
         ],
         "yaxis": "y"
        },
        {
         "hovertemplate": "production_company=Atlas Entertainment<br>Year=%{x}<br>Total Revenue (Million $)=%{y}<br>movie_count=%{marker.size}<extra></extra>",
         "legendgroup": "Atlas Entertainment",
         "marker": {
          "color": "#FF6692",
          "size": [
           1
          ],
          "sizemode": "area",
          "sizeref": 0.0075,
          "symbol": "circle"
         },
         "mode": "markers",
         "name": "Atlas Entertainment",
         "orientation": "v",
         "showlegend": true,
         "type": "scatter",
         "x": [
          2017
         ],
         "xaxis": "x",
         "y": [
          823.97
         ],
         "yaxis": "y"
        },
        {
         "hovertemplate": "production_company=Columbia Pictures<br>Year=%{x}<br>Total Revenue (Million $)=%{y}<br>movie_count=%{marker.size}<extra></extra>",
         "legendgroup": "Columbia Pictures",
         "marker": {
          "color": "#B6E880",
          "size": [
           1,
           1,
           1
          ],
          "sizemode": "area",
          "sizeref": 0.0075,
          "symbol": "circle"
         },
         "mode": "markers",
         "name": "Columbia Pictures",
         "orientation": "v",
         "showlegend": true,
         "type": "scatter",
         "x": [
          2017,
          2019,
          2021
         ],
         "xaxis": "x",
         "y": [
          880.96,
          1132.71,
          1952.73
         ],
         "yaxis": "y"
        },
        {
         "hovertemplate": "production_company=Cruel & Unusual Films<br>Year=%{x}<br>Total Revenue (Million $)=%{y}<br>movie_count=%{marker.size}<extra></extra>",
         "legendgroup": "Cruel & Unusual Films",
         "marker": {
          "color": "#FF97FF",
          "size": [
           1
          ],
          "sizemode": "area",
          "sizeref": 0.0075,
          "symbol": "circle"
         },
         "mode": "markers",
         "name": "Cruel & Unusual Films",
         "orientation": "v",
         "showlegend": true,
         "type": "scatter",
         "x": [
          2017
         ],
         "xaxis": "x",
         "y": [
          823.97
         ],
         "yaxis": "y"
        },
        {
         "hovertemplate": "production_company=Mandeville Films<br>Year=%{x}<br>Total Revenue (Million $)=%{y}<br>movie_count=%{marker.size}<extra></extra>",
         "legendgroup": "Mandeville Films",
         "marker": {
          "color": "#FECB52",
          "size": [
           1
          ],
          "sizemode": "area",
          "sizeref": 0.0075,
          "symbol": "circle"
         },
         "mode": "markers",
         "name": "Mandeville Films",
         "orientation": "v",
         "showlegend": true,
         "type": "scatter",
         "x": [
          2017
         ],
         "xaxis": "x",
         "y": [
          1356.08
         ],
         "yaxis": "y"
        },
        {
         "hovertemplate": "production_company=Pascal Pictures<br>Year=%{x}<br>Total Revenue (Million $)=%{y}<br>movie_count=%{marker.size}<extra></extra>",
         "legendgroup": "Pascal Pictures",
         "marker": {
          "color": "#636efa",
          "size": [
           1,
           1,
           1
          ],
          "sizemode": "area",
          "sizeref": 0.0075,
          "symbol": "circle"
         },
         "mode": "markers",
         "name": "Pascal Pictures",
         "orientation": "v",
         "showlegend": true,
         "type": "scatter",
         "x": [
          2017,
          2019,
          2021
         ],
         "xaxis": "x",
         "y": [
          880.96,
          1132.71,
          1952.73
         ],
         "yaxis": "y"
        },
        {
         "hovertemplate": "production_company=Ram Bergman Productions<br>Year=%{x}<br>Total Revenue (Million $)=%{y}<br>movie_count=%{marker.size}<extra></extra>",
         "legendgroup": "Ram Bergman Productions",
         "marker": {
          "color": "#EF553B",
          "size": [
           1
          ],
          "sizemode": "area",
          "sizeref": 0.0075,
          "symbol": "circle"
         },
         "mode": "markers",
         "name": "Ram Bergman Productions",
         "orientation": "v",
         "showlegend": true,
         "type": "scatter",
         "x": [
          2017
         ],
         "xaxis": "x",
         "y": [
          1334.41
         ],
         "yaxis": "y"
        },
        {
         "hovertemplate": "production_company=Tencent Pictures<br>Year=%{x}<br>Total Revenue (Million $)=%{y}<br>movie_count=%{marker.size}<extra></extra>",
         "legendgroup": "Tencent Pictures",
         "marker": {
          "color": "#00cc96",
          "size": [
           1
          ],
          "sizemode": "area",
          "sizeref": 0.0075,
          "symbol": "circle"
         },
         "mode": "markers",
         "name": "Tencent Pictures",
         "orientation": "v",
         "showlegend": true,
         "type": "scatter",
         "x": [
          2017
         ],
         "xaxis": "x",
         "y": [
          568.65
         ],
         "yaxis": "y"
        },
        {
         "hovertemplate": "production_company=Vertigo Entertainment<br>Year=%{x}<br>Total Revenue (Million $)=%{y}<br>movie_count=%{marker.size}<extra></extra>",
         "legendgroup": "Vertigo Entertainment",
         "marker": {
          "color": "#ab63fa",
          "size": [
           1,
           1
          ],
          "sizemode": "area",
          "sizeref": 0.0075,
          "symbol": "circle"
         },
         "mode": "markers",
         "name": "Vertigo Entertainment",
         "orientation": "v",
         "showlegend": true,
         "type": "scatter",
         "x": [
          2017,
          2019
         ],
         "xaxis": "x",
         "y": [
          704.24,
          473.12
         ],
         "yaxis": "y"
        },
        {
         "hovertemplate": "production_company=Blumhouse Productions<br>Year=%{x}<br>Total Revenue (Million $)=%{y}<br>movie_count=%{marker.size}<extra></extra>",
         "legendgroup": "Blumhouse Productions",
         "marker": {
          "color": "#FFA15A",
          "size": [
           1
          ],
          "sizemode": "area",
          "sizeref": 0.0075,
          "symbol": "circle"
         },
         "mode": "markers",
         "name": "Blumhouse Productions",
         "orientation": "v",
         "showlegend": true,
         "type": "scatter",
         "x": [
          2018
         ],
         "xaxis": "x",
         "y": [
          259.94
         ],
         "yaxis": "y"
        },
        {
         "hovertemplate": "production_company=Jason Roberts Productions<br>Year=%{x}<br>Total Revenue (Million $)=%{y}<br>movie_count=%{marker.size}<extra></extra>",
         "legendgroup": "Jason Roberts Productions",
         "marker": {
          "color": "#19d3f3",
          "size": [
           1
          ],
          "sizemode": "area",
          "sizeref": 0.0075,
          "symbol": "circle"
         },
         "mode": "markers",
         "name": "Jason Roberts Productions",
         "orientation": "v",
         "showlegend": true,
         "type": "scatter",
         "x": [
          2018
         ],
         "xaxis": "x",
         "y": [
          2052.42
         ],
         "yaxis": "y"
        },
        {
         "hovertemplate": "production_company=Miramax<br>Year=%{x}<br>Total Revenue (Million $)=%{y}<br>movie_count=%{marker.size}<extra></extra>",
         "legendgroup": "Miramax",
         "marker": {
          "color": "#FF6692",
          "size": [
           1
          ],
          "sizemode": "area",
          "sizeref": 0.0075,
          "symbol": "circle"
         },
         "mode": "markers",
         "name": "Miramax",
         "orientation": "v",
         "showlegend": true,
         "type": "scatter",
         "x": [
          2018
         ],
         "xaxis": "x",
         "y": [
          259.94
         ],
         "yaxis": "y"
        },
        {
         "hovertemplate": "production_company=Night Blade Holdings<br>Year=%{x}<br>Total Revenue (Million $)=%{y}<br>movie_count=%{marker.size}<extra></extra>",
         "legendgroup": "Night Blade Holdings",
         "marker": {
          "color": "#B6E880",
          "size": [
           1
          ],
          "sizemode": "area",
          "sizeref": 0.0075,
          "symbol": "circle"
         },
         "mode": "markers",
         "name": "Night Blade Holdings",
         "orientation": "v",
         "showlegend": true,
         "type": "scatter",
         "x": [
          2018
         ],
         "xaxis": "x",
         "y": [
          259.94
         ],
         "yaxis": "y"
        },
        {
         "hovertemplate": "production_company=South Pictures<br>Year=%{x}<br>Total Revenue (Million $)=%{y}<br>movie_count=%{marker.size}<extra></extra>",
         "legendgroup": "South Pictures",
         "marker": {
          "color": "#FF97FF",
          "size": [
           1
          ],
          "sizemode": "area",
          "sizeref": 0.0075,
          "symbol": "circle"
         },
         "mode": "markers",
         "name": "South Pictures",
         "orientation": "v",
         "showlegend": true,
         "type": "scatter",
         "x": [
          2018
         ],
         "xaxis": "x",
         "y": [
          2052.42
         ],
         "yaxis": "y"
        },
        {
         "hovertemplate": "production_company=Animal Logic<br>Year=%{x}<br>Total Revenue (Million $)=%{y}<br>movie_count=%{marker.size}<extra></extra>",
         "legendgroup": "Animal Logic",
         "marker": {
          "color": "#FECB52",
          "size": [
           1
          ],
          "sizemode": "area",
          "sizeref": 0.0075,
          "symbol": "circle"
         },
         "mode": "markers",
         "name": "Animal Logic",
         "orientation": "v",
         "showlegend": true,
         "type": "scatter",
         "x": [
          2019
         ],
         "xaxis": "x",
         "y": [
          1131.42
         ],
         "yaxis": "y"
        },
        {
         "hovertemplate": "production_company=BRON Studios<br>Year=%{x}<br>Total Revenue (Million $)=%{y}<br>movie_count=%{marker.size}<extra></extra>",
         "legendgroup": "BRON Studios",
         "marker": {
          "color": "#636efa",
          "size": [
           1
          ],
          "sizemode": "area",
          "sizeref": 0.0075,
          "symbol": "circle"
         },
         "mode": "markers",
         "name": "BRON Studios",
         "orientation": "v",
         "showlegend": true,
         "type": "scatter",
         "x": [
          2019
         ],
         "xaxis": "x",
         "y": [
          1078.96
         ],
         "yaxis": "y"
        },
        {
         "hovertemplate": "production_company=British Film Commission<br>Year=%{x}<br>Total Revenue (Million $)=%{y}<br>movie_count=%{marker.size}<extra></extra>",
         "legendgroup": "British Film Commission",
         "marker": {
          "color": "#EF553B",
          "size": [
           1
          ],
          "sizemode": "area",
          "sizeref": 0.0075,
          "symbol": "circle"
         },
         "mode": "markers",
         "name": "British Film Commission",
         "orientation": "v",
         "showlegend": true,
         "type": "scatter",
         "x": [
          2019
         ],
         "xaxis": "x",
         "y": [
          1077.02
         ],
         "yaxis": "y"
        },
        {
         "hovertemplate": "production_company=Double Dream<br>Year=%{x}<br>Total Revenue (Million $)=%{y}<br>movie_count=%{marker.size}<extra></extra>",
         "legendgroup": "Double Dream",
         "marker": {
          "color": "#00cc96",
          "size": [
           1
          ],
          "sizemode": "area",
          "sizeref": 0.0075,
          "symbol": "circle"
         },
         "mode": "markers",
         "name": "Double Dream",
         "orientation": "v",
         "showlegend": true,
         "type": "scatter",
         "x": [
          2019
         ],
         "xaxis": "x",
         "y": [
          473.12
         ],
         "yaxis": "y"
        },
        {
         "hovertemplate": "production_company=The Pokemon Company<br>Year=%{x}<br>Total Revenue (Million $)=%{y}<br>movie_count=%{marker.size}<extra></extra>",
         "legendgroup": "The Pokemon Company",
         "marker": {
          "color": "#ab63fa",
          "size": [
           1
          ],
          "sizemode": "area",
          "sizeref": 0.0075,
          "symbol": "circle"
         },
         "mode": "markers",
         "name": "The Pokemon Company",
         "orientation": "v",
         "showlegend": true,
         "type": "scatter",
         "x": [
          2019
         ],
         "xaxis": "x",
         "y": [
          450.06
         ],
         "yaxis": "y"
        },
        {
         "hovertemplate": "production_company=Walt Disney Animation Studios<br>Year=%{x}<br>Total Revenue (Million $)=%{y}<br>movie_count=%{marker.size}<extra></extra>",
         "legendgroup": "Walt Disney Animation Studios",
         "marker": {
          "color": "#FFA15A",
          "size": [
           1,
           1
          ],
          "sizemode": "area",
          "sizeref": 0.0075,
          "symbol": "circle"
         },
         "mode": "markers",
         "name": "Walt Disney Animation Studios",
         "orientation": "v",
         "showlegend": true,
         "type": "scatter",
         "x": [
          2019,
          2024
         ],
         "xaxis": "x",
         "y": [
          1453.68,
          1053.58
         ],
         "yaxis": "y"
        },
        {
         "hovertemplate": "production_company=Walt Disney Studios<br>Year=%{x}<br>Total Revenue (Million $)=%{y}<br>movie_count=%{marker.size}<extra></extra>",
         "legendgroup": "Walt Disney Studios",
         "marker": {
          "color": "#19d3f3",
          "size": [
           1
          ],
          "sizemode": "area",
          "sizeref": 0.0075,
          "symbol": "circle"
         },
         "mode": "markers",
         "name": "Walt Disney Studios",
         "orientation": "v",
         "showlegend": true,
         "type": "scatter",
         "x": [
          2019
         ],
         "xaxis": "x",
         "y": [
          1662.02
         ],
         "yaxis": "y"
        },
        {
         "hovertemplate": "production_company=6th & Idaho Productions<br>Year=%{x}<br>Total Revenue (Million $)=%{y}<br>movie_count=%{marker.size}<extra></extra>",
         "legendgroup": "6th & Idaho Productions",
         "marker": {
          "color": "#B6E880",
          "size": [
           1
          ],
          "sizemode": "area",
          "sizeref": 0.0075,
          "symbol": "circle"
         },
         "mode": "markers",
         "name": "6th & Idaho Productions",
         "orientation": "v",
         "showlegend": true,
         "type": "scatter",
         "x": [
          2022
         ],
         "xaxis": "x",
         "y": [
          772.32
         ],
         "yaxis": "y"
        },
        {
         "hovertemplate": "production_company=Perfect World Pictures<br>Year=%{x}<br>Total Revenue (Million $)=%{y}<br>movie_count=%{marker.size}<extra></extra>",
         "legendgroup": "Perfect World Pictures",
         "marker": {
          "color": "#FF97FF",
          "size": [
           1
          ],
          "sizemode": "area",
          "sizeref": 0.0075,
          "symbol": "circle"
         },
         "mode": "markers",
         "name": "Perfect World Pictures",
         "orientation": "v",
         "showlegend": true,
         "type": "scatter",
         "x": [
          2022
         ],
         "xaxis": "x",
         "y": [
          1001.98
         ],
         "yaxis": "y"
        },
        {
         "hovertemplate": "production_company=Skydance Media<br>Year=%{x}<br>Total Revenue (Million $)=%{y}<br>movie_count=%{marker.size}<extra></extra>",
         "legendgroup": "Skydance Media",
         "marker": {
          "color": "#FECB52",
          "size": [
           1
          ],
          "sizemode": "area",
          "sizeref": 0.0075,
          "symbol": "circle"
         },
         "mode": "markers",
         "name": "Skydance Media",
         "orientation": "v",
         "showlegend": true,
         "type": "scatter",
         "x": [
          2022
         ],
         "xaxis": "x",
         "y": [
          1495.7
         ],
         "yaxis": "y"
        },
        {
         "hovertemplate": "production_company=LuckyChap<br>Year=%{x}<br>Total Revenue (Million $)=%{y}<br>movie_count=%{marker.size}<extra></extra>",
         "legendgroup": "LuckyChap",
         "marker": {
          "color": "#636efa",
          "size": [
           1
          ],
          "sizemode": "area",
          "sizeref": 0.0075,
          "symbol": "circle"
         },
         "mode": "markers",
         "name": "LuckyChap",
         "orientation": "v",
         "showlegend": true,
         "type": "scatter",
         "x": [
          2023
         ],
         "xaxis": "x",
         "y": [
          1447.04
         ],
         "yaxis": "y"
        },
        {
         "hovertemplate": "production_company=Nintendo<br>Year=%{x}<br>Total Revenue (Million $)=%{y}<br>movie_count=%{marker.size}<extra></extra>",
         "legendgroup": "Nintendo",
         "marker": {
          "color": "#EF553B",
          "size": [
           1
          ],
          "sizemode": "area",
          "sizeref": 0.0075,
          "symbol": "circle"
         },
         "mode": "markers",
         "name": "Nintendo",
         "orientation": "v",
         "showlegend": true,
         "type": "scatter",
         "x": [
          2023
         ],
         "xaxis": "x",
         "y": [
          1360.85
         ],
         "yaxis": "y"
        },
        {
         "hovertemplate": "production_company=20th Century Studios<br>Year=%{x}<br>Total Revenue (Million $)=%{y}<br>movie_count=%{marker.size}<extra></extra>",
         "legendgroup": "20th Century Studios",
         "marker": {
          "color": "#00cc96",
          "size": [
           1
          ],
          "sizemode": "area",
          "sizeref": 0.0075,
          "symbol": "circle"
         },
         "mode": "markers",
         "name": "20th Century Studios",
         "orientation": "v",
         "showlegend": true,
         "type": "scatter",
         "x": [
          2024
         ],
         "xaxis": "x",
         "y": [
          1338.07
         ],
         "yaxis": "y"
        },
        {
         "hovertemplate": "production_company=Hurwitz Creative<br>Year=%{x}<br>Total Revenue (Million $)=%{y}<br>movie_count=%{marker.size}<extra></extra>",
         "legendgroup": "Hurwitz Creative",
         "marker": {
          "color": "#ab63fa",
          "size": [
           1
          ],
          "sizemode": "area",
          "sizeref": 0.0075,
          "symbol": "circle"
         },
         "mode": "markers",
         "name": "Hurwitz Creative",
         "orientation": "v",
         "showlegend": true,
         "type": "scatter",
         "x": [
          2024
         ],
         "xaxis": "x",
         "y": [
          1698.86
         ],
         "yaxis": "y"
        },
        {
         "hovertemplate": "production_company=Marc Platt Productions<br>Year=%{x}<br>Total Revenue (Million $)=%{y}<br>movie_count=%{marker.size}<extra></extra>",
         "legendgroup": "Marc Platt Productions",
         "marker": {
          "color": "#FFA15A",
          "size": [
           1
          ],
          "sizemode": "area",
          "sizeref": 0.0075,
          "symbol": "circle"
         },
         "mode": "markers",
         "name": "Marc Platt Productions",
         "orientation": "v",
         "showlegend": true,
         "type": "scatter",
         "x": [
          2024
         ],
         "xaxis": "x",
         "y": [
          728.26
         ],
         "yaxis": "y"
        },
        {
         "hovertemplate": "production_company=Maximum Effort<br>Year=%{x}<br>Total Revenue (Million $)=%{y}<br>movie_count=%{marker.size}<extra></extra>",
         "legendgroup": "Maximum Effort",
         "marker": {
          "color": "#19d3f3",
          "size": [
           1
          ],
          "sizemode": "area",
          "sizeref": 0.0075,
          "symbol": "circle"
         },
         "mode": "markers",
         "name": "Maximum Effort",
         "orientation": "v",
         "showlegend": true,
         "type": "scatter",
         "x": [
          2024
         ],
         "xaxis": "x",
         "y": [
          1338.07
         ],
         "yaxis": "y"
        },
        {
         "hovertemplate": "production_company=Moving Pictures (I)<br>Year=%{x}<br>Total Revenue (Million $)=%{y}<br>movie_count=%{marker.size}<extra></extra>",
         "legendgroup": "Moving Pictures (I)",
         "marker": {
          "color": "#FF6692",
          "size": [
           1
          ],
          "sizemode": "area",
          "sizeref": 0.0075,
          "symbol": "circle"
         },
         "mode": "markers",
         "name": "Moving Pictures (I)",
         "orientation": "v",
         "showlegend": true,
         "type": "scatter",
         "x": [
          2024
         ],
         "xaxis": "x",
         "y": [
          728.26
         ],
         "yaxis": "y"
        },
        {
         "hovertemplate": "production_company=Screen Queensland<br>Year=%{x}<br>Total Revenue (Million $)=%{y}<br>movie_count=%{marker.size}<extra></extra>",
         "legendgroup": "Screen Queensland",
         "marker": {
          "color": "#B6E880",
          "size": [
           1
          ],
          "sizemode": "area",
          "sizeref": 0.0075,
          "symbol": "circle"
         },
         "mode": "markers",
         "name": "Screen Queensland",
         "orientation": "v",
         "showlegend": true,
         "type": "scatter",
         "x": [
          2024
         ],
         "xaxis": "x",
         "y": [
          571.85
         ],
         "yaxis": "y"
        },
        {
         "hovertemplate": "production_company=Walt Disney Animation Canada<br>Year=%{x}<br>Total Revenue (Million $)=%{y}<br>movie_count=%{marker.size}<extra></extra>",
         "legendgroup": "Walt Disney Animation Canada",
         "marker": {
          "color": "#FF97FF",
          "size": [
           1
          ],
          "sizemode": "area",
          "sizeref": 0.0075,
          "symbol": "circle"
         },
         "mode": "markers",
         "name": "Walt Disney Animation Canada",
         "orientation": "v",
         "showlegend": true,
         "type": "scatter",
         "x": [
          2024
         ],
         "xaxis": "x",
         "y": [
          1053.58
         ],
         "yaxis": "y"
        }
       ],
       "layout": {
        "height": 700,
        "legend": {
         "itemsizing": "constant",
         "title": {
          "text": "production_company"
         },
         "tracegroupgap": 0
        },
        "template": {
         "data": {
          "bar": [
           {
            "error_x": {
             "color": "#2a3f5f"
            },
            "error_y": {
             "color": "#2a3f5f"
            },
            "marker": {
             "line": {
              "color": "#E5ECF6",
              "width": 0.5
             },
             "pattern": {
              "fillmode": "overlay",
              "size": 10,
              "solidity": 0.2
             }
            },
            "type": "bar"
           }
          ],
          "barpolar": [
           {
            "marker": {
             "line": {
              "color": "#E5ECF6",
              "width": 0.5
             },
             "pattern": {
              "fillmode": "overlay",
              "size": 10,
              "solidity": 0.2
             }
            },
            "type": "barpolar"
           }
          ],
          "carpet": [
           {
            "aaxis": {
             "endlinecolor": "#2a3f5f",
             "gridcolor": "white",
             "linecolor": "white",
             "minorgridcolor": "white",
             "startlinecolor": "#2a3f5f"
            },
            "baxis": {
             "endlinecolor": "#2a3f5f",
             "gridcolor": "white",
             "linecolor": "white",
             "minorgridcolor": "white",
             "startlinecolor": "#2a3f5f"
            },
            "type": "carpet"
           }
          ],
          "choropleth": [
           {
            "colorbar": {
             "outlinewidth": 0,
             "ticks": ""
            },
            "type": "choropleth"
           }
          ],
          "contour": [
           {
            "colorbar": {
             "outlinewidth": 0,
             "ticks": ""
            },
            "colorscale": [
             [
              0,
              "#0d0887"
             ],
             [
              0.1111111111111111,
              "#46039f"
             ],
             [
              0.2222222222222222,
              "#7201a8"
             ],
             [
              0.3333333333333333,
              "#9c179e"
             ],
             [
              0.4444444444444444,
              "#bd3786"
             ],
             [
              0.5555555555555556,
              "#d8576b"
             ],
             [
              0.6666666666666666,
              "#ed7953"
             ],
             [
              0.7777777777777778,
              "#fb9f3a"
             ],
             [
              0.8888888888888888,
              "#fdca26"
             ],
             [
              1,
              "#f0f921"
             ]
            ],
            "type": "contour"
           }
          ],
          "contourcarpet": [
           {
            "colorbar": {
             "outlinewidth": 0,
             "ticks": ""
            },
            "type": "contourcarpet"
           }
          ],
          "heatmap": [
           {
            "colorbar": {
             "outlinewidth": 0,
             "ticks": ""
            },
            "colorscale": [
             [
              0,
              "#0d0887"
             ],
             [
              0.1111111111111111,
              "#46039f"
             ],
             [
              0.2222222222222222,
              "#7201a8"
             ],
             [
              0.3333333333333333,
              "#9c179e"
             ],
             [
              0.4444444444444444,
              "#bd3786"
             ],
             [
              0.5555555555555556,
              "#d8576b"
             ],
             [
              0.6666666666666666,
              "#ed7953"
             ],
             [
              0.7777777777777778,
              "#fb9f3a"
             ],
             [
              0.8888888888888888,
              "#fdca26"
             ],
             [
              1,
              "#f0f921"
             ]
            ],
            "type": "heatmap"
           }
          ],
          "heatmapgl": [
           {
            "colorbar": {
             "outlinewidth": 0,
             "ticks": ""
            },
            "colorscale": [
             [
              0,
              "#0d0887"
             ],
             [
              0.1111111111111111,
              "#46039f"
             ],
             [
              0.2222222222222222,
              "#7201a8"
             ],
             [
              0.3333333333333333,
              "#9c179e"
             ],
             [
              0.4444444444444444,
              "#bd3786"
             ],
             [
              0.5555555555555556,
              "#d8576b"
             ],
             [
              0.6666666666666666,
              "#ed7953"
             ],
             [
              0.7777777777777778,
              "#fb9f3a"
             ],
             [
              0.8888888888888888,
              "#fdca26"
             ],
             [
              1,
              "#f0f921"
             ]
            ],
            "type": "heatmapgl"
           }
          ],
          "histogram": [
           {
            "marker": {
             "pattern": {
              "fillmode": "overlay",
              "size": 10,
              "solidity": 0.2
             }
            },
            "type": "histogram"
           }
          ],
          "histogram2d": [
           {
            "colorbar": {
             "outlinewidth": 0,
             "ticks": ""
            },
            "colorscale": [
             [
              0,
              "#0d0887"
             ],
             [
              0.1111111111111111,
              "#46039f"
             ],
             [
              0.2222222222222222,
              "#7201a8"
             ],
             [
              0.3333333333333333,
              "#9c179e"
             ],
             [
              0.4444444444444444,
              "#bd3786"
             ],
             [
              0.5555555555555556,
              "#d8576b"
             ],
             [
              0.6666666666666666,
              "#ed7953"
             ],
             [
              0.7777777777777778,
              "#fb9f3a"
             ],
             [
              0.8888888888888888,
              "#fdca26"
             ],
             [
              1,
              "#f0f921"
             ]
            ],
            "type": "histogram2d"
           }
          ],
          "histogram2dcontour": [
           {
            "colorbar": {
             "outlinewidth": 0,
             "ticks": ""
            },
            "colorscale": [
             [
              0,
              "#0d0887"
             ],
             [
              0.1111111111111111,
              "#46039f"
             ],
             [
              0.2222222222222222,
              "#7201a8"
             ],
             [
              0.3333333333333333,
              "#9c179e"
             ],
             [
              0.4444444444444444,
              "#bd3786"
             ],
             [
              0.5555555555555556,
              "#d8576b"
             ],
             [
              0.6666666666666666,
              "#ed7953"
             ],
             [
              0.7777777777777778,
              "#fb9f3a"
             ],
             [
              0.8888888888888888,
              "#fdca26"
             ],
             [
              1,
              "#f0f921"
             ]
            ],
            "type": "histogram2dcontour"
           }
          ],
          "mesh3d": [
           {
            "colorbar": {
             "outlinewidth": 0,
             "ticks": ""
            },
            "type": "mesh3d"
           }
          ],
          "parcoords": [
           {
            "line": {
             "colorbar": {
              "outlinewidth": 0,
              "ticks": ""
             }
            },
            "type": "parcoords"
           }
          ],
          "pie": [
           {
            "automargin": true,
            "type": "pie"
           }
          ],
          "scatter": [
           {
            "fillpattern": {
             "fillmode": "overlay",
             "size": 10,
             "solidity": 0.2
            },
            "type": "scatter"
           }
          ],
          "scatter3d": [
           {
            "line": {
             "colorbar": {
              "outlinewidth": 0,
              "ticks": ""
             }
            },
            "marker": {
             "colorbar": {
              "outlinewidth": 0,
              "ticks": ""
             }
            },
            "type": "scatter3d"
           }
          ],
          "scattercarpet": [
           {
            "marker": {
             "colorbar": {
              "outlinewidth": 0,
              "ticks": ""
             }
            },
            "type": "scattercarpet"
           }
          ],
          "scattergeo": [
           {
            "marker": {
             "colorbar": {
              "outlinewidth": 0,
              "ticks": ""
             }
            },
            "type": "scattergeo"
           }
          ],
          "scattergl": [
           {
            "marker": {
             "colorbar": {
              "outlinewidth": 0,
              "ticks": ""
             }
            },
            "type": "scattergl"
           }
          ],
          "scattermapbox": [
           {
            "marker": {
             "colorbar": {
              "outlinewidth": 0,
              "ticks": ""
             }
            },
            "type": "scattermapbox"
           }
          ],
          "scatterpolar": [
           {
            "marker": {
             "colorbar": {
              "outlinewidth": 0,
              "ticks": ""
             }
            },
            "type": "scatterpolar"
           }
          ],
          "scatterpolargl": [
           {
            "marker": {
             "colorbar": {
              "outlinewidth": 0,
              "ticks": ""
             }
            },
            "type": "scatterpolargl"
           }
          ],
          "scatterternary": [
           {
            "marker": {
             "colorbar": {
              "outlinewidth": 0,
              "ticks": ""
             }
            },
            "type": "scatterternary"
           }
          ],
          "surface": [
           {
            "colorbar": {
             "outlinewidth": 0,
             "ticks": ""
            },
            "colorscale": [
             [
              0,
              "#0d0887"
             ],
             [
              0.1111111111111111,
              "#46039f"
             ],
             [
              0.2222222222222222,
              "#7201a8"
             ],
             [
              0.3333333333333333,
              "#9c179e"
             ],
             [
              0.4444444444444444,
              "#bd3786"
             ],
             [
              0.5555555555555556,
              "#d8576b"
             ],
             [
              0.6666666666666666,
              "#ed7953"
             ],
             [
              0.7777777777777778,
              "#fb9f3a"
             ],
             [
              0.8888888888888888,
              "#fdca26"
             ],
             [
              1,
              "#f0f921"
             ]
            ],
            "type": "surface"
           }
          ],
          "table": [
           {
            "cells": {
             "fill": {
              "color": "#EBF0F8"
             },
             "line": {
              "color": "white"
             }
            },
            "header": {
             "fill": {
              "color": "#C8D4E3"
             },
             "line": {
              "color": "white"
             }
            },
            "type": "table"
           }
          ]
         },
         "layout": {
          "annotationdefaults": {
           "arrowcolor": "#2a3f5f",
           "arrowhead": 0,
           "arrowwidth": 1
          },
          "autotypenumbers": "strict",
          "coloraxis": {
           "colorbar": {
            "outlinewidth": 0,
            "ticks": ""
           }
          },
          "colorscale": {
           "diverging": [
            [
             0,
             "#8e0152"
            ],
            [
             0.1,
             "#c51b7d"
            ],
            [
             0.2,
             "#de77ae"
            ],
            [
             0.3,
             "#f1b6da"
            ],
            [
             0.4,
             "#fde0ef"
            ],
            [
             0.5,
             "#f7f7f7"
            ],
            [
             0.6,
             "#e6f5d0"
            ],
            [
             0.7,
             "#b8e186"
            ],
            [
             0.8,
             "#7fbc41"
            ],
            [
             0.9,
             "#4d9221"
            ],
            [
             1,
             "#276419"
            ]
           ],
           "sequential": [
            [
             0,
             "#0d0887"
            ],
            [
             0.1111111111111111,
             "#46039f"
            ],
            [
             0.2222222222222222,
             "#7201a8"
            ],
            [
             0.3333333333333333,
             "#9c179e"
            ],
            [
             0.4444444444444444,
             "#bd3786"
            ],
            [
             0.5555555555555556,
             "#d8576b"
            ],
            [
             0.6666666666666666,
             "#ed7953"
            ],
            [
             0.7777777777777778,
             "#fb9f3a"
            ],
            [
             0.8888888888888888,
             "#fdca26"
            ],
            [
             1,
             "#f0f921"
            ]
           ],
           "sequentialminus": [
            [
             0,
             "#0d0887"
            ],
            [
             0.1111111111111111,
             "#46039f"
            ],
            [
             0.2222222222222222,
             "#7201a8"
            ],
            [
             0.3333333333333333,
             "#9c179e"
            ],
            [
             0.4444444444444444,
             "#bd3786"
            ],
            [
             0.5555555555555556,
             "#d8576b"
            ],
            [
             0.6666666666666666,
             "#ed7953"
            ],
            [
             0.7777777777777778,
             "#fb9f3a"
            ],
            [
             0.8888888888888888,
             "#fdca26"
            ],
            [
             1,
             "#f0f921"
            ]
           ]
          },
          "colorway": [
           "#636efa",
           "#EF553B",
           "#00cc96",
           "#ab63fa",
           "#FFA15A",
           "#19d3f3",
           "#FF6692",
           "#B6E880",
           "#FF97FF",
           "#FECB52"
          ],
          "font": {
           "color": "#2a3f5f"
          },
          "geo": {
           "bgcolor": "white",
           "lakecolor": "white",
           "landcolor": "#E5ECF6",
           "showlakes": true,
           "showland": true,
           "subunitcolor": "white"
          },
          "hoverlabel": {
           "align": "left"
          },
          "hovermode": "closest",
          "mapbox": {
           "style": "light"
          },
          "paper_bgcolor": "white",
          "plot_bgcolor": "#E5ECF6",
          "polar": {
           "angularaxis": {
            "gridcolor": "white",
            "linecolor": "white",
            "ticks": ""
           },
           "bgcolor": "#E5ECF6",
           "radialaxis": {
            "gridcolor": "white",
            "linecolor": "white",
            "ticks": ""
           }
          },
          "scene": {
           "xaxis": {
            "backgroundcolor": "#E5ECF6",
            "gridcolor": "white",
            "gridwidth": 2,
            "linecolor": "white",
            "showbackground": true,
            "ticks": "",
            "zerolinecolor": "white"
           },
           "yaxis": {
            "backgroundcolor": "#E5ECF6",
            "gridcolor": "white",
            "gridwidth": 2,
            "linecolor": "white",
            "showbackground": true,
            "ticks": "",
            "zerolinecolor": "white"
           },
           "zaxis": {
            "backgroundcolor": "#E5ECF6",
            "gridcolor": "white",
            "gridwidth": 2,
            "linecolor": "white",
            "showbackground": true,
            "ticks": "",
            "zerolinecolor": "white"
           }
          },
          "shapedefaults": {
           "line": {
            "color": "#2a3f5f"
           }
          },
          "ternary": {
           "aaxis": {
            "gridcolor": "white",
            "linecolor": "white",
            "ticks": ""
           },
           "baxis": {
            "gridcolor": "white",
            "linecolor": "white",
            "ticks": ""
           },
           "bgcolor": "#E5ECF6",
           "caxis": {
            "gridcolor": "white",
            "linecolor": "white",
            "ticks": ""
           }
          },
          "title": {
           "x": 0.05
          },
          "xaxis": {
           "automargin": true,
           "gridcolor": "white",
           "linecolor": "white",
           "ticks": "",
           "title": {
            "standoff": 15
           },
           "zerolinecolor": "white",
           "zerolinewidth": 2
          },
          "yaxis": {
           "automargin": true,
           "gridcolor": "white",
           "linecolor": "white",
           "ticks": "",
           "title": {
            "standoff": 15
           },
           "zerolinecolor": "white",
           "zerolinewidth": 2
          }
         }
        },
        "title": {
         "text": "Revenue Trends by Production Company "
        },
        "updatemenus": [
         {
          "buttons": [
           {
            "args": [
             {
              "visible": [
               true,
               true,
               true,
               true,
               true,
               true,
               true,
               true,
               true,
               true,
               true,
               true,
               true,
               true,
               true,
               true,
               true,
               true,
               true,
               true,
               true,
               true,
               true,
               true,
               true,
               true,
               true,
               true,
               true,
               true,
               true,
               true,
               true,
               true,
               true,
               true,
               true,
               true,
               true,
               true,
               true,
               true,
               true,
               true,
               true,
               true,
               true,
               true,
               true,
               true,
               true,
               true,
               true,
               true,
               true,
               true,
               true,
               true,
               true,
               true,
               true,
               true,
               true,
               true,
               true,
               true,
               true,
               true,
               true,
               true,
               true,
               true,
               true,
               true,
               true,
               true,
               true,
               true,
               true
              ]
             }
            ],
            "label": "All",
            "method": "update"
           },
           {
            "args": [
             {
              "visible": [
               true,
               false,
               false,
               false,
               false,
               false,
               false,
               false,
               false,
               false,
               false,
               false,
               false,
               false,
               false,
               false,
               false,
               false,
               false,
               false,
               false,
               false,
               false,
               false,
               false,
               false,
               false,
               false,
               false,
               false,
               false,
               false,
               false,
               false,
               false,
               false,
               false,
               false,
               false,
               false,
               false,
               false,
               false,
               false,
               false,
               false,
               false,
               false,
               false,
               false,
               false,
               false,
               false,
               false,
               false,
               false,
               false,
               false,
               false,
               false,
               false,
               false,
               false,
               false,
               false,
               false,
               false,
               false,
               false,
               false,
               false,
               false,
               false,
               false,
               true,
               false,
               false,
               false,
               false,
               false,
               false,
               false,
               false,
               false,
               false,
               false,
               false,
               false,
               false,
               false,
               false,
               false,
               false,
               false,
               false,
               false,
               false,
               false,
               false,
               false,
               false,
               false,
               false,
               false,
               false,
               false,
               false,
               true,
               false,
               false,
               false,
               false,
               false,
               false,
               false,
               false,
               false,
               false,
               false,
               false,
               false,
               false,
               false,
               false,
               false,
               false,
               false,
               false,
               false,
               false,
               false,
               false,
               false,
               false,
               false,
               false,
               false,
               false,
               false,
               false,
               false,
               false,
               false,
               false,
               false,
               true,
               false,
               false,
               false,
               false,
               false,
               false,
               false,
               false,
               false,
               false,
               false,
               false,
               false,
               false,
               false,
               false,
               false,
               false,
               false,
               false,
               false,
               false,
               false,
               false,
               false,
               false,
               false,
               false,
               false,
               false,
               false
              ]
             }
            ],
            "label": "Amblin Entertainment",
            "method": "update"
           },
           {
            "args": [
             {
              "visible": [
               false,
               true,
               false,
               false,
               false,
               false,
               false,
               false,
               false,
               true,
               false,
               false,
               false,
               false,
               false,
               false,
               false,
               false,
               true,
               false,
               false,
               false,
               false,
               false,
               false,
               false,
               false,
               false,
               false,
               false,
               false,
               false,
               false,
               false,
               false,
               true,
               false,
               false,
               false,
               false,
               false,
               false,
               false,
               true,
               false,
               false,
               false,
               false,
               false,
               false,
               false,
               false,
               false,
               false,
               false,
               false,
               false,
               false,
               false,
               false,
               false,
               false,
               false,
               false,
               false,
               false,
               false,
               false,
               false,
               false,
               false,
               false,
               false,
               false,
               false,
               false,
               false,
               false,
               false,
               false,
               false,
               false,
               false,
               false,
               false,
               false,
               false,
               false,
               false,
               false,
               false,
               false,
               false,
               false,
               false,
               false,
               false,
               false,
               false,
               false,
               false,
               false,
               false,
               false,
               false,
               false,
               false,
               false,
               false,
               false,
               false,
               false,
               false,
               false,
               false,
               false,
               false,
               false,
               false,
               false,
               false,
               false,
               false,
               false,
               false,
               false,
               false,
               false,
               false,
               false,
               false,
               false,
               false,
               false,
               false,
               false,
               false,
               false,
               false,
               false,
               false,
               false,
               false,
               false,
               false,
               false,
               false,
               false,
               false,
               false,
               false,
               false,
               false,
               false,
               false,
               false,
               false,
               false,
               false,
               false,
               false,
               false,
               false,
               false,
               false,
               false,
               false,
               false,
               false,
               false,
               false,
               false,
               false,
               false,
               false,
               false,
               false
              ]
             }
            ],
            "label": "Dreamworks Pictures",
            "method": "update"
           },
           {
            "args": [
             {
              "visible": [
               false,
               false,
               true,
               false,
               false,
               false,
               false,
               false,
               false,
               false,
               false,
               false,
               false,
               false,
               false,
               false,
               false,
               false,
               false,
               false,
               false,
               false,
               false,
               false,
               false,
               false,
               false,
               false,
               false,
               false,
               false,
               false,
               false,
               false,
               false,
               false,
               false,
               false,
               false,
               false,
               false,
               false,
               false,
               false,
               false,
               false,
               false,
               false,
               false,
               false,
               false,
               false,
               false,
               false,
               false,
               false,
               false,
               false,
               false,
               false,
               false,
               false,
               false,
               false,
               false,
               false,
               false,
               false,
               false,
               false,
               false,
               false,
               false,
               false,
               false,
               false,
               false,
               true,
               false,
               false,
               false,
               false,
               false,
               false,
               false,
               false,
               true,
               false,
               false,
               false,
               false,
               false,
               false,
               false,
               false,
               false,
               true,
               false,
               false,
               false,
               false,
               false,
               false,
               false,
               false,
               false,
               false,
               false,
               false,
               false,
               false,
               false,
               false,
               false,
               false,
               false,
               false,
               false,
               false,
               false,
               false,
               false,
               false,
               false,
               false,
               false,
               false,
               false,
               true,
               false,
               false,
               false,
               false,
               false,
               false,
               false,
               false,
               false,
               false,
               false,
               false,
               false,
               false,
               false,
               false,
               false,
               false,
               false,
               false,
               false,
               false,
               false,
               false,
               false,
               false,
               false,
               false,
               false,
               false,
               false,
               false,
               false,
               false,
               false,
               false,
               false,
               false,
               false,
               false,
               false,
               false,
               false,
               false,
               false,
               false,
               false,
               false
              ]
             }
            ],
            "label": "Lucasfilm",
            "method": "update"
           },
           {
            "args": [
             {
              "visible": [
               false,
               false,
               false,
               true,
               false,
               false,
               false,
               false,
               false,
               false,
               false,
               false,
               false,
               false,
               false,
               false,
               false,
               false,
               false,
               false,
               false,
               false,
               false,
               false,
               false,
               false,
               false,
               false,
               false,
               false,
               false,
               false,
               false,
               false,
               false,
               false,
               false,
               false,
               false,
               false,
               false,
               false,
               false,
               false,
               false,
               false,
               false,
               false,
               false,
               false,
               false,
               false,
               false,
               false,
               false,
               false,
               false,
               false,
               false,
               false,
               false,
               false,
               false,
               false,
               false,
               false,
               false,
               false,
               false,
               false,
               false,
               false,
               false,
               false,
               false,
               false,
               false,
               false,
               false,
               false,
               false,
               false,
               false,
               false,
               false,
               false,
               false,
               false,
               false,
               false,
               false,
               false,
               false,
               false,
               false,
               false,
               false,
               false,
               false,
               false,
               false,
               false,
               false,
               false,
               false,
               false,
               false,
               false,
               false,
               false,
               false,
               false,
               false,
               false,
               false,
               false,
               false,
               false,
               false,
               false,
               false,
               false,
               false,
               false,
               false,
               false,
               false,
               false,
               false,
               false,
               false,
               false,
               false,
               false,
               false,
               false,
               false,
               false,
               false,
               false,
               false,
               false,
               false,
               false,
               false,
               false,
               false,
               false,
               false,
               false,
               false,
               false,
               false,
               false,
               false,
               false,
               false,
               false,
               false,
               false,
               false,
               false,
               false,
               false,
               false,
               false,
               false,
               false,
               false,
               false,
               false,
               false,
               false,
               false,
               false,
               false,
               false
              ]
             }
            ],
            "label": "Mestiere Cinema",
            "method": "update"
           },
           {
            "args": [
             {
              "visible": [
               false,
               false,
               false,
               false,
               true,
               false,
               false,
               false,
               false,
               false,
               false,
               false,
               false,
               false,
               false,
               false,
               false,
               false,
               false,
               false,
               false,
               false,
               false,
               false,
               false,
               false,
               false,
               false,
               false,
               false,
               false,
               false,
               false,
               false,
               false,
               false,
               false,
               false,
               false,
               false,
               false,
               false,
               false,
               false,
               false,
               false,
               false,
               false,
               false,
               false,
               false,
               false,
               false,
               false,
               false,
               false,
               false,
               false,
               false,
               false,
               false,
               false,
               false,
               false,
               false,
               false,
               false,
               false,
               false,
               false,
               false,
               false,
               false,
               false,
               false,
               false,
               false,
               false,
               false,
               false,
               false,
               false,
               false,
               false,
               false,
               false,
               false,
               false,
               false,
               false,
               false,
               false,
               false,
               false,
               false,
               false,
               false,
               false,
               false,
               false,
               false,
               false,
               false,
               false,
               false,
               false,
               false,
               false,
               false,
               false,
               false,
               false,
               false,
               false,
               false,
               false,
               false,
               false,
               false,
               false,
               false,
               false,
               false,
               false,
               false,
               false,
               false,
               false,
               false,
               false,
               false,
               false,
               false,
               false,
               false,
               false,
               false,
               false,
               false,
               false,
               false,
               false,
               false,
               false,
               false,
               false,
               false,
               false,
               false,
               false,
               false,
               false,
               false,
               false,
               false,
               false,
               false,
               false,
               false,
               false,
               false,
               false,
               false,
               false,
               false,
               false,
               false,
               false,
               false,
               false,
               false,
               false,
               false,
               false,
               false,
               false,
               false
              ]
             }
            ],
            "label": "Pandora Films",
            "method": "update"
           },
           {
            "args": [
             {
              "visible": [
               false,
               false,
               false,
               false,
               false,
               true,
               false,
               false,
               false,
               false,
               false,
               true,
               false,
               false,
               false,
               true,
               false,
               false,
               false,
               false,
               true,
               false,
               false,
               false,
               false,
               false,
               false,
               false,
               false,
               true,
               false,
               false,
               false,
               false,
               false,
               false,
               false,
               false,
               true,
               false,
               false,
               false,
               false,
               false,
               false,
               false,
               false,
               false,
               false,
               false,
               false,
               false,
               false,
               false,
               true,
               false,
               false,
               false,
               false,
               false,
               false,
               false,
               false,
               false,
               true,
               false,
               false,
               false,
               false,
               false,
               false,
               false,
               false,
               false,
               false,
               false,
               false,
               false,
               false,
               false,
               false,
               false,
               false,
               false,
               false,
               false,
               false,
               false,
               false,
               false,
               false,
               false,
               false,
               false,
               false,
               false,
               false,
               false,
               false,
               false,
               false,
               false,
               false,
               false,
               false,
               false,
               false,
               false,
               false,
               false,
               false,
               false,
               false,
               false,
               false,
               false,
               false,
               false,
               false,
               false,
               false,
               false,
               false,
               false,
               false,
               false,
               false,
               false,
               false,
               false,
               false,
               false,
               false,
               false,
               false,
               false,
               false,
               false,
               false,
               false,
               false,
               false,
               false,
               false,
               false,
               false,
               false,
               false,
               false,
               false,
               true,
               false,
               false,
               false,
               false,
               false,
               false,
               false,
               false,
               false,
               false,
               false,
               false,
               false,
               false,
               false,
               false,
               false,
               false,
               false,
               false,
               false,
               false,
               false,
               false,
               false,
               false
              ]
             }
            ],
            "label": "Paramount Pictures",
            "method": "update"
           },
           {
            "args": [
             {
              "visible": [
               false,
               false,
               false,
               false,
               false,
               false,
               true,
               false,
               false,
               false,
               false,
               false,
               false,
               false,
               false,
               false,
               false,
               false,
               false,
               false,
               false,
               false,
               false,
               false,
               false,
               false,
               false,
               false,
               false,
               false,
               false,
               false,
               false,
               false,
               false,
               false,
               false,
               false,
               false,
               false,
               false,
               false,
               false,
               false,
               false,
               false,
               false,
               false,
               false,
               false,
               false,
               false,
               false,
               false,
               false,
               false,
               false,
               false,
               false,
               false,
               false,
               false,
               false,
               false,
               false,
               false,
               false,
               false,
               false,
               false,
               false,
               false,
               false,
               false,
               false,
               false,
               false,
               false,
               false,
               false,
               false,
               false,
               false,
               false,
               false,
               false,
               false,
               false,
               false,
               false,
               false,
               false,
               false,
               false,
               false,
               false,
               false,
               false,
               false,
               false,
               false,
               false,
               false,
               false,
               false,
               false,
               false,
               false,
               false,
               false,
               false,
               false,
               false,
               false,
               false,
               false,
               false,
               false,
               false,
               false,
               false,
               false,
               false,
               false,
               false,
               false,
               false,
               false,
               false,
               false,
               false,
               false,
               false,
               false,
               false,
               false,
               false,
               false,
               false,
               false,
               false,
               false,
               false,
               false,
               false,
               false,
               false,
               false,
               true,
               false,
               false,
               false,
               false,
               false,
               false,
               false,
               false,
               false,
               false,
               false,
               false,
               false,
               false,
               false,
               false,
               false,
               false,
               false,
               false,
               false,
               false,
               false,
               false,
               false,
               false,
               false,
               false
              ]
             }
            ],
            "label": "Jerry Bruckheimer Films",
            "method": "update"
           },
           {
            "args": [
             {
              "visible": [
               false,
               false,
               false,
               false,
               false,
               false,
               false,
               true,
               false,
               false,
               false,
               false,
               false,
               false,
               false,
               false,
               false,
               false,
               false,
               false,
               false,
               false,
               false,
               false,
               false,
               false,
               false,
               false,
               false,
               false,
               false,
               false,
               false,
               false,
               false,
               false,
               false,
               false,
               false,
               false,
               false,
               false,
               false,
               false,
               false,
               false,
               false,
               false,
               false,
               false,
               false,
               false,
               false,
               false,
               false,
               false,
               false,
               false,
               false,
               false,
               false,
               false,
               false,
               false,
               false,
               false,
               false,
               false,
               false,
               false,
               false,
               false,
               false,
               false,
               false,
               false,
               false,
               false,
               false,
               false,
               false,
               false,
               false,
               false,
               false,
               false,
               false,
               false,
               false,
               false,
               false,
               false,
               false,
               false,
               false,
               false,
               false,
               false,
               false,
               false,
               false,
               false,
               false,
               false,
               false,
               false,
               false,
               false,
               false,
               false,
               false,
               false,
               false,
               false,
               false,
               false,
               false,
               false,
               false,
               false,
               false,
               false,
               false,
               false,
               false,
               false,
               false,
               false,
               false,
               false,
               false,
               false,
               false,
               false,
               false,
               false,
               false,
               false,
               false,
               false,
               false,
               false,
               false,
               false,
               false,
               false,
               false,
               false,
               false,
               false,
               false,
               false,
               false,
               false,
               false,
               false,
               false,
               false,
               false,
               false,
               false,
               false,
               false,
               false,
               false,
               false,
               false,
               false,
               false,
               false,
               false,
               false,
               false,
               false,
               false,
               false,
               false
              ]
             }
            ],
            "label": "Second Mate Productions",
            "method": "update"
           },
           {
            "args": [
             {
              "visible": [
               false,
               false,
               false,
               false,
               false,
               false,
               false,
               false,
               true,
               false,
               false,
               false,
               false,
               false,
               false,
               false,
               false,
               false,
               false,
               false,
               false,
               false,
               true,
               false,
               false,
               false,
               false,
               false,
               false,
               false,
               false,
               false,
               true,
               false,
               false,
               false,
               false,
               false,
               false,
               false,
               false,
               false,
               false,
               false,
               false,
               false,
               false,
               false,
               false,
               false,
               false,
               false,
               false,
               false,
               false,
               false,
               false,
               false,
               false,
               false,
               false,
               false,
               false,
               false,
               false,
               false,
               false,
               false,
               false,
               false,
               false,
               false,
               false,
               false,
               false,
               false,
               false,
               false,
               false,
               false,
               false,
               true,
               false,
               false,
               false,
               false,
               false,
               false,
               false,
               false,
               true,
               false,
               false,
               false,
               false,
               false,
               false,
               false,
               false,
               false,
               false,
               false,
               false,
               false,
               false,
               true,
               false,
               false,
               false,
               false,
               false,
               false,
               false,
               false,
               false,
               false,
               false,
               false,
               true,
               false,
               false,
               false,
               false,
               false,
               false,
               false,
               false,
               false,
               false,
               false,
               false,
               false,
               false,
               false,
               false,
               false,
               false,
               true,
               false,
               false,
               false,
               false,
               false,
               false,
               false,
               false,
               false,
               false,
               false,
               false,
               false,
               false,
               false,
               false,
               false,
               false,
               false,
               false,
               false,
               false,
               false,
               false,
               false,
               false,
               false,
               false,
               false,
               false,
               false,
               false,
               false,
               false,
               false,
               true,
               false,
               false,
               false
              ]
             }
            ],
            "label": "Walt Disney Pictures",
            "method": "update"
           },
           {
            "args": [
             {
              "visible": [
               false,
               false,
               false,
               false,
               false,
               false,
               false,
               false,
               false,
               false,
               true,
               false,
               false,
               false,
               false,
               false,
               false,
               false,
               false,
               true,
               false,
               false,
               false,
               false,
               false,
               false,
               false,
               false,
               false,
               false,
               false,
               false,
               false,
               false,
               false,
               false,
               true,
               false,
               false,
               false,
               false,
               false,
               false,
               false,
               false,
               false,
               false,
               false,
               false,
               false,
               false,
               false,
               false,
               false,
               false,
               false,
               false,
               false,
               false,
               false,
               false,
               false,
               false,
               false,
               false,
               false,
               false,
               false,
               false,
               false,
               false,
               false,
               false,
               false,
               false,
               false,
               false,
               false,
               false,
               false,
               false,
               false,
               false,
               false,
               false,
               false,
               false,
               false,
               false,
               false,
               false,
               false,
               false,
               false,
               false,
               false,
               false,
               false,
               false,
               false,
               false,
               false,
               false,
               false,
               false,
               false,
               false,
               false,
               false,
               false,
               false,
               false,
               false,
               false,
               false,
               false,
               false,
               false,
               false,
               false,
               false,
               false,
               false,
               false,
               false,
               false,
               false,
               false,
               false,
               false,
               false,
               false,
               false,
               false,
               false,
               false,
               false,
               false,
               false,
               false,
               false,
               false,
               false,
               false,
               false,
               false,
               false,
               false,
               false,
               false,
               false,
               false,
               false,
               false,
               false,
               false,
               false,
               false,
               false,
               false,
               false,
               false,
               false,
               false,
               false,
               false,
               false,
               false,
               false,
               false,
               false,
               false,
               false,
               false,
               false,
               false,
               false
              ]
             }
            ],
            "label": "Hasbro",
            "method": "update"
           },
           {
            "args": [
             {
              "visible": [
               false,
               false,
               false,
               false,
               false,
               false,
               false,
               false,
               false,
               false,
               false,
               false,
               true,
               false,
               false,
               false,
               false,
               false,
               false,
               false,
               false,
               false,
               false,
               false,
               false,
               false,
               false,
               false,
               false,
               false,
               false,
               false,
               false,
               false,
               false,
               false,
               false,
               false,
               false,
               false,
               false,
               false,
               false,
               false,
               false,
               true,
               false,
               false,
               false,
               false,
               false,
               false,
               false,
               false,
               false,
               false,
               false,
               false,
               false,
               false,
               false,
               false,
               false,
               false,
               false,
               false,
               false,
               true,
               false,
               false,
               false,
               false,
               false,
               false,
               false,
               false,
               true,
               false,
               false,
               false,
               false,
               false,
               false,
               false,
               false,
               false,
               false,
               false,
               false,
               false,
               false,
               false,
               false,
               false,
               false,
               true,
               false,
               false,
               false,
               false,
               false,
               false,
               false,
               false,
               false,
               false,
               false,
               false,
               false,
               false,
               true,
               false,
               false,
               false,
               false,
               false,
               false,
               false,
               false,
               false,
               false,
               false,
               false,
               false,
               false,
               false,
               false,
               true,
               false,
               false,
               false,
               false,
               false,
               false,
               false,
               false,
               false,
               false,
               false,
               false,
               false,
               false,
               false,
               false,
               false,
               false,
               false,
               false,
               false,
               false,
               false,
               false,
               false,
               false,
               false,
               false,
               false,
               false,
               false,
               false,
               false,
               false,
               false,
               true,
               false,
               false,
               false,
               false,
               false,
               false,
               false,
               false,
               false,
               false,
               false,
               false,
               false
              ]
             }
            ],
            "label": "Legendary Entertainment",
            "method": "update"
           },
           {
            "args": [
             {
              "visible": [
               false,
               false,
               false,
               false,
               false,
               false,
               false,
               false,
               false,
               false,
               false,
               false,
               false,
               true,
               false,
               false,
               false,
               false,
               false,
               false,
               false,
               false,
               false,
               false,
               false,
               true,
               false,
               false,
               false,
               false,
               false,
               false,
               false,
               false,
               false,
               false,
               false,
               false,
               false,
               false,
               false,
               false,
               false,
               false,
               false,
               false,
               false,
               false,
               false,
               false,
               false,
               false,
               false,
               false,
               false,
               false,
               false,
               false,
               false,
               false,
               false,
               false,
               false,
               false,
               false,
               false,
               false,
               false,
               false,
               false,
               false,
               false,
               false,
               false,
               false,
               false,
               false,
               false,
               false,
               false,
               false,
               false,
               false,
               false,
               false,
               false,
               false,
               false,
               false,
               false,
               false,
               false,
               false,
               false,
               false,
               false,
               false,
               false,
               false,
               false,
               false,
               false,
               false,
               false,
               false,
               false,
               false,
               false,
               false,
               false,
               false,
               false,
               false,
               false,
               false,
               false,
               false,
               false,
               false,
               false,
               false,
               false,
               false,
               false,
               false,
               false,
               false,
               false,
               false,
               false,
               false,
               false,
               false,
               false,
               false,
               false,
               false,
               false,
               false,
               false,
               false,
               false,
               false,
               false,
               false,
               false,
               false,
               false,
               false,
               false,
               false,
               false,
               false,
               false,
               false,
               false,
               false,
               false,
               false,
               false,
               false,
               false,
               false,
               false,
               false,
               false,
               false,
               false,
               false,
               false,
               false,
               false,
               false,
               false,
               false,
               false,
               false
              ]
             }
            ],
            "label": "Marvel Entertainment",
            "method": "update"
           },
           {
            "args": [
             {
              "visible": [
               false,
               false,
               false,
               false,
               false,
               false,
               false,
               false,
               false,
               false,
               false,
               false,
               false,
               false,
               true,
               false,
               false,
               false,
               false,
               false,
               false,
               false,
               false,
               false,
               false,
               false,
               true,
               false,
               false,
               false,
               false,
               false,
               false,
               false,
               false,
               false,
               false,
               false,
               false,
               false,
               false,
               false,
               false,
               false,
               false,
               false,
               false,
               true,
               false,
               false,
               false,
               false,
               false,
               false,
               false,
               false,
               false,
               false,
               false,
               false,
               false,
               true,
               false,
               false,
               false,
               false,
               false,
               false,
               false,
               false,
               false,
               false,
               false,
               false,
               false,
               false,
               false,
               false,
               true,
               false,
               false,
               false,
               false,
               false,
               false,
               false,
               false,
               false,
               false,
               false,
               false,
               false,
               false,
               false,
               false,
               false,
               false,
               false,
               true,
               false,
               false,
               false,
               false,
               false,
               false,
               false,
               false,
               false,
               false,
               false,
               false,
               true,
               false,
               false,
               false,
               false,
               false,
               false,
               false,
               false,
               false,
               false,
               false,
               false,
               false,
               false,
               false,
               false,
               false,
               true,
               false,
               false,
               false,
               false,
               false,
               false,
               false,
               false,
               false,
               false,
               false,
               false,
               true,
               false,
               false,
               false,
               false,
               false,
               false,
               true,
               false,
               false,
               false,
               false,
               false,
               false,
               false,
               false,
               false,
               false,
               false,
               false,
               false,
               false,
               false,
               true,
               false,
               false,
               false,
               false,
               false,
               false,
               false,
               false,
               false,
               false,
               false
              ]
             }
            ],
            "label": "Marvel Studios",
            "method": "update"
           },
           {
            "args": [
             {
              "visible": [
               false,
               false,
               false,
               false,
               false,
               false,
               false,
               false,
               false,
               false,
               false,
               false,
               false,
               false,
               false,
               false,
               true,
               false,
               false,
               false,
               false,
               false,
               false,
               false,
               false,
               false,
               false,
               false,
               false,
               false,
               false,
               false,
               false,
               false,
               false,
               false,
               false,
               false,
               false,
               false,
               false,
               false,
               false,
               false,
               false,
               false,
               false,
               false,
               false,
               false,
               false,
               false,
               false,
               false,
               false,
               false,
               false,
               false,
               false,
               false,
               false,
               false,
               false,
               false,
               false,
               false,
               false,
               false,
               false,
               false,
               false,
               false,
               false,
               false,
               false,
               false,
               false,
               false,
               false,
               false,
               false,
               false,
               false,
               false,
               false,
               false,
               false,
               false,
               false,
               false,
               false,
               false,
               false,
               false,
               false,
               false,
               false,
               false,
               false,
               false,
               false,
               false,
               false,
               false,
               false,
               false,
               false,
               false,
               false,
               false,
               false,
               false,
               false,
               false,
               false,
               false,
               false,
               false,
               false,
               false,
               false,
               false,
               false,
               false,
               false,
               false,
               false,
               false,
               false,
               false,
               false,
               false,
               false,
               false,
               false,
               false,
               false,
               false,
               false,
               false,
               false,
               false,
               false,
               false,
               false,
               false,
               false,
               false,
               false,
               false,
               false,
               false,
               false,
               false,
               false,
               false,
               false,
               false,
               false,
               false,
               false,
               false,
               false,
               false,
               false,
               false,
               false,
               false,
               false,
               false,
               false,
               false,
               false,
               false,
               false,
               false,
               false
              ]
             }
            ],
            "label": "Syncopy",
            "method": "update"
           },
           {
            "args": [
             {
              "visible": [
               false,
               false,
               false,
               false,
               false,
               false,
               false,
               false,
               false,
               false,
               false,
               false,
               false,
               false,
               false,
               false,
               false,
               true,
               false,
               false,
               false,
               false,
               false,
               false,
               false,
               false,
               false,
               false,
               false,
               false,
               false,
               false,
               false,
               false,
               false,
               false,
               false,
               false,
               false,
               false,
               true,
               false,
               false,
               false,
               false,
               false,
               false,
               false,
               false,
               false,
               false,
               false,
               false,
               false,
               false,
               false,
               false,
               false,
               true,
               false,
               false,
               false,
               false,
               false,
               false,
               false,
               false,
               false,
               false,
               false,
               false,
               false,
               true,
               false,
               false,
               false,
               false,
               false,
               false,
               false,
               false,
               false,
               false,
               false,
               false,
               false,
               false,
               false,
               false,
               false,
               false,
               false,
               false,
               false,
               false,
               false,
               false,
               false,
               false,
               false,
               false,
               false,
               false,
               false,
               false,
               false,
               true,
               false,
               false,
               false,
               false,
               false,
               false,
               false,
               false,
               false,
               false,
               false,
               false,
               true,
               false,
               false,
               false,
               false,
               false,
               false,
               false,
               false,
               false,
               false,
               false,
               false,
               false,
               false,
               false,
               false,
               false,
               false,
               false,
               true,
               false,
               false,
               false,
               false,
               false,
               false,
               false,
               false,
               false,
               false,
               false,
               false,
               false,
               false,
               true,
               false,
               false,
               false,
               false,
               false,
               true,
               false,
               false,
               false,
               false,
               false,
               false,
               false,
               false,
               false,
               false,
               false,
               false,
               false,
               true,
               false,
               false
              ]
             }
            ],
            "label": "Warner Bros.",
            "method": "update"
           },
           {
            "args": [
             {
              "visible": [
               false,
               false,
               false,
               false,
               false,
               false,
               false,
               false,
               false,
               false,
               false,
               false,
               false,
               false,
               false,
               false,
               false,
               false,
               false,
               false,
               false,
               true,
               false,
               false,
               false,
               false,
               false,
               false,
               false,
               false,
               true,
               false,
               false,
               false,
               false,
               false,
               false,
               false,
               false,
               false,
               false,
               false,
               false,
               false,
               false,
               false,
               false,
               false,
               false,
               false,
               false,
               false,
               false,
               false,
               false,
               false,
               false,
               false,
               false,
               false,
               false,
               false,
               false,
               false,
               false,
               false,
               false,
               false,
               false,
               false,
               false,
               false,
               false,
               false,
               false,
               false,
               false,
               false,
               false,
               true,
               false,
               false,
               false,
               false,
               false,
               false,
               false,
               false,
               true,
               false,
               false,
               false,
               false,
               false,
               false,
               false,
               false,
               false,
               false,
               false,
               false,
               false,
               false,
               false,
               false,
               false,
               false,
               false,
               false,
               false,
               false,
               false,
               false,
               false,
               true,
               false,
               false,
               false,
               false,
               false,
               false,
               false,
               false,
               false,
               false,
               false,
               false,
               false,
               false,
               false,
               false,
               false,
               true,
               false,
               false,
               false,
               false,
               false,
               false,
               false,
               false,
               false,
               false,
               false,
               false,
               false,
               false,
               false,
               false,
               false,
               false,
               false,
               false,
               false,
               false,
               false,
               false,
               false,
               false,
               false,
               false,
               false,
               false,
               false,
               false,
               false,
               false,
               false,
               true,
               false,
               false,
               false,
               false,
               false,
               false,
               false,
               false
              ]
             }
            ],
            "label": "Pixar Animation Studios",
            "method": "update"
           },
           {
            "args": [
             {
              "visible": [
               false,
               false,
               false,
               false,
               false,
               false,
               false,
               false,
               false,
               false,
               false,
               false,
               false,
               false,
               false,
               false,
               false,
               false,
               false,
               false,
               false,
               false,
               false,
               true,
               false,
               false,
               false,
               false,
               false,
               false,
               false,
               false,
               false,
               false,
               false,
               false,
               false,
               false,
               false,
               false,
               false,
               false,
               false,
               false,
               false,
               false,
               false,
               false,
               false,
               false,
               false,
               false,
               false,
               false,
               false,
               false,
               false,
               false,
               false,
               false,
               false,
               false,
               false,
               false,
               false,
               false,
               false,
               false,
               false,
               false,
               false,
               false,
               false,
               false,
               false,
               false,
               false,
               false,
               false,
               false,
               false,
               false,
               false,
               false,
               false,
               false,
               false,
               false,
               false,
               false,
               false,
               false,
               false,
               false,
               false,
               false,
               false,
               false,
               false,
               false,
               false,
               false,
               false,
               false,
               false,
               false,
               false,
               false,
               false,
               false,
               false,
               false,
               false,
               false,
               false,
               false,
               false,
               false,
               false,
               false,
               false,
               false,
               false,
               false,
               false,
               false,
               false,
               false,
               false,
               false,
               false,
               false,
               false,
               false,
               false,
               false,
               false,
               false,
               false,
               false,
               false,
               false,
               false,
               false,
               false,
               false,
               false,
               false,
               false,
               false,
               false,
               false,
               false,
               false,
               false,
               false,
               false,
               false,
               false,
               false,
               false,
               false,
               false,
               false,
               false,
               false,
               false,
               false,
               false,
               false,
               false,
               false,
               false,
               false,
               false,
               false,
               false
              ]
             }
            ],
            "label": "Alcon Entertainment",
            "method": "update"
           },
           {
            "args": [
             {
              "visible": [
               false,
               false,
               false,
               false,
               false,
               false,
               false,
               false,
               false,
               false,
               false,
               false,
               false,
               false,
               false,
               false,
               false,
               false,
               false,
               false,
               false,
               false,
               false,
               false,
               true,
               false,
               false,
               false,
               false,
               false,
               false,
               false,
               false,
               false,
               false,
               false,
               false,
               false,
               false,
               false,
               false,
               false,
               false,
               false,
               false,
               false,
               true,
               false,
               false,
               false,
               false,
               false,
               false,
               false,
               false,
               false,
               false,
               false,
               false,
               false,
               false,
               false,
               false,
               false,
               false,
               false,
               false,
               false,
               false,
               false,
               false,
               false,
               false,
               false,
               false,
               false,
               false,
               false,
               false,
               false,
               false,
               false,
               false,
               false,
               false,
               false,
               false,
               false,
               false,
               false,
               false,
               false,
               false,
               false,
               false,
               false,
               false,
               false,
               false,
               false,
               false,
               false,
               false,
               false,
               false,
               false,
               false,
               false,
               false,
               false,
               false,
               false,
               false,
               false,
               false,
               false,
               false,
               false,
               false,
               false,
               false,
               false,
               false,
               false,
               false,
               false,
               false,
               false,
               false,
               false,
               false,
               false,
               false,
               false,
               false,
               false,
               false,
               false,
               false,
               false,
               false,
               false,
               false,
               false,
               false,
               false,
               false,
               false,
               false,
               false,
               false,
               false,
               false,
               false,
               false,
               false,
               false,
               false,
               false,
               false,
               false,
               false,
               false,
               false,
               false,
               false,
               false,
               false,
               false,
               false,
               false,
               false,
               false,
               false,
               false,
               false,
               false
              ]
             }
            ],
            "label": "Lionsgate",
            "method": "update"
           },
           {
            "args": [
             {
              "visible": [
               false,
               false,
               false,
               false,
               false,
               false,
               false,
               false,
               false,
               false,
               false,
               false,
               false,
               false,
               false,
               false,
               false,
               false,
               false,
               false,
               false,
               false,
               false,
               false,
               false,
               false,
               false,
               true,
               false,
               false,
               false,
               false,
               false,
               false,
               false,
               false,
               false,
               false,
               false,
               false,
               false,
               false,
               false,
               false,
               false,
               false,
               false,
               false,
               false,
               false,
               true,
               false,
               false,
               false,
               false,
               false,
               false,
               false,
               false,
               false,
               false,
               false,
               false,
               false,
               false,
               false,
               false,
               false,
               false,
               false,
               false,
               false,
               false,
               false,
               false,
               false,
               false,
               false,
               false,
               false,
               false,
               false,
               false,
               false,
               false,
               false,
               false,
               false,
               false,
               false,
               false,
               false,
               false,
               false,
               false,
               false,
               false,
               false,
               false,
               false,
               false,
               false,
               false,
               false,
               false,
               false,
               false,
               false,
               false,
               false,
               false,
               false,
               false,
               false,
               false,
               false,
               false,
               false,
               false,
               false,
               false,
               false,
               false,
               false,
               false,
               false,
               false,
               false,
               false,
               false,
               false,
               false,
               false,
               false,
               false,
               false,
               false,
               false,
               false,
               false,
               false,
               false,
               false,
               false,
               false,
               false,
               false,
               false,
               false,
               false,
               false,
               false,
               false,
               false,
               false,
               false,
               false,
               false,
               false,
               false,
               false,
               false,
               false,
               false,
               false,
               false,
               false,
               false,
               false,
               false,
               false,
               false,
               false,
               false,
               false,
               false,
               false
              ]
             }
            ],
            "label": "Millennium Films",
            "method": "update"
           },
           {
            "args": [
             {
              "visible": [
               false,
               false,
               false,
               false,
               false,
               false,
               false,
               false,
               false,
               false,
               false,
               false,
               false,
               false,
               false,
               false,
               false,
               false,
               false,
               false,
               false,
               false,
               false,
               false,
               false,
               false,
               false,
               false,
               true,
               false,
               false,
               false,
               false,
               false,
               false,
               false,
               false,
               false,
               false,
               false,
               false,
               false,
               false,
               false,
               false,
               false,
               false,
               false,
               false,
               false,
               false,
               false,
               true,
               false,
               false,
               false,
               false,
               false,
               false,
               false,
               false,
               false,
               false,
               false,
               false,
               false,
               false,
               false,
               false,
               false,
               false,
               false,
               false,
               false,
               false,
               false,
               false,
               false,
               false,
               false,
               false,
               false,
               false,
               false,
               false,
               false,
               false,
               false,
               false,
               false,
               false,
               false,
               false,
               false,
               false,
               false,
               false,
               false,
               false,
               false,
               false,
               false,
               false,
               false,
               false,
               false,
               false,
               false,
               false,
               false,
               false,
               false,
               false,
               false,
               false,
               false,
               false,
               false,
               false,
               false,
               false,
               false,
               false,
               false,
               false,
               false,
               false,
               false,
               false,
               false,
               false,
               false,
               false,
               false,
               false,
               false,
               false,
               false,
               false,
               false,
               false,
               false,
               false,
               false,
               false,
               false,
               false,
               false,
               false,
               false,
               false,
               false,
               false,
               false,
               false,
               false,
               false,
               false,
               false,
               false,
               false,
               false,
               false,
               false,
               false,
               false,
               false,
               false,
               false,
               false,
               false,
               false,
               false,
               false,
               false,
               false,
               false
              ]
             }
            ],
            "label": "Nu Image Entertainment GmbH",
            "method": "update"
           },
           {
            "args": [
             {
              "visible": [
               false,
               false,
               false,
               false,
               false,
               false,
               false,
               false,
               false,
               false,
               false,
               false,
               false,
               false,
               false,
               false,
               false,
               false,
               false,
               false,
               false,
               false,
               false,
               false,
               false,
               false,
               false,
               false,
               false,
               false,
               false,
               true,
               false,
               false,
               false,
               false,
               false,
               false,
               false,
               false,
               false,
               false,
               false,
               false,
               false,
               false,
               false,
               false,
               false,
               false,
               false,
               false,
               false,
               false,
               false,
               false,
               false,
               false,
               false,
               false,
               false,
               false,
               false,
               false,
               false,
               false,
               false,
               false,
               false,
               false,
               false,
               false,
               false,
               false,
               false,
               false,
               false,
               false,
               false,
               false,
               false,
               false,
               false,
               false,
               false,
               false,
               false,
               false,
               false,
               false,
               false,
               false,
               false,
               false,
               false,
               false,
               false,
               false,
               false,
               false,
               false,
               false,
               false,
               false,
               false,
               false,
               false,
               false,
               false,
               false,
               false,
               false,
               false,
               false,
               false,
               false,
               false,
               false,
               false,
               false,
               false,
               false,
               false,
               false,
               false,
               false,
               false,
               false,
               false,
               false,
               false,
               false,
               false,
               false,
               false,
               false,
               false,
               false,
               false,
               false,
               false,
               false,
               false,
               false,
               false,
               false,
               false,
               false,
               false,
               false,
               false,
               false,
               false,
               false,
               false,
               false,
               false,
               false,
               false,
               false,
               false,
               false,
               false,
               false,
               false,
               false,
               false,
               false,
               false,
               false,
               false,
               false,
               false,
               false,
               false,
               false,
               false
              ]
             }
            ],
            "label": "Silver Pictures",
            "method": "update"
           },
           {
            "args": [
             {
              "visible": [
               false,
               false,
               false,
               false,
               false,
               false,
               false,
               false,
               false,
               false,
               false,
               false,
               false,
               false,
               false,
               false,
               false,
               false,
               false,
               false,
               false,
               false,
               false,
               false,
               false,
               false,
               false,
               false,
               false,
               false,
               false,
               false,
               false,
               true,
               false,
               false,
               false,
               false,
               false,
               false,
               false,
               false,
               false,
               false,
               false,
               false,
               false,
               false,
               false,
               false,
               false,
               false,
               false,
               false,
               false,
               false,
               false,
               false,
               false,
               false,
               false,
               false,
               false,
               false,
               false,
               false,
               false,
               false,
               false,
               false,
               false,
               false,
               false,
               false,
               false,
               false,
               false,
               false,
               false,
               false,
               false,
               false,
               false,
               false,
               false,
               false,
               false,
               false,
               false,
               false,
               false,
               false,
               false,
               false,
               false,
               false,
               false,
               false,
               false,
               false,
               false,
               false,
               false,
               false,
               false,
               false,
               false,
               false,
               false,
               false,
               false,
               false,
               false,
               false,
               false,
               false,
               false,
               false,
               false,
               false,
               false,
               false,
               false,
               false,
               false,
               false,
               false,
               false,
               false,
               false,
               false,
               false,
               false,
               false,
               false,
               false,
               false,
               false,
               false,
               false,
               false,
               false,
               false,
               false,
               false,
               false,
               false,
               false,
               false,
               false,
               false,
               false,
               false,
               false,
               false,
               false,
               false,
               false,
               false,
               false,
               false,
               false,
               false,
               false,
               false,
               false,
               false,
               false,
               false,
               false,
               false,
               false,
               false,
               false,
               false,
               false,
               false
              ]
             }
            ],
            "label": "Di Bonaventura Pictures",
            "method": "update"
           },
           {
            "args": [
             {
              "visible": [
               false,
               false,
               false,
               false,
               false,
               false,
               false,
               false,
               false,
               false,
               false,
               false,
               false,
               false,
               false,
               false,
               false,
               false,
               false,
               false,
               false,
               false,
               false,
               false,
               false,
               false,
               false,
               false,
               false,
               false,
               false,
               false,
               false,
               false,
               true,
               false,
               false,
               false,
               false,
               false,
               false,
               false,
               false,
               false,
               false,
               false,
               false,
               false,
               false,
               false,
               false,
               false,
               false,
               false,
               false,
               false,
               false,
               false,
               false,
               false,
               false,
               false,
               false,
               false,
               false,
               false,
               false,
               false,
               false,
               false,
               false,
               false,
               false,
               false,
               false,
               false,
               false,
               false,
               false,
               false,
               false,
               false,
               false,
               false,
               false,
               false,
               false,
               false,
               false,
               false,
               false,
               false,
               false,
               false,
               false,
               false,
               false,
               false,
               false,
               false,
               false,
               false,
               false,
               false,
               false,
               false,
               false,
               false,
               false,
               false,
               false,
               false,
               false,
               false,
               false,
               false,
               false,
               false,
               false,
               false,
               false,
               false,
               false,
               false,
               false,
               false,
               false,
               false,
               false,
               false,
               false,
               false,
               false,
               false,
               false,
               false,
               false,
               false,
               false,
               false,
               false,
               false,
               false,
               false,
               false,
               false,
               false,
               false,
               false,
               false,
               false,
               false,
               false,
               false,
               false,
               false,
               false,
               false,
               false,
               false,
               false,
               false,
               false,
               false,
               false,
               false,
               false,
               false,
               false,
               false,
               false,
               false,
               false,
               false,
               false,
               false,
               false
              ]
             }
            ],
            "label": "DreamWorks",
            "method": "update"
           },
           {
            "args": [
             {
              "visible": [
               false,
               false,
               false,
               false,
               false,
               false,
               false,
               false,
               false,
               false,
               false,
               false,
               false,
               false,
               false,
               false,
               false,
               false,
               false,
               false,
               false,
               false,
               false,
               false,
               false,
               false,
               false,
               false,
               false,
               false,
               false,
               false,
               false,
               false,
               false,
               false,
               false,
               true,
               false,
               false,
               false,
               false,
               false,
               false,
               false,
               false,
               false,
               false,
               false,
               false,
               false,
               false,
               false,
               false,
               false,
               false,
               false,
               false,
               false,
               false,
               false,
               false,
               false,
               false,
               false,
               false,
               false,
               false,
               false,
               false,
               false,
               false,
               false,
               false,
               false,
               false,
               false,
               false,
               false,
               false,
               false,
               false,
               false,
               false,
               false,
               false,
               false,
               false,
               false,
               false,
               false,
               false,
               false,
               false,
               false,
               false,
               false,
               false,
               false,
               false,
               false,
               false,
               false,
               false,
               false,
               false,
               false,
               false,
               false,
               false,
               false,
               false,
               false,
               false,
               false,
               false,
               false,
               false,
               false,
               false,
               false,
               false,
               false,
               false,
               false,
               false,
               false,
               false,
               false,
               false,
               false,
               false,
               false,
               false,
               false,
               false,
               false,
               false,
               false,
               false,
               false,
               false,
               false,
               false,
               false,
               false,
               false,
               false,
               false,
               false,
               false,
               false,
               false,
               false,
               false,
               true,
               false,
               false,
               false,
               false,
               false,
               false,
               false,
               false,
               false,
               false,
               false,
               false,
               false,
               false,
               false,
               false,
               false,
               false,
               false,
               false,
               false
              ]
             }
            ],
            "label": "Heyday Films",
            "method": "update"
           },
           {
            "args": [
             {
              "visible": [
               false,
               false,
               false,
               false,
               false,
               false,
               false,
               false,
               false,
               false,
               false,
               false,
               false,
               false,
               false,
               false,
               false,
               false,
               false,
               false,
               false,
               false,
               false,
               false,
               false,
               false,
               false,
               false,
               false,
               false,
               false,
               false,
               false,
               false,
               false,
               false,
               false,
               false,
               false,
               true,
               false,
               false,
               false,
               false,
               false,
               false,
               false,
               false,
               false,
               false,
               false,
               false,
               false,
               false,
               false,
               false,
               false,
               false,
               false,
               false,
               false,
               false,
               false,
               false,
               false,
               false,
               false,
               false,
               false,
               false,
               false,
               false,
               false,
               false,
               false,
               false,
               false,
               false,
               false,
               false,
               false,
               false,
               false,
               false,
               false,
               false,
               false,
               false,
               false,
               false,
               false,
               false,
               false,
               false,
               false,
               false,
               false,
               false,
               false,
               false,
               false,
               false,
               false,
               false,
               false,
               false,
               false,
               false,
               false,
               false,
               false,
               false,
               false,
               false,
               false,
               false,
               false,
               false,
               false,
               false,
               false,
               false,
               false,
               false,
               false,
               false,
               false,
               false,
               false,
               false,
               false,
               false,
               false,
               false,
               false,
               false,
               false,
               false,
               false,
               false,
               false,
               false,
               false,
               false,
               false,
               false,
               false,
               false,
               false,
               false,
               false,
               false,
               false,
               false,
               false,
               false,
               false,
               false,
               false,
               false,
               false,
               false,
               false,
               false,
               false,
               false,
               false,
               false,
               false,
               false,
               false,
               false,
               false,
               false,
               false,
               false,
               false
              ]
             }
            ],
            "label": "Reliance Film & Entertainment",
            "method": "update"
           },
           {
            "args": [
             {
              "visible": [
               false,
               false,
               false,
               false,
               false,
               false,
               false,
               false,
               false,
               false,
               false,
               false,
               false,
               false,
               false,
               false,
               false,
               false,
               false,
               false,
               false,
               false,
               false,
               false,
               false,
               false,
               false,
               false,
               false,
               false,
               false,
               false,
               false,
               false,
               false,
               false,
               false,
               false,
               false,
               false,
               false,
               true,
               false,
               false,
               false,
               false,
               false,
               false,
               false,
               false,
               false,
               false,
               false,
               false,
               false,
               false,
               false,
               false,
               false,
               false,
               false,
               false,
               false,
               false,
               false,
               false,
               false,
               false,
               false,
               false,
               false,
               false,
               false,
               false,
               false,
               false,
               false,
               false,
               false,
               false,
               false,
               false,
               false,
               false,
               false,
               false,
               false,
               false,
               false,
               false,
               false,
               false,
               false,
               false,
               false,
               false,
               false,
               false,
               false,
               false,
               false,
               false,
               false,
               false,
               false,
               false,
               false,
               false,
               false,
               false,
               false,
               false,
               false,
               false,
               false,
               false,
               false,
               false,
               false,
               false,
               false,
               false,
               false,
               false,
               false,
               false,
               false,
               false,
               false,
               false,
               false,
               false,
               false,
               false,
               false,
               false,
               false,
               false,
               false,
               false,
               false,
               false,
               false,
               false,
               false,
               false,
               true,
               false,
               false,
               false,
               false,
               false,
               false,
               false,
               false,
               false,
               false,
               false,
               false,
               false,
               false,
               false,
               false,
               false,
               false,
               false,
               false,
               false,
               false,
               false,
               false,
               false,
               false,
               false,
               false,
               false,
               false
              ]
             }
            ],
            "label": "DC Entertainment",
            "method": "update"
           },
           {
            "args": [
             {
              "visible": [
               false,
               false,
               false,
               false,
               false,
               false,
               false,
               false,
               false,
               false,
               false,
               false,
               false,
               false,
               false,
               false,
               false,
               false,
               false,
               false,
               false,
               false,
               false,
               false,
               false,
               false,
               false,
               false,
               false,
               false,
               false,
               false,
               false,
               false,
               false,
               false,
               false,
               false,
               false,
               false,
               false,
               false,
               true,
               false,
               false,
               false,
               false,
               false,
               false,
               false,
               false,
               false,
               false,
               false,
               false,
               false,
               false,
               false,
               false,
               false,
               false,
               false,
               false,
               false,
               false,
               false,
               false,
               false,
               false,
               false,
               false,
               false,
               false,
               false,
               false,
               false,
               false,
               false,
               false,
               false,
               false,
               false,
               false,
               false,
               false,
               false,
               false,
               false,
               false,
               false,
               false,
               false,
               false,
               false,
               false,
               false,
               false,
               false,
               false,
               false,
               false,
               false,
               false,
               false,
               false,
               false,
               false,
               false,
               false,
               false,
               false,
               false,
               false,
               false,
               false,
               false,
               false,
               false,
               false,
               false,
               false,
               false,
               false,
               false,
               false,
               false,
               false,
               false,
               false,
               false,
               false,
               false,
               false,
               false,
               false,
               false,
               false,
               false,
               false,
               false,
               false,
               false,
               false,
               false,
               false,
               false,
               false,
               false,
               false,
               false,
               false,
               false,
               false,
               false,
               false,
               false,
               false,
               false,
               false,
               false,
               false,
               false,
               false,
               false,
               false,
               false,
               false,
               false,
               false,
               false,
               false,
               false,
               false,
               false,
               false,
               false,
               false
              ]
             }
            ],
            "label": "DreamWorks Animation",
            "method": "update"
           },
           {
            "args": [
             {
              "visible": [
               false,
               false,
               false,
               false,
               false,
               false,
               false,
               false,
               false,
               false,
               false,
               false,
               false,
               false,
               false,
               false,
               false,
               false,
               false,
               false,
               false,
               false,
               false,
               false,
               false,
               false,
               false,
               false,
               false,
               false,
               false,
               false,
               false,
               false,
               false,
               false,
               false,
               false,
               false,
               false,
               false,
               false,
               false,
               false,
               true,
               false,
               false,
               false,
               false,
               false,
               false,
               false,
               false,
               false,
               false,
               false,
               false,
               false,
               false,
               false,
               false,
               false,
               false,
               false,
               false,
               false,
               false,
               false,
               false,
               false,
               false,
               false,
               false,
               false,
               false,
               false,
               false,
               false,
               false,
               false,
               false,
               false,
               false,
               false,
               false,
               false,
               false,
               false,
               false,
               false,
               false,
               false,
               false,
               false,
               false,
               false,
               false,
               false,
               false,
               false,
               false,
               false,
               false,
               false,
               false,
               false,
               false,
               false,
               false,
               false,
               false,
               false,
               false,
               false,
               false,
               false,
               false,
               false,
               false,
               false,
               false,
               false,
               false,
               false,
               false,
               false,
               false,
               false,
               false,
               false,
               false,
               false,
               false,
               false,
               false,
               false,
               false,
               false,
               false,
               false,
               false,
               false,
               false,
               false,
               false,
               false,
               false,
               false,
               false,
               false,
               false,
               false,
               false,
               false,
               false,
               false,
               false,
               false,
               false,
               false,
               false,
               false,
               false,
               false,
               false,
               false,
               false,
               false,
               false,
               false,
               false,
               false,
               false,
               false,
               false,
               false,
               false
              ]
             }
            ],
            "label": "Fuzzy Door Productions",
            "method": "update"
           },
           {
            "args": [
             {
              "visible": [
               false,
               false,
               false,
               false,
               false,
               false,
               false,
               false,
               false,
               false,
               false,
               false,
               false,
               false,
               false,
               false,
               false,
               false,
               false,
               false,
               false,
               false,
               false,
               false,
               false,
               false,
               false,
               false,
               false,
               false,
               false,
               false,
               false,
               false,
               false,
               false,
               false,
               false,
               false,
               false,
               false,
               false,
               false,
               false,
               false,
               false,
               false,
               false,
               true,
               false,
               false,
               false,
               false,
               false,
               false,
               false,
               false,
               false,
               false,
               false,
               false,
               false,
               false,
               false,
               false,
               false,
               false,
               false,
               false,
               false,
               false,
               false,
               false,
               false,
               false,
               false,
               false,
               false,
               false,
               false,
               false,
               false,
               false,
               false,
               false,
               false,
               false,
               false,
               false,
               false,
               false,
               false,
               false,
               false,
               false,
               false,
               false,
               false,
               false,
               false,
               false,
               false,
               false,
               false,
               false,
               false,
               false,
               false,
               false,
               false,
               false,
               false,
               false,
               false,
               false,
               false,
               false,
               false,
               false,
               false,
               false,
               false,
               false,
               false,
               false,
               false,
               false,
               false,
               false,
               false,
               false,
               false,
               false,
               false,
               false,
               false,
               false,
               false,
               false,
               false,
               false,
               false,
               false,
               false,
               false,
               false,
               false,
               false,
               false,
               false,
               false,
               false,
               false,
               false,
               false,
               false,
               false,
               false,
               false,
               false,
               false,
               false,
               false,
               false,
               false,
               false,
               false,
               false,
               false,
               false,
               false,
               false,
               false,
               false,
               false,
               false,
               false
              ]
             }
            ],
            "label": "Media Rights Capital (MRC)",
            "method": "update"
           },
           {
            "args": [
             {
              "visible": [
               false,
               false,
               false,
               false,
               false,
               false,
               false,
               false,
               false,
               false,
               false,
               false,
               false,
               false,
               false,
               false,
               false,
               false,
               false,
               false,
               false,
               false,
               false,
               false,
               false,
               false,
               false,
               false,
               false,
               false,
               false,
               false,
               false,
               false,
               false,
               false,
               false,
               false,
               false,
               false,
               false,
               false,
               false,
               false,
               false,
               false,
               false,
               false,
               false,
               true,
               false,
               false,
               false,
               false,
               false,
               false,
               false,
               false,
               false,
               false,
               false,
               false,
               true,
               false,
               false,
               false,
               false,
               false,
               true,
               false,
               false,
               false,
               false,
               false,
               false,
               false,
               false,
               false,
               false,
               false,
               false,
               false,
               false,
               false,
               false,
               false,
               false,
               false,
               false,
               false,
               false,
               false,
               false,
               false,
               false,
               false,
               false,
               false,
               false,
               false,
               false,
               false,
               false,
               false,
               false,
               false,
               false,
               false,
               false,
               false,
               false,
               false,
               false,
               false,
               false,
               false,
               false,
               false,
               false,
               false,
               false,
               false,
               false,
               false,
               false,
               false,
               false,
               false,
               false,
               false,
               false,
               false,
               false,
               false,
               false,
               false,
               false,
               false,
               false,
               false,
               false,
               false,
               false,
               false,
               false,
               false,
               false,
               false,
               false,
               false,
               false,
               false,
               false,
               false,
               false,
               false,
               false,
               false,
               false,
               false,
               false,
               false,
               false,
               false,
               false,
               false,
               false,
               false,
               false,
               false,
               false,
               false,
               false,
               false,
               false,
               false,
               false
              ]
             }
            ],
            "label": "Metro-Goldwyn-Mayer (MGM)",
            "method": "update"
           },
           {
            "args": [
             {
              "visible": [
               false,
               false,
               false,
               false,
               false,
               false,
               false,
               false,
               false,
               false,
               false,
               false,
               false,
               false,
               false,
               false,
               false,
               false,
               false,
               false,
               false,
               false,
               false,
               false,
               false,
               false,
               false,
               false,
               false,
               false,
               false,
               false,
               false,
               false,
               false,
               false,
               false,
               false,
               false,
               false,
               false,
               false,
               false,
               false,
               false,
               false,
               false,
               false,
               false,
               false,
               false,
               true,
               false,
               false,
               false,
               false,
               false,
               false,
               false,
               false,
               false,
               false,
               false,
               true,
               false,
               false,
               false,
               false,
               false,
               true,
               false,
               false,
               false,
               false,
               false,
               false,
               false,
               false,
               false,
               false,
               false,
               false,
               false,
               false,
               false,
               false,
               false,
               false,
               false,
               false,
               false,
               false,
               false,
               false,
               false,
               false,
               false,
               false,
               false,
               true,
               false,
               false,
               false,
               false,
               false,
               false,
               false,
               false,
               false,
               false,
               false,
               false,
               false,
               false,
               false,
               false,
               false,
               false,
               false,
               false,
               false,
               false,
               false,
               false,
               false,
               false,
               false,
               false,
               false,
               false,
               true,
               false,
               false,
               false,
               false,
               false,
               false,
               false,
               false,
               false,
               false,
               false,
               false,
               false,
               false,
               false,
               false,
               false,
               false,
               false,
               false,
               false,
               false,
               false,
               false,
               false,
               false,
               false,
               false,
               false,
               false,
               false,
               false,
               false,
               false,
               false,
               false,
               false,
               false,
               false,
               false,
               false,
               false,
               false,
               false,
               false,
               false
              ]
             }
            ],
            "label": "New Line Cinema",
            "method": "update"
           },
           {
            "args": [
             {
              "visible": [
               false,
               false,
               false,
               false,
               false,
               false,
               false,
               false,
               false,
               false,
               false,
               false,
               false,
               false,
               false,
               false,
               false,
               false,
               false,
               false,
               false,
               false,
               false,
               false,
               false,
               false,
               false,
               false,
               false,
               false,
               false,
               false,
               false,
               false,
               false,
               false,
               false,
               false,
               false,
               false,
               false,
               false,
               false,
               false,
               false,
               false,
               false,
               false,
               false,
               false,
               false,
               false,
               false,
               true,
               false,
               false,
               false,
               false,
               false,
               false,
               false,
               false,
               false,
               false,
               false,
               false,
               false,
               false,
               false,
               false,
               false,
               false,
               false,
               false,
               false,
               false,
               false,
               false,
               false,
               false,
               false,
               false,
               false,
               false,
               false,
               false,
               false,
               false,
               false,
               false,
               false,
               false,
               false,
               false,
               false,
               false,
               false,
               false,
               false,
               false,
               false,
               false,
               false,
               false,
               false,
               false,
               false,
               false,
               false,
               false,
               false,
               false,
               false,
               false,
               false,
               false,
               false,
               false,
               false,
               false,
               false,
               false,
               false,
               false,
               false,
               false,
               false,
               false,
               false,
               false,
               false,
               false,
               false,
               false,
               false,
               false,
               false,
               false,
               false,
               false,
               false,
               false,
               false,
               false,
               false,
               false,
               false,
               false,
               false,
               false,
               false,
               false,
               false,
               false,
               false,
               false,
               false,
               false,
               false,
               false,
               false,
               false,
               false,
               false,
               false,
               false,
               false,
               false,
               false,
               false,
               false,
               false,
               false,
               false,
               false,
               false,
               false
              ]
             }
            ],
            "label": "Pacific Data Images (PDI)",
            "method": "update"
           },
           {
            "args": [
             {
              "visible": [
               false,
               false,
               false,
               false,
               false,
               false,
               false,
               false,
               false,
               false,
               false,
               false,
               false,
               false,
               false,
               false,
               false,
               false,
               false,
               false,
               false,
               false,
               false,
               false,
               false,
               false,
               false,
               false,
               false,
               false,
               false,
               false,
               false,
               false,
               false,
               false,
               false,
               false,
               false,
               false,
               false,
               false,
               false,
               false,
               false,
               false,
               false,
               false,
               false,
               false,
               false,
               false,
               false,
               false,
               false,
               true,
               false,
               false,
               false,
               false,
               false,
               false,
               false,
               false,
               false,
               false,
               false,
               false,
               false,
               false,
               false,
               false,
               false,
               false,
               false,
               false,
               false,
               false,
               false,
               false,
               false,
               false,
               false,
               false,
               false,
               false,
               false,
               false,
               false,
               false,
               false,
               false,
               false,
               false,
               false,
               false,
               false,
               false,
               false,
               false,
               false,
               false,
               false,
               false,
               false,
               false,
               false,
               false,
               false,
               false,
               false,
               false,
               false,
               false,
               false,
               false,
               false,
               false,
               false,
               false,
               false,
               false,
               false,
               false,
               false,
               false,
               false,
               false,
               false,
               false,
               false,
               false,
               false,
               false,
               false,
               false,
               false,
               false,
               false,
               false,
               false,
               false,
               false,
               false,
               false,
               false,
               false,
               false,
               false,
               false,
               false,
               false,
               false,
               false,
               false,
               false,
               false,
               false,
               false,
               false,
               false,
               false,
               false,
               false,
               false,
               false,
               false,
               false,
               false,
               false,
               false,
               false,
               false,
               false,
               false,
               false,
               false
              ]
             }
            ],
            "label": "Reliance Entertainment",
            "method": "update"
           },
           {
            "args": [
             {
              "visible": [
               false,
               false,
               false,
               false,
               false,
               false,
               false,
               false,
               false,
               false,
               false,
               false,
               false,
               false,
               false,
               false,
               false,
               false,
               false,
               false,
               false,
               false,
               false,
               false,
               false,
               false,
               false,
               false,
               false,
               false,
               false,
               false,
               false,
               false,
               false,
               false,
               false,
               false,
               false,
               false,
               false,
               false,
               false,
               false,
               false,
               false,
               false,
               false,
               false,
               false,
               false,
               false,
               false,
               false,
               false,
               false,
               true,
               false,
               false,
               false,
               false,
               false,
               false,
               false,
               false,
               false,
               false,
               false,
               false,
               false,
               false,
               false,
               false,
               false,
               false,
               false,
               false,
               false,
               false,
               false,
               false,
               false,
               false,
               false,
               false,
               false,
               false,
               false,
               false,
               false,
               false,
               false,
               false,
               false,
               false,
               false,
               false,
               false,
               false,
               false,
               false,
               false,
               false,
               false,
               false,
               false,
               false,
               false,
               false,
               false,
               false,
               false,
               false,
               false,
               false,
               false,
               false,
               false,
               false,
               false,
               false,
               false,
               false,
               false,
               false,
               false,
               false,
               false,
               false,
               false,
               false,
               false,
               false,
               false,
               false,
               false,
               false,
               false,
               false,
               false,
               false,
               false,
               false,
               false,
               false,
               false,
               false,
               false,
               false,
               false,
               false,
               false,
               false,
               false,
               false,
               false,
               false,
               false,
               false,
               false,
               false,
               false,
               false,
               false,
               false,
               false,
               false,
               false,
               false,
               false,
               false,
               false,
               false,
               false,
               false,
               false,
               false
              ]
             }
            ],
            "label": "Twentieth Century Fox",
            "method": "update"
           },
           {
            "args": [
             {
              "visible": [
               false,
               false,
               false,
               false,
               false,
               false,
               false,
               false,
               false,
               false,
               false,
               false,
               false,
               false,
               false,
               false,
               false,
               false,
               false,
               false,
               false,
               false,
               false,
               false,
               false,
               false,
               false,
               false,
               false,
               false,
               false,
               false,
               false,
               false,
               false,
               false,
               false,
               false,
               false,
               false,
               false,
               false,
               false,
               false,
               false,
               false,
               false,
               false,
               false,
               false,
               false,
               false,
               false,
               false,
               false,
               false,
               false,
               true,
               false,
               false,
               false,
               false,
               false,
               false,
               false,
               false,
               false,
               false,
               false,
               false,
               false,
               false,
               false,
               false,
               false,
               false,
               false,
               false,
               false,
               false,
               true,
               false,
               false,
               false,
               false,
               false,
               false,
               false,
               false,
               true,
               false,
               false,
               false,
               false,
               false,
               false,
               false,
               false,
               false,
               false,
               false,
               false,
               false,
               false,
               false,
               false,
               false,
               false,
               false,
               false,
               false,
               false,
               false,
               false,
               false,
               false,
               true,
               false,
               false,
               false,
               false,
               false,
               false,
               false,
               false,
               false,
               false,
               false,
               false,
               false,
               false,
               false,
               false,
               false,
               false,
               false,
               false,
               false,
               false,
               false,
               false,
               false,
               false,
               false,
               false,
               false,
               false,
               false,
               false,
               false,
               false,
               false,
               false,
               true,
               false,
               false,
               false,
               false,
               false,
               true,
               false,
               false,
               false,
               false,
               false,
               false,
               false,
               false,
               false,
               false,
               true,
               false,
               false,
               false,
               false,
               false,
               false
              ]
             }
            ],
            "label": "Universal Pictures",
            "method": "update"
           },
           {
            "args": [
             {
              "visible": [
               false,
               false,
               false,
               false,
               false,
               false,
               false,
               false,
               false,
               false,
               false,
               false,
               false,
               false,
               false,
               false,
               false,
               false,
               false,
               false,
               false,
               false,
               false,
               false,
               false,
               false,
               false,
               false,
               false,
               false,
               false,
               false,
               false,
               false,
               false,
               false,
               false,
               false,
               false,
               false,
               false,
               false,
               false,
               false,
               false,
               false,
               false,
               false,
               false,
               false,
               false,
               false,
               false,
               false,
               false,
               false,
               false,
               false,
               false,
               true,
               false,
               false,
               false,
               false,
               false,
               true,
               false,
               false,
               false,
               false,
               false,
               false,
               false,
               true,
               false,
               false,
               false,
               false,
               false,
               false,
               false,
               false,
               false,
               false,
               false,
               false,
               false,
               false,
               false,
               false,
               false,
               false,
               false,
               false,
               false,
               false,
               false,
               false,
               false,
               false,
               false,
               false,
               false,
               false,
               false,
               false,
               false,
               false,
               false,
               false,
               false,
               false,
               false,
               false,
               false,
               false,
               false,
               false,
               false,
               false,
               false,
               false,
               false,
               false,
               false,
               false,
               false,
               false,
               false,
               false,
               false,
               false,
               false,
               false,
               false,
               false,
               false,
               false,
               false,
               false,
               false,
               false,
               false,
               false,
               false,
               false,
               false,
               false,
               false,
               false,
               false,
               false,
               false,
               false,
               false,
               false,
               false,
               false,
               false,
               false,
               false,
               false,
               false,
               false,
               false,
               false,
               false,
               false,
               false,
               false,
               false,
               false,
               false,
               false,
               false,
               false,
               false
              ]
             }
            ],
            "label": "WingNut Films",
            "method": "update"
           },
           {
            "args": [
             {
              "visible": [
               false,
               false,
               false,
               false,
               false,
               false,
               false,
               false,
               false,
               false,
               false,
               false,
               false,
               false,
               false,
               false,
               false,
               false,
               false,
               false,
               false,
               false,
               false,
               false,
               false,
               false,
               false,
               false,
               false,
               false,
               false,
               false,
               false,
               false,
               false,
               false,
               false,
               false,
               false,
               false,
               false,
               false,
               false,
               false,
               false,
               false,
               false,
               false,
               false,
               false,
               false,
               false,
               false,
               false,
               false,
               false,
               false,
               false,
               false,
               false,
               true,
               false,
               false,
               false,
               false,
               false,
               false,
               false,
               false,
               false,
               false,
               false,
               false,
               false,
               false,
               false,
               false,
               false,
               false,
               false,
               false,
               false,
               false,
               false,
               false,
               false,
               false,
               false,
               false,
               false,
               false,
               false,
               false,
               false,
               false,
               false,
               false,
               false,
               false,
               false,
               false,
               false,
               false,
               false,
               false,
               false,
               false,
               false,
               false,
               false,
               false,
               false,
               false,
               false,
               false,
               false,
               false,
               false,
               false,
               false,
               false,
               false,
               false,
               false,
               false,
               false,
               false,
               false,
               false,
               false,
               false,
               false,
               false,
               false,
               false,
               false,
               false,
               false,
               false,
               false,
               false,
               false,
               false,
               false,
               false,
               false,
               false,
               false,
               false,
               false,
               false,
               false,
               false,
               false,
               false,
               false,
               false,
               false,
               false,
               false,
               false,
               false,
               false,
               false,
               false,
               false,
               false,
               false,
               false,
               false,
               false,
               false,
               false,
               false,
               false,
               false,
               false
              ]
             }
            ],
            "label": "DMG Entertainment",
            "method": "update"
           },
           {
            "args": [
             {
              "visible": [
               false,
               false,
               false,
               false,
               false,
               false,
               false,
               false,
               false,
               false,
               false,
               false,
               false,
               false,
               false,
               false,
               false,
               false,
               false,
               false,
               false,
               false,
               false,
               false,
               false,
               false,
               false,
               false,
               false,
               false,
               false,
               false,
               false,
               false,
               false,
               false,
               false,
               false,
               false,
               false,
               false,
               false,
               false,
               false,
               false,
               false,
               false,
               false,
               false,
               false,
               false,
               false,
               false,
               false,
               false,
               false,
               false,
               false,
               false,
               false,
               false,
               false,
               false,
               false,
               false,
               false,
               true,
               false,
               false,
               false,
               false,
               false,
               false,
               false,
               false,
               false,
               false,
               false,
               false,
               false,
               false,
               false,
               false,
               false,
               false,
               false,
               false,
               false,
               false,
               false,
               false,
               false,
               false,
               false,
               false,
               false,
               false,
               false,
               false,
               false,
               false,
               false,
               false,
               false,
               false,
               false,
               false,
               false,
               false,
               false,
               false,
               false,
               false,
               false,
               false,
               false,
               false,
               false,
               false,
               false,
               false,
               false,
               false,
               false,
               false,
               false,
               false,
               false,
               false,
               false,
               false,
               false,
               false,
               false,
               false,
               false,
               false,
               false,
               false,
               false,
               false,
               false,
               false,
               false,
               false,
               false,
               false,
               false,
               false,
               false,
               false,
               false,
               false,
               false,
               false,
               false,
               false,
               false,
               false,
               false,
               false,
               false,
               false,
               false,
               false,
               false,
               false,
               false,
               false,
               false,
               false,
               false,
               false,
               false,
               false,
               false,
               false
              ]
             }
            ],
            "label": "Disruption Entertainment",
            "method": "update"
           },
           {
            "args": [
             {
              "visible": [
               false,
               false,
               false,
               false,
               false,
               false,
               false,
               false,
               false,
               false,
               false,
               false,
               false,
               false,
               false,
               false,
               false,
               false,
               false,
               false,
               false,
               false,
               false,
               false,
               false,
               false,
               false,
               false,
               false,
               false,
               false,
               false,
               false,
               false,
               false,
               false,
               false,
               false,
               false,
               false,
               false,
               false,
               false,
               false,
               false,
               false,
               false,
               false,
               false,
               false,
               false,
               false,
               false,
               false,
               false,
               false,
               false,
               false,
               false,
               false,
               false,
               false,
               false,
               false,
               false,
               false,
               false,
               false,
               false,
               false,
               true,
               false,
               false,
               false,
               false,
               false,
               false,
               false,
               false,
               false,
               false,
               false,
               false,
               false,
               false,
               false,
               false,
               false,
               false,
               false,
               false,
               false,
               false,
               false,
               false,
               false,
               false,
               false,
               false,
               false,
               false,
               false,
               true,
               false,
               false,
               false,
               false,
               false,
               false,
               false,
               false,
               false,
               false,
               false,
               false,
               false,
               false,
               false,
               false,
               false,
               false,
               false,
               false,
               false,
               false,
               false,
               false,
               false,
               false,
               false,
               false,
               false,
               false,
               false,
               false,
               false,
               false,
               false,
               false,
               false,
               false,
               false,
               false,
               false,
               false,
               false,
               false,
               false,
               false,
               false,
               false,
               false,
               false,
               false,
               false,
               false,
               false,
               false,
               false,
               false,
               false,
               false,
               false,
               false,
               false,
               false,
               false,
               false,
               false,
               false,
               false,
               false,
               false,
               false,
               false,
               false,
               false
              ]
             }
            ],
            "label": "RatPac-Dune Entertainment",
            "method": "update"
           },
           {
            "args": [
             {
              "visible": [
               false,
               false,
               false,
               false,
               false,
               false,
               false,
               false,
               false,
               false,
               false,
               false,
               false,
               false,
               false,
               false,
               false,
               false,
               false,
               false,
               false,
               false,
               false,
               false,
               false,
               false,
               false,
               false,
               false,
               false,
               false,
               false,
               false,
               false,
               false,
               false,
               false,
               false,
               false,
               false,
               false,
               false,
               false,
               false,
               false,
               false,
               false,
               false,
               false,
               false,
               false,
               false,
               false,
               false,
               false,
               false,
               false,
               false,
               false,
               false,
               false,
               false,
               false,
               false,
               false,
               false,
               false,
               false,
               false,
               false,
               false,
               true,
               false,
               false,
               false,
               false,
               false,
               false,
               false,
               false,
               false,
               false,
               false,
               false,
               false,
               false,
               false,
               false,
               false,
               false,
               false,
               false,
               false,
               false,
               false,
               false,
               false,
               false,
               false,
               false,
               false,
               false,
               false,
               false,
               false,
               false,
               false,
               false,
               false,
               false,
               false,
               false,
               false,
               false,
               false,
               false,
               false,
               true,
               false,
               false,
               false,
               false,
               false,
               false,
               false,
               false,
               false,
               false,
               false,
               false,
               false,
               false,
               false,
               false,
               false,
               true,
               false,
               false,
               false,
               false,
               false,
               false,
               false,
               false,
               false,
               false,
               false,
               false,
               false,
               false,
               false,
               false,
               false,
               false,
               false,
               false,
               false,
               false,
               false,
               false,
               false,
               false,
               false,
               false,
               false,
               false,
               false,
               false,
               false,
               false,
               false,
               false,
               false,
               false,
               false,
               false,
               false
              ]
             }
            ],
            "label": "Village Roadshow Pictures",
            "method": "update"
           },
           {
            "args": [
             {
              "visible": [
               false,
               false,
               false,
               false,
               false,
               false,
               false,
               false,
               false,
               false,
               false,
               false,
               false,
               false,
               false,
               false,
               false,
               false,
               false,
               false,
               false,
               false,
               false,
               false,
               false,
               false,
               false,
               false,
               false,
               false,
               false,
               false,
               false,
               false,
               false,
               false,
               false,
               false,
               false,
               false,
               false,
               false,
               false,
               false,
               false,
               false,
               false,
               false,
               false,
               false,
               false,
               false,
               false,
               false,
               false,
               false,
               false,
               false,
               false,
               false,
               false,
               false,
               false,
               false,
               false,
               false,
               false,
               false,
               false,
               false,
               false,
               false,
               false,
               false,
               false,
               true,
               false,
               false,
               false,
               false,
               false,
               false,
               false,
               false,
               false,
               false,
               false,
               false,
               false,
               false,
               false,
               false,
               true,
               false,
               false,
               false,
               false,
               false,
               false,
               false,
               false,
               false,
               false,
               false,
               false,
               false,
               false,
               false,
               false,
               false,
               false,
               false,
               false,
               false,
               false,
               false,
               false,
               false,
               false,
               false,
               false,
               false,
               true,
               false,
               false,
               false,
               false,
               false,
               false,
               false,
               false,
               false,
               false,
               false,
               false,
               false,
               false,
               false,
               false,
               false,
               false,
               false,
               false,
               false,
               false,
               false,
               false,
               false,
               false,
               false,
               false,
               false,
               false,
               false,
               false,
               false,
               false,
               false,
               false,
               false,
               false,
               false,
               false,
               false,
               false,
               false,
               false,
               false,
               false,
               false,
               false,
               false,
               false,
               false,
               false,
               false,
               false
              ]
             }
            ],
            "label": "Bad Robot",
            "method": "update"
           },
           {
            "args": [
             {
              "visible": [
               false,
               false,
               false,
               false,
               false,
               false,
               false,
               false,
               false,
               false,
               false,
               false,
               false,
               false,
               false,
               false,
               false,
               false,
               false,
               false,
               false,
               false,
               false,
               false,
               false,
               false,
               false,
               false,
               false,
               false,
               false,
               false,
               false,
               false,
               false,
               false,
               false,
               false,
               false,
               false,
               false,
               false,
               false,
               false,
               false,
               false,
               false,
               false,
               false,
               false,
               false,
               false,
               false,
               false,
               false,
               false,
               false,
               false,
               false,
               false,
               false,
               false,
               false,
               false,
               false,
               false,
               false,
               false,
               false,
               false,
               false,
               false,
               false,
               false,
               false,
               false,
               false,
               false,
               false,
               false,
               false,
               false,
               true,
               false,
               false,
               false,
               false,
               false,
               false,
               false,
               false,
               false,
               false,
               false,
               false,
               false,
               false,
               false,
               false,
               false,
               false,
               false,
               false,
               false,
               false,
               false,
               false,
               false,
               false,
               false,
               false,
               false,
               false,
               false,
               false,
               false,
               false,
               false,
               false,
               false,
               false,
               false,
               false,
               false,
               false,
               false,
               false,
               false,
               false,
               false,
               false,
               false,
               false,
               false,
               false,
               false,
               false,
               false,
               false,
               false,
               false,
               false,
               false,
               false,
               false,
               false,
               false,
               false,
               false,
               false,
               false,
               false,
               false,
               false,
               false,
               false,
               false,
               false,
               false,
               false,
               false,
               false,
               false,
               false,
               false,
               false,
               false,
               false,
               false,
               false,
               false,
               false,
               false,
               false,
               false,
               false,
               false
              ]
             }
            ],
            "label": "Allison Shearmur Productions",
            "method": "update"
           },
           {
            "args": [
             {
              "visible": [
               false,
               false,
               false,
               false,
               false,
               false,
               false,
               false,
               false,
               false,
               false,
               false,
               false,
               false,
               false,
               false,
               false,
               false,
               false,
               false,
               false,
               false,
               false,
               false,
               false,
               false,
               false,
               false,
               false,
               false,
               false,
               false,
               false,
               false,
               false,
               false,
               false,
               false,
               false,
               false,
               false,
               false,
               false,
               false,
               false,
               false,
               false,
               false,
               false,
               false,
               false,
               false,
               false,
               false,
               false,
               false,
               false,
               false,
               false,
               false,
               false,
               false,
               false,
               false,
               false,
               false,
               false,
               false,
               false,
               false,
               false,
               false,
               false,
               false,
               false,
               false,
               false,
               false,
               false,
               false,
               false,
               false,
               false,
               true,
               false,
               false,
               false,
               false,
               false,
               false,
               false,
               false,
               false,
               false,
               false,
               false,
               false,
               false,
               false,
               false,
               false,
               false,
               false,
               false,
               false,
               false,
               false,
               false,
               false,
               false,
               false,
               false,
               false,
               false,
               false,
               false,
               false,
               false,
               false,
               false,
               false,
               false,
               false,
               false,
               false,
               false,
               false,
               false,
               false,
               false,
               false,
               false,
               false,
               false,
               false,
               false,
               false,
               false,
               false,
               false,
               false,
               false,
               false,
               false,
               false,
               false,
               false,
               false,
               false,
               false,
               false,
               false,
               false,
               false,
               false,
               false,
               false,
               false,
               false,
               false,
               false,
               false,
               false,
               false,
               false,
               false,
               false,
               false,
               false,
               false,
               false,
               false,
               false,
               false,
               false,
               false,
               false
              ]
             }
            ],
            "label": "Dentsu",
            "method": "update"
           },
           {
            "args": [
             {
              "visible": [
               false,
               false,
               false,
               false,
               false,
               false,
               false,
               false,
               false,
               false,
               false,
               false,
               false,
               false,
               false,
               false,
               false,
               false,
               false,
               false,
               false,
               false,
               false,
               false,
               false,
               false,
               false,
               false,
               false,
               false,
               false,
               false,
               false,
               false,
               false,
               false,
               false,
               false,
               false,
               false,
               false,
               false,
               false,
               false,
               false,
               false,
               false,
               false,
               false,
               false,
               false,
               false,
               false,
               false,
               false,
               false,
               false,
               false,
               false,
               false,
               false,
               false,
               false,
               false,
               false,
               false,
               false,
               false,
               false,
               false,
               false,
               false,
               false,
               false,
               false,
               false,
               false,
               false,
               false,
               false,
               false,
               false,
               false,
               false,
               true,
               false,
               false,
               false,
               false,
               false,
               false,
               false,
               false,
               false,
               false,
               false,
               false,
               false,
               false,
               false,
               false,
               false,
               false,
               false,
               false,
               false,
               false,
               false,
               false,
               false,
               false,
               false,
               false,
               false,
               false,
               false,
               false,
               false,
               false,
               false,
               false,
               false,
               false,
               false,
               false,
               false,
               true,
               false,
               false,
               false,
               false,
               false,
               false,
               false,
               false,
               false,
               false,
               false,
               false,
               false,
               false,
               false,
               false,
               false,
               false,
               false,
               false,
               false,
               false,
               false,
               false,
               false,
               false,
               false,
               false,
               false,
               false,
               false,
               false,
               false,
               false,
               false,
               false,
               false,
               false,
               false,
               false,
               false,
               false,
               false,
               false,
               false,
               false,
               false,
               false,
               false,
               false
              ]
             }
            ],
            "label": "Fairview Entertainment",
            "method": "update"
           },
           {
            "args": [
             {
              "visible": [
               false,
               false,
               false,
               false,
               false,
               false,
               false,
               false,
               false,
               false,
               false,
               false,
               false,
               false,
               false,
               false,
               false,
               false,
               false,
               false,
               false,
               false,
               false,
               false,
               false,
               false,
               false,
               false,
               false,
               false,
               false,
               false,
               false,
               false,
               false,
               false,
               false,
               false,
               false,
               false,
               false,
               false,
               false,
               false,
               false,
               false,
               false,
               false,
               false,
               false,
               false,
               false,
               false,
               false,
               false,
               false,
               false,
               false,
               false,
               false,
               false,
               false,
               false,
               false,
               false,
               false,
               false,
               false,
               false,
               false,
               false,
               false,
               false,
               false,
               false,
               false,
               false,
               false,
               false,
               false,
               false,
               false,
               false,
               false,
               false,
               true,
               false,
               false,
               false,
               false,
               false,
               false,
               false,
               false,
               false,
               false,
               false,
               false,
               false,
               false,
               false,
               false,
               false,
               false,
               false,
               false,
               false,
               false,
               false,
               false,
               false,
               false,
               false,
               false,
               false,
               false,
               false,
               false,
               false,
               false,
               false,
               false,
               false,
               false,
               false,
               false,
               false,
               false,
               false,
               false,
               false,
               false,
               false,
               false,
               false,
               false,
               false,
               false,
               false,
               false,
               false,
               false,
               false,
               false,
               false,
               false,
               false,
               true,
               false,
               false,
               false,
               false,
               false,
               false,
               false,
               false,
               true,
               false,
               false,
               false,
               false,
               false,
               false,
               false,
               false,
               false,
               false,
               false,
               false,
               false,
               false,
               false,
               false,
               false,
               false,
               false,
               false
              ]
             }
            ],
            "label": "Illumination Entertainment",
            "method": "update"
           },
           {
            "args": [
             {
              "visible": [
               false,
               false,
               false,
               false,
               false,
               false,
               false,
               false,
               false,
               false,
               false,
               false,
               false,
               false,
               false,
               false,
               false,
               false,
               false,
               false,
               false,
               false,
               false,
               false,
               false,
               false,
               false,
               false,
               false,
               false,
               false,
               false,
               false,
               false,
               false,
               false,
               false,
               false,
               false,
               false,
               false,
               false,
               false,
               false,
               false,
               false,
               false,
               false,
               false,
               false,
               false,
               false,
               false,
               false,
               false,
               false,
               false,
               false,
               false,
               false,
               false,
               false,
               false,
               false,
               false,
               false,
               false,
               false,
               false,
               false,
               false,
               false,
               false,
               false,
               false,
               false,
               false,
               false,
               false,
               false,
               false,
               false,
               false,
               false,
               false,
               false,
               false,
               true,
               false,
               false,
               false,
               false,
               false,
               false,
               false,
               false,
               false,
               false,
               false,
               false,
               false,
               false,
               false,
               false,
               false,
               false,
               false,
               false,
               false,
               false,
               false,
               false,
               false,
               false,
               false,
               false,
               false,
               false,
               false,
               false,
               false,
               false,
               false,
               false,
               false,
               false,
               false,
               false,
               false,
               false,
               false,
               false,
               false,
               false,
               false,
               false,
               false,
               false,
               false,
               false,
               false,
               false,
               false,
               false,
               false,
               false,
               false,
               false,
               false,
               false,
               false,
               false,
               false,
               false,
               false,
               false,
               false,
               false,
               false,
               false,
               false,
               false,
               false,
               false,
               false,
               false,
               false,
               false,
               false,
               false,
               false,
               false,
               false,
               false,
               false,
               false,
               false
              ]
             }
            ],
            "label": "Moving Picture Company (MPC)",
            "method": "update"
           },
           {
            "args": [
             {
              "visible": [
               false,
               false,
               false,
               false,
               false,
               false,
               false,
               false,
               false,
               false,
               false,
               false,
               false,
               false,
               false,
               false,
               false,
               false,
               false,
               false,
               false,
               false,
               false,
               false,
               false,
               false,
               false,
               false,
               false,
               false,
               false,
               false,
               false,
               false,
               false,
               false,
               false,
               false,
               false,
               false,
               false,
               false,
               false,
               false,
               false,
               false,
               false,
               false,
               false,
               false,
               false,
               false,
               false,
               false,
               false,
               false,
               false,
               false,
               false,
               false,
               false,
               false,
               false,
               false,
               false,
               false,
               false,
               false,
               false,
               false,
               false,
               false,
               false,
               false,
               false,
               false,
               false,
               false,
               false,
               false,
               false,
               false,
               false,
               false,
               false,
               false,
               false,
               false,
               false,
               false,
               false,
               true,
               false,
               false,
               false,
               false,
               false,
               false,
               false,
               false,
               false,
               false,
               false,
               false,
               false,
               false,
               false,
               false,
               false,
               false,
               false,
               false,
               false,
               false,
               false,
               false,
               false,
               false,
               false,
               false,
               false,
               false,
               false,
               false,
               false,
               false,
               false,
               false,
               false,
               false,
               false,
               false,
               false,
               false,
               false,
               false,
               false,
               false,
               false,
               false,
               false,
               false,
               false,
               false,
               false,
               false,
               false,
               false,
               false,
               false,
               false,
               false,
               false,
               false,
               false,
               false,
               false,
               false,
               false,
               false,
               false,
               false,
               false,
               false,
               false,
               false,
               false,
               false,
               false,
               false,
               false,
               false,
               false,
               false,
               false,
               false,
               false
              ]
             }
            ],
            "label": "Atlas Entertainment",
            "method": "update"
           },
           {
            "args": [
             {
              "visible": [
               false,
               false,
               false,
               false,
               false,
               false,
               false,
               false,
               false,
               false,
               false,
               false,
               false,
               false,
               false,
               false,
               false,
               false,
               false,
               false,
               false,
               false,
               false,
               false,
               false,
               false,
               false,
               false,
               false,
               false,
               false,
               false,
               false,
               false,
               false,
               false,
               false,
               false,
               false,
               false,
               false,
               false,
               false,
               false,
               false,
               false,
               false,
               false,
               false,
               false,
               false,
               false,
               false,
               false,
               false,
               false,
               false,
               false,
               false,
               false,
               false,
               false,
               false,
               false,
               false,
               false,
               false,
               false,
               false,
               false,
               false,
               false,
               false,
               false,
               false,
               false,
               false,
               false,
               false,
               false,
               false,
               false,
               false,
               false,
               false,
               false,
               false,
               false,
               false,
               false,
               false,
               false,
               false,
               true,
               false,
               false,
               false,
               false,
               false,
               false,
               false,
               false,
               false,
               false,
               false,
               false,
               false,
               false,
               false,
               false,
               false,
               false,
               false,
               false,
               false,
               false,
               false,
               false,
               false,
               false,
               false,
               false,
               false,
               false,
               true,
               false,
               false,
               false,
               false,
               false,
               false,
               false,
               false,
               false,
               false,
               false,
               false,
               false,
               false,
               false,
               false,
               true,
               false,
               false,
               false,
               false,
               false,
               false,
               false,
               false,
               false,
               false,
               false,
               false,
               false,
               false,
               false,
               false,
               false,
               false,
               false,
               false,
               false,
               false,
               false,
               false,
               false,
               false,
               false,
               false,
               false,
               false,
               false,
               false,
               false,
               false,
               false
              ]
             }
            ],
            "label": "Columbia Pictures",
            "method": "update"
           },
           {
            "args": [
             {
              "visible": [
               false,
               false,
               false,
               false,
               false,
               false,
               false,
               false,
               false,
               false,
               false,
               false,
               false,
               false,
               false,
               false,
               false,
               false,
               false,
               false,
               false,
               false,
               false,
               false,
               false,
               false,
               false,
               false,
               false,
               false,
               false,
               false,
               false,
               false,
               false,
               false,
               false,
               false,
               false,
               false,
               false,
               false,
               false,
               false,
               false,
               false,
               false,
               false,
               false,
               false,
               false,
               false,
               false,
               false,
               false,
               false,
               false,
               false,
               false,
               false,
               false,
               false,
               false,
               false,
               false,
               false,
               false,
               false,
               false,
               false,
               false,
               false,
               false,
               false,
               false,
               false,
               false,
               false,
               false,
               false,
               false,
               false,
               false,
               false,
               false,
               false,
               false,
               false,
               false,
               false,
               false,
               false,
               false,
               false,
               true,
               false,
               false,
               false,
               false,
               false,
               false,
               false,
               false,
               false,
               false,
               false,
               false,
               false,
               false,
               false,
               false,
               false,
               false,
               false,
               false,
               false,
               false,
               false,
               false,
               false,
               false,
               false,
               false,
               false,
               false,
               false,
               false,
               false,
               false,
               false,
               false,
               false,
               false,
               false,
               false,
               false,
               false,
               false,
               false,
               false,
               false,
               false,
               false,
               false,
               false,
               false,
               false,
               false,
               false,
               false,
               false,
               false,
               false,
               false,
               false,
               false,
               false,
               false,
               false,
               false,
               false,
               false,
               false,
               false,
               false,
               false,
               false,
               false,
               false,
               false,
               false,
               false,
               false,
               false,
               false,
               false,
               false
              ]
             }
            ],
            "label": "Cruel & Unusual Films",
            "method": "update"
           },
           {
            "args": [
             {
              "visible": [
               false,
               false,
               false,
               false,
               false,
               false,
               false,
               false,
               false,
               false,
               false,
               false,
               false,
               false,
               false,
               false,
               false,
               false,
               false,
               false,
               false,
               false,
               false,
               false,
               false,
               false,
               false,
               false,
               false,
               false,
               false,
               false,
               false,
               false,
               false,
               false,
               false,
               false,
               false,
               false,
               false,
               false,
               false,
               false,
               false,
               false,
               false,
               false,
               false,
               false,
               false,
               false,
               false,
               false,
               false,
               false,
               false,
               false,
               false,
               false,
               false,
               false,
               false,
               false,
               false,
               false,
               false,
               false,
               false,
               false,
               false,
               false,
               false,
               false,
               false,
               false,
               false,
               false,
               false,
               false,
               false,
               false,
               false,
               false,
               false,
               false,
               false,
               false,
               false,
               false,
               false,
               false,
               false,
               false,
               false,
               false,
               false,
               true,
               false,
               false,
               false,
               false,
               false,
               false,
               false,
               false,
               false,
               false,
               false,
               false,
               false,
               false,
               false,
               false,
               false,
               false,
               false,
               false,
               false,
               false,
               false,
               false,
               false,
               false,
               false,
               false,
               false,
               false,
               false,
               false,
               false,
               false,
               false,
               false,
               false,
               false,
               false,
               false,
               false,
               false,
               false,
               false,
               false,
               false,
               false,
               false,
               false,
               false,
               false,
               false,
               false,
               false,
               false,
               false,
               false,
               false,
               false,
               false,
               false,
               false,
               false,
               false,
               false,
               false,
               false,
               false,
               false,
               false,
               false,
               false,
               false,
               false,
               false,
               false,
               false,
               false,
               false
              ]
             }
            ],
            "label": "Mandeville Films",
            "method": "update"
           },
           {
            "args": [
             {
              "visible": [
               false,
               false,
               false,
               false,
               false,
               false,
               false,
               false,
               false,
               false,
               false,
               false,
               false,
               false,
               false,
               false,
               false,
               false,
               false,
               false,
               false,
               false,
               false,
               false,
               false,
               false,
               false,
               false,
               false,
               false,
               false,
               false,
               false,
               false,
               false,
               false,
               false,
               false,
               false,
               false,
               false,
               false,
               false,
               false,
               false,
               false,
               false,
               false,
               false,
               false,
               false,
               false,
               false,
               false,
               false,
               false,
               false,
               false,
               false,
               false,
               false,
               false,
               false,
               false,
               false,
               false,
               false,
               false,
               false,
               false,
               false,
               false,
               false,
               false,
               false,
               false,
               false,
               false,
               false,
               false,
               false,
               false,
               false,
               false,
               false,
               false,
               false,
               false,
               false,
               false,
               false,
               false,
               false,
               false,
               false,
               false,
               false,
               false,
               false,
               false,
               true,
               false,
               false,
               false,
               false,
               false,
               false,
               false,
               false,
               false,
               false,
               false,
               false,
               false,
               false,
               false,
               false,
               false,
               false,
               false,
               false,
               false,
               false,
               false,
               false,
               false,
               false,
               false,
               false,
               false,
               false,
               true,
               false,
               false,
               false,
               false,
               false,
               false,
               false,
               false,
               false,
               false,
               false,
               true,
               false,
               false,
               false,
               false,
               false,
               false,
               false,
               false,
               false,
               false,
               false,
               false,
               false,
               false,
               false,
               false,
               false,
               false,
               false,
               false,
               false,
               false,
               false,
               false,
               false,
               false,
               false,
               false,
               false,
               false,
               false,
               false,
               false
              ]
             }
            ],
            "label": "Pascal Pictures",
            "method": "update"
           },
           {
            "args": [
             {
              "visible": [
               false,
               false,
               false,
               false,
               false,
               false,
               false,
               false,
               false,
               false,
               false,
               false,
               false,
               false,
               false,
               false,
               false,
               false,
               false,
               false,
               false,
               false,
               false,
               false,
               false,
               false,
               false,
               false,
               false,
               false,
               false,
               false,
               false,
               false,
               false,
               false,
               false,
               false,
               false,
               false,
               false,
               false,
               false,
               false,
               false,
               false,
               false,
               false,
               false,
               false,
               false,
               false,
               false,
               false,
               false,
               false,
               false,
               false,
               false,
               false,
               false,
               false,
               false,
               false,
               false,
               false,
               false,
               false,
               false,
               false,
               false,
               false,
               false,
               false,
               false,
               false,
               false,
               false,
               false,
               false,
               false,
               false,
               false,
               false,
               false,
               false,
               false,
               false,
               false,
               false,
               false,
               false,
               false,
               false,
               false,
               false,
               false,
               false,
               false,
               false,
               false,
               true,
               false,
               false,
               false,
               false,
               false,
               false,
               false,
               false,
               false,
               false,
               false,
               false,
               false,
               false,
               false,
               false,
               false,
               false,
               false,
               false,
               false,
               false,
               false,
               false,
               false,
               false,
               false,
               false,
               false,
               false,
               false,
               false,
               false,
               false,
               false,
               false,
               false,
               false,
               false,
               false,
               false,
               false,
               false,
               false,
               false,
               false,
               false,
               false,
               false,
               false,
               false,
               false,
               false,
               false,
               false,
               false,
               false,
               false,
               false,
               false,
               false,
               false,
               false,
               false,
               false,
               false,
               false,
               false,
               false,
               false,
               false,
               false,
               false,
               false,
               false
              ]
             }
            ],
            "label": "Ram Bergman Productions",
            "method": "update"
           },
           {
            "args": [
             {
              "visible": [
               false,
               false,
               false,
               false,
               false,
               false,
               false,
               false,
               false,
               false,
               false,
               false,
               false,
               false,
               false,
               false,
               false,
               false,
               false,
               false,
               false,
               false,
               false,
               false,
               false,
               false,
               false,
               false,
               false,
               false,
               false,
               false,
               false,
               false,
               false,
               false,
               false,
               false,
               false,
               false,
               false,
               false,
               false,
               false,
               false,
               false,
               false,
               false,
               false,
               false,
               false,
               false,
               false,
               false,
               false,
               false,
               false,
               false,
               false,
               false,
               false,
               false,
               false,
               false,
               false,
               false,
               false,
               false,
               false,
               false,
               false,
               false,
               false,
               false,
               false,
               false,
               false,
               false,
               false,
               false,
               false,
               false,
               false,
               false,
               false,
               false,
               false,
               false,
               false,
               false,
               false,
               false,
               false,
               false,
               false,
               false,
               false,
               false,
               false,
               false,
               false,
               false,
               false,
               true,
               false,
               false,
               false,
               false,
               false,
               false,
               false,
               false,
               false,
               false,
               false,
               false,
               false,
               false,
               false,
               false,
               false,
               false,
               false,
               false,
               false,
               false,
               false,
               false,
               false,
               false,
               false,
               false,
               false,
               false,
               false,
               false,
               false,
               false,
               false,
               false,
               false,
               false,
               false,
               false,
               false,
               false,
               false,
               false,
               false,
               false,
               false,
               false,
               false,
               false,
               false,
               false,
               false,
               false,
               false,
               false,
               false,
               false,
               false,
               false,
               false,
               false,
               false,
               false,
               false,
               false,
               false,
               false,
               false,
               false,
               false,
               false,
               false
              ]
             }
            ],
            "label": "Tencent Pictures",
            "method": "update"
           },
           {
            "args": [
             {
              "visible": [
               false,
               false,
               false,
               false,
               false,
               false,
               false,
               false,
               false,
               false,
               false,
               false,
               false,
               false,
               false,
               false,
               false,
               false,
               false,
               false,
               false,
               false,
               false,
               false,
               false,
               false,
               false,
               false,
               false,
               false,
               false,
               false,
               false,
               false,
               false,
               false,
               false,
               false,
               false,
               false,
               false,
               false,
               false,
               false,
               false,
               false,
               false,
               false,
               false,
               false,
               false,
               false,
               false,
               false,
               false,
               false,
               false,
               false,
               false,
               false,
               false,
               false,
               false,
               false,
               false,
               false,
               false,
               false,
               false,
               false,
               false,
               false,
               false,
               false,
               false,
               false,
               false,
               false,
               false,
               false,
               false,
               false,
               false,
               false,
               false,
               false,
               false,
               false,
               false,
               false,
               false,
               false,
               false,
               false,
               false,
               false,
               false,
               false,
               false,
               false,
               false,
               false,
               false,
               false,
               true,
               false,
               false,
               false,
               false,
               false,
               false,
               false,
               false,
               false,
               false,
               false,
               false,
               false,
               false,
               false,
               false,
               false,
               false,
               false,
               false,
               false,
               false,
               false,
               false,
               false,
               false,
               false,
               false,
               false,
               true,
               false,
               false,
               false,
               false,
               false,
               false,
               false,
               false,
               false,
               false,
               false,
               false,
               false,
               false,
               false,
               false,
               false,
               false,
               false,
               false,
               false,
               false,
               false,
               false,
               false,
               false,
               false,
               false,
               false,
               false,
               false,
               false,
               false,
               false,
               false,
               false,
               false,
               false,
               false,
               false,
               false,
               false
              ]
             }
            ],
            "label": "Vertigo Entertainment",
            "method": "update"
           },
           {
            "args": [
             {
              "visible": [
               false,
               false,
               false,
               false,
               false,
               false,
               false,
               false,
               false,
               false,
               false,
               false,
               false,
               false,
               false,
               false,
               false,
               false,
               false,
               false,
               false,
               false,
               false,
               false,
               false,
               false,
               false,
               false,
               false,
               false,
               false,
               false,
               false,
               false,
               false,
               false,
               false,
               false,
               false,
               false,
               false,
               false,
               false,
               false,
               false,
               false,
               false,
               false,
               false,
               false,
               false,
               false,
               false,
               false,
               false,
               false,
               false,
               false,
               false,
               false,
               false,
               false,
               false,
               false,
               false,
               false,
               false,
               false,
               false,
               false,
               false,
               false,
               false,
               false,
               false,
               false,
               false,
               false,
               false,
               false,
               false,
               false,
               false,
               false,
               false,
               false,
               false,
               false,
               false,
               false,
               false,
               false,
               false,
               false,
               false,
               false,
               false,
               false,
               false,
               false,
               false,
               false,
               false,
               false,
               false,
               false,
               false,
               false,
               true,
               false,
               false,
               false,
               false,
               false,
               false,
               false,
               false,
               false,
               false,
               false,
               false,
               false,
               false,
               false,
               false,
               false,
               false,
               false,
               false,
               false,
               false,
               false,
               false,
               false,
               false,
               false,
               false,
               false,
               false,
               false,
               false,
               false,
               false,
               false,
               false,
               false,
               false,
               false,
               false,
               false,
               false,
               false,
               false,
               false,
               false,
               false,
               false,
               false,
               false,
               false,
               false,
               false,
               false,
               false,
               false,
               false,
               false,
               false,
               false,
               false,
               false,
               false,
               false,
               false,
               false,
               false,
               false
              ]
             }
            ],
            "label": "Blumhouse Productions",
            "method": "update"
           },
           {
            "args": [
             {
              "visible": [
               false,
               false,
               false,
               false,
               false,
               false,
               false,
               false,
               false,
               false,
               false,
               false,
               false,
               false,
               false,
               false,
               false,
               false,
               false,
               false,
               false,
               false,
               false,
               false,
               false,
               false,
               false,
               false,
               false,
               false,
               false,
               false,
               false,
               false,
               false,
               false,
               false,
               false,
               false,
               false,
               false,
               false,
               false,
               false,
               false,
               false,
               false,
               false,
               false,
               false,
               false,
               false,
               false,
               false,
               false,
               false,
               false,
               false,
               false,
               false,
               false,
               false,
               false,
               false,
               false,
               false,
               false,
               false,
               false,
               false,
               false,
               false,
               false,
               false,
               false,
               false,
               false,
               false,
               false,
               false,
               false,
               false,
               false,
               false,
               false,
               false,
               false,
               false,
               false,
               false,
               false,
               false,
               false,
               false,
               false,
               false,
               false,
               false,
               false,
               false,
               false,
               false,
               false,
               false,
               false,
               false,
               false,
               false,
               false,
               true,
               false,
               false,
               false,
               false,
               false,
               false,
               false,
               false,
               false,
               false,
               false,
               false,
               false,
               false,
               false,
               false,
               false,
               false,
               false,
               false,
               false,
               false,
               false,
               false,
               false,
               false,
               false,
               false,
               false,
               false,
               false,
               false,
               false,
               false,
               false,
               false,
               false,
               false,
               false,
               false,
               false,
               false,
               false,
               false,
               false,
               false,
               false,
               false,
               false,
               false,
               false,
               false,
               false,
               false,
               false,
               false,
               false,
               false,
               false,
               false,
               false,
               false,
               false,
               false,
               false,
               false,
               false
              ]
             }
            ],
            "label": "Jason Roberts Productions",
            "method": "update"
           },
           {
            "args": [
             {
              "visible": [
               false,
               false,
               false,
               false,
               false,
               false,
               false,
               false,
               false,
               false,
               false,
               false,
               false,
               false,
               false,
               false,
               false,
               false,
               false,
               false,
               false,
               false,
               false,
               false,
               false,
               false,
               false,
               false,
               false,
               false,
               false,
               false,
               false,
               false,
               false,
               false,
               false,
               false,
               false,
               false,
               false,
               false,
               false,
               false,
               false,
               false,
               false,
               false,
               false,
               false,
               false,
               false,
               false,
               false,
               false,
               false,
               false,
               false,
               false,
               false,
               false,
               false,
               false,
               false,
               false,
               false,
               false,
               false,
               false,
               false,
               false,
               false,
               false,
               false,
               false,
               false,
               false,
               false,
               false,
               false,
               false,
               false,
               false,
               false,
               false,
               false,
               false,
               false,
               false,
               false,
               false,
               false,
               false,
               false,
               false,
               false,
               false,
               false,
               false,
               false,
               false,
               false,
               false,
               false,
               false,
               false,
               false,
               false,
               false,
               false,
               false,
               false,
               true,
               false,
               false,
               false,
               false,
               false,
               false,
               false,
               false,
               false,
               false,
               false,
               false,
               false,
               false,
               false,
               false,
               false,
               false,
               false,
               false,
               false,
               false,
               false,
               false,
               false,
               false,
               false,
               false,
               false,
               false,
               false,
               false,
               false,
               false,
               false,
               false,
               false,
               false,
               false,
               false,
               false,
               false,
               false,
               false,
               false,
               false,
               false,
               false,
               false,
               false,
               false,
               false,
               false,
               false,
               false,
               false,
               false,
               false,
               false,
               false,
               false,
               false,
               false,
               false
              ]
             }
            ],
            "label": "Miramax",
            "method": "update"
           },
           {
            "args": [
             {
              "visible": [
               false,
               false,
               false,
               false,
               false,
               false,
               false,
               false,
               false,
               false,
               false,
               false,
               false,
               false,
               false,
               false,
               false,
               false,
               false,
               false,
               false,
               false,
               false,
               false,
               false,
               false,
               false,
               false,
               false,
               false,
               false,
               false,
               false,
               false,
               false,
               false,
               false,
               false,
               false,
               false,
               false,
               false,
               false,
               false,
               false,
               false,
               false,
               false,
               false,
               false,
               false,
               false,
               false,
               false,
               false,
               false,
               false,
               false,
               false,
               false,
               false,
               false,
               false,
               false,
               false,
               false,
               false,
               false,
               false,
               false,
               false,
               false,
               false,
               false,
               false,
               false,
               false,
               false,
               false,
               false,
               false,
               false,
               false,
               false,
               false,
               false,
               false,
               false,
               false,
               false,
               false,
               false,
               false,
               false,
               false,
               false,
               false,
               false,
               false,
               false,
               false,
               false,
               false,
               false,
               false,
               false,
               false,
               false,
               false,
               false,
               false,
               false,
               false,
               true,
               false,
               false,
               false,
               false,
               false,
               false,
               false,
               false,
               false,
               false,
               false,
               false,
               false,
               false,
               false,
               false,
               false,
               false,
               false,
               false,
               false,
               false,
               false,
               false,
               false,
               false,
               false,
               false,
               false,
               false,
               false,
               false,
               false,
               false,
               false,
               false,
               false,
               false,
               false,
               false,
               false,
               false,
               false,
               false,
               false,
               false,
               false,
               false,
               false,
               false,
               false,
               false,
               false,
               false,
               false,
               false,
               false,
               false,
               false,
               false,
               false,
               false,
               false
              ]
             }
            ],
            "label": "Night Blade Holdings",
            "method": "update"
           },
           {
            "args": [
             {
              "visible": [
               false,
               false,
               false,
               false,
               false,
               false,
               false,
               false,
               false,
               false,
               false,
               false,
               false,
               false,
               false,
               false,
               false,
               false,
               false,
               false,
               false,
               false,
               false,
               false,
               false,
               false,
               false,
               false,
               false,
               false,
               false,
               false,
               false,
               false,
               false,
               false,
               false,
               false,
               false,
               false,
               false,
               false,
               false,
               false,
               false,
               false,
               false,
               false,
               false,
               false,
               false,
               false,
               false,
               false,
               false,
               false,
               false,
               false,
               false,
               false,
               false,
               false,
               false,
               false,
               false,
               false,
               false,
               false,
               false,
               false,
               false,
               false,
               false,
               false,
               false,
               false,
               false,
               false,
               false,
               false,
               false,
               false,
               false,
               false,
               false,
               false,
               false,
               false,
               false,
               false,
               false,
               false,
               false,
               false,
               false,
               false,
               false,
               false,
               false,
               false,
               false,
               false,
               false,
               false,
               false,
               false,
               false,
               false,
               false,
               false,
               false,
               false,
               false,
               false,
               false,
               true,
               false,
               false,
               false,
               false,
               false,
               false,
               false,
               false,
               false,
               false,
               false,
               false,
               false,
               false,
               false,
               false,
               false,
               false,
               false,
               false,
               false,
               false,
               false,
               false,
               false,
               false,
               false,
               false,
               false,
               false,
               false,
               false,
               false,
               false,
               false,
               false,
               false,
               false,
               false,
               false,
               false,
               false,
               false,
               false,
               false,
               false,
               false,
               false,
               false,
               false,
               false,
               false,
               false,
               false,
               false,
               false,
               false,
               false,
               false,
               false,
               false
              ]
             }
            ],
            "label": "South Pictures",
            "method": "update"
           },
           {
            "args": [
             {
              "visible": [
               false,
               false,
               false,
               false,
               false,
               false,
               false,
               false,
               false,
               false,
               false,
               false,
               false,
               false,
               false,
               false,
               false,
               false,
               false,
               false,
               false,
               false,
               false,
               false,
               false,
               false,
               false,
               false,
               false,
               false,
               false,
               false,
               false,
               false,
               false,
               false,
               false,
               false,
               false,
               false,
               false,
               false,
               false,
               false,
               false,
               false,
               false,
               false,
               false,
               false,
               false,
               false,
               false,
               false,
               false,
               false,
               false,
               false,
               false,
               false,
               false,
               false,
               false,
               false,
               false,
               false,
               false,
               false,
               false,
               false,
               false,
               false,
               false,
               false,
               false,
               false,
               false,
               false,
               false,
               false,
               false,
               false,
               false,
               false,
               false,
               false,
               false,
               false,
               false,
               false,
               false,
               false,
               false,
               false,
               false,
               false,
               false,
               false,
               false,
               false,
               false,
               false,
               false,
               false,
               false,
               false,
               false,
               false,
               false,
               false,
               false,
               false,
               false,
               false,
               false,
               false,
               false,
               false,
               false,
               false,
               true,
               false,
               false,
               false,
               false,
               false,
               false,
               false,
               false,
               false,
               false,
               false,
               false,
               false,
               false,
               false,
               false,
               false,
               false,
               false,
               false,
               false,
               false,
               false,
               false,
               false,
               false,
               false,
               false,
               false,
               false,
               false,
               false,
               false,
               false,
               false,
               false,
               false,
               false,
               false,
               false,
               false,
               false,
               false,
               false,
               false,
               false,
               false,
               false,
               false,
               false,
               false,
               false,
               false,
               false,
               false,
               false
              ]
             }
            ],
            "label": "Animal Logic",
            "method": "update"
           },
           {
            "args": [
             {
              "visible": [
               false,
               false,
               false,
               false,
               false,
               false,
               false,
               false,
               false,
               false,
               false,
               false,
               false,
               false,
               false,
               false,
               false,
               false,
               false,
               false,
               false,
               false,
               false,
               false,
               false,
               false,
               false,
               false,
               false,
               false,
               false,
               false,
               false,
               false,
               false,
               false,
               false,
               false,
               false,
               false,
               false,
               false,
               false,
               false,
               false,
               false,
               false,
               false,
               false,
               false,
               false,
               false,
               false,
               false,
               false,
               false,
               false,
               false,
               false,
               false,
               false,
               false,
               false,
               false,
               false,
               false,
               false,
               false,
               false,
               false,
               false,
               false,
               false,
               false,
               false,
               false,
               false,
               false,
               false,
               false,
               false,
               false,
               false,
               false,
               false,
               false,
               false,
               false,
               false,
               false,
               false,
               false,
               false,
               false,
               false,
               false,
               false,
               false,
               false,
               false,
               false,
               false,
               false,
               false,
               false,
               false,
               false,
               false,
               false,
               false,
               false,
               false,
               false,
               false,
               false,
               false,
               false,
               false,
               false,
               false,
               false,
               true,
               false,
               false,
               false,
               false,
               false,
               false,
               false,
               false,
               false,
               false,
               false,
               false,
               false,
               false,
               false,
               false,
               false,
               false,
               false,
               false,
               false,
               false,
               false,
               false,
               false,
               false,
               false,
               false,
               false,
               false,
               false,
               false,
               false,
               false,
               false,
               false,
               false,
               false,
               false,
               false,
               false,
               false,
               false,
               false,
               false,
               false,
               false,
               false,
               false,
               false,
               false,
               false,
               false,
               false,
               false
              ]
             }
            ],
            "label": "BRON Studios",
            "method": "update"
           },
           {
            "args": [
             {
              "visible": [
               false,
               false,
               false,
               false,
               false,
               false,
               false,
               false,
               false,
               false,
               false,
               false,
               false,
               false,
               false,
               false,
               false,
               false,
               false,
               false,
               false,
               false,
               false,
               false,
               false,
               false,
               false,
               false,
               false,
               false,
               false,
               false,
               false,
               false,
               false,
               false,
               false,
               false,
               false,
               false,
               false,
               false,
               false,
               false,
               false,
               false,
               false,
               false,
               false,
               false,
               false,
               false,
               false,
               false,
               false,
               false,
               false,
               false,
               false,
               false,
               false,
               false,
               false,
               false,
               false,
               false,
               false,
               false,
               false,
               false,
               false,
               false,
               false,
               false,
               false,
               false,
               false,
               false,
               false,
               false,
               false,
               false,
               false,
               false,
               false,
               false,
               false,
               false,
               false,
               false,
               false,
               false,
               false,
               false,
               false,
               false,
               false,
               false,
               false,
               false,
               false,
               false,
               false,
               false,
               false,
               false,
               false,
               false,
               false,
               false,
               false,
               false,
               false,
               false,
               false,
               false,
               false,
               false,
               false,
               false,
               false,
               false,
               false,
               true,
               false,
               false,
               false,
               false,
               false,
               false,
               false,
               false,
               false,
               false,
               false,
               false,
               false,
               false,
               false,
               false,
               false,
               false,
               false,
               false,
               false,
               false,
               false,
               false,
               false,
               false,
               false,
               false,
               false,
               false,
               false,
               false,
               false,
               false,
               false,
               false,
               false,
               false,
               false,
               false,
               false,
               false,
               false,
               false,
               false,
               false,
               false,
               false,
               false,
               false,
               false,
               false,
               false
              ]
             }
            ],
            "label": "British Film Commission",
            "method": "update"
           },
           {
            "args": [
             {
              "visible": [
               false,
               false,
               false,
               false,
               false,
               false,
               false,
               false,
               false,
               false,
               false,
               false,
               false,
               false,
               false,
               false,
               false,
               false,
               false,
               false,
               false,
               false,
               false,
               false,
               false,
               false,
               false,
               false,
               false,
               false,
               false,
               false,
               false,
               false,
               false,
               false,
               false,
               false,
               false,
               false,
               false,
               false,
               false,
               false,
               false,
               false,
               false,
               false,
               false,
               false,
               false,
               false,
               false,
               false,
               false,
               false,
               false,
               false,
               false,
               false,
               false,
               false,
               false,
               false,
               false,
               false,
               false,
               false,
               false,
               false,
               false,
               false,
               false,
               false,
               false,
               false,
               false,
               false,
               false,
               false,
               false,
               false,
               false,
               false,
               false,
               false,
               false,
               false,
               false,
               false,
               false,
               false,
               false,
               false,
               false,
               false,
               false,
               false,
               false,
               false,
               false,
               false,
               false,
               false,
               false,
               false,
               false,
               false,
               false,
               false,
               false,
               false,
               false,
               false,
               false,
               false,
               false,
               false,
               false,
               false,
               false,
               false,
               false,
               false,
               false,
               true,
               false,
               false,
               false,
               false,
               false,
               false,
               false,
               false,
               false,
               false,
               false,
               false,
               false,
               false,
               false,
               false,
               false,
               false,
               false,
               false,
               false,
               false,
               false,
               false,
               false,
               false,
               false,
               false,
               false,
               false,
               false,
               false,
               false,
               false,
               false,
               false,
               false,
               false,
               false,
               false,
               false,
               false,
               false,
               false,
               false,
               false,
               false,
               false,
               false,
               false,
               false
              ]
             }
            ],
            "label": "Double Dream",
            "method": "update"
           },
           {
            "args": [
             {
              "visible": [
               false,
               false,
               false,
               false,
               false,
               false,
               false,
               false,
               false,
               false,
               false,
               false,
               false,
               false,
               false,
               false,
               false,
               false,
               false,
               false,
               false,
               false,
               false,
               false,
               false,
               false,
               false,
               false,
               false,
               false,
               false,
               false,
               false,
               false,
               false,
               false,
               false,
               false,
               false,
               false,
               false,
               false,
               false,
               false,
               false,
               false,
               false,
               false,
               false,
               false,
               false,
               false,
               false,
               false,
               false,
               false,
               false,
               false,
               false,
               false,
               false,
               false,
               false,
               false,
               false,
               false,
               false,
               false,
               false,
               false,
               false,
               false,
               false,
               false,
               false,
               false,
               false,
               false,
               false,
               false,
               false,
               false,
               false,
               false,
               false,
               false,
               false,
               false,
               false,
               false,
               false,
               false,
               false,
               false,
               false,
               false,
               false,
               false,
               false,
               false,
               false,
               false,
               false,
               false,
               false,
               false,
               false,
               false,
               false,
               false,
               false,
               false,
               false,
               false,
               false,
               false,
               false,
               false,
               false,
               false,
               false,
               false,
               false,
               false,
               false,
               false,
               false,
               false,
               false,
               false,
               false,
               false,
               false,
               true,
               false,
               false,
               false,
               false,
               false,
               false,
               false,
               false,
               false,
               false,
               false,
               false,
               false,
               false,
               false,
               false,
               false,
               false,
               false,
               false,
               false,
               false,
               false,
               false,
               false,
               false,
               false,
               false,
               false,
               false,
               false,
               false,
               false,
               false,
               false,
               false,
               false,
               false,
               false,
               false,
               false,
               false,
               false
              ]
             }
            ],
            "label": "The Pokemon Company",
            "method": "update"
           },
           {
            "args": [
             {
              "visible": [
               false,
               false,
               false,
               false,
               false,
               false,
               false,
               false,
               false,
               false,
               false,
               false,
               false,
               false,
               false,
               false,
               false,
               false,
               false,
               false,
               false,
               false,
               false,
               false,
               false,
               false,
               false,
               false,
               false,
               false,
               false,
               false,
               false,
               false,
               false,
               false,
               false,
               false,
               false,
               false,
               false,
               false,
               false,
               false,
               false,
               false,
               false,
               false,
               false,
               false,
               false,
               false,
               false,
               false,
               false,
               false,
               false,
               false,
               false,
               false,
               false,
               false,
               false,
               false,
               false,
               false,
               false,
               false,
               false,
               false,
               false,
               false,
               false,
               false,
               false,
               false,
               false,
               false,
               false,
               false,
               false,
               false,
               false,
               false,
               false,
               false,
               false,
               false,
               false,
               false,
               false,
               false,
               false,
               false,
               false,
               false,
               false,
               false,
               false,
               false,
               false,
               false,
               false,
               false,
               false,
               false,
               false,
               false,
               false,
               false,
               false,
               false,
               false,
               false,
               false,
               false,
               false,
               false,
               false,
               false,
               false,
               false,
               false,
               false,
               false,
               false,
               false,
               false,
               false,
               false,
               false,
               false,
               false,
               false,
               false,
               false,
               true,
               false,
               false,
               false,
               false,
               false,
               false,
               false,
               false,
               false,
               false,
               false,
               false,
               false,
               false,
               false,
               false,
               false,
               false,
               false,
               false,
               false,
               false,
               false,
               false,
               false,
               false,
               false,
               false,
               false,
               false,
               false,
               false,
               false,
               false,
               false,
               true,
               false,
               false,
               false,
               false
              ]
             }
            ],
            "label": "Walt Disney Animation Studios",
            "method": "update"
           },
           {
            "args": [
             {
              "visible": [
               false,
               false,
               false,
               false,
               false,
               false,
               false,
               false,
               false,
               false,
               false,
               false,
               false,
               false,
               false,
               false,
               false,
               false,
               false,
               false,
               false,
               false,
               false,
               false,
               false,
               false,
               false,
               false,
               false,
               false,
               false,
               false,
               false,
               false,
               false,
               false,
               false,
               false,
               false,
               false,
               false,
               false,
               false,
               false,
               false,
               false,
               false,
               false,
               false,
               false,
               false,
               false,
               false,
               false,
               false,
               false,
               false,
               false,
               false,
               false,
               false,
               false,
               false,
               false,
               false,
               false,
               false,
               false,
               false,
               false,
               false,
               false,
               false,
               false,
               false,
               false,
               false,
               false,
               false,
               false,
               false,
               false,
               false,
               false,
               false,
               false,
               false,
               false,
               false,
               false,
               false,
               false,
               false,
               false,
               false,
               false,
               false,
               false,
               false,
               false,
               false,
               false,
               false,
               false,
               false,
               false,
               false,
               false,
               false,
               false,
               false,
               false,
               false,
               false,
               false,
               false,
               false,
               false,
               false,
               false,
               false,
               false,
               false,
               false,
               false,
               false,
               false,
               false,
               false,
               false,
               false,
               false,
               false,
               false,
               false,
               false,
               false,
               false,
               true,
               false,
               false,
               false,
               false,
               false,
               false,
               false,
               false,
               false,
               false,
               false,
               false,
               false,
               false,
               false,
               false,
               false,
               false,
               false,
               false,
               false,
               false,
               false,
               false,
               false,
               false,
               false,
               false,
               false,
               false,
               false,
               false,
               false,
               false,
               false,
               false,
               false,
               false
              ]
             }
            ],
            "label": "Walt Disney Studios",
            "method": "update"
           },
           {
            "args": [
             {
              "visible": [
               false,
               false,
               false,
               false,
               false,
               false,
               false,
               false,
               false,
               false,
               false,
               false,
               false,
               false,
               false,
               false,
               false,
               false,
               false,
               false,
               false,
               false,
               false,
               false,
               false,
               false,
               false,
               false,
               false,
               false,
               false,
               false,
               false,
               false,
               false,
               false,
               false,
               false,
               false,
               false,
               false,
               false,
               false,
               false,
               false,
               false,
               false,
               false,
               false,
               false,
               false,
               false,
               false,
               false,
               false,
               false,
               false,
               false,
               false,
               false,
               false,
               false,
               false,
               false,
               false,
               false,
               false,
               false,
               false,
               false,
               false,
               false,
               false,
               false,
               false,
               false,
               false,
               false,
               false,
               false,
               false,
               false,
               false,
               false,
               false,
               false,
               false,
               false,
               false,
               false,
               false,
               false,
               false,
               false,
               false,
               false,
               false,
               false,
               false,
               false,
               false,
               false,
               false,
               false,
               false,
               false,
               false,
               false,
               false,
               false,
               false,
               false,
               false,
               false,
               false,
               false,
               false,
               false,
               false,
               false,
               false,
               false,
               false,
               false,
               false,
               false,
               false,
               false,
               false,
               false,
               false,
               false,
               false,
               false,
               false,
               false,
               false,
               false,
               false,
               false,
               false,
               false,
               false,
               false,
               false,
               false,
               false,
               false,
               false,
               false,
               false,
               false,
               false,
               false,
               false,
               false,
               false,
               false,
               false,
               false,
               false,
               false,
               false,
               false,
               false,
               false,
               false,
               false,
               false,
               false,
               false,
               false,
               false,
               false,
               false,
               false,
               false
              ]
             }
            ],
            "label": "nan",
            "method": "update"
           },
           {
            "args": [
             {
              "visible": [
               false,
               false,
               false,
               false,
               false,
               false,
               false,
               false,
               false,
               false,
               false,
               false,
               false,
               false,
               false,
               false,
               false,
               false,
               false,
               false,
               false,
               false,
               false,
               false,
               false,
               false,
               false,
               false,
               false,
               false,
               false,
               false,
               false,
               false,
               false,
               false,
               false,
               false,
               false,
               false,
               false,
               false,
               false,
               false,
               false,
               false,
               false,
               false,
               false,
               false,
               false,
               false,
               false,
               false,
               false,
               false,
               false,
               false,
               false,
               false,
               false,
               false,
               false,
               false,
               false,
               false,
               false,
               false,
               false,
               false,
               false,
               false,
               false,
               false,
               false,
               false,
               false,
               false,
               false,
               false,
               false,
               false,
               false,
               false,
               false,
               false,
               false,
               false,
               false,
               false,
               false,
               false,
               false,
               false,
               false,
               false,
               false,
               false,
               false,
               false,
               false,
               false,
               false,
               false,
               false,
               false,
               false,
               false,
               false,
               false,
               false,
               false,
               false,
               false,
               false,
               false,
               false,
               false,
               false,
               false,
               false,
               false,
               false,
               false,
               false,
               false,
               false,
               false,
               false,
               false,
               false,
               false,
               false,
               false,
               false,
               false,
               false,
               false,
               false,
               false,
               false,
               false,
               false,
               false,
               true,
               false,
               false,
               false,
               false,
               false,
               false,
               false,
               false,
               false,
               false,
               false,
               false,
               false,
               false,
               false,
               false,
               false,
               false,
               false,
               false,
               false,
               false,
               false,
               false,
               false,
               false,
               false,
               false,
               false,
               false,
               false,
               false
              ]
             }
            ],
            "label": "6th & Idaho Productions",
            "method": "update"
           },
           {
            "args": [
             {
              "visible": [
               false,
               false,
               false,
               false,
               false,
               false,
               false,
               false,
               false,
               false,
               false,
               false,
               false,
               false,
               false,
               false,
               false,
               false,
               false,
               false,
               false,
               false,
               false,
               false,
               false,
               false,
               false,
               false,
               false,
               false,
               false,
               false,
               false,
               false,
               false,
               false,
               false,
               false,
               false,
               false,
               false,
               false,
               false,
               false,
               false,
               false,
               false,
               false,
               false,
               false,
               false,
               false,
               false,
               false,
               false,
               false,
               false,
               false,
               false,
               false,
               false,
               false,
               false,
               false,
               false,
               false,
               false,
               false,
               false,
               false,
               false,
               false,
               false,
               false,
               false,
               false,
               false,
               false,
               false,
               false,
               false,
               false,
               false,
               false,
               false,
               false,
               false,
               false,
               false,
               false,
               false,
               false,
               false,
               false,
               false,
               false,
               false,
               false,
               false,
               false,
               false,
               false,
               false,
               false,
               false,
               false,
               false,
               false,
               false,
               false,
               false,
               false,
               false,
               false,
               false,
               false,
               false,
               false,
               false,
               false,
               false,
               false,
               false,
               false,
               false,
               false,
               false,
               false,
               false,
               false,
               false,
               false,
               false,
               false,
               false,
               false,
               false,
               false,
               false,
               false,
               false,
               false,
               false,
               false,
               false,
               false,
               false,
               false,
               false,
               false,
               false,
               true,
               false,
               false,
               false,
               false,
               false,
               false,
               false,
               false,
               false,
               false,
               false,
               false,
               false,
               false,
               false,
               false,
               false,
               false,
               false,
               false,
               false,
               false,
               false,
               false,
               false
              ]
             }
            ],
            "label": "Perfect World Pictures",
            "method": "update"
           },
           {
            "args": [
             {
              "visible": [
               false,
               false,
               false,
               false,
               false,
               false,
               false,
               false,
               false,
               false,
               false,
               false,
               false,
               false,
               false,
               false,
               false,
               false,
               false,
               false,
               false,
               false,
               false,
               false,
               false,
               false,
               false,
               false,
               false,
               false,
               false,
               false,
               false,
               false,
               false,
               false,
               false,
               false,
               false,
               false,
               false,
               false,
               false,
               false,
               false,
               false,
               false,
               false,
               false,
               false,
               false,
               false,
               false,
               false,
               false,
               false,
               false,
               false,
               false,
               false,
               false,
               false,
               false,
               false,
               false,
               false,
               false,
               false,
               false,
               false,
               false,
               false,
               false,
               false,
               false,
               false,
               false,
               false,
               false,
               false,
               false,
               false,
               false,
               false,
               false,
               false,
               false,
               false,
               false,
               false,
               false,
               false,
               false,
               false,
               false,
               false,
               false,
               false,
               false,
               false,
               false,
               false,
               false,
               false,
               false,
               false,
               false,
               false,
               false,
               false,
               false,
               false,
               false,
               false,
               false,
               false,
               false,
               false,
               false,
               false,
               false,
               false,
               false,
               false,
               false,
               false,
               false,
               false,
               false,
               false,
               false,
               false,
               false,
               false,
               false,
               false,
               false,
               false,
               false,
               false,
               false,
               false,
               false,
               false,
               false,
               false,
               false,
               false,
               false,
               false,
               false,
               false,
               true,
               false,
               false,
               false,
               false,
               false,
               false,
               false,
               false,
               false,
               false,
               false,
               false,
               false,
               false,
               false,
               false,
               false,
               false,
               false,
               false,
               false,
               false,
               false,
               false
              ]
             }
            ],
            "label": "Skydance Media",
            "method": "update"
           },
           {
            "args": [
             {
              "visible": [
               false,
               false,
               false,
               false,
               false,
               false,
               false,
               false,
               false,
               false,
               false,
               false,
               false,
               false,
               false,
               false,
               false,
               false,
               false,
               false,
               false,
               false,
               false,
               false,
               false,
               false,
               false,
               false,
               false,
               false,
               false,
               false,
               false,
               false,
               false,
               false,
               false,
               false,
               false,
               false,
               false,
               false,
               false,
               false,
               false,
               false,
               false,
               false,
               false,
               false,
               false,
               false,
               false,
               false,
               false,
               false,
               false,
               false,
               false,
               false,
               false,
               false,
               false,
               false,
               false,
               false,
               false,
               false,
               false,
               false,
               false,
               false,
               false,
               false,
               false,
               false,
               false,
               false,
               false,
               false,
               false,
               false,
               false,
               false,
               false,
               false,
               false,
               false,
               false,
               false,
               false,
               false,
               false,
               false,
               false,
               false,
               false,
               false,
               false,
               false,
               false,
               false,
               false,
               false,
               false,
               false,
               false,
               false,
               false,
               false,
               false,
               false,
               false,
               false,
               false,
               false,
               false,
               false,
               false,
               false,
               false,
               false,
               false,
               false,
               false,
               false,
               false,
               false,
               false,
               false,
               false,
               false,
               false,
               false,
               false,
               false,
               false,
               false,
               false,
               false,
               false,
               false,
               false,
               false,
               false,
               false,
               false,
               false,
               false,
               false,
               false,
               false,
               false,
               false,
               false,
               false,
               false,
               true,
               false,
               false,
               false,
               false,
               false,
               false,
               false,
               false,
               false,
               false,
               false,
               false,
               false,
               false,
               false,
               false,
               false,
               false,
               false
              ]
             }
            ],
            "label": "LuckyChap",
            "method": "update"
           },
           {
            "args": [
             {
              "visible": [
               false,
               false,
               false,
               false,
               false,
               false,
               false,
               false,
               false,
               false,
               false,
               false,
               false,
               false,
               false,
               false,
               false,
               false,
               false,
               false,
               false,
               false,
               false,
               false,
               false,
               false,
               false,
               false,
               false,
               false,
               false,
               false,
               false,
               false,
               false,
               false,
               false,
               false,
               false,
               false,
               false,
               false,
               false,
               false,
               false,
               false,
               false,
               false,
               false,
               false,
               false,
               false,
               false,
               false,
               false,
               false,
               false,
               false,
               false,
               false,
               false,
               false,
               false,
               false,
               false,
               false,
               false,
               false,
               false,
               false,
               false,
               false,
               false,
               false,
               false,
               false,
               false,
               false,
               false,
               false,
               false,
               false,
               false,
               false,
               false,
               false,
               false,
               false,
               false,
               false,
               false,
               false,
               false,
               false,
               false,
               false,
               false,
               false,
               false,
               false,
               false,
               false,
               false,
               false,
               false,
               false,
               false,
               false,
               false,
               false,
               false,
               false,
               false,
               false,
               false,
               false,
               false,
               false,
               false,
               false,
               false,
               false,
               false,
               false,
               false,
               false,
               false,
               false,
               false,
               false,
               false,
               false,
               false,
               false,
               false,
               false,
               false,
               false,
               false,
               false,
               false,
               false,
               false,
               false,
               false,
               false,
               false,
               false,
               false,
               false,
               false,
               false,
               false,
               false,
               false,
               false,
               false,
               false,
               true,
               false,
               false,
               false,
               false,
               false,
               false,
               false,
               false,
               false,
               false,
               false,
               false,
               false,
               false,
               false,
               false,
               false,
               false
              ]
             }
            ],
            "label": "Nintendo",
            "method": "update"
           },
           {
            "args": [
             {
              "visible": [
               false,
               false,
               false,
               false,
               false,
               false,
               false,
               false,
               false,
               false,
               false,
               false,
               false,
               false,
               false,
               false,
               false,
               false,
               false,
               false,
               false,
               false,
               false,
               false,
               false,
               false,
               false,
               false,
               false,
               false,
               false,
               false,
               false,
               false,
               false,
               false,
               false,
               false,
               false,
               false,
               false,
               false,
               false,
               false,
               false,
               false,
               false,
               false,
               false,
               false,
               false,
               false,
               false,
               false,
               false,
               false,
               false,
               false,
               false,
               false,
               false,
               false,
               false,
               false,
               false,
               false,
               false,
               false,
               false,
               false,
               false,
               false,
               false,
               false,
               false,
               false,
               false,
               false,
               false,
               false,
               false,
               false,
               false,
               false,
               false,
               false,
               false,
               false,
               false,
               false,
               false,
               false,
               false,
               false,
               false,
               false,
               false,
               false,
               false,
               false,
               false,
               false,
               false,
               false,
               false,
               false,
               false,
               false,
               false,
               false,
               false,
               false,
               false,
               false,
               false,
               false,
               false,
               false,
               false,
               false,
               false,
               false,
               false,
               false,
               false,
               false,
               false,
               false,
               false,
               false,
               false,
               false,
               false,
               false,
               false,
               false,
               false,
               false,
               false,
               false,
               false,
               false,
               false,
               false,
               false,
               false,
               false,
               false,
               false,
               false,
               false,
               false,
               false,
               false,
               false,
               false,
               false,
               false,
               false,
               false,
               false,
               true,
               false,
               false,
               false,
               false,
               false,
               false,
               false,
               false,
               false,
               false,
               false,
               false,
               false,
               false,
               false
              ]
             }
            ],
            "label": "20th Century Studios",
            "method": "update"
           },
           {
            "args": [
             {
              "visible": [
               false,
               false,
               false,
               false,
               false,
               false,
               false,
               false,
               false,
               false,
               false,
               false,
               false,
               false,
               false,
               false,
               false,
               false,
               false,
               false,
               false,
               false,
               false,
               false,
               false,
               false,
               false,
               false,
               false,
               false,
               false,
               false,
               false,
               false,
               false,
               false,
               false,
               false,
               false,
               false,
               false,
               false,
               false,
               false,
               false,
               false,
               false,
               false,
               false,
               false,
               false,
               false,
               false,
               false,
               false,
               false,
               false,
               false,
               false,
               false,
               false,
               false,
               false,
               false,
               false,
               false,
               false,
               false,
               false,
               false,
               false,
               false,
               false,
               false,
               false,
               false,
               false,
               false,
               false,
               false,
               false,
               false,
               false,
               false,
               false,
               false,
               false,
               false,
               false,
               false,
               false,
               false,
               false,
               false,
               false,
               false,
               false,
               false,
               false,
               false,
               false,
               false,
               false,
               false,
               false,
               false,
               false,
               false,
               false,
               false,
               false,
               false,
               false,
               false,
               false,
               false,
               false,
               false,
               false,
               false,
               false,
               false,
               false,
               false,
               false,
               false,
               false,
               false,
               false,
               false,
               false,
               false,
               false,
               false,
               false,
               false,
               false,
               false,
               false,
               false,
               false,
               false,
               false,
               false,
               false,
               false,
               false,
               false,
               false,
               false,
               false,
               false,
               false,
               false,
               false,
               false,
               false,
               false,
               false,
               false,
               false,
               false,
               true,
               false,
               false,
               false,
               false,
               false,
               false,
               false,
               false,
               false,
               false,
               false,
               false,
               false,
               false
              ]
             }
            ],
            "label": "Hurwitz Creative",
            "method": "update"
           },
           {
            "args": [
             {
              "visible": [
               false,
               false,
               false,
               false,
               false,
               false,
               false,
               false,
               false,
               false,
               false,
               false,
               false,
               false,
               false,
               false,
               false,
               false,
               false,
               false,
               false,
               false,
               false,
               false,
               false,
               false,
               false,
               false,
               false,
               false,
               false,
               false,
               false,
               false,
               false,
               false,
               false,
               false,
               false,
               false,
               false,
               false,
               false,
               false,
               false,
               false,
               false,
               false,
               false,
               false,
               false,
               false,
               false,
               false,
               false,
               false,
               false,
               false,
               false,
               false,
               false,
               false,
               false,
               false,
               false,
               false,
               false,
               false,
               false,
               false,
               false,
               false,
               false,
               false,
               false,
               false,
               false,
               false,
               false,
               false,
               false,
               false,
               false,
               false,
               false,
               false,
               false,
               false,
               false,
               false,
               false,
               false,
               false,
               false,
               false,
               false,
               false,
               false,
               false,
               false,
               false,
               false,
               false,
               false,
               false,
               false,
               false,
               false,
               false,
               false,
               false,
               false,
               false,
               false,
               false,
               false,
               false,
               false,
               false,
               false,
               false,
               false,
               false,
               false,
               false,
               false,
               false,
               false,
               false,
               false,
               false,
               false,
               false,
               false,
               false,
               false,
               false,
               false,
               false,
               false,
               false,
               false,
               false,
               false,
               false,
               false,
               false,
               false,
               false,
               false,
               false,
               false,
               false,
               false,
               false,
               false,
               false,
               false,
               false,
               false,
               false,
               false,
               false,
               false,
               true,
               false,
               false,
               false,
               false,
               false,
               false,
               false,
               false,
               false,
               false,
               false,
               false
              ]
             }
            ],
            "label": "Marc Platt Productions",
            "method": "update"
           },
           {
            "args": [
             {
              "visible": [
               false,
               false,
               false,
               false,
               false,
               false,
               false,
               false,
               false,
               false,
               false,
               false,
               false,
               false,
               false,
               false,
               false,
               false,
               false,
               false,
               false,
               false,
               false,
               false,
               false,
               false,
               false,
               false,
               false,
               false,
               false,
               false,
               false,
               false,
               false,
               false,
               false,
               false,
               false,
               false,
               false,
               false,
               false,
               false,
               false,
               false,
               false,
               false,
               false,
               false,
               false,
               false,
               false,
               false,
               false,
               false,
               false,
               false,
               false,
               false,
               false,
               false,
               false,
               false,
               false,
               false,
               false,
               false,
               false,
               false,
               false,
               false,
               false,
               false,
               false,
               false,
               false,
               false,
               false,
               false,
               false,
               false,
               false,
               false,
               false,
               false,
               false,
               false,
               false,
               false,
               false,
               false,
               false,
               false,
               false,
               false,
               false,
               false,
               false,
               false,
               false,
               false,
               false,
               false,
               false,
               false,
               false,
               false,
               false,
               false,
               false,
               false,
               false,
               false,
               false,
               false,
               false,
               false,
               false,
               false,
               false,
               false,
               false,
               false,
               false,
               false,
               false,
               false,
               false,
               false,
               false,
               false,
               false,
               false,
               false,
               false,
               false,
               false,
               false,
               false,
               false,
               false,
               false,
               false,
               false,
               false,
               false,
               false,
               false,
               false,
               false,
               false,
               false,
               false,
               false,
               false,
               false,
               false,
               false,
               false,
               false,
               false,
               false,
               false,
               false,
               false,
               true,
               false,
               false,
               false,
               false,
               false,
               false,
               false,
               false,
               false,
               false
              ]
             }
            ],
            "label": "Maximum Effort",
            "method": "update"
           },
           {
            "args": [
             {
              "visible": [
               false,
               false,
               false,
               false,
               false,
               false,
               false,
               false,
               false,
               false,
               false,
               false,
               false,
               false,
               false,
               false,
               false,
               false,
               false,
               false,
               false,
               false,
               false,
               false,
               false,
               false,
               false,
               false,
               false,
               false,
               false,
               false,
               false,
               false,
               false,
               false,
               false,
               false,
               false,
               false,
               false,
               false,
               false,
               false,
               false,
               false,
               false,
               false,
               false,
               false,
               false,
               false,
               false,
               false,
               false,
               false,
               false,
               false,
               false,
               false,
               false,
               false,
               false,
               false,
               false,
               false,
               false,
               false,
               false,
               false,
               false,
               false,
               false,
               false,
               false,
               false,
               false,
               false,
               false,
               false,
               false,
               false,
               false,
               false,
               false,
               false,
               false,
               false,
               false,
               false,
               false,
               false,
               false,
               false,
               false,
               false,
               false,
               false,
               false,
               false,
               false,
               false,
               false,
               false,
               false,
               false,
               false,
               false,
               false,
               false,
               false,
               false,
               false,
               false,
               false,
               false,
               false,
               false,
               false,
               false,
               false,
               false,
               false,
               false,
               false,
               false,
               false,
               false,
               false,
               false,
               false,
               false,
               false,
               false,
               false,
               false,
               false,
               false,
               false,
               false,
               false,
               false,
               false,
               false,
               false,
               false,
               false,
               false,
               false,
               false,
               false,
               false,
               false,
               false,
               false,
               false,
               false,
               false,
               false,
               false,
               false,
               false,
               false,
               false,
               false,
               false,
               false,
               true,
               false,
               false,
               false,
               false,
               false,
               false,
               false,
               false,
               false
              ]
             }
            ],
            "label": "Moving Pictures (I)",
            "method": "update"
           },
           {
            "args": [
             {
              "visible": [
               false,
               false,
               false,
               false,
               false,
               false,
               false,
               false,
               false,
               false,
               false,
               false,
               false,
               false,
               false,
               false,
               false,
               false,
               false,
               false,
               false,
               false,
               false,
               false,
               false,
               false,
               false,
               false,
               false,
               false,
               false,
               false,
               false,
               false,
               false,
               false,
               false,
               false,
               false,
               false,
               false,
               false,
               false,
               false,
               false,
               false,
               false,
               false,
               false,
               false,
               false,
               false,
               false,
               false,
               false,
               false,
               false,
               false,
               false,
               false,
               false,
               false,
               false,
               false,
               false,
               false,
               false,
               false,
               false,
               false,
               false,
               false,
               false,
               false,
               false,
               false,
               false,
               false,
               false,
               false,
               false,
               false,
               false,
               false,
               false,
               false,
               false,
               false,
               false,
               false,
               false,
               false,
               false,
               false,
               false,
               false,
               false,
               false,
               false,
               false,
               false,
               false,
               false,
               false,
               false,
               false,
               false,
               false,
               false,
               false,
               false,
               false,
               false,
               false,
               false,
               false,
               false,
               false,
               false,
               false,
               false,
               false,
               false,
               false,
               false,
               false,
               false,
               false,
               false,
               false,
               false,
               false,
               false,
               false,
               false,
               false,
               false,
               false,
               false,
               false,
               false,
               false,
               false,
               false,
               false,
               false,
               false,
               false,
               false,
               false,
               false,
               false,
               false,
               false,
               false,
               false,
               false,
               false,
               false,
               false,
               false,
               false,
               false,
               false,
               false,
               false,
               false,
               false,
               false,
               true,
               false,
               false,
               false,
               false,
               false,
               false,
               false
              ]
             }
            ],
            "label": "Screen Queensland",
            "method": "update"
           },
           {
            "args": [
             {
              "visible": [
               false,
               false,
               false,
               false,
               false,
               false,
               false,
               false,
               false,
               false,
               false,
               false,
               false,
               false,
               false,
               false,
               false,
               false,
               false,
               false,
               false,
               false,
               false,
               false,
               false,
               false,
               false,
               false,
               false,
               false,
               false,
               false,
               false,
               false,
               false,
               false,
               false,
               false,
               false,
               false,
               false,
               false,
               false,
               false,
               false,
               false,
               false,
               false,
               false,
               false,
               false,
               false,
               false,
               false,
               false,
               false,
               false,
               false,
               false,
               false,
               false,
               false,
               false,
               false,
               false,
               false,
               false,
               false,
               false,
               false,
               false,
               false,
               false,
               false,
               false,
               false,
               false,
               false,
               false,
               false,
               false,
               false,
               false,
               false,
               false,
               false,
               false,
               false,
               false,
               false,
               false,
               false,
               false,
               false,
               false,
               false,
               false,
               false,
               false,
               false,
               false,
               false,
               false,
               false,
               false,
               false,
               false,
               false,
               false,
               false,
               false,
               false,
               false,
               false,
               false,
               false,
               false,
               false,
               false,
               false,
               false,
               false,
               false,
               false,
               false,
               false,
               false,
               false,
               false,
               false,
               false,
               false,
               false,
               false,
               false,
               false,
               false,
               false,
               false,
               false,
               false,
               false,
               false,
               false,
               false,
               false,
               false,
               false,
               false,
               false,
               false,
               false,
               false,
               false,
               false,
               false,
               false,
               false,
               false,
               false,
               false,
               false,
               false,
               false,
               false,
               false,
               false,
               false,
               false,
               false,
               false,
               true,
               false,
               false,
               false,
               false,
               false
              ]
             }
            ],
            "label": "Walt Disney Animation Canada",
            "method": "update"
           }
          ],
          "direction": "down",
          "font": {
           "size": 12
          },
          "showactive": true,
          "x": 0.17,
          "xanchor": "left",
          "y": 1.2,
          "yanchor": "top"
         }
        ],
        "width": 1200,
        "xaxis": {
         "anchor": "y",
         "domain": [
          0,
          1
         ],
         "title": {
          "text": "Year"
         }
        },
        "yaxis": {
         "anchor": "x",
         "domain": [
          0,
          1
         ],
         "title": {
          "text": "Total Revenue (Million $)"
         }
        }
       }
      }
     },
     "metadata": {},
     "output_type": "display_data"
    }
   ],
   "source": [
    "query = \"\"\"\n",
    "SELECT im.release_year, \n",
    "       pc.production_company, \n",
    "       SUM(im.gross_in_million) AS total_revenue,\n",
    "       SUM(im.budget) AS total_budget,\n",
    "       SUM(im.gross_in_million) - SUM(im.budget) AS profit,  -- Profit Calculation\n",
    "       COUNT(im.movie_id) AS movie_count  -- Count movies per production company\n",
    "FROM imdb_movies im\n",
    "JOIN production_companies pc ON im.movie_id = pc.movie_id\n",
    "WHERE im.gross_in_million IS NOT NULL AND im.budget IS NOT NULL\n",
    "AND im.release_year BETWEEN 2000 AND 2026  -- Year range\n",
    "AND pc.production_company IS NOT NULL  \n",
    "AND pc.production_company != ''  \n",
    "AND LOWER(pc.production_company) != 'none'  -- Exclude \"None\" as a string\n",
    "GROUP BY im.release_year, pc.production_company\n",
    "ORDER BY im.release_year;\n",
    "\"\"\"\n",
    "df = pd.read_sql_query(query, conn)\n",
    "\n",
    "all_years = pd.DataFrame({\"release_year\": list(range(2005, 2027))})  \n",
    "df = all_years.merge(df, on=\"release_year\", how=\"left\").fillna({\n",
    "    \"total_revenue\": 0, \"profit\": 0, \"total_budget\": 0, \"movie_count\": 0\n",
    "})\n",
    "\n",
    "fig = px.scatter(df, \n",
    "                 x=\"release_year\", \n",
    "                 y=\"total_revenue\", \n",
    "                 size=\"movie_count\", \n",
    "                 color=\"production_company\",\n",
    "                 title=\"Revenue Trends by Production Company \",\n",
    "                 labels={\"total_revenue\": \"Total Revenue (Million $)\", \"release_year\": \"Year\"},\n",
    "                 width=1200,  \n",
    "                 height=700   )\n",
    "\n",
    "dropdown_buttons = [\n",
    "    {\"label\": \"All\", \"method\": \"update\", \"args\": [{\"visible\": [True] * len(df.production_company.unique())}]}\n",
    "]\n",
    "\n",
    "for company in df[\"production_company\"].unique():\n",
    "    dropdown_buttons.append({\n",
    "        \"label\": company,\n",
    "        \"method\": \"update\",\n",
    "        \"args\": [{\"visible\": df[\"production_company\"] == company}]\n",
    "    })\n",
    "\n",
    "fig.update_layout(\n",
    "    updatemenus=[{\n",
    "        \"buttons\": dropdown_buttons,\n",
    "        \"direction\": \"down\",\n",
    "        \"showactive\": True,\n",
    "        \"x\": 0.17,  \n",
    "        \"y\": 1.2,   \n",
    "        \"xanchor\": \"left\",\n",
    "        \"yanchor\": \"top\",\n",
    "        \"font\": {\"size\": 12}  \n",
    "    }]\n",
    ")\n",
    "\n",
    "fig.show()\n"
   ]
  },
  {
   "cell_type": "markdown",
   "metadata": {},
   "source": [
    "# 🎬 **Director's Contribution to Total Revenue 💰**  "
   ]
  },
  {
   "cell_type": "code",
   "execution_count": 16,
   "metadata": {},
   "outputs": [
    {
     "data": {
      "application/vnd.plotly.v1+json": {
       "config": {
        "plotlyServerURL": "https://plot.ly"
       },
       "data": [
        {
         "branchvalues": "total",
         "customdata": [
          [
           7
          ],
          [
           6.1
          ],
          [
           6.799999999999999
          ],
          [
           8.3
          ],
          [
           7.571993162200759
          ],
          [
           7.677769152320502
          ],
          [
           6.978521437793027
          ],
          [
           6.8
          ],
          [
           7.4
          ],
          [
           8.4
          ],
          [
           7.1000000000000005
          ],
          [
           7.5
          ],
          [
           7
          ],
          [
           8.5
          ],
          [
           6.799999999999999
          ],
          [
           6.1000000000000005
          ],
          [
           6.5
          ],
          [
           8.685039829758384
          ],
          [
           6.5
          ],
          [
           7.526849114361214
          ],
          [
           7.3
          ],
          [
           6.412786887698615
          ],
          [
           6.5
          ],
          [
           6.8
          ],
          [
           6.5
          ],
          [
           4.5
          ],
          [
           8.1
          ],
          [
           8.1
          ],
          [
           6.3
          ],
          [
           7.8
          ],
          [
           6.8
          ],
          [
           8.6
          ],
          [
           7.335902908452572
          ],
          [
           7.459364661147622
          ],
          [
           7.4
          ],
          [
           6.8
          ],
          [
           8.3
          ],
          [
           8.183882645682305
          ],
          [
           7.6000000000000005
          ],
          [
           6.1
          ],
          [
           7.321070535807873
          ],
          [
           7.9
          ],
          [
           6.263770131771596
          ],
          [
           7.110103477823762
          ],
          [
           7.6
          ],
          [
           7.793854376764824
          ],
          [
           6.7
          ],
          [
           8.2
          ],
          [
           7.6
          ],
          [
           7.663820260052776
          ],
          [
           6.3
          ],
          [
           7.5
          ],
          [
           6.5
          ],
          [
           8.3
          ],
          [
           6.8
          ],
          [
           6.2
          ],
          [
           7.500000000000001
          ],
          [
           7.8
          ],
          [
           6.37121266610855
          ],
          [
           7.3
          ],
          [
           8.167628050323145
          ],
          [
           8.290630547913645
          ],
          [
           6.900000000000001
          ],
          [
           8.5
          ],
          [
           6.5
          ],
          [
           7.2
          ],
          [
           7.699999999999999
          ],
          [
           8.09638566299617
          ],
          [
           7.027746091239123
          ],
          [
           6.9
          ],
          [
           6.9
          ],
          [
           7.1000000000000005
          ],
          [
           7.6
          ],
          [
           6.22732329398996
          ],
          [
           7.733232672103578
          ],
          [
           7.7
          ],
          [
           6.4
          ],
          [
           8.1
          ],
          [
           8.3
          ],
          [
           7.7
          ],
          [
           6.751747399219766
          ]
         ],
         "domain": {
          "x": [
           0,
           1
          ],
          "y": [
           0,
           1
          ]
         },
         "hovertemplate": "labels=%{label}<br>Total Revenue (Million $)=%{value}<br>parent=%{parent}<br>id=%{id}<br>IMDb Rating=%{color}<extra></extra>",
         "ids": [
          "Aaron Horvath",
          "Adam Wingard",
          "Albert Hughes",
          "Alfred Hitchcock",
          "Andrew Adamson",
          "Andrew Stanton",
          "Andy Muschietti",
          "Anna Boden",
          "Anthony Minghella",
          "Anthony Russo",
          "Bill Condon",
          "Brad Bird",
          "Brett Ratner",
          "Charles Chaplin",
          "Chris Buck",
          "Chris Miller",
          "Chris Renaud",
          "Christopher Nolan",
          "Chuck Sheetz",
          "Clint Eastwood",
          "Clyde Geronimi",
          "Colin Trevorrow",
          "Daniel Myrick",
          "David G. Derrick Jr.",
          "David Gordon Green",
          "David McNally",
          "David Yates",
          "Dean DeBlois",
          "Donald Petrie",
          "Edward Zwick",
          "Eric Darnell",
          "Frank Darabont",
          "Gareth Edwards",
          "George Lucas",
          "Gore Verbinski",
          "Greta Gerwig",
          "Gus Van Sant",
          "Hayao Miyazaki",
          "Hiromasa Yonebayashi",
          "J.A. Bayona",
          "J.J. Abrams",
          "James Cameron",
          "Jay Roach",
          "Jon Favreau",
          "Jon M. Chu",
          "Jon Watts",
          "Jordan Vogt-Roberts",
          "Joseph Kosinski",
          "Josh Cooley",
          "Joss Whedon",
          "Keenen Ivory Wayans",
          "Kelsey Mann",
          "Kyle Balda",
          "Lee Unkrich",
          "M. Night Shyamalan",
          "Marc Lawrence",
          "Martin Scorsese",
          "Matt Reeves",
          "Michael Bay",
          "Patty Jenkins",
          "Pete Docter",
          "Peter Jackson",
          "Rian Johnson",
          "Ridley Scott",
          "Rob Letterman",
          "Rob Marshall",
          "Rob Reiner",
          "Robert Zemeckis",
          "Ryan Coogler",
          "Sam Raimi",
          "Seth MacFarlane",
          "Shane Black",
          "Shawn Levy",
          "Simon West",
          "Steven Spielberg",
          "Sylvain Chomet",
          "Sylvester Stallone",
          "Tate Taylor",
          "Todd Phillips",
          "Tony Scott",
          "Wolfgang Petersen"
         ],
         "labels": [
          "Aaron Horvath",
          "Adam Wingard",
          "Albert Hughes",
          "Alfred Hitchcock",
          "Andrew Adamson",
          "Andrew Stanton",
          "Andy Muschietti",
          "Anna Boden",
          "Anthony Minghella",
          "Anthony Russo",
          "Bill Condon",
          "Brad Bird",
          "Brett Ratner",
          "Charles Chaplin",
          "Chris Buck",
          "Chris Miller",
          "Chris Renaud",
          "Christopher Nolan",
          "Chuck Sheetz",
          "Clint Eastwood",
          "Clyde Geronimi",
          "Colin Trevorrow",
          "Daniel Myrick",
          "David G. Derrick Jr.",
          "David Gordon Green",
          "David McNally",
          "David Yates",
          "Dean DeBlois",
          "Donald Petrie",
          "Edward Zwick",
          "Eric Darnell",
          "Frank Darabont",
          "Gareth Edwards",
          "George Lucas",
          "Gore Verbinski",
          "Greta Gerwig",
          "Gus Van Sant",
          "Hayao Miyazaki",
          "Hiromasa Yonebayashi",
          "J.A. Bayona",
          "J.J. Abrams",
          "James Cameron",
          "Jay Roach",
          "Jon Favreau",
          "Jon M. Chu",
          "Jon Watts",
          "Jordan Vogt-Roberts",
          "Joseph Kosinski",
          "Josh Cooley",
          "Joss Whedon",
          "Keenen Ivory Wayans",
          "Kelsey Mann",
          "Kyle Balda",
          "Lee Unkrich",
          "M. Night Shyamalan",
          "Marc Lawrence",
          "Martin Scorsese",
          "Matt Reeves",
          "Michael Bay",
          "Patty Jenkins",
          "Pete Docter",
          "Peter Jackson",
          "Rian Johnson",
          "Ridley Scott",
          "Rob Letterman",
          "Rob Marshall",
          "Rob Reiner",
          "Robert Zemeckis",
          "Ryan Coogler",
          "Sam Raimi",
          "Seth MacFarlane",
          "Shane Black",
          "Shawn Levy",
          "Simon West",
          "Steven Spielberg",
          "Sylvain Chomet",
          "Sylvester Stallone",
          "Tate Taylor",
          "Todd Phillips",
          "Tony Scott",
          "Wolfgang Petersen"
         ],
         "marker": {
          "coloraxis": "coloraxis",
          "colors": [
           7,
           6.1,
           6.799999999999999,
           8.3,
           7.571993162200759,
           7.677769152320502,
           6.978521437793027,
           6.8,
           7.4,
           8.4,
           7.1000000000000005,
           7.5,
           7,
           8.5,
           6.799999999999999,
           6.1000000000000005,
           6.5,
           8.685039829758384,
           6.5,
           7.526849114361214,
           7.3,
           6.412786887698615,
           6.5,
           6.8,
           6.5,
           4.5,
           8.1,
           8.1,
           6.3,
           7.8,
           6.8,
           8.6,
           7.335902908452572,
           7.459364661147622,
           7.4,
           6.8,
           8.3,
           8.183882645682305,
           7.6000000000000005,
           6.1,
           7.321070535807873,
           7.9,
           6.263770131771596,
           7.110103477823762,
           7.6,
           7.793854376764824,
           6.7,
           8.2,
           7.6,
           7.663820260052776,
           6.3,
           7.5,
           6.5,
           8.3,
           6.8,
           6.2,
           7.500000000000001,
           7.8,
           6.37121266610855,
           7.3,
           8.167628050323145,
           8.290630547913645,
           6.900000000000001,
           8.5,
           6.5,
           7.2,
           7.699999999999999,
           8.09638566299617,
           7.027746091239123,
           6.9,
           6.9,
           7.1000000000000005,
           7.6,
           6.22732329398996,
           7.733232672103578,
           7.7,
           6.4,
           8.1,
           8.3,
           7.7,
           6.751747399219766
          ]
         },
         "name": "",
         "parents": [
          "",
          "",
          "",
          "",
          "",
          "",
          "",
          "",
          "",
          "",
          "",
          "",
          "",
          "",
          "",
          "",
          "",
          "",
          "",
          "",
          "",
          "",
          "",
          "",
          "",
          "",
          "",
          "",
          "",
          "",
          "",
          "",
          "",
          "",
          "",
          "",
          "",
          "",
          "",
          "",
          "",
          "",
          "",
          "",
          "",
          "",
          "",
          "",
          "",
          "",
          "",
          "",
          "",
          "",
          "",
          "",
          "",
          "",
          "",
          "",
          "",
          "",
          "",
          "",
          "",
          "",
          "",
          "",
          "",
          "",
          "",
          "",
          "",
          "",
          "",
          "",
          "",
          "",
          "",
          "",
          ""
         ],
         "type": "treemap",
         "values": [
          1360.85,
          571.85,
          157.11,
          7.97,
          1421.51,
          1970.9099999999999,
          1177.3600000000001,
          1131.42,
          138.03,
          4851.860000000001,
          1356.08,
          1243.23,
          244.72,
          0.52,
          1453.68,
          808.31,
          875.7,
          2124.04,
          44.46,
          764.42,
          215.88,
          2673.52,
          248.64,
          1053.58,
          259.94,
          88.93,
          1342.5,
          494.88,
          212.74,
          454.63,
          746.92,
          286.8,
          1583.66,
          2671.96,
          1066.18,
          1447.04,
          225.93,
          1113.21,
          149.69,
          1310.47,
          3148.33,
          2264.81,
          819.5999999999999,
          3839.47,
          728.26,
          3966.4,
          568.65,
          1495.7,
          1073.84,
          2925.56,
          278.02,
          1698.86,
          940.48,
          1067.32,
          408.25,
          199.04,
          213.72,
          772.32,
          3392.3599999999997,
          823.97,
          2173.95,
          5903.12,
          1334.41,
          465.52,
          450.06,
          306.78,
          93.28,
          997.1400000000001,
          2209.1400000000003,
          955.78,
          549.37,
          1266.15,
          1338.07,
          589.6800000000001,
          3871.07,
          14.78,
          274.47,
          221.8,
          1078.96,
          130.83,
          492.16
         ]
        }
       ],
       "layout": {
        "coloraxis": {
         "colorbar": {
          "title": {
           "text": "IMDb Rating"
          }
         },
         "colorscale": [
          [
           0,
           "#0d0887"
          ],
          [
           0.1111111111111111,
           "#46039f"
          ],
          [
           0.2222222222222222,
           "#7201a8"
          ],
          [
           0.3333333333333333,
           "#9c179e"
          ],
          [
           0.4444444444444444,
           "#bd3786"
          ],
          [
           0.5555555555555556,
           "#d8576b"
          ],
          [
           0.6666666666666666,
           "#ed7953"
          ],
          [
           0.7777777777777778,
           "#fb9f3a"
          ],
          [
           0.8888888888888888,
           "#fdca26"
          ],
          [
           1,
           "#f0f921"
          ]
         ]
        },
        "height": 700,
        "legend": {
         "tracegroupgap": 0
        },
        "template": {
         "data": {
          "bar": [
           {
            "error_x": {
             "color": "#2a3f5f"
            },
            "error_y": {
             "color": "#2a3f5f"
            },
            "marker": {
             "line": {
              "color": "#E5ECF6",
              "width": 0.5
             },
             "pattern": {
              "fillmode": "overlay",
              "size": 10,
              "solidity": 0.2
             }
            },
            "type": "bar"
           }
          ],
          "barpolar": [
           {
            "marker": {
             "line": {
              "color": "#E5ECF6",
              "width": 0.5
             },
             "pattern": {
              "fillmode": "overlay",
              "size": 10,
              "solidity": 0.2
             }
            },
            "type": "barpolar"
           }
          ],
          "carpet": [
           {
            "aaxis": {
             "endlinecolor": "#2a3f5f",
             "gridcolor": "white",
             "linecolor": "white",
             "minorgridcolor": "white",
             "startlinecolor": "#2a3f5f"
            },
            "baxis": {
             "endlinecolor": "#2a3f5f",
             "gridcolor": "white",
             "linecolor": "white",
             "minorgridcolor": "white",
             "startlinecolor": "#2a3f5f"
            },
            "type": "carpet"
           }
          ],
          "choropleth": [
           {
            "colorbar": {
             "outlinewidth": 0,
             "ticks": ""
            },
            "type": "choropleth"
           }
          ],
          "contour": [
           {
            "colorbar": {
             "outlinewidth": 0,
             "ticks": ""
            },
            "colorscale": [
             [
              0,
              "#0d0887"
             ],
             [
              0.1111111111111111,
              "#46039f"
             ],
             [
              0.2222222222222222,
              "#7201a8"
             ],
             [
              0.3333333333333333,
              "#9c179e"
             ],
             [
              0.4444444444444444,
              "#bd3786"
             ],
             [
              0.5555555555555556,
              "#d8576b"
             ],
             [
              0.6666666666666666,
              "#ed7953"
             ],
             [
              0.7777777777777778,
              "#fb9f3a"
             ],
             [
              0.8888888888888888,
              "#fdca26"
             ],
             [
              1,
              "#f0f921"
             ]
            ],
            "type": "contour"
           }
          ],
          "contourcarpet": [
           {
            "colorbar": {
             "outlinewidth": 0,
             "ticks": ""
            },
            "type": "contourcarpet"
           }
          ],
          "heatmap": [
           {
            "colorbar": {
             "outlinewidth": 0,
             "ticks": ""
            },
            "colorscale": [
             [
              0,
              "#0d0887"
             ],
             [
              0.1111111111111111,
              "#46039f"
             ],
             [
              0.2222222222222222,
              "#7201a8"
             ],
             [
              0.3333333333333333,
              "#9c179e"
             ],
             [
              0.4444444444444444,
              "#bd3786"
             ],
             [
              0.5555555555555556,
              "#d8576b"
             ],
             [
              0.6666666666666666,
              "#ed7953"
             ],
             [
              0.7777777777777778,
              "#fb9f3a"
             ],
             [
              0.8888888888888888,
              "#fdca26"
             ],
             [
              1,
              "#f0f921"
             ]
            ],
            "type": "heatmap"
           }
          ],
          "heatmapgl": [
           {
            "colorbar": {
             "outlinewidth": 0,
             "ticks": ""
            },
            "colorscale": [
             [
              0,
              "#0d0887"
             ],
             [
              0.1111111111111111,
              "#46039f"
             ],
             [
              0.2222222222222222,
              "#7201a8"
             ],
             [
              0.3333333333333333,
              "#9c179e"
             ],
             [
              0.4444444444444444,
              "#bd3786"
             ],
             [
              0.5555555555555556,
              "#d8576b"
             ],
             [
              0.6666666666666666,
              "#ed7953"
             ],
             [
              0.7777777777777778,
              "#fb9f3a"
             ],
             [
              0.8888888888888888,
              "#fdca26"
             ],
             [
              1,
              "#f0f921"
             ]
            ],
            "type": "heatmapgl"
           }
          ],
          "histogram": [
           {
            "marker": {
             "pattern": {
              "fillmode": "overlay",
              "size": 10,
              "solidity": 0.2
             }
            },
            "type": "histogram"
           }
          ],
          "histogram2d": [
           {
            "colorbar": {
             "outlinewidth": 0,
             "ticks": ""
            },
            "colorscale": [
             [
              0,
              "#0d0887"
             ],
             [
              0.1111111111111111,
              "#46039f"
             ],
             [
              0.2222222222222222,
              "#7201a8"
             ],
             [
              0.3333333333333333,
              "#9c179e"
             ],
             [
              0.4444444444444444,
              "#bd3786"
             ],
             [
              0.5555555555555556,
              "#d8576b"
             ],
             [
              0.6666666666666666,
              "#ed7953"
             ],
             [
              0.7777777777777778,
              "#fb9f3a"
             ],
             [
              0.8888888888888888,
              "#fdca26"
             ],
             [
              1,
              "#f0f921"
             ]
            ],
            "type": "histogram2d"
           }
          ],
          "histogram2dcontour": [
           {
            "colorbar": {
             "outlinewidth": 0,
             "ticks": ""
            },
            "colorscale": [
             [
              0,
              "#0d0887"
             ],
             [
              0.1111111111111111,
              "#46039f"
             ],
             [
              0.2222222222222222,
              "#7201a8"
             ],
             [
              0.3333333333333333,
              "#9c179e"
             ],
             [
              0.4444444444444444,
              "#bd3786"
             ],
             [
              0.5555555555555556,
              "#d8576b"
             ],
             [
              0.6666666666666666,
              "#ed7953"
             ],
             [
              0.7777777777777778,
              "#fb9f3a"
             ],
             [
              0.8888888888888888,
              "#fdca26"
             ],
             [
              1,
              "#f0f921"
             ]
            ],
            "type": "histogram2dcontour"
           }
          ],
          "mesh3d": [
           {
            "colorbar": {
             "outlinewidth": 0,
             "ticks": ""
            },
            "type": "mesh3d"
           }
          ],
          "parcoords": [
           {
            "line": {
             "colorbar": {
              "outlinewidth": 0,
              "ticks": ""
             }
            },
            "type": "parcoords"
           }
          ],
          "pie": [
           {
            "automargin": true,
            "type": "pie"
           }
          ],
          "scatter": [
           {
            "fillpattern": {
             "fillmode": "overlay",
             "size": 10,
             "solidity": 0.2
            },
            "type": "scatter"
           }
          ],
          "scatter3d": [
           {
            "line": {
             "colorbar": {
              "outlinewidth": 0,
              "ticks": ""
             }
            },
            "marker": {
             "colorbar": {
              "outlinewidth": 0,
              "ticks": ""
             }
            },
            "type": "scatter3d"
           }
          ],
          "scattercarpet": [
           {
            "marker": {
             "colorbar": {
              "outlinewidth": 0,
              "ticks": ""
             }
            },
            "type": "scattercarpet"
           }
          ],
          "scattergeo": [
           {
            "marker": {
             "colorbar": {
              "outlinewidth": 0,
              "ticks": ""
             }
            },
            "type": "scattergeo"
           }
          ],
          "scattergl": [
           {
            "marker": {
             "colorbar": {
              "outlinewidth": 0,
              "ticks": ""
             }
            },
            "type": "scattergl"
           }
          ],
          "scattermapbox": [
           {
            "marker": {
             "colorbar": {
              "outlinewidth": 0,
              "ticks": ""
             }
            },
            "type": "scattermapbox"
           }
          ],
          "scatterpolar": [
           {
            "marker": {
             "colorbar": {
              "outlinewidth": 0,
              "ticks": ""
             }
            },
            "type": "scatterpolar"
           }
          ],
          "scatterpolargl": [
           {
            "marker": {
             "colorbar": {
              "outlinewidth": 0,
              "ticks": ""
             }
            },
            "type": "scatterpolargl"
           }
          ],
          "scatterternary": [
           {
            "marker": {
             "colorbar": {
              "outlinewidth": 0,
              "ticks": ""
             }
            },
            "type": "scatterternary"
           }
          ],
          "surface": [
           {
            "colorbar": {
             "outlinewidth": 0,
             "ticks": ""
            },
            "colorscale": [
             [
              0,
              "#0d0887"
             ],
             [
              0.1111111111111111,
              "#46039f"
             ],
             [
              0.2222222222222222,
              "#7201a8"
             ],
             [
              0.3333333333333333,
              "#9c179e"
             ],
             [
              0.4444444444444444,
              "#bd3786"
             ],
             [
              0.5555555555555556,
              "#d8576b"
             ],
             [
              0.6666666666666666,
              "#ed7953"
             ],
             [
              0.7777777777777778,
              "#fb9f3a"
             ],
             [
              0.8888888888888888,
              "#fdca26"
             ],
             [
              1,
              "#f0f921"
             ]
            ],
            "type": "surface"
           }
          ],
          "table": [
           {
            "cells": {
             "fill": {
              "color": "#EBF0F8"
             },
             "line": {
              "color": "white"
             }
            },
            "header": {
             "fill": {
              "color": "#C8D4E3"
             },
             "line": {
              "color": "white"
             }
            },
            "type": "table"
           }
          ]
         },
         "layout": {
          "annotationdefaults": {
           "arrowcolor": "#2a3f5f",
           "arrowhead": 0,
           "arrowwidth": 1
          },
          "autotypenumbers": "strict",
          "coloraxis": {
           "colorbar": {
            "outlinewidth": 0,
            "ticks": ""
           }
          },
          "colorscale": {
           "diverging": [
            [
             0,
             "#8e0152"
            ],
            [
             0.1,
             "#c51b7d"
            ],
            [
             0.2,
             "#de77ae"
            ],
            [
             0.3,
             "#f1b6da"
            ],
            [
             0.4,
             "#fde0ef"
            ],
            [
             0.5,
             "#f7f7f7"
            ],
            [
             0.6,
             "#e6f5d0"
            ],
            [
             0.7,
             "#b8e186"
            ],
            [
             0.8,
             "#7fbc41"
            ],
            [
             0.9,
             "#4d9221"
            ],
            [
             1,
             "#276419"
            ]
           ],
           "sequential": [
            [
             0,
             "#0d0887"
            ],
            [
             0.1111111111111111,
             "#46039f"
            ],
            [
             0.2222222222222222,
             "#7201a8"
            ],
            [
             0.3333333333333333,
             "#9c179e"
            ],
            [
             0.4444444444444444,
             "#bd3786"
            ],
            [
             0.5555555555555556,
             "#d8576b"
            ],
            [
             0.6666666666666666,
             "#ed7953"
            ],
            [
             0.7777777777777778,
             "#fb9f3a"
            ],
            [
             0.8888888888888888,
             "#fdca26"
            ],
            [
             1,
             "#f0f921"
            ]
           ],
           "sequentialminus": [
            [
             0,
             "#0d0887"
            ],
            [
             0.1111111111111111,
             "#46039f"
            ],
            [
             0.2222222222222222,
             "#7201a8"
            ],
            [
             0.3333333333333333,
             "#9c179e"
            ],
            [
             0.4444444444444444,
             "#bd3786"
            ],
            [
             0.5555555555555556,
             "#d8576b"
            ],
            [
             0.6666666666666666,
             "#ed7953"
            ],
            [
             0.7777777777777778,
             "#fb9f3a"
            ],
            [
             0.8888888888888888,
             "#fdca26"
            ],
            [
             1,
             "#f0f921"
            ]
           ]
          },
          "colorway": [
           "#636efa",
           "#EF553B",
           "#00cc96",
           "#ab63fa",
           "#FFA15A",
           "#19d3f3",
           "#FF6692",
           "#B6E880",
           "#FF97FF",
           "#FECB52"
          ],
          "font": {
           "color": "#2a3f5f"
          },
          "geo": {
           "bgcolor": "white",
           "lakecolor": "white",
           "landcolor": "#E5ECF6",
           "showlakes": true,
           "showland": true,
           "subunitcolor": "white"
          },
          "hoverlabel": {
           "align": "left"
          },
          "hovermode": "closest",
          "mapbox": {
           "style": "light"
          },
          "paper_bgcolor": "white",
          "plot_bgcolor": "#E5ECF6",
          "polar": {
           "angularaxis": {
            "gridcolor": "white",
            "linecolor": "white",
            "ticks": ""
           },
           "bgcolor": "#E5ECF6",
           "radialaxis": {
            "gridcolor": "white",
            "linecolor": "white",
            "ticks": ""
           }
          },
          "scene": {
           "xaxis": {
            "backgroundcolor": "#E5ECF6",
            "gridcolor": "white",
            "gridwidth": 2,
            "linecolor": "white",
            "showbackground": true,
            "ticks": "",
            "zerolinecolor": "white"
           },
           "yaxis": {
            "backgroundcolor": "#E5ECF6",
            "gridcolor": "white",
            "gridwidth": 2,
            "linecolor": "white",
            "showbackground": true,
            "ticks": "",
            "zerolinecolor": "white"
           },
           "zaxis": {
            "backgroundcolor": "#E5ECF6",
            "gridcolor": "white",
            "gridwidth": 2,
            "linecolor": "white",
            "showbackground": true,
            "ticks": "",
            "zerolinecolor": "white"
           }
          },
          "shapedefaults": {
           "line": {
            "color": "#2a3f5f"
           }
          },
          "ternary": {
           "aaxis": {
            "gridcolor": "white",
            "linecolor": "white",
            "ticks": ""
           },
           "baxis": {
            "gridcolor": "white",
            "linecolor": "white",
            "ticks": ""
           },
           "bgcolor": "#E5ECF6",
           "caxis": {
            "gridcolor": "white",
            "linecolor": "white",
            "ticks": ""
           }
          },
          "title": {
           "x": 0.05
          },
          "xaxis": {
           "automargin": true,
           "gridcolor": "white",
           "linecolor": "white",
           "ticks": "",
           "title": {
            "standoff": 15
           },
           "zerolinecolor": "white",
           "zerolinewidth": 2
          },
          "yaxis": {
           "automargin": true,
           "gridcolor": "white",
           "linecolor": "white",
           "ticks": "",
           "title": {
            "standoff": 15
           },
           "zerolinecolor": "white",
           "zerolinewidth": 2
          }
         }
        },
        "title": {
         "text": "Director's Contribution to Total Revenue"
        },
        "width": 1200
       }
      }
     },
     "metadata": {},
     "output_type": "display_data"
    }
   ],
   "source": [
    "df_movies = pd.read_sql(\"SELECT director, rating, gross_in_million FROM imdb_movies\", conn)\n",
    "\n",
    "\n",
    "df_movies = df_movies[df_movies[\"gross_in_million\"] > 0]\n",
    "\n",
    "fig_treemap = px.treemap(df_movies, \n",
    "                          path=[\"director\"], \n",
    "                          values=\"gross_in_million\", \n",
    "                          color=\"rating\",  \n",
    "                          title=\"Director's Contribution to Total Revenue\",\n",
    "                          labels={\"gross_in_million\": \"Total Revenue (Million $)\", \"director\": \"Director\", \"rating\": \"IMDb Rating\"},\n",
    "                          height=700,\n",
    "                          width=1200)\n",
    "\n",
    "fig_treemap.show()\n"
   ]
  },
  {
   "cell_type": "markdown",
   "metadata": {},
   "source": [
    "# 🌍 **Country-wise Movie Revenue Distribution 💰**  "
   ]
  },
  {
   "cell_type": "code",
   "execution_count": 17,
   "metadata": {},
   "outputs": [
    {
     "data": {
      "application/vnd.plotly.v1+json": {
       "config": {
        "plotlyServerURL": "https://plot.ly"
       },
       "data": [
        {
         "alignmentgroup": "True",
         "boxpoints": "all",
         "hovertemplate": "Country=%{x}<br>Revenue (Million $)=%{y}<extra></extra>",
         "legendgroup": "United States",
         "marker": {
          "color": "#636efa"
         },
         "name": "United States",
         "notched": false,
         "offsetgroup": "United States",
         "orientation": "v",
         "showlegend": true,
         "type": "box",
         "x": [
          "United States",
          "United States",
          "United States",
          "United States",
          "United States",
          "United States",
          "United States",
          "United States",
          "United States",
          "United States",
          "United States",
          "United States",
          "United States",
          "United States",
          "United States",
          "United States",
          "United States",
          "United States",
          "United States",
          "United States",
          "United States",
          "United States",
          "United States",
          "United States",
          "United States",
          "United States",
          "United States",
          "United States",
          "United States",
          "United States",
          "United States",
          "United States",
          "United States",
          "United States",
          "United States",
          "United States",
          "United States",
          "United States",
          "United States",
          "United States",
          "United States",
          "United States",
          "United States",
          "United States",
          "United States",
          "United States",
          "United States",
          "United States",
          "United States",
          "United States",
          "United States",
          "United States",
          "United States",
          "United States",
          "United States",
          "United States",
          "United States",
          "United States",
          "United States",
          "United States",
          "United States",
          "United States",
          "United States",
          "United States",
          "United States",
          "United States",
          "United States",
          "United States",
          "United States",
          "United States",
          "United States",
          "United States",
          "United States",
          "United States",
          "United States",
          "United States",
          "United States",
          "United States",
          "United States",
          "United States",
          "United States",
          "United States",
          "United States",
          "United States",
          "United States",
          "United States",
          "United States",
          "United States",
          "United States",
          "United States",
          "United States",
          "United States",
          "United States",
          "United States",
          "United States",
          "United States",
          "United States",
          "United States",
          "United States",
          "United States",
          "United States",
          "United States",
          "United States",
          "United States",
          "United States",
          "United States",
          "United States",
          "United States",
          "United States",
          "United States",
          "United States",
          "United States",
          "United States",
          "United States",
          "United States",
          "United States",
          "United States",
          "United States",
          "United States",
          "United States",
          "United States",
          "United States",
          "United States",
          "United States",
          "United States",
          "United States",
          "United States",
          "United States",
          "United States",
          "United States",
          "United States",
          "United States",
          "United States",
          "United States",
          "United States",
          "United States",
          "United States",
          "United States",
          "United States",
          "United States",
          "United States",
          "United States",
          "United States",
          "United States",
          "United States",
          "United States",
          "United States",
          "United States"
         ],
         "x0": " ",
         "xaxis": "x",
         "y": [
          318.91,
          0,
          286.8,
          0,
          212.74,
          177,
          0,
          199.04,
          93.28,
          88.93,
          1495.7,
          2264.81,
          1447.04,
          1520.54,
          1266.15,
          836.3,
          967.72,
          1123.79,
          880.96,
          678.23,
          1009.06,
          1356.08,
          1114.98,
          823.97,
          1342.5,
          772.32,
          547.66,
          1078.96,
          1671.54,
          1360.85,
          728.26,
          932.53,
          797.31,
          1310.47,
          1104.38,
          1001.98,
          940.48,
          875.7,
          1138.27,
          938.24,
          704.24,
          888.17,
          1017.11,
          959.08,
          962.25,
          0,
          296.94,
          473.12,
          549.37,
          306.78,
          259.94,
          278.02,
          0,
          225.93,
          0,
          0,
          2071.31,
          1952.73,
          1334.41,
          1058.68,
          1077.02,
          1046.52,
          775.4,
          1073.84,
          1132.71,
          850.04,
          524.98,
          571.85,
          568.65,
          215.88,
          450.06,
          244.72,
          273.34,
          607.87,
          274.7,
          709.71,
          522.66,
          488.98,
          603.87,
          0,
          482.35,
          465.52,
          275.29,
          1405.02,
          44.46,
          358.67,
          240.9,
          808.31,
          585.8,
          623.93,
          494.88,
          746.92,
          1698.86,
          1243.23,
          1662.02,
          1029.27,
          1453.68,
          1053.58,
          1066.18,
          408.25,
          0,
          449.22,
          0,
          315.16,
          221.8,
          0,
          0,
          0,
          0.46,
          0,
          0.06,
          0,
          0,
          0,
          0,
          0,
          0,
          0,
          248.64,
          454.63,
          274.47,
          213.72,
          216.76,
          157.11,
          314.98,
          138.03,
          0,
          0,
          7.97,
          0,
          0,
          0,
          0,
          0,
          0,
          0,
          1067.32,
          941.64,
          859.08,
          735.1,
          579.77,
          2799.44,
          1349.93,
          2052.42,
          1338.07,
          859.21,
          1131.42,
          955.78
         ],
         "y0": " ",
         "yaxis": "y"
        },
        {
         "alignmentgroup": "True",
         "boxpoints": "all",
         "hovertemplate": "Country=%{x}<br>Revenue (Million $)=%{y}<extra></extra>",
         "legendgroup": "Australia",
         "marker": {
          "color": "#EF553B"
         },
         "name": "Australia",
         "notched": false,
         "offsetgroup": "Australia",
         "orientation": "v",
         "showlegend": true,
         "type": "box",
         "x": [
          "Australia",
          "Australia",
          "Australia",
          "Australia",
          "Australia"
         ],
         "x0": " ",
         "xaxis": "x",
         "y": [
          318.91,
          199.04,
          88.93,
          571.85,
          1131.42
         ],
         "y0": " ",
         "yaxis": "y"
        },
        {
         "alignmentgroup": "True",
         "boxpoints": "all",
         "hovertemplate": "Country=%{x}<br>Revenue (Million $)=%{y}<extra></extra>",
         "legendgroup": "Color",
         "marker": {
          "color": "#00cc96"
         },
         "name": "Color",
         "notched": false,
         "offsetgroup": "Color",
         "orientation": "v",
         "showlegend": true,
         "type": "box",
         "x": [
          "Color",
          "Color",
          "Color",
          "Color",
          "Color",
          "Color",
          "Color",
          "Color",
          "Color",
          "Color",
          "Color",
          "Color",
          "Color",
          "Color",
          "Color",
          "Color",
          "Color",
          "Color",
          "Color",
          "Color",
          "Color",
          "Color",
          "Color",
          "Color",
          "Color",
          "Color",
          "Color",
          "Color",
          "Color",
          "Color",
          "Color",
          "Color",
          "Color",
          "Color",
          "Color",
          "Color",
          "Color",
          "Color",
          "Color",
          "Color",
          "Color",
          "Color",
          "Color",
          "Color",
          "Color",
          "Color",
          "Color",
          "Color",
          "Color",
          "Color",
          "Color",
          "Color",
          "Color",
          "Color",
          "Color",
          "Color",
          "Color",
          "Color",
          "Color",
          "Color",
          "Color",
          "Color",
          "Color",
          "Color",
          "Color",
          "Color",
          "Color",
          "Color",
          "Color",
          "Color",
          "Color",
          "Color"
         ],
         "x0": " ",
         "xaxis": "x",
         "y": [
          0,
          286.8,
          0,
          212.74,
          177,
          0,
          93.28,
          1495.7,
          2264.81,
          1520.54,
          1266.15,
          678.23,
          1356.08,
          772.32,
          547.66,
          797.31,
          1104.38,
          296.94,
          549.37,
          259.94,
          278.02,
          0,
          225.93,
          0,
          1952.73,
          1334.41,
          1058.68,
          775.4,
          1073.84,
          215.88,
          244.72,
          273.34,
          709.71,
          522.66,
          603.87,
          0,
          482.35,
          1405.02,
          0,
          149.69,
          206.07,
          137.05,
          170.52,
          808.31,
          623.93,
          1698.86,
          1029.27,
          1066.18,
          408.25,
          0,
          449.22,
          0,
          315.16,
          0,
          0,
          0,
          248.64,
          216.76,
          157.11,
          138.03,
          0,
          7.97,
          0,
          0,
          0,
          0,
          0,
          1067.32,
          859.08,
          735.1,
          579.77,
          955.78
         ],
         "y0": " ",
         "yaxis": "y"
        },
        {
         "alignmentgroup": "True",
         "boxpoints": "all",
         "hovertemplate": "Country=%{x}<br>Revenue (Million $)=%{y}<extra></extra>",
         "legendgroup": "United Kingdom",
         "marker": {
          "color": "#ab63fa"
         },
         "name": "United Kingdom",
         "notched": false,
         "offsetgroup": "United Kingdom",
         "orientation": "v",
         "showlegend": true,
         "type": "box",
         "x": [
          "United Kingdom",
          "United Kingdom",
          "United Kingdom",
          "United Kingdom",
          "United Kingdom",
          "United Kingdom",
          "United Kingdom",
          "United Kingdom",
          "United Kingdom",
          "United Kingdom",
          "United Kingdom",
          "United Kingdom",
          "United Kingdom",
          "United Kingdom"
         ],
         "x0": " ",
         "xaxis": "x",
         "y": [
          1447.04,
          967.72,
          1009.06,
          1114.98,
          1342.5,
          2071.31,
          1077.02,
          1046.52,
          274.7,
          465.52,
          1662.02,
          130.83,
          0,
          1338.07
         ],
         "y0": " ",
         "yaxis": "y"
        },
        {
         "alignmentgroup": "True",
         "boxpoints": "all",
         "hovertemplate": "Country=%{x}<br>Revenue (Million $)=%{y}<extra></extra>",
         "legendgroup": "Jordan",
         "marker": {
          "color": "#FFA15A"
         },
         "name": "Jordan",
         "notched": false,
         "offsetgroup": "Jordan",
         "orientation": "v",
         "showlegend": true,
         "type": "box",
         "x": [
          "Jordan"
         ],
         "x0": " ",
         "xaxis": "x",
         "y": [
          836.3
         ],
         "y0": " ",
         "yaxis": "y"
        },
        {
         "alignmentgroup": "True",
         "boxpoints": "all",
         "hovertemplate": "Country=%{x}<br>Revenue (Million $)=%{y}<extra></extra>",
         "legendgroup": "Hong Kong",
         "marker": {
          "color": "#19d3f3"
         },
         "name": "Hong Kong",
         "notched": false,
         "offsetgroup": "Hong Kong",
         "orientation": "v",
         "showlegend": true,
         "type": "box",
         "x": [
          "Hong Kong",
          "Hong Kong"
         ],
         "x0": " ",
         "xaxis": "x",
         "y": [
          1123.79,
          0
         ],
         "y0": " ",
         "yaxis": "y"
        },
        {
         "alignmentgroup": "True",
         "boxpoints": "all",
         "hovertemplate": "Country=%{x}<br>Revenue (Million $)=%{y}<extra></extra>",
         "legendgroup": "Dolby Atmos",
         "marker": {
          "color": "#FF6692"
         },
         "name": "Dolby Atmos",
         "notched": false,
         "offsetgroup": "Dolby Atmos",
         "orientation": "v",
         "showlegend": true,
         "type": "box",
         "x": [
          "Dolby Atmos",
          "Dolby Atmos",
          "Dolby Atmos"
         ],
         "x0": " ",
         "xaxis": "x",
         "y": [
          880.96,
          2799.44,
          1349.93
         ],
         "y0": " ",
         "yaxis": "y"
        },
        {
         "alignmentgroup": "True",
         "boxpoints": "all",
         "hovertemplate": "Country=%{x}<br>Revenue (Million $)=%{y}<extra></extra>",
         "legendgroup": "China",
         "marker": {
          "color": "#B6E880"
         },
         "name": "China",
         "notched": false,
         "offsetgroup": "China",
         "orientation": "v",
         "showlegend": true,
         "type": "box",
         "x": [
          "China",
          "China",
          "China",
          "China"
         ],
         "x0": " ",
         "xaxis": "x",
         "y": [
          823.97,
          1310.47,
          1001.98,
          568.65
         ],
         "y0": " ",
         "yaxis": "y"
        },
        {
         "alignmentgroup": "True",
         "boxpoints": "all",
         "hovertemplate": "Country=%{x}<br>Revenue (Million $)=%{y}<extra></extra>",
         "legendgroup": "Canada",
         "marker": {
          "color": "#FF97FF"
         },
         "name": "Canada",
         "notched": false,
         "offsetgroup": "Canada",
         "orientation": "v",
         "showlegend": true,
         "type": "box",
         "x": [
          "Canada",
          "Canada",
          "Canada",
          "Canada",
          "Canada",
          "Canada"
         ],
         "x0": " ",
         "xaxis": "x",
         "y": [
          1078.96,
          1671.54,
          704.24,
          473.12,
          585.8,
          1053.58
         ],
         "y0": " ",
         "yaxis": "y"
        },
        {
         "alignmentgroup": "True",
         "boxpoints": "all",
         "hovertemplate": "Country=%{x}<br>Revenue (Million $)=%{y}<extra></extra>",
         "legendgroup": "Japan",
         "marker": {
          "color": "#FECB52"
         },
         "name": "Japan",
         "notched": false,
         "offsetgroup": "Japan",
         "orientation": "v",
         "showlegend": true,
         "type": "box",
         "x": [
          "Japan",
          "Japan",
          "Japan",
          "Japan",
          "Japan",
          "Japan",
          "Japan",
          "Japan",
          "Japan",
          "Japan",
          "Japan",
          "Japan",
          "Japan",
          "Japan"
         ],
         "x0": " ",
         "xaxis": "x",
         "y": [
          1360.85,
          728.26,
          524.98,
          450.06,
          0,
          149.69,
          206.07,
          358.67,
          240.9,
          137.05,
          170.52,
          1243.23,
          1453.68,
          941.64
         ],
         "y0": " ",
         "yaxis": "y"
        },
        {
         "alignmentgroup": "True",
         "boxpoints": "all",
         "hovertemplate": "Country=%{x}<br>Revenue (Million $)=%{y}<extra></extra>",
         "legendgroup": "DTS",
         "marker": {
          "color": "#636efa"
         },
         "name": "DTS",
         "notched": false,
         "offsetgroup": "DTS",
         "orientation": "v",
         "showlegend": true,
         "type": "box",
         "x": [
          "DTS"
         ],
         "x0": " ",
         "xaxis": "x",
         "y": [
          932.53
         ],
         "y0": " ",
         "yaxis": "y"
        },
        {
         "alignmentgroup": "True",
         "boxpoints": "all",
         "hovertemplate": "Country=%{x}<br>Revenue (Million $)=%{y}<extra></extra>",
         "legendgroup": "France",
         "marker": {
          "color": "#EF553B"
         },
         "name": "France",
         "notched": false,
         "offsetgroup": "France",
         "orientation": "v",
         "showlegend": true,
         "type": "box",
         "x": [
          "France",
          "France",
          "France",
          "France",
          "France",
          "France",
          "France",
          "France",
          "France",
          "France",
          "France"
         ],
         "x0": " ",
         "xaxis": "x",
         "y": [
          940.48,
          875.7,
          0,
          0,
          0,
          0,
          0,
          0,
          0,
          14.78,
          494.88
         ],
         "y0": " ",
         "yaxis": "y"
        },
        {
         "alignmentgroup": "True",
         "boxpoints": "all",
         "hovertemplate": "Country=%{x}<br>Revenue (Million $)=%{y}<extra></extra>",
         "legendgroup": "New Zealand",
         "marker": {
          "color": "#00cc96"
         },
         "name": "New Zealand",
         "notched": false,
         "offsetgroup": "New Zealand",
         "orientation": "v",
         "showlegend": true,
         "type": "box",
         "x": [
          "New Zealand",
          "New Zealand",
          "New Zealand",
          "New Zealand",
          "New Zealand",
          "New Zealand",
          "New Zealand"
         ],
         "x0": " ",
         "xaxis": "x",
         "y": [
          1138.27,
          938.24,
          888.17,
          1017.11,
          959.08,
          962.25,
          454.63
         ],
         "y0": " ",
         "yaxis": "y"
        },
        {
         "alignmentgroup": "True",
         "boxpoints": "all",
         "hovertemplate": "Country=%{x}<br>Revenue (Million $)=%{y}<extra></extra>",
         "legendgroup": "Germany",
         "marker": {
          "color": "#ab63fa"
         },
         "name": "Germany",
         "notched": false,
         "offsetgroup": "Germany",
         "orientation": "v",
         "showlegend": true,
         "type": "box",
         "x": [
          "Germany",
          "Germany",
          "Germany"
         ],
         "x0": " ",
         "xaxis": "x",
         "y": [
          306.78,
          213.72,
          314.98
         ],
         "y0": " ",
         "yaxis": "y"
        },
        {
         "alignmentgroup": "True",
         "boxpoints": "all",
         "hovertemplate": "Country=%{x}<br>Revenue (Million $)=%{y}<extra></extra>",
         "legendgroup": "Italy",
         "marker": {
          "color": "#FFA15A"
         },
         "name": "Italy",
         "notched": false,
         "offsetgroup": "Italy",
         "orientation": "v",
         "showlegend": true,
         "type": "box",
         "x": [
          "Italy",
          "Italy",
          "Italy",
          "Italy",
          "Italy",
          "Italy",
          "Italy",
          "Italy",
          "Italy",
          "Italy"
         ],
         "x0": " ",
         "xaxis": "x",
         "y": [
          0,
          0,
          0,
          0,
          0,
          0,
          0,
          0,
          0,
          850.04
         ],
         "y0": " ",
         "yaxis": "y"
        },
        {
         "alignmentgroup": "True",
         "boxpoints": "all",
         "hovertemplate": "Country=%{x}<br>Revenue (Million $)=%{y}<extra></extra>",
         "legendgroup": "Spain",
         "marker": {
          "color": "#19d3f3"
         },
         "name": "Spain",
         "notched": false,
         "offsetgroup": "Spain",
         "orientation": "v",
         "showlegend": true,
         "type": "box",
         "x": [
          "Spain",
          "Spain"
         ],
         "x0": " ",
         "xaxis": "x",
         "y": [
          0,
          0
         ],
         "y0": " ",
         "yaxis": "y"
        },
        {
         "alignmentgroup": "True",
         "boxpoints": "all",
         "hovertemplate": "Country=%{x}<br>Revenue (Million $)=%{y}<extra></extra>",
         "legendgroup": "Black and White",
         "marker": {
          "color": "#FF6692"
         },
         "name": "Black and White",
         "notched": false,
         "offsetgroup": "Black and White",
         "orientation": "v",
         "showlegend": true,
         "type": "box",
         "x": [
          "Black and White",
          "Black and White",
          "Black and White",
          "Black and White",
          "Black and White",
          "Black and White",
          "Black and White",
          "Black and White",
          "Black and White",
          "Black and White",
          "Black and White"
         ],
         "x0": " ",
         "xaxis": "x",
         "y": [
          0,
          0.46,
          0,
          0.06,
          0,
          0,
          0,
          0,
          0,
          0,
          0
         ],
         "y0": " ",
         "yaxis": "y"
        },
        {
         "alignmentgroup": "True",
         "boxpoints": "all",
         "hovertemplate": "Country=%{x}<br>Revenue (Million $)=%{y}<extra></extra>",
         "legendgroup": "Czech Republic",
         "marker": {
          "color": "#B6E880"
         },
         "name": "Czech Republic",
         "notched": false,
         "offsetgroup": "Czech Republic",
         "orientation": "v",
         "showlegend": true,
         "type": "box",
         "x": [
          "Czech Republic"
         ],
         "x0": " ",
         "xaxis": "x",
         "y": [
          1132.71
         ],
         "y0": " ",
         "yaxis": "y"
        },
        {
         "alignmentgroup": "True",
         "boxpoints": "all",
         "hovertemplate": "Country=%{x}<br>Revenue (Million $)=%{y}<extra></extra>",
         "legendgroup": "India",
         "marker": {
          "color": "#FF97FF"
         },
         "name": "India",
         "notched": false,
         "offsetgroup": "India",
         "orientation": "v",
         "showlegend": true,
         "type": "box",
         "x": [
          "India",
          "India",
          "India",
          "India"
         ],
         "x0": " ",
         "xaxis": "x",
         "y": [
          607.87,
          275.29,
          746.92,
          221.8
         ],
         "y0": " ",
         "yaxis": "y"
        },
        {
         "alignmentgroup": "True",
         "boxpoints": "all",
         "hovertemplate": "Country=%{x}<br>Revenue (Million $)=%{y}<extra></extra>",
         "legendgroup": "Dolby Digital",
         "marker": {
          "color": "#FECB52"
         },
         "name": "Dolby Digital",
         "notched": false,
         "offsetgroup": "Dolby Digital",
         "orientation": "v",
         "showlegend": true,
         "type": "box",
         "x": [
          "Dolby Digital"
         ],
         "x0": " ",
         "xaxis": "x",
         "y": [
          488.98
         ],
         "y0": " ",
         "yaxis": "y"
        },
        {
         "alignmentgroup": "True",
         "boxpoints": "all",
         "hovertemplate": "Country=%{x}<br>Revenue (Million $)=%{y}<extra></extra>",
         "legendgroup": "South Korea",
         "marker": {
          "color": "#636efa"
         },
         "name": "South Korea",
         "notched": false,
         "offsetgroup": "South Korea",
         "orientation": "v",
         "showlegend": true,
         "type": "box",
         "x": [
          "South Korea"
         ],
         "x0": " ",
         "xaxis": "x",
         "y": [
          44.46
         ],
         "y0": " ",
         "yaxis": "y"
        },
        {
         "alignmentgroup": "True",
         "boxpoints": "all",
         "hovertemplate": "Country=%{x}<br>Revenue (Million $)=%{y}<extra></extra>",
         "legendgroup": "Belgium",
         "marker": {
          "color": "#EF553B"
         },
         "name": "Belgium",
         "notched": false,
         "offsetgroup": "Belgium",
         "orientation": "v",
         "showlegend": true,
         "type": "box",
         "x": [
          "Belgium"
         ],
         "x0": " ",
         "xaxis": "x",
         "y": [
          14.78
         ],
         "y0": " ",
         "yaxis": "y"
        },
        {
         "alignmentgroup": "True",
         "boxpoints": "all",
         "hovertemplate": "Country=%{x}<br>Revenue (Million $)=%{y}<extra></extra>",
         "legendgroup": "Silent",
         "marker": {
          "color": "#00cc96"
         },
         "name": "Silent",
         "notched": false,
         "offsetgroup": "Silent",
         "orientation": "v",
         "showlegend": true,
         "type": "box",
         "x": [
          "Silent",
          "Silent"
         ],
         "x0": " ",
         "xaxis": "x",
         "y": [
          0,
          0
         ],
         "y0": " ",
         "yaxis": "y"
        },
        {
         "alignmentgroup": "True",
         "boxpoints": "all",
         "hovertemplate": "Country=%{x}<br>Revenue (Million $)=%{y}<extra></extra>",
         "legendgroup": "Bulgaria",
         "marker": {
          "color": "#ab63fa"
         },
         "name": "Bulgaria",
         "notched": false,
         "offsetgroup": "Bulgaria",
         "orientation": "v",
         "showlegend": true,
         "type": "box",
         "x": [
          "Bulgaria"
         ],
         "x0": " ",
         "xaxis": "x",
         "y": [
          274.47
         ],
         "y0": " ",
         "yaxis": "y"
        },
        {
         "alignmentgroup": "True",
         "boxpoints": "all",
         "hovertemplate": "Country=%{x}<br>Revenue (Million $)=%{y}<extra></extra>",
         "legendgroup": "Switzerland",
         "marker": {
          "color": "#FFA15A"
         },
         "name": "Switzerland",
         "notched": false,
         "offsetgroup": "Switzerland",
         "orientation": "v",
         "showlegend": true,
         "type": "box",
         "x": [
          "Switzerland"
         ],
         "x0": " ",
         "xaxis": "x",
         "y": [
          130.83
         ],
         "y0": " ",
         "yaxis": "y"
        },
        {
         "alignmentgroup": "True",
         "boxpoints": "all",
         "hovertemplate": "Country=%{x}<br>Revenue (Million $)=%{y}<extra></extra>",
         "legendgroup": "Norway",
         "marker": {
          "color": "#19d3f3"
         },
         "name": "Norway",
         "notched": false,
         "offsetgroup": "Norway",
         "orientation": "v",
         "showlegend": true,
         "type": "box",
         "x": [
          "Norway"
         ],
         "x0": " ",
         "xaxis": "x",
         "y": [
          2052.42
         ],
         "y0": " ",
         "yaxis": "y"
        },
        {
         "alignmentgroup": "True",
         "boxpoints": "all",
         "hovertemplate": "Country=%{x}<br>Revenue (Million $)=%{y}<extra></extra>",
         "legendgroup": "IMAX 6-Track",
         "marker": {
          "color": "#FF6692"
         },
         "name": "IMAX 6-Track",
         "notched": false,
         "offsetgroup": "IMAX 6-Track",
         "orientation": "v",
         "showlegend": true,
         "type": "box",
         "x": [
          "IMAX 6-Track"
         ],
         "x0": " ",
         "xaxis": "x",
         "y": [
          859.21
         ],
         "y0": " ",
         "yaxis": "y"
        }
       ],
       "layout": {
        "boxmode": "overlay",
        "height": 700,
        "legend": {
         "title": {
          "text": "Country"
         },
         "tracegroupgap": 0
        },
        "template": {
         "data": {
          "bar": [
           {
            "error_x": {
             "color": "#2a3f5f"
            },
            "error_y": {
             "color": "#2a3f5f"
            },
            "marker": {
             "line": {
              "color": "#E5ECF6",
              "width": 0.5
             },
             "pattern": {
              "fillmode": "overlay",
              "size": 10,
              "solidity": 0.2
             }
            },
            "type": "bar"
           }
          ],
          "barpolar": [
           {
            "marker": {
             "line": {
              "color": "#E5ECF6",
              "width": 0.5
             },
             "pattern": {
              "fillmode": "overlay",
              "size": 10,
              "solidity": 0.2
             }
            },
            "type": "barpolar"
           }
          ],
          "carpet": [
           {
            "aaxis": {
             "endlinecolor": "#2a3f5f",
             "gridcolor": "white",
             "linecolor": "white",
             "minorgridcolor": "white",
             "startlinecolor": "#2a3f5f"
            },
            "baxis": {
             "endlinecolor": "#2a3f5f",
             "gridcolor": "white",
             "linecolor": "white",
             "minorgridcolor": "white",
             "startlinecolor": "#2a3f5f"
            },
            "type": "carpet"
           }
          ],
          "choropleth": [
           {
            "colorbar": {
             "outlinewidth": 0,
             "ticks": ""
            },
            "type": "choropleth"
           }
          ],
          "contour": [
           {
            "colorbar": {
             "outlinewidth": 0,
             "ticks": ""
            },
            "colorscale": [
             [
              0,
              "#0d0887"
             ],
             [
              0.1111111111111111,
              "#46039f"
             ],
             [
              0.2222222222222222,
              "#7201a8"
             ],
             [
              0.3333333333333333,
              "#9c179e"
             ],
             [
              0.4444444444444444,
              "#bd3786"
             ],
             [
              0.5555555555555556,
              "#d8576b"
             ],
             [
              0.6666666666666666,
              "#ed7953"
             ],
             [
              0.7777777777777778,
              "#fb9f3a"
             ],
             [
              0.8888888888888888,
              "#fdca26"
             ],
             [
              1,
              "#f0f921"
             ]
            ],
            "type": "contour"
           }
          ],
          "contourcarpet": [
           {
            "colorbar": {
             "outlinewidth": 0,
             "ticks": ""
            },
            "type": "contourcarpet"
           }
          ],
          "heatmap": [
           {
            "colorbar": {
             "outlinewidth": 0,
             "ticks": ""
            },
            "colorscale": [
             [
              0,
              "#0d0887"
             ],
             [
              0.1111111111111111,
              "#46039f"
             ],
             [
              0.2222222222222222,
              "#7201a8"
             ],
             [
              0.3333333333333333,
              "#9c179e"
             ],
             [
              0.4444444444444444,
              "#bd3786"
             ],
             [
              0.5555555555555556,
              "#d8576b"
             ],
             [
              0.6666666666666666,
              "#ed7953"
             ],
             [
              0.7777777777777778,
              "#fb9f3a"
             ],
             [
              0.8888888888888888,
              "#fdca26"
             ],
             [
              1,
              "#f0f921"
             ]
            ],
            "type": "heatmap"
           }
          ],
          "heatmapgl": [
           {
            "colorbar": {
             "outlinewidth": 0,
             "ticks": ""
            },
            "colorscale": [
             [
              0,
              "#0d0887"
             ],
             [
              0.1111111111111111,
              "#46039f"
             ],
             [
              0.2222222222222222,
              "#7201a8"
             ],
             [
              0.3333333333333333,
              "#9c179e"
             ],
             [
              0.4444444444444444,
              "#bd3786"
             ],
             [
              0.5555555555555556,
              "#d8576b"
             ],
             [
              0.6666666666666666,
              "#ed7953"
             ],
             [
              0.7777777777777778,
              "#fb9f3a"
             ],
             [
              0.8888888888888888,
              "#fdca26"
             ],
             [
              1,
              "#f0f921"
             ]
            ],
            "type": "heatmapgl"
           }
          ],
          "histogram": [
           {
            "marker": {
             "pattern": {
              "fillmode": "overlay",
              "size": 10,
              "solidity": 0.2
             }
            },
            "type": "histogram"
           }
          ],
          "histogram2d": [
           {
            "colorbar": {
             "outlinewidth": 0,
             "ticks": ""
            },
            "colorscale": [
             [
              0,
              "#0d0887"
             ],
             [
              0.1111111111111111,
              "#46039f"
             ],
             [
              0.2222222222222222,
              "#7201a8"
             ],
             [
              0.3333333333333333,
              "#9c179e"
             ],
             [
              0.4444444444444444,
              "#bd3786"
             ],
             [
              0.5555555555555556,
              "#d8576b"
             ],
             [
              0.6666666666666666,
              "#ed7953"
             ],
             [
              0.7777777777777778,
              "#fb9f3a"
             ],
             [
              0.8888888888888888,
              "#fdca26"
             ],
             [
              1,
              "#f0f921"
             ]
            ],
            "type": "histogram2d"
           }
          ],
          "histogram2dcontour": [
           {
            "colorbar": {
             "outlinewidth": 0,
             "ticks": ""
            },
            "colorscale": [
             [
              0,
              "#0d0887"
             ],
             [
              0.1111111111111111,
              "#46039f"
             ],
             [
              0.2222222222222222,
              "#7201a8"
             ],
             [
              0.3333333333333333,
              "#9c179e"
             ],
             [
              0.4444444444444444,
              "#bd3786"
             ],
             [
              0.5555555555555556,
              "#d8576b"
             ],
             [
              0.6666666666666666,
              "#ed7953"
             ],
             [
              0.7777777777777778,
              "#fb9f3a"
             ],
             [
              0.8888888888888888,
              "#fdca26"
             ],
             [
              1,
              "#f0f921"
             ]
            ],
            "type": "histogram2dcontour"
           }
          ],
          "mesh3d": [
           {
            "colorbar": {
             "outlinewidth": 0,
             "ticks": ""
            },
            "type": "mesh3d"
           }
          ],
          "parcoords": [
           {
            "line": {
             "colorbar": {
              "outlinewidth": 0,
              "ticks": ""
             }
            },
            "type": "parcoords"
           }
          ],
          "pie": [
           {
            "automargin": true,
            "type": "pie"
           }
          ],
          "scatter": [
           {
            "fillpattern": {
             "fillmode": "overlay",
             "size": 10,
             "solidity": 0.2
            },
            "type": "scatter"
           }
          ],
          "scatter3d": [
           {
            "line": {
             "colorbar": {
              "outlinewidth": 0,
              "ticks": ""
             }
            },
            "marker": {
             "colorbar": {
              "outlinewidth": 0,
              "ticks": ""
             }
            },
            "type": "scatter3d"
           }
          ],
          "scattercarpet": [
           {
            "marker": {
             "colorbar": {
              "outlinewidth": 0,
              "ticks": ""
             }
            },
            "type": "scattercarpet"
           }
          ],
          "scattergeo": [
           {
            "marker": {
             "colorbar": {
              "outlinewidth": 0,
              "ticks": ""
             }
            },
            "type": "scattergeo"
           }
          ],
          "scattergl": [
           {
            "marker": {
             "colorbar": {
              "outlinewidth": 0,
              "ticks": ""
             }
            },
            "type": "scattergl"
           }
          ],
          "scattermapbox": [
           {
            "marker": {
             "colorbar": {
              "outlinewidth": 0,
              "ticks": ""
             }
            },
            "type": "scattermapbox"
           }
          ],
          "scatterpolar": [
           {
            "marker": {
             "colorbar": {
              "outlinewidth": 0,
              "ticks": ""
             }
            },
            "type": "scatterpolar"
           }
          ],
          "scatterpolargl": [
           {
            "marker": {
             "colorbar": {
              "outlinewidth": 0,
              "ticks": ""
             }
            },
            "type": "scatterpolargl"
           }
          ],
          "scatterternary": [
           {
            "marker": {
             "colorbar": {
              "outlinewidth": 0,
              "ticks": ""
             }
            },
            "type": "scatterternary"
           }
          ],
          "surface": [
           {
            "colorbar": {
             "outlinewidth": 0,
             "ticks": ""
            },
            "colorscale": [
             [
              0,
              "#0d0887"
             ],
             [
              0.1111111111111111,
              "#46039f"
             ],
             [
              0.2222222222222222,
              "#7201a8"
             ],
             [
              0.3333333333333333,
              "#9c179e"
             ],
             [
              0.4444444444444444,
              "#bd3786"
             ],
             [
              0.5555555555555556,
              "#d8576b"
             ],
             [
              0.6666666666666666,
              "#ed7953"
             ],
             [
              0.7777777777777778,
              "#fb9f3a"
             ],
             [
              0.8888888888888888,
              "#fdca26"
             ],
             [
              1,
              "#f0f921"
             ]
            ],
            "type": "surface"
           }
          ],
          "table": [
           {
            "cells": {
             "fill": {
              "color": "#EBF0F8"
             },
             "line": {
              "color": "white"
             }
            },
            "header": {
             "fill": {
              "color": "#C8D4E3"
             },
             "line": {
              "color": "white"
             }
            },
            "type": "table"
           }
          ]
         },
         "layout": {
          "annotationdefaults": {
           "arrowcolor": "#2a3f5f",
           "arrowhead": 0,
           "arrowwidth": 1
          },
          "autotypenumbers": "strict",
          "coloraxis": {
           "colorbar": {
            "outlinewidth": 0,
            "ticks": ""
           }
          },
          "colorscale": {
           "diverging": [
            [
             0,
             "#8e0152"
            ],
            [
             0.1,
             "#c51b7d"
            ],
            [
             0.2,
             "#de77ae"
            ],
            [
             0.3,
             "#f1b6da"
            ],
            [
             0.4,
             "#fde0ef"
            ],
            [
             0.5,
             "#f7f7f7"
            ],
            [
             0.6,
             "#e6f5d0"
            ],
            [
             0.7,
             "#b8e186"
            ],
            [
             0.8,
             "#7fbc41"
            ],
            [
             0.9,
             "#4d9221"
            ],
            [
             1,
             "#276419"
            ]
           ],
           "sequential": [
            [
             0,
             "#0d0887"
            ],
            [
             0.1111111111111111,
             "#46039f"
            ],
            [
             0.2222222222222222,
             "#7201a8"
            ],
            [
             0.3333333333333333,
             "#9c179e"
            ],
            [
             0.4444444444444444,
             "#bd3786"
            ],
            [
             0.5555555555555556,
             "#d8576b"
            ],
            [
             0.6666666666666666,
             "#ed7953"
            ],
            [
             0.7777777777777778,
             "#fb9f3a"
            ],
            [
             0.8888888888888888,
             "#fdca26"
            ],
            [
             1,
             "#f0f921"
            ]
           ],
           "sequentialminus": [
            [
             0,
             "#0d0887"
            ],
            [
             0.1111111111111111,
             "#46039f"
            ],
            [
             0.2222222222222222,
             "#7201a8"
            ],
            [
             0.3333333333333333,
             "#9c179e"
            ],
            [
             0.4444444444444444,
             "#bd3786"
            ],
            [
             0.5555555555555556,
             "#d8576b"
            ],
            [
             0.6666666666666666,
             "#ed7953"
            ],
            [
             0.7777777777777778,
             "#fb9f3a"
            ],
            [
             0.8888888888888888,
             "#fdca26"
            ],
            [
             1,
             "#f0f921"
            ]
           ]
          },
          "colorway": [
           "#636efa",
           "#EF553B",
           "#00cc96",
           "#ab63fa",
           "#FFA15A",
           "#19d3f3",
           "#FF6692",
           "#B6E880",
           "#FF97FF",
           "#FECB52"
          ],
          "font": {
           "color": "#2a3f5f"
          },
          "geo": {
           "bgcolor": "white",
           "lakecolor": "white",
           "landcolor": "#E5ECF6",
           "showlakes": true,
           "showland": true,
           "subunitcolor": "white"
          },
          "hoverlabel": {
           "align": "left"
          },
          "hovermode": "closest",
          "mapbox": {
           "style": "light"
          },
          "paper_bgcolor": "white",
          "plot_bgcolor": "#E5ECF6",
          "polar": {
           "angularaxis": {
            "gridcolor": "white",
            "linecolor": "white",
            "ticks": ""
           },
           "bgcolor": "#E5ECF6",
           "radialaxis": {
            "gridcolor": "white",
            "linecolor": "white",
            "ticks": ""
           }
          },
          "scene": {
           "xaxis": {
            "backgroundcolor": "#E5ECF6",
            "gridcolor": "white",
            "gridwidth": 2,
            "linecolor": "white",
            "showbackground": true,
            "ticks": "",
            "zerolinecolor": "white"
           },
           "yaxis": {
            "backgroundcolor": "#E5ECF6",
            "gridcolor": "white",
            "gridwidth": 2,
            "linecolor": "white",
            "showbackground": true,
            "ticks": "",
            "zerolinecolor": "white"
           },
           "zaxis": {
            "backgroundcolor": "#E5ECF6",
            "gridcolor": "white",
            "gridwidth": 2,
            "linecolor": "white",
            "showbackground": true,
            "ticks": "",
            "zerolinecolor": "white"
           }
          },
          "shapedefaults": {
           "line": {
            "color": "#2a3f5f"
           }
          },
          "ternary": {
           "aaxis": {
            "gridcolor": "white",
            "linecolor": "white",
            "ticks": ""
           },
           "baxis": {
            "gridcolor": "white",
            "linecolor": "white",
            "ticks": ""
           },
           "bgcolor": "#E5ECF6",
           "caxis": {
            "gridcolor": "white",
            "linecolor": "white",
            "ticks": ""
           }
          },
          "title": {
           "x": 0.05
          },
          "xaxis": {
           "automargin": true,
           "gridcolor": "white",
           "linecolor": "white",
           "ticks": "",
           "title": {
            "standoff": 15
           },
           "zerolinecolor": "white",
           "zerolinewidth": 2
          },
          "yaxis": {
           "automargin": true,
           "gridcolor": "white",
           "linecolor": "white",
           "ticks": "",
           "title": {
            "standoff": 15
           },
           "zerolinecolor": "white",
           "zerolinewidth": 2
          }
         }
        },
        "title": {
         "text": "Country-wise Movie Revenue Distribution"
        },
        "width": 1200,
        "xaxis": {
         "anchor": "y",
         "categoryarray": [
          "United States",
          "Australia",
          "Color",
          "United Kingdom",
          "Jordan",
          "Hong Kong",
          "Dolby Atmos",
          "China",
          "Canada",
          "Japan",
          "DTS",
          "France",
          "New Zealand",
          "Germany",
          "Italy",
          "Spain",
          "Black and White",
          "Czech Republic",
          "India",
          "Dolby Digital",
          "South Korea",
          "Belgium",
          "Silent",
          "Bulgaria",
          "Switzerland",
          "Norway",
          "IMAX 6-Track"
         ],
         "categoryorder": "array",
         "domain": [
          0,
          1
         ],
         "title": {
          "text": "Country"
         }
        },
        "yaxis": {
         "anchor": "x",
         "domain": [
          0,
          1
         ],
         "title": {
          "text": "Revenue (Million $)"
         }
        }
       }
      }
     },
     "metadata": {},
     "output_type": "display_data"
    }
   ],
   "source": [
    "df_countries = pd.read_sql(\"SELECT c.countries, m.gross_in_million FROM countries c JOIN imdb_movies m ON c.movie_id = m.movie_id\", conn)\n",
    "fig_country = px.box(df_countries, \n",
    "                     x=\"countries\", \n",
    "                     y=\"gross_in_million\",\n",
    "                     color=\"countries\",  \n",
    "                     title=\"Country-wise Movie Revenue Distribution\",\n",
    "                     labels={\"gross_in_million\": \"Revenue (Million $)\", \"countries\": \"Country\"},\n",
    "                     points=\"all\",\n",
    "                    height=700,\n",
    "                     width=1200) \n",
    "\n",
    "fig_country.show()"
   ]
  },
  {
   "cell_type": "markdown",
   "metadata": {},
   "source": [
    "# 🎬 **Movie Ratings by Language 🌎**  "
   ]
  },
  {
   "cell_type": "code",
   "execution_count": 18,
   "metadata": {},
   "outputs": [
    {
     "data": {
      "application/vnd.plotly.v1+json": {
       "config": {
        "plotlyServerURL": "https://plot.ly"
       },
       "data": [
        {
         "alignmentgroup": "True",
         "box": {
          "visible": true
         },
         "hovertemplate": "Language=%{x}<br>IMDb Rating=%{y}<extra></extra>",
         "legendgroup": "",
         "marker": {
          "color": "#636efa"
         },
         "name": "",
         "offsetgroup": "",
         "orientation": "v",
         "points": "all",
         "scalegroup": "True",
         "showlegend": false,
         "type": "violin",
         "x": [
          "English",
          "None",
          "English",
          "French",
          "None",
          "English",
          "Russian",
          "Hawaiian",
          "English",
          "None",
          "English",
          "English",
          "English",
          "English",
          "English",
          "Swedish",
          "Italian",
          "French",
          "English",
          "Spanish",
          "English",
          "Russian",
          "English",
          "English",
          "Spanish",
          "English",
          "English",
          "Russian",
          "English",
          "Spanish",
          "English",
          "English",
          "Mandarin",
          "English",
          "English",
          "Arabic",
          "English",
          "German",
          "Dutch",
          "Flemish",
          "French",
          "Spanish",
          "Chinese",
          "Greek, Ancient (to 1453)",
          "North American Indian",
          "English",
          "Latin",
          "English",
          "Spanish",
          "Latin",
          "Italian",
          "English",
          "Arabic",
          "English",
          "German",
          "English",
          "English",
          "English",
          "English",
          "English",
          "English",
          "Russian",
          "English",
          "Spanish",
          "English",
          "Maltese",
          "French",
          "English",
          "Vietnamese",
          "English",
          "English",
          "Quenya",
          "Old English",
          "Sindarin",
          "English",
          "Sindarin",
          "Old English",
          "English",
          "Hebrew",
          "English",
          "Sindarin",
          "English",
          "English",
          "English",
          "None",
          "English",
          "Japanese",
          "German",
          "French",
          "English",
          "North American Indian",
          "Spanish",
          "English",
          "Japanese",
          "Ukrainian",
          "English",
          "Hungarian",
          "English",
          "English",
          "None",
          "English",
          "None",
          "None",
          "None",
          "None",
          "None",
          "None",
          "None",
          "None",
          "Italian",
          "English",
          "Latin",
          "Gaelic",
          "None",
          "None",
          "English",
          "English",
          "Tagalog",
          "English",
          "English",
          "English",
          "English",
          "Sanskrit",
          "English",
          "English",
          "English",
          "Italian",
          "Czech",
          "English",
          "English",
          "Japanese",
          "English",
          "English",
          "Vietnamese",
          "Japanese",
          "English",
          "English",
          "Japanese",
          "English",
          "Cantonese",
          "Mandarin",
          "Japanese",
          "Chinese",
          "English",
          "Spanish",
          "Russian",
          "English",
          "Japanese",
          "English",
          "Central Khmer",
          "Russian",
          "Italian",
          "English",
          "Spanish",
          "English",
          "Spanish",
          "Hebrew",
          "English",
          "English",
          "None",
          "English",
          "French",
          "German",
          "Czech",
          "English",
          "English",
          "English",
          "Korean",
          "Japanese",
          "English",
          "Japanese",
          "Japanese",
          "English",
          "Japanese",
          "English",
          "Japanese",
          "French",
          "Portuguese",
          "Japanese",
          "German",
          "Italian",
          "French",
          "Japanese",
          "English",
          "English",
          "Persian",
          "Urdu",
          "Arabic",
          "Kurdish",
          "Hindi",
          "Hungarian",
          "English",
          "French",
          "Russian",
          "English",
          "English",
          "Spanish",
          "English",
          "French",
          "Spanish",
          "English",
          "English",
          "Spanish",
          "English",
          "Indonesian",
          "English",
          "English",
          "English",
          "Turkish",
          "Greek",
          "Mandarin",
          "French",
          "English",
          "Portuguese",
          "None",
          "English",
          "Japanese",
          "French",
          "Latin",
          "Chinese",
          "None",
          "English",
          "Russian",
          "English",
          "None",
          "None",
          "None",
          "English",
          "English",
          "French",
          "Latin",
          "None",
          "English",
          "English",
          "Esperanto",
          "Latin",
          "None",
          "English",
          "None",
          "English",
          "None",
          "English",
          "English",
          "English",
          "None",
          "English",
          "English",
          "English",
          "Japanese",
          "Spanish",
          "Danish",
          "English",
          "Spanish",
          "English",
          "Persian",
          "English",
          "Irish Gaelic",
          "German",
          "English",
          "English",
          "English",
          "Italian",
          "English",
          "Spanish",
          "None",
          "None",
          "English",
          "None",
          "None",
          "None",
          "None",
          "English",
          "German",
          "Swedish",
          "Norwegian",
          "Danish",
          "French",
          "None",
          "English",
          "Spanish",
          "French",
          "Russian",
          "English",
          "Spanish",
          "English",
          "Japanese",
          "Russian",
          "English",
          "Portuguese",
          "Latvian",
          "English",
          "English",
          "English",
          "Japanese",
          "Xhosa",
          "German",
          "English",
          "Swahili",
          "Nama",
          "Xhosa",
          "Korean",
          "English",
          "English",
          "French",
          "Spanish",
          "English",
          "Xhosa",
          "Maya",
          "Spanish",
          "Haitian",
          "French",
          "English",
          "English",
          "Spanish",
          "Chinese"
         ],
         "x0": " ",
         "xaxis": "x",
         "y": [
          6.6,
          7.7,
          8.6,
          8.6,
          6.8,
          6.3,
          6.3,
          6.3,
          7.2,
          7.4,
          6.2,
          7.7,
          4.5,
          8.2,
          7.9,
          7.9,
          7.9,
          7.9,
          6.8,
          6.8,
          8,
          8,
          7.1,
          6,
          6,
          7.3,
          6.2,
          6.2,
          7.4,
          7.4,
          8.8,
          9,
          9,
          7.1,
          8.4,
          8.4,
          7.3,
          7.3,
          7.3,
          7.3,
          7.3,
          7.3,
          7.3,
          7.3,
          7.3,
          8.1,
          8.1,
          7.8,
          7.8,
          7.8,
          7.8,
          7.3,
          7.3,
          8.3,
          8.3,
          6.9,
          7,
          7.6,
          7.4,
          7.9,
          6.1,
          6.1,
          8.2,
          8.2,
          5.6,
          5.6,
          5.6,
          6.5,
          6.5,
          6.5,
          9,
          9,
          9,
          9,
          8.8,
          8.8,
          8.8,
          7.3,
          7.3,
          8.9,
          8.9,
          7.8,
          7.8,
          7.4,
          6.7,
          6.2,
          6.2,
          6.2,
          6.2,
          6.5,
          6.5,
          6.5,
          6.9,
          6.9,
          6.9,
          7.2,
          7.2,
          6.5,
          6.3,
          5.8,
          8.3,
          7.5,
          6.8,
          8.8,
          8.2,
          6.8,
          7.2,
          7.5,
          5.8,
          6.3,
          6.3,
          6.3,
          6.3,
          7.6,
          6.7,
          7.8,
          8.2,
          8.2,
          6.9,
          7.8,
          6.4,
          6.5,
          6.5,
          8.6,
          7.6,
          7.4,
          7.4,
          7.4,
          7.6,
          6.4,
          6.4,
          6.1,
          6.7,
          6.7,
          6.7,
          7.3,
          6.5,
          6.5,
          7,
          7,
          7,
          7,
          7,
          6.6,
          6.6,
          6.6,
          7.4,
          7.4,
          5.8,
          5.8,
          5.8,
          5.8,
          7.1,
          7.1,
          6.3,
          6.3,
          6.3,
          7.9,
          6.5,
          7.8,
          8.6,
          8.6,
          8.6,
          8.6,
          8.5,
          7.3,
          7.3,
          7.3,
          7.4,
          6.5,
          7.6,
          7.6,
          7.6,
          8.6,
          8.6,
          8.2,
          7.7,
          7.7,
          7.8,
          7.8,
          7.8,
          7.8,
          8.3,
          6.1,
          7.9,
          7.9,
          7.9,
          7.9,
          7.9,
          7.9,
          7.9,
          6.9,
          6.9,
          6.9,
          8.1,
          6.8,
          6.8,
          7.5,
          7.5,
          7.5,
          7.5,
          6.8,
          6.8,
          7.2,
          7.2,
          6.8,
          6.8,
          7.4,
          7.4,
          7.4,
          7.4,
          7.4,
          6.8,
          6.8,
          6.7,
          6.2,
          6.2,
          6.2,
          6.2,
          6.2,
          7.1,
          6.5,
          6.5,
          8.1,
          5.9,
          6.1,
          6.8,
          8.5,
          7.8,
          7.8,
          7.8,
          8.5,
          8.5,
          8.4,
          8.4,
          8.4,
          8.1,
          8.1,
          8.2,
          8.2,
          8.1,
          8.1,
          8,
          6.9,
          7.4,
          7.4,
          6.5,
          7.8,
          7.8,
          7.8,
          7.8,
          6.4,
          6.4,
          7.5,
          7.5,
          8.1,
          8.1,
          8.1,
          6.8,
          6.6,
          7.4,
          7.4,
          7.7,
          7.7,
          8.5,
          8.5,
          8.3,
          8.5,
          7.6,
          7.1,
          7.4,
          6.6,
          6.6,
          6.6,
          6.6,
          6.6,
          6.6,
          7,
          6.2,
          6.2,
          6.2,
          6.2,
          8.3,
          8.3,
          8.2,
          8.2,
          8.2,
          8.1,
          8.1,
          8.1,
          8.3,
          8.1,
          8.4,
          8.4,
          8.4,
          8.4,
          7.3,
          7.3,
          7.3,
          7.3,
          7.3,
          8.4,
          7.6,
          7.6,
          7.6,
          6.6,
          6.6,
          6.6,
          6.6,
          6.6,
          6.6,
          6.8,
          6.9,
          6.9,
          6.9
         ],
         "y0": " ",
         "yaxis": "y"
        }
       ],
       "layout": {
        "height": 700,
        "legend": {
         "tracegroupgap": 0
        },
        "template": {
         "data": {
          "bar": [
           {
            "error_x": {
             "color": "#2a3f5f"
            },
            "error_y": {
             "color": "#2a3f5f"
            },
            "marker": {
             "line": {
              "color": "#E5ECF6",
              "width": 0.5
             },
             "pattern": {
              "fillmode": "overlay",
              "size": 10,
              "solidity": 0.2
             }
            },
            "type": "bar"
           }
          ],
          "barpolar": [
           {
            "marker": {
             "line": {
              "color": "#E5ECF6",
              "width": 0.5
             },
             "pattern": {
              "fillmode": "overlay",
              "size": 10,
              "solidity": 0.2
             }
            },
            "type": "barpolar"
           }
          ],
          "carpet": [
           {
            "aaxis": {
             "endlinecolor": "#2a3f5f",
             "gridcolor": "white",
             "linecolor": "white",
             "minorgridcolor": "white",
             "startlinecolor": "#2a3f5f"
            },
            "baxis": {
             "endlinecolor": "#2a3f5f",
             "gridcolor": "white",
             "linecolor": "white",
             "minorgridcolor": "white",
             "startlinecolor": "#2a3f5f"
            },
            "type": "carpet"
           }
          ],
          "choropleth": [
           {
            "colorbar": {
             "outlinewidth": 0,
             "ticks": ""
            },
            "type": "choropleth"
           }
          ],
          "contour": [
           {
            "colorbar": {
             "outlinewidth": 0,
             "ticks": ""
            },
            "colorscale": [
             [
              0,
              "#0d0887"
             ],
             [
              0.1111111111111111,
              "#46039f"
             ],
             [
              0.2222222222222222,
              "#7201a8"
             ],
             [
              0.3333333333333333,
              "#9c179e"
             ],
             [
              0.4444444444444444,
              "#bd3786"
             ],
             [
              0.5555555555555556,
              "#d8576b"
             ],
             [
              0.6666666666666666,
              "#ed7953"
             ],
             [
              0.7777777777777778,
              "#fb9f3a"
             ],
             [
              0.8888888888888888,
              "#fdca26"
             ],
             [
              1,
              "#f0f921"
             ]
            ],
            "type": "contour"
           }
          ],
          "contourcarpet": [
           {
            "colorbar": {
             "outlinewidth": 0,
             "ticks": ""
            },
            "type": "contourcarpet"
           }
          ],
          "heatmap": [
           {
            "colorbar": {
             "outlinewidth": 0,
             "ticks": ""
            },
            "colorscale": [
             [
              0,
              "#0d0887"
             ],
             [
              0.1111111111111111,
              "#46039f"
             ],
             [
              0.2222222222222222,
              "#7201a8"
             ],
             [
              0.3333333333333333,
              "#9c179e"
             ],
             [
              0.4444444444444444,
              "#bd3786"
             ],
             [
              0.5555555555555556,
              "#d8576b"
             ],
             [
              0.6666666666666666,
              "#ed7953"
             ],
             [
              0.7777777777777778,
              "#fb9f3a"
             ],
             [
              0.8888888888888888,
              "#fdca26"
             ],
             [
              1,
              "#f0f921"
             ]
            ],
            "type": "heatmap"
           }
          ],
          "heatmapgl": [
           {
            "colorbar": {
             "outlinewidth": 0,
             "ticks": ""
            },
            "colorscale": [
             [
              0,
              "#0d0887"
             ],
             [
              0.1111111111111111,
              "#46039f"
             ],
             [
              0.2222222222222222,
              "#7201a8"
             ],
             [
              0.3333333333333333,
              "#9c179e"
             ],
             [
              0.4444444444444444,
              "#bd3786"
             ],
             [
              0.5555555555555556,
              "#d8576b"
             ],
             [
              0.6666666666666666,
              "#ed7953"
             ],
             [
              0.7777777777777778,
              "#fb9f3a"
             ],
             [
              0.8888888888888888,
              "#fdca26"
             ],
             [
              1,
              "#f0f921"
             ]
            ],
            "type": "heatmapgl"
           }
          ],
          "histogram": [
           {
            "marker": {
             "pattern": {
              "fillmode": "overlay",
              "size": 10,
              "solidity": 0.2
             }
            },
            "type": "histogram"
           }
          ],
          "histogram2d": [
           {
            "colorbar": {
             "outlinewidth": 0,
             "ticks": ""
            },
            "colorscale": [
             [
              0,
              "#0d0887"
             ],
             [
              0.1111111111111111,
              "#46039f"
             ],
             [
              0.2222222222222222,
              "#7201a8"
             ],
             [
              0.3333333333333333,
              "#9c179e"
             ],
             [
              0.4444444444444444,
              "#bd3786"
             ],
             [
              0.5555555555555556,
              "#d8576b"
             ],
             [
              0.6666666666666666,
              "#ed7953"
             ],
             [
              0.7777777777777778,
              "#fb9f3a"
             ],
             [
              0.8888888888888888,
              "#fdca26"
             ],
             [
              1,
              "#f0f921"
             ]
            ],
            "type": "histogram2d"
           }
          ],
          "histogram2dcontour": [
           {
            "colorbar": {
             "outlinewidth": 0,
             "ticks": ""
            },
            "colorscale": [
             [
              0,
              "#0d0887"
             ],
             [
              0.1111111111111111,
              "#46039f"
             ],
             [
              0.2222222222222222,
              "#7201a8"
             ],
             [
              0.3333333333333333,
              "#9c179e"
             ],
             [
              0.4444444444444444,
              "#bd3786"
             ],
             [
              0.5555555555555556,
              "#d8576b"
             ],
             [
              0.6666666666666666,
              "#ed7953"
             ],
             [
              0.7777777777777778,
              "#fb9f3a"
             ],
             [
              0.8888888888888888,
              "#fdca26"
             ],
             [
              1,
              "#f0f921"
             ]
            ],
            "type": "histogram2dcontour"
           }
          ],
          "mesh3d": [
           {
            "colorbar": {
             "outlinewidth": 0,
             "ticks": ""
            },
            "type": "mesh3d"
           }
          ],
          "parcoords": [
           {
            "line": {
             "colorbar": {
              "outlinewidth": 0,
              "ticks": ""
             }
            },
            "type": "parcoords"
           }
          ],
          "pie": [
           {
            "automargin": true,
            "type": "pie"
           }
          ],
          "scatter": [
           {
            "fillpattern": {
             "fillmode": "overlay",
             "size": 10,
             "solidity": 0.2
            },
            "type": "scatter"
           }
          ],
          "scatter3d": [
           {
            "line": {
             "colorbar": {
              "outlinewidth": 0,
              "ticks": ""
             }
            },
            "marker": {
             "colorbar": {
              "outlinewidth": 0,
              "ticks": ""
             }
            },
            "type": "scatter3d"
           }
          ],
          "scattercarpet": [
           {
            "marker": {
             "colorbar": {
              "outlinewidth": 0,
              "ticks": ""
             }
            },
            "type": "scattercarpet"
           }
          ],
          "scattergeo": [
           {
            "marker": {
             "colorbar": {
              "outlinewidth": 0,
              "ticks": ""
             }
            },
            "type": "scattergeo"
           }
          ],
          "scattergl": [
           {
            "marker": {
             "colorbar": {
              "outlinewidth": 0,
              "ticks": ""
             }
            },
            "type": "scattergl"
           }
          ],
          "scattermapbox": [
           {
            "marker": {
             "colorbar": {
              "outlinewidth": 0,
              "ticks": ""
             }
            },
            "type": "scattermapbox"
           }
          ],
          "scatterpolar": [
           {
            "marker": {
             "colorbar": {
              "outlinewidth": 0,
              "ticks": ""
             }
            },
            "type": "scatterpolar"
           }
          ],
          "scatterpolargl": [
           {
            "marker": {
             "colorbar": {
              "outlinewidth": 0,
              "ticks": ""
             }
            },
            "type": "scatterpolargl"
           }
          ],
          "scatterternary": [
           {
            "marker": {
             "colorbar": {
              "outlinewidth": 0,
              "ticks": ""
             }
            },
            "type": "scatterternary"
           }
          ],
          "surface": [
           {
            "colorbar": {
             "outlinewidth": 0,
             "ticks": ""
            },
            "colorscale": [
             [
              0,
              "#0d0887"
             ],
             [
              0.1111111111111111,
              "#46039f"
             ],
             [
              0.2222222222222222,
              "#7201a8"
             ],
             [
              0.3333333333333333,
              "#9c179e"
             ],
             [
              0.4444444444444444,
              "#bd3786"
             ],
             [
              0.5555555555555556,
              "#d8576b"
             ],
             [
              0.6666666666666666,
              "#ed7953"
             ],
             [
              0.7777777777777778,
              "#fb9f3a"
             ],
             [
              0.8888888888888888,
              "#fdca26"
             ],
             [
              1,
              "#f0f921"
             ]
            ],
            "type": "surface"
           }
          ],
          "table": [
           {
            "cells": {
             "fill": {
              "color": "#EBF0F8"
             },
             "line": {
              "color": "white"
             }
            },
            "header": {
             "fill": {
              "color": "#C8D4E3"
             },
             "line": {
              "color": "white"
             }
            },
            "type": "table"
           }
          ]
         },
         "layout": {
          "annotationdefaults": {
           "arrowcolor": "#2a3f5f",
           "arrowhead": 0,
           "arrowwidth": 1
          },
          "autotypenumbers": "strict",
          "coloraxis": {
           "colorbar": {
            "outlinewidth": 0,
            "ticks": ""
           }
          },
          "colorscale": {
           "diverging": [
            [
             0,
             "#8e0152"
            ],
            [
             0.1,
             "#c51b7d"
            ],
            [
             0.2,
             "#de77ae"
            ],
            [
             0.3,
             "#f1b6da"
            ],
            [
             0.4,
             "#fde0ef"
            ],
            [
             0.5,
             "#f7f7f7"
            ],
            [
             0.6,
             "#e6f5d0"
            ],
            [
             0.7,
             "#b8e186"
            ],
            [
             0.8,
             "#7fbc41"
            ],
            [
             0.9,
             "#4d9221"
            ],
            [
             1,
             "#276419"
            ]
           ],
           "sequential": [
            [
             0,
             "#0d0887"
            ],
            [
             0.1111111111111111,
             "#46039f"
            ],
            [
             0.2222222222222222,
             "#7201a8"
            ],
            [
             0.3333333333333333,
             "#9c179e"
            ],
            [
             0.4444444444444444,
             "#bd3786"
            ],
            [
             0.5555555555555556,
             "#d8576b"
            ],
            [
             0.6666666666666666,
             "#ed7953"
            ],
            [
             0.7777777777777778,
             "#fb9f3a"
            ],
            [
             0.8888888888888888,
             "#fdca26"
            ],
            [
             1,
             "#f0f921"
            ]
           ],
           "sequentialminus": [
            [
             0,
             "#0d0887"
            ],
            [
             0.1111111111111111,
             "#46039f"
            ],
            [
             0.2222222222222222,
             "#7201a8"
            ],
            [
             0.3333333333333333,
             "#9c179e"
            ],
            [
             0.4444444444444444,
             "#bd3786"
            ],
            [
             0.5555555555555556,
             "#d8576b"
            ],
            [
             0.6666666666666666,
             "#ed7953"
            ],
            [
             0.7777777777777778,
             "#fb9f3a"
            ],
            [
             0.8888888888888888,
             "#fdca26"
            ],
            [
             1,
             "#f0f921"
            ]
           ]
          },
          "colorway": [
           "#636efa",
           "#EF553B",
           "#00cc96",
           "#ab63fa",
           "#FFA15A",
           "#19d3f3",
           "#FF6692",
           "#B6E880",
           "#FF97FF",
           "#FECB52"
          ],
          "font": {
           "color": "#2a3f5f"
          },
          "geo": {
           "bgcolor": "white",
           "lakecolor": "white",
           "landcolor": "#E5ECF6",
           "showlakes": true,
           "showland": true,
           "subunitcolor": "white"
          },
          "hoverlabel": {
           "align": "left"
          },
          "hovermode": "closest",
          "mapbox": {
           "style": "light"
          },
          "paper_bgcolor": "white",
          "plot_bgcolor": "#E5ECF6",
          "polar": {
           "angularaxis": {
            "gridcolor": "white",
            "linecolor": "white",
            "ticks": ""
           },
           "bgcolor": "#E5ECF6",
           "radialaxis": {
            "gridcolor": "white",
            "linecolor": "white",
            "ticks": ""
           }
          },
          "scene": {
           "xaxis": {
            "backgroundcolor": "#E5ECF6",
            "gridcolor": "white",
            "gridwidth": 2,
            "linecolor": "white",
            "showbackground": true,
            "ticks": "",
            "zerolinecolor": "white"
           },
           "yaxis": {
            "backgroundcolor": "#E5ECF6",
            "gridcolor": "white",
            "gridwidth": 2,
            "linecolor": "white",
            "showbackground": true,
            "ticks": "",
            "zerolinecolor": "white"
           },
           "zaxis": {
            "backgroundcolor": "#E5ECF6",
            "gridcolor": "white",
            "gridwidth": 2,
            "linecolor": "white",
            "showbackground": true,
            "ticks": "",
            "zerolinecolor": "white"
           }
          },
          "shapedefaults": {
           "line": {
            "color": "#2a3f5f"
           }
          },
          "ternary": {
           "aaxis": {
            "gridcolor": "white",
            "linecolor": "white",
            "ticks": ""
           },
           "baxis": {
            "gridcolor": "white",
            "linecolor": "white",
            "ticks": ""
           },
           "bgcolor": "#E5ECF6",
           "caxis": {
            "gridcolor": "white",
            "linecolor": "white",
            "ticks": ""
           }
          },
          "title": {
           "x": 0.05
          },
          "xaxis": {
           "automargin": true,
           "gridcolor": "white",
           "linecolor": "white",
           "ticks": "",
           "title": {
            "standoff": 15
           },
           "zerolinecolor": "white",
           "zerolinewidth": 2
          },
          "yaxis": {
           "automargin": true,
           "gridcolor": "white",
           "linecolor": "white",
           "ticks": "",
           "title": {
            "standoff": 15
           },
           "zerolinecolor": "white",
           "zerolinewidth": 2
          }
         }
        },
        "title": {
         "text": "Movie Ratings by Language"
        },
        "violinmode": "group",
        "width": 1500,
        "xaxis": {
         "anchor": "y",
         "domain": [
          0,
          1
         ],
         "title": {
          "text": "Language"
         }
        },
        "yaxis": {
         "anchor": "x",
         "domain": [
          0,
          1
         ],
         "title": {
          "text": "IMDb Rating"
         }
        }
       }
      }
     },
     "metadata": {},
     "output_type": "display_data"
    }
   ],
   "source": [
    "df_languages = pd.read_sql(\"SELECT l.language, m.rating FROM language l JOIN imdb_movies m ON l.movie_id = m.movie_id\", conn)\n",
    "fig_language = px.violin(df_languages, x=\"language\", y=\"rating\",\n",
    "                         title=\"Movie Ratings by Language\",\n",
    "                         labels={\"rating\": \"IMDb Rating\", \"language\": \"Language\"},\n",
    "                         box=True, points=\"all\",\n",
    "                         height=700,\n",
    "                         width=1500)\n",
    "fig_language.show()\n"
   ]
  }
 ],
 "metadata": {
  "kernelspec": {
   "display_name": "Python 3",
   "language": "python",
   "name": "python3"
  },
  "language_info": {
   "codemirror_mode": {
    "name": "ipython",
    "version": 3
   },
   "file_extension": ".py",
   "mimetype": "text/x-python",
   "name": "python",
   "nbconvert_exporter": "python",
   "pygments_lexer": "ipython3",
   "version": "3.9.13"
  }
 },
 "nbformat": 4,
 "nbformat_minor": 2
}
