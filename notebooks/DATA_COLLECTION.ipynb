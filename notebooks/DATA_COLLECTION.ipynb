{
 "cells": [
  {
   "cell_type": "markdown",
   "metadata": {},
   "source": [
    "<div style=\"background-color: #f9f9f9; padding: 10px; border-radius: 5px; color: #333;\">\n",
    "  \n",
    "# 🏆 **Scraping the _IMDB_ 🎬 Top Productions Companies**  \n",
    "\n",
    "</div>"
   ]
  },
  {
   "cell_type": "markdown",
   "metadata": {},
   "source": [
    "### 📦 **Libraries Used for Scraping _IMDB_ 🎬**  "
   ]
  },
  {
   "cell_type": "code",
   "execution_count": 2,
   "metadata": {},
   "outputs": [],
   "source": [
    "import pandas as pd \n",
    "import numpy as np\n",
    "import requests\n",
    "from bs4 import BeautifulSoup\n",
    "from scrapy import Selector"
   ]
  },
  {
   "cell_type": "markdown",
   "metadata": {},
   "source": [
    "##  📦 Extracting Data with **BeautifulSoup** "
   ]
  },
  {
   "cell_type": "code",
   "execution_count": null,
   "metadata": {},
   "outputs": [],
   "source": [
    "base_url = \"https://www.imdb.com\"\n",
    "\n",
    "start_url =\"https://www.imdb.com/list/ls567506715/\"\n",
    "\n",
    "headers = ({'user-agent':'Mozilla/5.0 (Windows NT 10.0; Win64; x64) AppleWebKit/537.36 (KHTML, like Gecko) Chrome/133.0.0.0 Safari/537.36'})\n",
    "\n",
    "response = requests.get(start_url, headers=headers)\n",
    "soup = BeautifulSoup(response.text, \"html.parser\")\n",
    "\n",
    "company_links = soup.find_all(\"a\", href=lambda href: href and href.startswith(\"/company/co\"))[:20]\n",
    "\n",
    "sorted_links = []\n",
    "\n",
    "for link in company_links:\n",
    "    relative_url = link[\"href\"]  \n",
    "    full_url = base_url + relative_url \n",
    "\n",
    "    redirected_response = requests.get(full_url, headers=headers, allow_redirects=True)\n",
    "    final_url = redirected_response.url  \n",
    "\n",
    "    sorted_url = final_url + \"&sort=boxoffice_gross_us,desc\"\n",
    "    sorted_links.append(sorted_url)"
   ]
  },
  {
   "cell_type": "code",
   "execution_count": null,
   "metadata": {},
   "outputs": [
    {
     "data": {
      "text/plain": [
       "20"
      ]
     },
     "execution_count": 7,
     "metadata": {},
     "output_type": "execute_result"
    }
   ],
   "source": [
    "len(sorted_links)"
   ]
  },
  {
   "cell_type": "markdown",
   "metadata": {},
   "source": [
    "## 📦 Extracting the **Production company Data links**"
   ]
  },
  {
   "cell_type": "code",
   "execution_count": null,
   "metadata": {},
   "outputs": [],
   "source": [
    "movie_links=[]\n",
    "for links in sorted_links:\n",
    "    response2=requests.get(links,headers=headers)\n",
    "    select=Selector(text=response2.text)\n",
    "    link=select.css('.ipc-title-link-wrapper::attr(href)').getall()[:10]\n",
    "    movie_links.append(link)"
   ]
  },
  {
   "cell_type": "markdown",
   "metadata": {},
   "source": [
    "## 📦 Extracting the **Production company Details**"
   ]
  },
  {
   "cell_type": "code",
   "execution_count": null,
   "metadata": {},
   "outputs": [],
   "source": [
    "movie_name=[]\n",
    "release_year =[]\n",
    "certificate = []\n",
    "duration=[]\n",
    "rating=[]\n",
    "director=[]\n",
    "oscar_nominations=[]\n",
    "genre=[]\n",
    "countries=[]\n",
    "language=[]\n",
    "production_company=[]\n",
    "budget=[]\n",
    "gross_worldwide=[]\n",
    "\n",
    "for i in movie_links:\n",
    "    for link in i:\n",
    "        links=\"https://www.imdb.com\"+link\n",
    "        response3=requests.get(links,headers=headers)\n",
    "        sle=Selector(text=response3.text)\n",
    "\n",
    "        n=sle.css('div.sc-9a2a0028-3.bwWOiy > div.sc-70a366cc-0.bxYZmb > h1 > span::text').get()\n",
    "        movie_name.append(n)\n",
    "\n",
    "        release = sle.css(\"div.sc-9a2a0028-3.bwWOiy > div.sc-70a366cc-0.bxYZmb > ul > li:nth-child(1) > a::text\").get()\n",
    "        release_year.append(release)\n",
    "\n",
    "        certi = sle.css(\"div.sc-9a2a0028-3.bwWOiy > div.sc-70a366cc-0.bxYZmb > ul > li:nth-child(2) > a::text\").get()\n",
    "        certificate.append(certi)\n",
    "\n",
    "        durat = sle.css(\"div.sc-70a366cc-0.bxYZmb > ul > li:nth-child(3)::text\").get()\n",
    "        duration.append(durat)\n",
    "\n",
    "        ratin= sle.css('.sc-d541859f-1.imUuxf::text').get()\n",
    "        rating.append(ratin)\n",
    "\n",
    "        direct = sle.css(\"div.sc-70a366cc-2.bscNnP > div > ul > li:nth-child(1) > div > ul > li > a::text\").get()\n",
    "        director.append(direct)\n",
    "\n",
    "        oscar_nomi = sle.css(\"div > ul > li > a.ipc-metadata-list-item__label.ipc-metadata-list-item__label--link::text\").getall()\n",
    "        if len(oscar_nomi) > 2:\n",
    "                splited_oscar=oscar_nomi[2].split()\n",
    "                if len(splited_oscar) >2 and splited_oscar[2].isdigit():\n",
    "                       oscar_nomination =int(splited_oscar[2])\n",
    "                else: \n",
    "                   oscar_nomination = 0\n",
    "        else :\n",
    "              oscar_nomination = 0\n",
    "        oscar_nominations.append(oscar_nomination)\n",
    "\n",
    "        genr = sle.css(\"div.ipc-chip-list__scroller > a > span::text\").getall()\n",
    "        genre.append(genr)\n",
    "\n",
    "        country = sle.css(\n",
    "                  \"div.sc-f65f65be-0.dQVJPm > ul > li:nth-child(2) > div > ul > li:nth-child(1) > a::text, \\\n",
    "                    div.sc-f65f65be-0.dQVJPm > ul > li:nth-child(2) > div > ul > li:nth-child(2) > a::text\").getall()\n",
    "        countrie = country[:2]\n",
    "        countries.append(countrie)\n",
    "\n",
    "        lang = sle.css(\"div.sc-f65f65be-0.dQVJPm > ul > li:nth-child(4) > div > ul > li > a::text\").getall()\n",
    "        language.append(lang)\n",
    "\n",
    "        production = sle.css(\"div.sc-f65f65be-0.dQVJPm > ul > li:nth-child(7) > div > ul > li> a::text\").getall()\n",
    "        production_company.append(production)\n",
    "\n",
    "        bud = sle.css(\"div.sc-f65f65be-0.dQVJPm > ul > li:nth-child(1) > div > ul > li > span::text\").get()\n",
    "        budget.append(bud)\n",
    "\n",
    "        gross =sle.css(\"div.sc-f65f65be-0.dQVJPm > ul > li:nth-child(4) > div > ul > li > span::text\").get()\n",
    "        gross_worldwide.append(gross)\n"
   ]
  },
  {
   "cell_type": "markdown",
   "metadata": {},
   "source": [
    "## 📊 Converting Data to a **Pandas DataFrame**  \n"
   ]
  },
  {
   "cell_type": "code",
   "execution_count": null,
   "metadata": {},
   "outputs": [
    {
     "data": {
      "text/html": [
       "<div>\n",
       "<style scoped>\n",
       "    .dataframe tbody tr th:only-of-type {\n",
       "        vertical-align: middle;\n",
       "    }\n",
       "\n",
       "    .dataframe tbody tr th {\n",
       "        vertical-align: top;\n",
       "    }\n",
       "\n",
       "    .dataframe thead th {\n",
       "        text-align: right;\n",
       "    }\n",
       "</style>\n",
       "<table border=\"1\" class=\"dataframe\">\n",
       "  <thead>\n",
       "    <tr style=\"text-align: right;\">\n",
       "      <th></th>\n",
       "      <th>movie_name</th>\n",
       "      <th>release_year</th>\n",
       "      <th>certificate</th>\n",
       "      <th>duration</th>\n",
       "      <th>rating</th>\n",
       "      <th>director</th>\n",
       "      <th>oscar_nominations</th>\n",
       "      <th>genre</th>\n",
       "      <th>countries</th>\n",
       "      <th>language</th>\n",
       "      <th>production_company</th>\n",
       "      <th>budget</th>\n",
       "      <th>gross_worldwide</th>\n",
       "    </tr>\n",
       "  </thead>\n",
       "  <tbody>\n",
       "    <tr>\n",
       "      <th>0</th>\n",
       "      <td>The Polar Express</td>\n",
       "      <td>2004</td>\n",
       "      <td>U</td>\n",
       "      <td>1h 40m</td>\n",
       "      <td>6.6</td>\n",
       "      <td>Robert Zemeckis</td>\n",
       "      <td>3</td>\n",
       "      <td>[Computer Animation, Holiday Animation, Holida...</td>\n",
       "      <td>[United States, Australia]</td>\n",
       "      <td>[English]</td>\n",
       "      <td>[Castle Rock Entertainment, Shangri-La Enterta...</td>\n",
       "      <td>$165,000,000 (estimated)</td>\n",
       "      <td>$318,910,211</td>\n",
       "    </tr>\n",
       "    <tr>\n",
       "      <th>1</th>\n",
       "      <td>A Few Good Men</td>\n",
       "      <td>1992</td>\n",
       "      <td>U</td>\n",
       "      <td>2h 18m</td>\n",
       "      <td>7.7</td>\n",
       "      <td>Rob Reiner</td>\n",
       "      <td>0</td>\n",
       "      <td>[Legal Drama, Legal Thriller, Drama, Thriller]</td>\n",
       "      <td>[United States, Color]</td>\n",
       "      <td>[]</td>\n",
       "      <td>[]</td>\n",
       "      <td>$41,000,000 (estimated)</td>\n",
       "      <td>Cuestión de honor</td>\n",
       "    </tr>\n",
       "    <tr>\n",
       "      <th>2</th>\n",
       "      <td>The Green Mile</td>\n",
       "      <td>1999</td>\n",
       "      <td>UA</td>\n",
       "      <td>3h 9m</td>\n",
       "      <td>8.6</td>\n",
       "      <td>Frank Darabont</td>\n",
       "      <td>4</td>\n",
       "      <td>[Period Drama, Prison Drama, Supernatural Fant...</td>\n",
       "      <td>[United States, Color]</td>\n",
       "      <td>[English, French]</td>\n",
       "      <td>[Castle Rock Entertainment, Darkwoods Producti...</td>\n",
       "      <td>$60,000,000 (estimated)</td>\n",
       "      <td>$286,801,374</td>\n",
       "    </tr>\n",
       "    <tr>\n",
       "      <th>3</th>\n",
       "      <td>City Slickers</td>\n",
       "      <td>1991</td>\n",
       "      <td>PG-13</td>\n",
       "      <td>1h 53m</td>\n",
       "      <td>6.8</td>\n",
       "      <td>Ron Underwood</td>\n",
       "      <td>0</td>\n",
       "      <td>[Buddy Comedy, Contemporary Western, High-Conc...</td>\n",
       "      <td>[United States, Color]</td>\n",
       "      <td>[]</td>\n",
       "      <td>[]</td>\n",
       "      <td>$27,000,000 (estimated)</td>\n",
       "      <td>Cowboys de ciudad</td>\n",
       "    </tr>\n",
       "    <tr>\n",
       "      <th>4</th>\n",
       "      <td>Miss Congeniality</td>\n",
       "      <td>2000</td>\n",
       "      <td>A</td>\n",
       "      <td>1h 49m</td>\n",
       "      <td>6.3</td>\n",
       "      <td>Donald Petrie</td>\n",
       "      <td>0</td>\n",
       "      <td>[High-Concept Comedy, Action, Comedy, Crime, R...</td>\n",
       "      <td>[United States, Color]</td>\n",
       "      <td>[English, Russian, Hawaiian]</td>\n",
       "      <td>[Castle Rock Entertainment, Village Roadshow P...</td>\n",
       "      <td>$45,000,000 (estimated)</td>\n",
       "      <td>$212,742,720</td>\n",
       "    </tr>\n",
       "  </tbody>\n",
       "</table>\n",
       "</div>"
      ],
      "text/plain": [
       "          movie_name release_year certificate duration rating  \\\n",
       "0  The Polar Express         2004           U   1h 40m    6.6   \n",
       "1     A Few Good Men         1992           U   2h 18m    7.7   \n",
       "2     The Green Mile         1999          UA    3h 9m    8.6   \n",
       "3      City Slickers         1991       PG-13   1h 53m    6.8   \n",
       "4  Miss Congeniality         2000           A   1h 49m    6.3   \n",
       "\n",
       "          director  oscar_nominations  \\\n",
       "0  Robert Zemeckis                  3   \n",
       "1       Rob Reiner                  0   \n",
       "2   Frank Darabont                  4   \n",
       "3    Ron Underwood                  0   \n",
       "4    Donald Petrie                  0   \n",
       "\n",
       "                                               genre  \\\n",
       "0  [Computer Animation, Holiday Animation, Holida...   \n",
       "1     [Legal Drama, Legal Thriller, Drama, Thriller]   \n",
       "2  [Period Drama, Prison Drama, Supernatural Fant...   \n",
       "3  [Buddy Comedy, Contemporary Western, High-Conc...   \n",
       "4  [High-Concept Comedy, Action, Comedy, Crime, R...   \n",
       "\n",
       "                    countries                      language  \\\n",
       "0  [United States, Australia]                     [English]   \n",
       "1      [United States, Color]                            []   \n",
       "2      [United States, Color]             [English, French]   \n",
       "3      [United States, Color]                            []   \n",
       "4      [United States, Color]  [English, Russian, Hawaiian]   \n",
       "\n",
       "                                  production_company  \\\n",
       "0  [Castle Rock Entertainment, Shangri-La Enterta...   \n",
       "1                                                 []   \n",
       "2  [Castle Rock Entertainment, Darkwoods Producti...   \n",
       "3                                                 []   \n",
       "4  [Castle Rock Entertainment, Village Roadshow P...   \n",
       "\n",
       "                     budget    gross_worldwide  \n",
       "0  $165,000,000 (estimated)       $318,910,211  \n",
       "1   $41,000,000 (estimated)  Cuestión de honor  \n",
       "2   $60,000,000 (estimated)       $286,801,374  \n",
       "3   $27,000,000 (estimated)  Cowboys de ciudad  \n",
       "4   $45,000,000 (estimated)       $212,742,720  "
      ]
     },
     "execution_count": 12,
     "metadata": {},
     "output_type": "execute_result"
    }
   ],
   "source": [
    "df = pd.DataFrame({'movie_name':movie_name,'release_year':release_year,'certificate':certificate,'duration':duration,'rating':rating,'director':director,\n",
    "    'oscar_nominations':oscar_nominations,\n",
    "    'genre':genre,'countries':countries,'language':language,'production_company':production_company,'budget':budget,'gross_worldwide':gross_worldwide\n",
    "})\n",
    "df.head()"
   ]
  },
  {
   "cell_type": "code",
   "execution_count": null,
   "metadata": {},
   "outputs": [
    {
     "data": {
      "text/plain": [
       "(190, 13)"
      ]
     },
     "execution_count": 14,
     "metadata": {},
     "output_type": "execute_result"
    }
   ],
   "source": [
    "df.shape"
   ]
  },
  {
   "cell_type": "markdown",
   "metadata": {},
   "source": [
    "## 📝 Saving Scraped **IMDB Data to CSV**  "
   ]
  },
  {
   "cell_type": "code",
   "execution_count": null,
   "metadata": {},
   "outputs": [],
   "source": [
    "df.to_csv('../data/raw/data_scraping_imdb.csv')"
   ]
  }
 ],
 "metadata": {
  "kernelspec": {
   "display_name": "Python 3",
   "language": "python",
   "name": "python3"
  },
  "language_info": {
   "codemirror_mode": {
    "name": "ipython",
    "version": 3
   },
   "file_extension": ".py",
   "mimetype": "text/x-python",
   "name": "python",
   "nbconvert_exporter": "python",
   "pygments_lexer": "ipython3",
   "version": "3.9.13"
  }
 },
 "nbformat": 4,
 "nbformat_minor": 2
}
