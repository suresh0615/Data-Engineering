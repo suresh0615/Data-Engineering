{
 "cells": [
  {
   "cell_type": "markdown",
   "metadata": {},
   "source": [
    "### 📦 **Libraries Used for Scraping _IMDB_ 🎬**  "
   ]
  },
  {
   "cell_type": "code",
   "execution_count": 2,
   "metadata": {},
   "outputs": [],
   "source": [
    "import pandas as pd \n",
    "import numpy as np\n",
    "from numerize import numerize\n",
    "import ast\n",
    "import os\n",
    "import sqlite3"
   ]
  },
  {
   "cell_type": "markdown",
   "metadata": {},
   "source": [
    "### 📂 **Reading the CSV File**  "
   ]
  },
  {
   "cell_type": "code",
   "execution_count": 3,
   "metadata": {},
   "outputs": [],
   "source": [
    "df = pd.read_csv('../data/raw/data_scraping_imdb.csv')"
   ]
  },
  {
   "cell_type": "code",
   "execution_count": null,
   "metadata": {},
   "outputs": [
    {
     "name": "stdout",
     "output_type": "stream",
     "text": [
      "<class 'pandas.core.frame.DataFrame'>\n",
      "RangeIndex: 190 entries, 0 to 189\n",
      "Data columns (total 14 columns):\n",
      " #   Column              Non-Null Count  Dtype  \n",
      "---  ------              --------------  -----  \n",
      " 0   Unnamed: 0          190 non-null    int64  \n",
      " 1   movie_name          190 non-null    object \n",
      " 2   release_year        189 non-null    float64\n",
      " 3   certificate         190 non-null    object \n",
      " 4   duration            189 non-null    object \n",
      " 5   rating              190 non-null    float64\n",
      " 6   director            190 non-null    object \n",
      " 7   oscar_nominations   190 non-null    int64  \n",
      " 8   genre               190 non-null    object \n",
      " 9   countries           190 non-null    object \n",
      " 10  language            190 non-null    object \n",
      " 11  production_company  190 non-null    object \n",
      " 12  budget              189 non-null    object \n",
      " 13  gross_worldwide     182 non-null    object \n",
      "dtypes: float64(2), int64(2), object(10)\n",
      "memory usage: 20.9+ KB\n"
     ]
    }
   ],
   "source": [
    "df.info()"
   ]
  },
  {
   "cell_type": "code",
   "execution_count": null,
   "metadata": {},
   "outputs": [],
   "source": [
    "df = df.rename(columns={\n",
    "    'Unnamed: 0' :'movie_id',\n",
    "    'duration' : 'duration_minutes'\n",
    "})"
   ]
  },
  {
   "cell_type": "markdown",
   "metadata": {},
   "source": [
    "# **Cleaning Data** 🎬  "
   ]
  },
  {
   "cell_type": "code",
   "execution_count": null,
   "metadata": {},
   "outputs": [],
   "source": [
    "budget_of_film = df['budget'].tolist()\n",
    "new_list = []\n",
    "for element in budget_of_film:\n",
    "    if pd.isna(element): \n",
    "        new_list.append(None)\n",
    "        continue  \n",
    "    new_element = str(element).strip()  \n",
    "    new_element = new_element.replace('(estimated)', '')  \n",
    "    new_element = new_element.replace(\"$\", \"\").replace(\",\", \"\") \n",
    "    new_element = new_element.strip()  \n",
    "\n",
    "    if new_element.endswith(\"M\"):\n",
    "        new_element = new_element.replace(\"M\", \"\")\n",
    "        if new_element.isdigit():\n",
    "            new_list.append(int(new_element)) \n",
    "            continue\n",
    "\n",
    "    if new_element.isdigit():  \n",
    "        new_list.append(int(new_element))  \n",
    "    else:\n",
    "        new_list.append(None)  \n",
    "df['cleaned_budget'] = new_list\n",
    "df['budget'] = df['cleaned_budget'].astype(float) / 1_000_000\n",
    "df['budget'] = df['budget'].fillna(0)"
   ]
  },
  {
   "cell_type": "code",
   "execution_count": null,
   "metadata": {},
   "outputs": [],
   "source": [
    "df['release_year'] = df['release_year'].fillna(0).astype('int64')"
   ]
  },
  {
   "cell_type": "code",
   "execution_count": null,
   "metadata": {},
   "outputs": [],
   "source": [
    "def clean_gross(value):\n",
    "    if pd.isna(value) or not isinstance(value, str):  \n",
    "        return None  \n",
    "\n",
    "    value = value.strip().replace(\"$\", \"\").replace(\",\", \"\") \n",
    "\n",
    "    try:\n",
    "        return round(float(value) / 1_000_000, 2)  \n",
    "    except ValueError:\n",
    "        return None  \n",
    "df['gross_in_million'] = df['gross_worldwide'].apply(clean_gross)\n",
    "df['gross_in_million'] = df['gross_in_million'].fillna(0)\n"
   ]
  },
  {
   "cell_type": "code",
   "execution_count": null,
   "metadata": {},
   "outputs": [],
   "source": [
    "df.drop(['cleaned_budget','gross_worldwide'],axis=1,inplace=True)\n",
    "df.drop_duplicates(subset=['movie_name'], inplace=True)"
   ]
  },
  {
   "cell_type": "code",
   "execution_count": null,
   "metadata": {},
   "outputs": [],
   "source": [
    "df['duration_minutes'] = df['duration_minutes'].replace('None', None)\n",
    "\n",
    "df['hours'] = df['duration_minutes'].str.extract(r'(\\d+)h', expand=False).fillna(0).astype(int)\n",
    "df['minutes'] = df['duration_minutes'].str.extract(r'(\\d+)m', expand=False).fillna(0).astype(int)\n",
    "\n",
    "df['duration_minutes'] = (df['hours'] * 60) + df['minutes']\n",
    "\n",
    "df.drop(columns=['hours', 'minutes'], inplace=True)"
   ]
  },
  {
   "cell_type": "code",
   "execution_count": null,
   "metadata": {},
   "outputs": [
    {
     "name": "stdout",
     "output_type": "stream",
     "text": [
      "<class 'pandas.core.frame.DataFrame'>\n",
      "Index: 164 entries, 0 to 189\n",
      "Data columns (total 14 columns):\n",
      " #   Column              Non-Null Count  Dtype  \n",
      "---  ------              --------------  -----  \n",
      " 0   movie_id            164 non-null    int64  \n",
      " 1   movie_name          164 non-null    object \n",
      " 2   release_year        164 non-null    int64  \n",
      " 3   certificate         164 non-null    object \n",
      " 4   duration_minutes    164 non-null    int64  \n",
      " 5   rating              164 non-null    float64\n",
      " 6   director            164 non-null    object \n",
      " 7   oscar_nominations   164 non-null    int64  \n",
      " 8   genre               164 non-null    object \n",
      " 9   countries           164 non-null    object \n",
      " 10  language            164 non-null    object \n",
      " 11  production_company  164 non-null    object \n",
      " 12  budget              164 non-null    float64\n",
      " 13  gross_in_million    164 non-null    float64\n",
      "dtypes: float64(3), int64(4), object(7)\n",
      "memory usage: 19.2+ KB\n"
     ]
    }
   ],
   "source": [
    "df.info()"
   ]
  },
  {
   "cell_type": "code",
   "execution_count": null,
   "metadata": {},
   "outputs": [
    {
     "data": {
      "text/plain": [
       "count     164\n",
       "unique     95\n",
       "top        []\n",
       "freq       40\n",
       "Name: production_company, dtype: object"
      ]
     },
     "execution_count": 16,
     "metadata": {},
     "output_type": "execute_result"
    }
   ],
   "source": [
    "df['production_company'].describe()"
   ]
  },
  {
   "cell_type": "code",
   "execution_count": null,
   "metadata": {},
   "outputs": [],
   "source": [
    "def convert_stringified_list(column):\n",
    "    return column.apply(lambda x: ast.literal_eval(x) if isinstance(x, str) else x).apply(lambda x: \"None\" if not x else x)\n"
   ]
  },
  {
   "cell_type": "code",
   "execution_count": null,
   "metadata": {},
   "outputs": [],
   "source": [
    "colums_to_convert = ['genre','countries','language','production_company']\n",
    "\n",
    "for col in colums_to_convert:\n",
    "    df[col] = convert_stringified_list(df[col])"
   ]
  },
  {
   "cell_type": "markdown",
   "metadata": {},
   "source": [
    "## **Checking cleaned data**"
   ]
  },
  {
   "cell_type": "code",
   "execution_count": null,
   "metadata": {},
   "outputs": [
    {
     "name": "stdout",
     "output_type": "stream",
     "text": [
      "movie_id              0\n",
      "movie_name            0\n",
      "release_year          0\n",
      "certificate           0\n",
      "duration_minutes      0\n",
      "rating                0\n",
      "director              0\n",
      "oscar_nominations     0\n",
      "genre                 0\n",
      "countries             0\n",
      "language              0\n",
      "production_company    0\n",
      "budget                0\n",
      "gross_in_million      0\n",
      "dtype: int64\n"
     ]
    }
   ],
   "source": [
    "print(df.isnull().sum())"
   ]
  },
  {
   "cell_type": "markdown",
   "metadata": {},
   "source": [
    "# **Normalization**"
   ]
  },
  {
   "cell_type": "code",
   "execution_count": null,
   "metadata": {},
   "outputs": [],
   "source": [
    "df_genre = df[['movie_id','genre']].explode('genre')\n",
    "df_countries = df[['movie_id','countries']].explode('countries')\n",
    "df_language = df[['movie_id','language']].explode('language')\n",
    "df_production = df[['movie_id','production_company']].explode('production_company')"
   ]
  },
  {
   "cell_type": "markdown",
   "metadata": {},
   "source": [
    "## **Converting to CSV File** 📂"
   ]
  },
  {
   "cell_type": "code",
   "execution_count": null,
   "metadata": {},
   "outputs": [],
   "source": [
    "# df_genre.to_csv(\"../data/raw/genre.csv\")\n",
    "# df_countries.to_csv(\"../data/raw/countries.csv\")\n",
    "# df_language.to_csv(\"../data/raw/language.csv\")\n",
    "# df_production.to_csv(\"../data/raw/production_company.csv\")"
   ]
  },
  {
   "cell_type": "code",
   "execution_count": null,
   "metadata": {},
   "outputs": [
    {
     "data": {
      "text/html": [
       "<span style=\"None\">Connecting to &#x27;imdb&#x27;</span>"
      ],
      "text/plain": [
       "Connecting to 'imdb'"
      ]
     },
     "metadata": {},
     "output_type": "display_data"
    }
   ],
   "source": [
    "data_folder = os.path.join('../data/')\n",
    "%load_ext sql\n",
    "%config sqlMagic.autocommit=True\n",
    "connection = sqlite3.connect(os.path.join(data_folder,'./IMDB.db'))\n",
    "%sql sqlite:///../data/IMDB.db --alias imdb"
   ]
  },
  {
   "cell_type": "code",
   "execution_count": null,
   "metadata": {},
   "outputs": [],
   "source": [
    "cursor = connection.cursor()"
   ]
  },
  {
   "cell_type": "markdown",
   "metadata": {},
   "source": [
    "## Creating Table for **Normalization**"
   ]
  },
  {
   "cell_type": "code",
   "execution_count": null,
   "metadata": {},
   "outputs": [
    {
     "data": {
      "text/html": [
       "<span style=\"None\">Running query in &#x27;imdb&#x27;</span>"
      ],
      "text/plain": [
       "Running query in 'imdb'"
      ]
     },
     "metadata": {},
     "output_type": "display_data"
    },
    {
     "data": {
      "text/html": [
       "<table>\n",
       "    <thead>\n",
       "        <tr>\n",
       "        </tr>\n",
       "    </thead>\n",
       "    <tbody>\n",
       "    </tbody>\n",
       "</table>"
      ],
      "text/plain": [
       "++\n",
       "||\n",
       "++\n",
       "++"
      ]
     },
     "execution_count": 24,
     "metadata": {},
     "output_type": "execute_result"
    }
   ],
   "source": [
    "%%sql\n",
    "\n",
    "create table if not exists imdb_movies(\n",
    "    movie_id INTEGER primary key,\n",
    "    movie_name VARCHAR(200),\n",
    "    release_year INTEGER,\n",
    "    certificate VARCHAR(20),\n",
    "    duration_minutes INTEGER,\n",
    "    rating REAL,\n",
    "    director VARCHAR(100),\n",
    "    oscar_nominations INTEGER,\n",
    "    budget DECIMAL(10,2),\n",
    "    gross_in_million DECIMAL(10,2)\n",
    ");\n",
    "\n",
    "\n",
    "create table if not exists genres(\n",
    "    movie_id INTEGER,\n",
    "    genre VARCHAR(150),\n",
    "    FOREIGN KEY(movie_id) REFERENCES imdb_movies(movie_id)\n",
    ");\n",
    "\n",
    "\n",
    "create table if not exists countries(\n",
    "    movie_id INTEGER,\n",
    "    countries VARCHAR(150),\n",
    "    FOREIGN KEY(movie_id) REFERENCES imdb_movies(movie_id)\n",
    ");\n",
    "\n",
    "create table if not exists language(\n",
    "    movie_id INTEGER,\n",
    "    language VARCHAR(100),\n",
    "    FOREIGN KEY(movie_id) REFERENCES imdb_movies(movie_id)\n",
    ");\n",
    "\n",
    "create table if not exists production_companies(\n",
    "    movie_id INTEGER,\n",
    "    production_company VARCHAR(200),\n",
    "    FOREIGN KEY(movie_id) REFERENCES imdb_movies(movie_id)\n",
    ");\n",
    "\n"
   ]
  },
  {
   "cell_type": "code",
   "execution_count": null,
   "metadata": {},
   "outputs": [
    {
     "data": {
      "text/plain": [
       "164"
      ]
     },
     "execution_count": 25,
     "metadata": {},
     "output_type": "execute_result"
    }
   ],
   "source": [
    "df[['movie_id', 'movie_name', 'release_year', 'certificate', 'duration_minutes',\n",
    "    'rating', 'director', 'oscar_nominations', 'budget', 'gross_in_million']].to_sql('imdb_movies',connection,if_exists ='append',index = False)"
   ]
  },
  {
   "cell_type": "markdown",
   "metadata": {},
   "source": [
    "## _Inserting values_ into **table**"
   ]
  },
  {
   "cell_type": "code",
   "execution_count": null,
   "metadata": {},
   "outputs": [],
   "source": [
    "df_genre.to_sql('genres',connection,if_exists='append',index=False);\n",
    "df_countries.to_sql('countries',connection,if_exists='append',index=False);\n",
    "df_language.to_sql('language',connection,if_exists='append',index=False);\n",
    "df_production.to_sql('production_companies',connection,if_exists='append',index=False);"
   ]
  }
 ],
 "metadata": {
  "kernelspec": {
   "display_name": "Python 3",
   "language": "python",
   "name": "python3"
  },
  "language_info": {
   "codemirror_mode": {
    "name": "ipython",
    "version": 3
   },
   "file_extension": ".py",
   "mimetype": "text/x-python",
   "name": "python",
   "nbconvert_exporter": "python",
   "pygments_lexer": "ipython3",
   "version": "3.9.13"
  }
 },
 "nbformat": 4,
 "nbformat_minor": 2
}
